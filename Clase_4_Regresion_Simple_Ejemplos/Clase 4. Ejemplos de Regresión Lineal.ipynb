{
 "cells": [
  {
   "cell_type": "markdown",
   "metadata": {},
   "source": [
    "<img style=\"float: right;\" src=\"img/logo.png\" width=\"500\">\n",
    "\n",
    "# Análisis de Regresión (2021-3)\n",
    "## Especialización en Estadística Aplicada\n",
    "#### Prof. [Sébastien Lozano Forero](https://www.linkedin.com/in/sebastienlozanoforero/) (slozanof@libertadores.edu.co)\n",
    "\n",
    "## <font color='red'> Ejemplos de Modelos Lineales Simples</font>\n",
    "\n",
    "### Tabla de contenidos\n",
    "\n",
    "* [Ejemplo 1](#ej1)\n",
    "* [Ejemplo 2](#ej2)\n",
    "* [Ejemplo 3](#ej3)\n",
    "* [Ejemplo 4](#ej4) "
   ]
  },
  {
   "cell_type": "markdown",
   "metadata": {},
   "source": [
    "### Ejemplo 1 <a class=\"anchor\" id=\"ej1\"></a>\n",
    "\n",
    "Los datos del fichero $\\texttt{EdadPesoGrasas.txt}$ corresponden a tres variables medidas en 25 individuos: edad, peso y cantidad de grasas en sangre. Para leer el fichero de datos y saber los nombres de las variables:"
   ]
  },
  {
   "cell_type": "code",
   "execution_count": 1,
   "metadata": {},
   "outputs": [
    {
     "data": {
      "text/html": [
       "<style>\n",
       ".list-inline {list-style: none; margin:0; padding: 0}\n",
       ".list-inline>li {display: inline-block}\n",
       ".list-inline>li:not(:last-child)::after {content: \"\\00b7\"; padding: 0 .5ex}\n",
       "</style>\n",
       "<ol class=list-inline><li>'peso'</li><li>'edad'</li><li>'grasas'</li></ol>\n"
      ],
      "text/latex": [
       "\\begin{enumerate*}\n",
       "\\item 'peso'\n",
       "\\item 'edad'\n",
       "\\item 'grasas'\n",
       "\\end{enumerate*}\n"
      ],
      "text/markdown": [
       "1. 'peso'\n",
       "2. 'edad'\n",
       "3. 'grasas'\n",
       "\n",
       "\n"
      ],
      "text/plain": [
       "[1] \"peso\"   \"edad\"   \"grasas\""
      ]
     },
     "metadata": {},
     "output_type": "display_data"
    }
   ],
   "source": [
    "grasas <- read.table('http://verso.mat.uam.es/~joser.berrendero/datos/EdadPesoGrasas.txt', header = TRUE)\n",
    "names(grasas)"
   ]
  },
  {
   "cell_type": "code",
   "execution_count": 2,
   "metadata": {},
   "outputs": [
    {
     "data": {
      "image/png": "[encoded data removed]",
      "text/plain": [
       "plot without title"
      ]
     },
     "metadata": {
      "image/png": {
       "height": 300,
       "width": 300
      }
     },
     "output_type": "display_data"
    }
   ],
   "source": [
    "options(repr.plot.width=5, repr.plot.height=5)\n",
    "pairs(grasas)"
   ]
  },
  {
   "cell_type": "code",
   "execution_count": 3,
   "metadata": {},
   "outputs": [
    {
     "data": {
      "text/html": [
       "<table>\n",
       "<caption>A matrix: 3 × 3 of type dbl</caption>\n",
       "<thead>\n",
       "\t<tr><th></th><th scope=col>peso</th><th scope=col>edad</th><th scope=col>grasas</th></tr>\n",
       "</thead>\n",
       "<tbody>\n",
       "\t<tr><th scope=row>peso</th><td>1.0000000</td><td>0.2400133</td><td>0.2652935</td></tr>\n",
       "\t<tr><th scope=row>edad</th><td>0.2400133</td><td>1.0000000</td><td>0.8373534</td></tr>\n",
       "\t<tr><th scope=row>grasas</th><td>0.2652935</td><td>0.8373534</td><td>1.0000000</td></tr>\n",
       "</tbody>\n",
       "</table>\n"
      ],
      "text/latex": [
       "A matrix: 3 × 3 of type dbl\n",
       "\\begin{tabular}{r|lll}\n",
       "  & peso & edad & grasas\\\\\n",
       "\\hline\n",
       "\tpeso & 1.0000000 & 0.2400133 & 0.2652935\\\\\n",
       "\tedad & 0.2400133 & 1.0000000 & 0.8373534\\\\\n",
       "\tgrasas & 0.2652935 & 0.8373534 & 1.0000000\\\\\n",
       "\\end{tabular}\n"
      ],
      "text/markdown": [
       "\n",
       "A matrix: 3 × 3 of type dbl\n",
       "\n",
       "| <!--/--> | peso | edad | grasas |\n",
       "|---|---|---|---|\n",
       "| peso | 1.0000000 | 0.2400133 | 0.2652935 |\n",
       "| edad | 0.2400133 | 1.0000000 | 0.8373534 |\n",
       "| grasas | 0.2652935 | 0.8373534 | 1.0000000 |\n",
       "\n"
      ],
      "text/plain": [
       "       peso      edad      grasas   \n",
       "peso   1.0000000 0.2400133 0.2652935\n",
       "edad   0.2400133 1.0000000 0.8373534\n",
       "grasas 0.2652935 0.8373534 1.0000000"
      ]
     },
     "metadata": {},
     "output_type": "display_data"
    }
   ],
   "source": [
    "cor(grasas)"
   ]
  },
  {
   "cell_type": "code",
   "execution_count": 4,
   "metadata": {},
   "outputs": [
    {
     "data": {
      "text/plain": [
       "\n",
       "Call:\n",
       "lm(formula = grasas ~ edad, data = grasas)\n",
       "\n",
       "Residuals:\n",
       "    Min      1Q  Median      3Q     Max \n",
       "-63.478 -26.816  -3.854  28.315  90.881 \n",
       "\n",
       "Coefficients:\n",
       "            Estimate Std. Error t value Pr(>|t|)    \n",
       "(Intercept) 102.5751    29.6376   3.461  0.00212 ** \n",
       "edad          5.3207     0.7243   7.346 1.79e-07 ***\n",
       "---\n",
       "Signif. codes:  0 '***' 0.001 '**' 0.01 '*' 0.05 '.' 0.1 ' ' 1\n",
       "\n",
       "Residual standard error: 43.46 on 23 degrees of freedom\n",
       "Multiple R-squared:  0.7012,\tAdjusted R-squared:  0.6882 \n",
       "F-statistic: 53.96 on 1 and 23 DF,  p-value: 1.794e-07\n"
      ]
     },
     "metadata": {},
     "output_type": "display_data"
    }
   ],
   "source": [
    "regresion <- lm(grasas ~ edad, data = grasas)\n",
    "summary(regresion)"
   ]
  },
  {
   "cell_type": "markdown",
   "metadata": {},
   "source": [
    "Los parámetros de la ecuación de la recta de mínimos cuadrados que relaciona la cantidad de grasas en la sangre en función del peso vienen dados por la columna ´Estimate´ de la tabla ´Coefficients´ de la salida anterior. Por lo tanto, en este ejemplo la ecuación de la recta de mínimos cuadrados es: $y = 102.575 + 5.321 x$"
   ]
  },
  {
   "cell_type": "code",
   "execution_count": 5,
   "metadata": {},
   "outputs": [
    {
     "data": {
      "image/png": "[encoded data removed]",
      "text/plain": [
       "plot without title"
      ]
     },
     "metadata": {
      "image/png": {
       "height": 240,
       "width": 240
      }
     },
     "output_type": "display_data"
    }
   ],
   "source": [
    "options(repr.plot.width=4, repr.plot.height=4)\n",
    "plot(grasas$edad, grasas$grasas, xlab='Edad', ylab='Grasas')\n",
    "abline(regresion)\n"
   ]
  },
  {
   "cell_type": "markdown",
   "metadata": {},
   "source": [
    "El coeficiente de determinación (es decir, el coeficiente de correlación al cuadrado) mide la bondad del ajuste de la recta a los datos. A partir de la salida anterior, vemos que su valor en este caso es Multiple R-squared: 0.701"
   ]
  },
  {
   "cell_type": "code",
   "execution_count": 6,
   "metadata": {},
   "outputs": [
    {
     "data": {
      "text/html": [
       "<style>\n",
       ".dl-inline {width: auto; margin:0; padding: 0}\n",
       ".dl-inline>dt, .dl-inline>dd {float: none; width: auto; display: inline-block}\n",
       ".dl-inline>dt::after {content: \":\\0020\"; padding-right: .5ex}\n",
       ".dl-inline>dt:not(:first-of-type) {padding-left: .5ex}\n",
       "</style><dl class=dl-inline><dt>1</dt><dd>262.195431923214</dd><dt>2</dt><dd>267.516108247423</dd><dt>3</dt><dd>272.836784571632</dd><dt>4</dt><dd>278.157460895841</dd><dt>5</dt><dd>283.47813722005</dd><dt>6</dt><dd>288.798813544259</dd><dt>7</dt><dd>294.119489868468</dd><dt>8</dt><dd>299.440166192677</dd><dt>9</dt><dd>304.760842516886</dd><dt>10</dt><dd>310.081518841095</dd><dt>11</dt><dd>315.402195165304</dd><dt>12</dt><dd>320.722871489513</dd><dt>13</dt><dd>326.043547813722</dd><dt>14</dt><dd>331.364224137931</dd><dt>15</dt><dd>336.68490046214</dd><dt>16</dt><dd>342.005576786349</dd><dt>17</dt><dd>347.326253110558</dd><dt>18</dt><dd>352.646929434767</dd><dt>19</dt><dd>357.967605758976</dd><dt>20</dt><dd>363.288282083185</dd><dt>21</dt><dd>368.608958407394</dd></dl>\n"
      ],
      "text/latex": [
       "\\begin{description*}\n",
       "\\item[1] 262.195431923214\n",
       "\\item[2] 267.516108247423\n",
       "\\item[3] 272.836784571632\n",
       "\\item[4] 278.157460895841\n",
       "\\item[5] 283.47813722005\n",
       "\\item[6] 288.798813544259\n",
       "\\item[7] 294.119489868468\n",
       "\\item[8] 299.440166192677\n",
       "\\item[9] 304.760842516886\n",
       "\\item[10] 310.081518841095\n",
       "\\item[11] 315.402195165304\n",
       "\\item[12] 320.722871489513\n",
       "\\item[13] 326.043547813722\n",
       "\\item[14] 331.364224137931\n",
       "\\item[15] 336.68490046214\n",
       "\\item[16] 342.005576786349\n",
       "\\item[17] 347.326253110558\n",
       "\\item[18] 352.646929434767\n",
       "\\item[19] 357.967605758976\n",
       "\\item[20] 363.288282083185\n",
       "\\item[21] 368.608958407394\n",
       "\\end{description*}\n"
      ],
      "text/markdown": [
       "1\n",
       ":   262.1954319232142\n",
       ":   267.5161082474233\n",
       ":   272.8367845716324\n",
       ":   278.1574608958415\n",
       ":   283.478137220056\n",
       ":   288.7988135442597\n",
       ":   294.1194898684688\n",
       ":   299.4401661926779\n",
       ":   304.76084251688610\n",
       ":   310.08151884109511\n",
       ":   315.40219516530412\n",
       ":   320.72287148951313\n",
       ":   326.04354781372214\n",
       ":   331.36422413793115\n",
       ":   336.6849004621416\n",
       ":   342.00557678634917\n",
       ":   347.32625311055818\n",
       ":   352.64692943476719\n",
       ":   357.96760575897620\n",
       ":   363.28828208318521\n",
       ":   368.608958407394\n",
       "\n"
      ],
      "text/plain": [
       "       1        2        3        4        5        6        7        8 \n",
       "262.1954 267.5161 272.8368 278.1575 283.4781 288.7988 294.1195 299.4402 \n",
       "       9       10       11       12       13       14       15       16 \n",
       "304.7608 310.0815 315.4022 320.7229 326.0435 331.3642 336.6849 342.0056 \n",
       "      17       18       19       20       21 \n",
       "347.3263 352.6469 357.9676 363.2883 368.6090 "
      ]
     },
     "metadata": {},
     "output_type": "display_data"
    }
   ],
   "source": [
    "nuevas.edades <- data.frame(edad = seq(30, 50))\n",
    "predict(regresion, nuevas.edades)"
   ]
  },
  {
   "cell_type": "markdown",
   "metadata": {},
   "source": [
    "Suponemos ahora que los datos proceden de un modelo de regresión simple de la forma:\n",
    "$$\n",
    "y_i=\\beta_0+\\beta_1 x_i+\\epsilon_i,\\hspace{1cm} i=1,\\cdots,n,\n",
    "$$\n",
    "donde los errores aleatorios ϵi son independientes con distribución normal de media 0 y varianza $σ^2$. Bajo este modelo,\n",
    "\n",
    "- Los errores típicos de los estimadores de los parámetros $\\beta_0$ y $\\beta_1$ se encuentran en la columna Std Error de la salida anterior. En el ejemplo, sus valores son 29.638 y 0.724 respectivamente.\n",
    "\n",
    "- La columna t value contiene el estadístico t, es decir, cociente entre cada estimador y su error típico. Estos cocientes son la base para llevar a cabo los contrastes $H_0:\\beta_0=0$ y $H_0:\\beta_1=0$ . Los correspondientes p-valores aparecen en la columna $Pr(>|t|)$. En este caso son muy pequeños por lo que se rechazan ambas hipótesis para los niveles de significación habituales.\n",
    "\n",
    "- El estimador de la desviación típica de los errores σ aparece como Residual standard error y su valor en el ejemplo es 43.5\n",
    "\n",
    "- Los intervalos de confianza para los parámetros se obtienen con el comando confint. El parámetro level permite elegir el nivel de confianza (por defecto es 0.95):"
   ]
  },
  {
   "cell_type": "markdown",
   "metadata": {},
   "source": [
    "### Ejemplo 2 <a class=\"anchor\" id=\"ej2\"></a>"
   ]
  },
  {
   "cell_type": "markdown",
   "metadata": {},
   "source": [
    "Los siguientes ejemplos de regresión simple y múltiple se han obtenido del libro **Introduction to Statistical Learning** (Recomendado). El objetivo es mostrar los principales comandos en R para generar modelos lineales. Para obtener un modelo final robusto se tiene que analizar con más detalle cada una de las condiciones que se requieren para estos métodos.\n",
    "\n",
    "El dataset Boston del paquete MASS recoge la mediana del valor de la vivienda en 506 áreas residenciales de Boston. Junto con el precio, se han registrado 13 variables adicionales.\n",
    "\n"
   ]
  },
  {
   "cell_type": "code",
   "execution_count": 7,
   "metadata": {},
   "outputs": [
    {
     "name": "stderr",
     "output_type": "stream",
     "text": [
      "Warning message:\n",
      "\"package 'MASS' was built under R version 3.6.3\"\n",
      "Warning message:\n",
      "\"package 'ISLR' was built under R version 3.6.3\"\n"
     ]
    }
   ],
   "source": [
    "# install.packages(\"MASS\")\n",
    "library(MASS)\n",
    "library(ISLR)\n",
    "data(\"Boston\")"
   ]
  },
  {
   "cell_type": "markdown",
   "metadata": {},
   "source": [
    "- **crim**: ratio de criminalidad per cápita de cada ciudad.\n",
    "- **zn**: Proporción de zonas residenciales con edificaciones de más de 25.000 pies cuadrados.\n",
    "- **indus**: proporción de zona industrializada.\n",
    "- **chas**: Si hay río en la ciudad (= 1 si hay río; 0 no hay).\n",
    "- **nox**: Concentración de óxidos de nitrógeno (partes per 10 millón).\n",
    "- **rm**: promedio de habitaciones por vivienda.\n",
    "- **age**: Proporción de viviendas ocupadas por el propietario construidas antes de 1940.\n",
    "- **dis**: Media ponderada de la distancias a cinco centros de empleo de Boston.\n",
    "- **rad**: Índice de accesibilidad a las autopistas radiales.\n",
    "- **tax**: Tasa de impuesto a la propiedad en unidades de $\\$10,000.$\n",
    "- **ptratio**: ratio de alumnos/profesor por ciudad.\n",
    "- **black**: $1000(Bk - 0.63)^2$ donde Bk es la proporción de gente de color por ciudad.\n",
    "- **lstat**: porcentaje de población en condición de pobreza.\n",
    "- **medv**: Valor mediano de las casas ocupadas por el dueño en unidades de $\\$1000$s."
   ]
  },
  {
   "cell_type": "code",
   "execution_count": 8,
   "metadata": {},
   "outputs": [
    {
     "name": "stderr",
     "output_type": "stream",
     "text": [
      "Warning message:\n",
      "\"package 'psych' was built under R version 3.6.3\"\n"
     ]
    },
    {
     "data": {
      "text/plain": [
       "      crim                zn             indus       chas         nox        \n",
       " Min.   : 0.00632   Min.   :  0.00   Min.   : 0.46   0:471   Min.   :0.3850  \n",
       " 1st Qu.: 0.08204   1st Qu.:  0.00   1st Qu.: 5.19   1: 35   1st Qu.:0.4490  \n",
       " Median : 0.25651   Median :  0.00   Median : 9.69           Median :0.5380  \n",
       " Mean   : 3.61352   Mean   : 11.36   Mean   :11.14           Mean   :0.5547  \n",
       " 3rd Qu.: 3.67708   3rd Qu.: 12.50   3rd Qu.:18.10           3rd Qu.:0.6240  \n",
       " Max.   :88.97620   Max.   :100.00   Max.   :27.74           Max.   :0.8710  \n",
       "       rm             age              dis              rad        \n",
       " Min.   :3.561   Min.   :  2.90   Min.   : 1.130   Min.   : 1.000  \n",
       " 1st Qu.:5.886   1st Qu.: 45.02   1st Qu.: 2.100   1st Qu.: 4.000  \n",
       " Median :6.208   Median : 77.50   Median : 3.207   Median : 5.000  \n",
       " Mean   :6.285   Mean   : 68.57   Mean   : 3.795   Mean   : 9.549  \n",
       " 3rd Qu.:6.623   3rd Qu.: 94.08   3rd Qu.: 5.188   3rd Qu.:24.000  \n",
       " Max.   :8.780   Max.   :100.00   Max.   :12.127   Max.   :24.000  \n",
       "      tax           ptratio          black            lstat      \n",
       " Min.   :187.0   Min.   :12.60   Min.   :  0.32   Min.   : 1.73  \n",
       " 1st Qu.:279.0   1st Qu.:17.40   1st Qu.:375.38   1st Qu.: 6.95  \n",
       " Median :330.0   Median :19.05   Median :391.44   Median :11.36  \n",
       " Mean   :408.2   Mean   :18.46   Mean   :356.67   Mean   :12.65  \n",
       " 3rd Qu.:666.0   3rd Qu.:20.20   3rd Qu.:396.23   3rd Qu.:16.95  \n",
       " Max.   :711.0   Max.   :22.00   Max.   :396.90   Max.   :37.97  \n",
       "      medv      \n",
       " Min.   : 5.00  \n",
       " 1st Qu.:17.02  \n",
       " Median :21.20  \n",
       " Mean   :22.53  \n",
       " 3rd Qu.:25.00  \n",
       " Max.   :50.00  "
      ]
     },
     "metadata": {},
     "output_type": "display_data"
    }
   ],
   "source": [
    "# install.packages(\"psych\")\n",
    "library(psych)\n",
    "# La variable chas es una variable categórica por lo que se transforma a factor\n",
    "Boston$chas <- as.factor(Boston$chas)\n",
    "summary(Boston)"
   ]
  },
  {
   "cell_type": "code",
   "execution_count": 9,
   "metadata": {},
   "outputs": [
    {
     "data": {
      "image/png": "[encoded data removed]",
      "text/plain": [
       "Plot with title \"\""
      ]
     },
     "metadata": {
      "image/png": {
       "height": 240,
       "width": 240
      }
     },
     "output_type": "display_data"
    }
   ],
   "source": [
    "# Dado que hay muchas variables, se grafican por grupos de 4, excluyendo las\n",
    "# categóricas\n",
    "multi.hist(x = Boston[,1:3], dcol = c(\"blue\",\"red\"), dlty = c(\"dotted\", \"solid\"),\n",
    "           main = \"\")"
   ]
  },
  {
   "cell_type": "code",
   "execution_count": 10,
   "metadata": {},
   "outputs": [
    {
     "data": {
      "image/png": "[encoded data removed]",
      "text/plain": [
       "Plot with title \"\""
      ]
     },
     "metadata": {
      "image/png": {
       "height": 240,
       "width": 240
      }
     },
     "output_type": "display_data"
    }
   ],
   "source": [
    "multi.hist(x = Boston[,5:9], dcol = c(\"blue\",\"red\"), dlty = c(\"dotted\", \"solid\"),\n",
    "           main = \"\")"
   ]
  },
  {
   "cell_type": "code",
   "execution_count": 11,
   "metadata": {},
   "outputs": [
    {
     "data": {
      "image/png": "[encoded data removed]",
      "text/plain": [
       "Plot with title \"\""
      ]
     },
     "metadata": {
      "image/png": {
       "height": 240,
       "width": 240
      }
     },
     "output_type": "display_data"
    }
   ],
   "source": [
    "multi.hist(x = Boston[,10:14], dcol = c(\"blue\",\"red\"),\n",
    "           dlty = c(\"dotted\", \"solid\"), main = \"\")"
   ]
  },
  {
   "cell_type": "code",
   "execution_count": 12,
   "metadata": {},
   "outputs": [
    {
     "data": {
      "text/plain": [
       "\n",
       "Call:\n",
       "lm(formula = medv ~ lstat, data = Boston)\n",
       "\n",
       "Residuals:\n",
       "    Min      1Q  Median      3Q     Max \n",
       "-15.168  -3.990  -1.318   2.034  24.500 \n",
       "\n",
       "Coefficients:\n",
       "            Estimate Std. Error t value Pr(>|t|)    \n",
       "(Intercept) 34.55384    0.56263   61.41   <2e-16 ***\n",
       "lstat       -0.95005    0.03873  -24.53   <2e-16 ***\n",
       "---\n",
       "Signif. codes:  0 '***' 0.001 '**' 0.01 '*' 0.05 '.' 0.1 ' ' 1\n",
       "\n",
       "Residual standard error: 6.216 on 504 degrees of freedom\n",
       "Multiple R-squared:  0.5441,\tAdjusted R-squared:  0.5432 \n",
       "F-statistic: 601.6 on 1 and 504 DF,  p-value: < 2.2e-16\n"
      ]
     },
     "metadata": {},
     "output_type": "display_data"
    }
   ],
   "source": [
    "modelo_simple <- lm(formula = medv ~ lstat, data = Boston)\n",
    "summary(modelo_simple)"
   ]
  },
  {
   "cell_type": "markdown",
   "metadata": {},
   "source": [
    "En la información devuelta por el summary se observa que el $p$-value del estadístico $F$ es muy pequeño, indicando que al menos uno de los predictores del modelo está significativamente relacionado con la variable respuesta. Al tratarse de un modelo simple, el $p-$value de estadístico $F$ es el mismo que el $p$-value del estadístico $t$ del único predictor incluido en el modelo (lstat). La evaluación del modelo en conjunto puede hacerse a partir de los valores RSE o del valor $R^2$ devuelto en el summary.\n",
    "\n",
    "Residual standar error (RSE): En promedio, cualquier predicción del modelo se aleja 6.216 unidades del verdadero valor. Teniendo en cuenta que el valor promedio de la variable respuesta medv es de 22.53, RSE es de $6.21622.53=27\\%$.\n",
    "\n",
    "$R^2$: El predictor lstatus empleado en el modelo es capaz de explicar el $54.44\\%$ de la variabilidad observada en el precio de las viviendas.\n",
    "\n",
    "La ventaja de $R^2$ es que es independiente de la escala en la que se mida la variable respuesta, por lo que su interpretación es más sencilla.\n",
    "\n",
    "Los dos coeficientes de regresión ($\\beta_0$ y $\\beta_1$) estimados por el modelo son significativos y se pueden interpretar como:\n",
    "\n",
    "- Intercept($\\beta_0$): El valor promedio del precio de la vivienda cuando el lstatus es 0 es de 34.5538 unidades.\n",
    "- Predictor lstat($\\beta_1$): por cada unidad que se incrementa el predictor lstat el precio de la vivienda disminuye en promedio 0.9500 unidades.\n",
    "- La estimación de todo coeficiente de regresión tiene asociada un error estándar, por lo tanto todo coeficiente de regresión tiene su correspondiente intervalo de confianza."
   ]
  },
  {
   "cell_type": "code",
   "execution_count": 13,
   "metadata": {},
   "outputs": [
    {
     "data": {
      "text/html": [
       "<table>\n",
       "<caption>A matrix: 1 × 3 of type dbl</caption>\n",
       "<thead>\n",
       "\t<tr><th></th><th scope=col>fit</th><th scope=col>lwr</th><th scope=col>upr</th></tr>\n",
       "</thead>\n",
       "<tbody>\n",
       "\t<tr><th scope=row>1</th><td>25.05335</td><td>12.82763</td><td>37.27907</td></tr>\n",
       "</tbody>\n",
       "</table>\n"
      ],
      "text/latex": [
       "A matrix: 1 × 3 of type dbl\n",
       "\\begin{tabular}{r|lll}\n",
       "  & fit & lwr & upr\\\\\n",
       "\\hline\n",
       "\t1 & 25.05335 & 12.82763 & 37.27907\\\\\n",
       "\\end{tabular}\n"
      ],
      "text/markdown": [
       "\n",
       "A matrix: 1 × 3 of type dbl\n",
       "\n",
       "| <!--/--> | fit | lwr | upr |\n",
       "|---|---|---|---|\n",
       "| 1 | 25.05335 | 12.82763 | 37.27907 |\n",
       "\n"
      ],
      "text/plain": [
       "  fit      lwr      upr     \n",
       "1 25.05335 12.82763 37.27907"
      ]
     },
     "metadata": {},
     "output_type": "display_data"
    }
   ],
   "source": [
    "predict(object = modelo_simple, newdata = data.frame(lstat = c(10)),\n",
    "        interval = \"prediction\", level = 0.95)"
   ]
  },
  {
   "cell_type": "code",
   "execution_count": 14,
   "metadata": {},
   "outputs": [
    {
     "data": {
      "image/png": "[encoded data removed]",
      "text/plain": [
       "Plot with title \"medv vs lstat\""
      ]
     },
     "metadata": {
      "image/png": {
       "height": 300,
       "width": 300
      }
     },
     "output_type": "display_data"
    }
   ],
   "source": [
    "options(repr.plot.width=5, repr.plot.height=5)\n",
    "attach(Boston)\n",
    "plot(x = lstat, y = medv, main = \"medv vs lstat\", pch = 20, col = \"grey30\")\n",
    "abline(modelo_simple, lwd = 3, col = \"red\")"
   ]
  },
  {
   "cell_type": "markdown",
   "metadata": {},
   "source": [
    "$\\text{precio medio vivienda} = 34.55-0.95\\text{lstat}$"
   ]
  },
  {
   "cell_type": "markdown",
   "metadata": {},
   "source": [
    "### Ejemplo 3 <a class=\"anchor\" id=\"ej3\"></a>\n",
    "\n",
    "Se desea ajustar un modelo de regresión lineal simple para explicar la Resistencia de una soldadura en función de la Edad de la soldadura."
   ]
  },
  {
   "cell_type": "code",
   "execution_count": 15,
   "metadata": {},
   "outputs": [
    {
     "data": {
      "text/html": [
       "<table>\n",
       "<caption>A data.frame: 6 × 2</caption>\n",
       "<thead>\n",
       "\t<tr><th></th><th scope=col>Resistencia</th><th scope=col>Edad</th></tr>\n",
       "\t<tr><th></th><th scope=col>&lt;dbl&gt;</th><th scope=col>&lt;dbl&gt;</th></tr>\n",
       "</thead>\n",
       "<tbody>\n",
       "\t<tr><th scope=row>1</th><td>2158.70</td><td>15.50</td></tr>\n",
       "\t<tr><th scope=row>2</th><td>1678.15</td><td>23.75</td></tr>\n",
       "\t<tr><th scope=row>3</th><td>2316.00</td><td> 8.00</td></tr>\n",
       "\t<tr><th scope=row>4</th><td>2061.30</td><td>17.00</td></tr>\n",
       "\t<tr><th scope=row>5</th><td>2207.50</td><td> 5.50</td></tr>\n",
       "\t<tr><th scope=row>6</th><td>1708.30</td><td>19.00</td></tr>\n",
       "</tbody>\n",
       "</table>\n"
      ],
      "text/latex": [
       "A data.frame: 6 × 2\n",
       "\\begin{tabular}{r|ll}\n",
       "  & Resistencia & Edad\\\\\n",
       "  & <dbl> & <dbl>\\\\\n",
       "\\hline\n",
       "\t1 & 2158.70 & 15.50\\\\\n",
       "\t2 & 1678.15 & 23.75\\\\\n",
       "\t3 & 2316.00 &  8.00\\\\\n",
       "\t4 & 2061.30 & 17.00\\\\\n",
       "\t5 & 2207.50 &  5.50\\\\\n",
       "\t6 & 1708.30 & 19.00\\\\\n",
       "\\end{tabular}\n"
      ],
      "text/markdown": [
       "\n",
       "A data.frame: 6 × 2\n",
       "\n",
       "| <!--/--> | Resistencia &lt;dbl&gt; | Edad &lt;dbl&gt; |\n",
       "|---|---|---|\n",
       "| 1 | 2158.70 | 15.50 |\n",
       "| 2 | 1678.15 | 23.75 |\n",
       "| 3 | 2316.00 |  8.00 |\n",
       "| 4 | 2061.30 | 17.00 |\n",
       "| 5 | 2207.50 |  5.50 |\n",
       "| 6 | 1708.30 | 19.00 |\n",
       "\n"
      ],
      "text/plain": [
       "  Resistencia Edad \n",
       "1 2158.70     15.50\n",
       "2 1678.15     23.75\n",
       "3 2316.00      8.00\n",
       "4 2061.30     17.00\n",
       "5 2207.50      5.50\n",
       "6 1708.30     19.00"
      ]
     },
     "metadata": {},
     "output_type": "display_data"
    }
   ],
   "source": [
    "file <- \"https://raw.githubusercontent.com/fhernanb/datos/master/propelente\"\n",
    "datos <- read.table(file=file, header=TRUE)\n",
    "head(datos) # shows the first 6 rows"
   ]
  },
  {
   "cell_type": "code",
   "execution_count": 16,
   "metadata": {},
   "outputs": [
    {
     "name": "stderr",
     "output_type": "stream",
     "text": [
      "Warning message:\n",
      "\"package 'ggplot2' was built under R version 3.6.3\"\n",
      "\n",
      "Attaching package: 'ggplot2'\n",
      "\n",
      "\n",
      "The following objects are masked from 'package:psych':\n",
      "\n",
      "    %+%, alpha\n",
      "\n",
      "\n"
     ]
    },
    {
     "data": {
      "image/png": "[encoded data removed]",
      "text/plain": [
       "plot without title"
      ]
     },
     "metadata": {
      "image/png": {
       "height": 300,
       "width": 300
      }
     },
     "output_type": "display_data"
    }
   ],
   "source": [
    "library(ggplot2)\n",
    "ggplot(datos, aes(x=Edad, y=Resistencia)) + \n",
    "  geom_point() + theme_light()"
   ]
  },
  {
   "cell_type": "markdown",
   "metadata": {},
   "source": [
    "El modelo que se quiere montar\n",
    "\n",
    "\\begin{align}\n",
    "Resistencia_i &\\sim N(\\mu_i, \\sigma^2), \\\\ \n",
    "\\mu_i &= \\beta_0 + \\beta_1 Edad_i, \\\\\n",
    "\\sigma^2 &= \\text{constante}\n",
    "\\end{align}"
   ]
  },
  {
   "cell_type": "code",
   "execution_count": 17,
   "metadata": {},
   "outputs": [
    {
     "data": {
      "text/plain": [
       "\n",
       "Call:\n",
       "lm(formula = Resistencia ~ Edad, data = datos)\n",
       "\n",
       "Residuals:\n",
       "    Min      1Q  Median      3Q     Max \n",
       "-215.98  -50.68   28.74   66.61  106.76 \n",
       "\n",
       "Coefficients:\n",
       "            Estimate Std. Error t value Pr(>|t|)    \n",
       "(Intercept) 2627.822     44.184   59.48  < 2e-16 ***\n",
       "Edad         -37.154      2.889  -12.86 1.64e-10 ***\n",
       "---\n",
       "Signif. codes:  0 '***' 0.001 '**' 0.01 '*' 0.05 '.' 0.1 ' ' 1\n",
       "\n",
       "Residual standard error: 96.11 on 18 degrees of freedom\n",
       "Multiple R-squared:  0.9018,\tAdjusted R-squared:  0.8964 \n",
       "F-statistic: 165.4 on 1 and 18 DF,  p-value: 1.643e-10\n"
      ]
     },
     "metadata": {},
     "output_type": "display_data"
    }
   ],
   "source": [
    "mod1 <- lm(Resistencia ~ Edad, data=datos)\n",
    "summary(mod1) # Para imprimir el objeto mod1"
   ]
  },
  {
   "cell_type": "markdown",
   "metadata": {},
   "source": [
    "Queda finalmente estimado como \n",
    "\\begin{align}\n",
    "\\widehat{Resistencia}_i &\\sim N(\\hat{\\mu}_i, \\hat{\\sigma}^2), \\\\ \n",
    "\\hat{\\mu}_i &= 2627.822 -37.154 \\, Edad_i, \\\\\n",
    "\\hat{\\sigma} &= 96.11\n",
    "\\end{align}"
   ]
  },
  {
   "cell_type": "code",
   "execution_count": 18,
   "metadata": {},
   "outputs": [
    {
     "data": {
      "image/png": "[encoded data removed]",
      "text/plain": [
       "plot without title"
      ]
     },
     "metadata": {
      "image/png": {
       "height": 300,
       "width": 300
      }
     },
     "output_type": "display_data"
    }
   ],
   "source": [
    "ggplot(datos, aes(x=Edad, y=Resistencia)) + \n",
    "  geom_point() +\n",
    "  geom_smooth(method='lm', formula=y~x, se=FALSE, col='dodgerblue1') +\n",
    "  theme_light()"
   ]
  },
  {
   "cell_type": "code",
   "execution_count": 19,
   "metadata": {},
   "outputs": [],
   "source": [
    "datos$predicciones <- predict(mod1)"
   ]
  },
  {
   "cell_type": "code",
   "execution_count": 20,
   "metadata": {},
   "outputs": [
    {
     "name": "stderr",
     "output_type": "stream",
     "text": [
      "`geom_smooth()` using formula 'y ~ x'\n",
      "\n"
     ]
    },
    {
     "data": {
      "image/png": "[encoded data removed]",
      "text/plain": [
       "plot without title"
      ]
     },
     "metadata": {
      "image/png": {
       "height": 300,
       "width": 300
      }
     },
     "output_type": "display_data"
    }
   ],
   "source": [
    "ggplot(datos, aes(x=Edad, y=Resistencia)) +\n",
    "  geom_smooth(method=\"lm\", se=FALSE, color=\"lightgrey\") +\n",
    "  geom_segment(aes(xend=Edad, yend=predicciones), col='red', lty='dashed') +\n",
    "  geom_point() +\n",
    "  geom_point(aes(y=predicciones), col='red') +\n",
    "  theme_light()"
   ]
  },
  {
   "cell_type": "markdown",
   "metadata": {},
   "source": [
    "### Ejemplo 4 <a class=\"anchor\" id=\"ej4\"></a>"
   ]
  },
  {
   "cell_type": "code",
   "execution_count": 21,
   "metadata": {},
   "outputs": [
    {
     "name": "stderr",
     "output_type": "stream",
     "text": [
      "Warning message:\n",
      "\"package 'tidyverse' was built under R version 3.6.3\"\n",
      "-- \u001b[1mAttaching packages\u001b[22m --------------------------------------- tidyverse 1.3.0 --\n",
      "\n",
      "\u001b[32mv\u001b[39m \u001b[34mtibble \u001b[39m 3.0.4     \u001b[32mv\u001b[39m \u001b[34mdplyr  \u001b[39m 1.0.2\n",
      "\u001b[32mv\u001b[39m \u001b[34mtidyr  \u001b[39m 1.1.2     \u001b[32mv\u001b[39m \u001b[34mstringr\u001b[39m 1.4.0\n",
      "\u001b[32mv\u001b[39m \u001b[34mreadr  \u001b[39m 1.4.0     \u001b[32mv\u001b[39m \u001b[34mforcats\u001b[39m 0.5.0\n",
      "\u001b[32mv\u001b[39m \u001b[34mpurrr  \u001b[39m 0.3.4     \n",
      "\n",
      "Warning message:\n",
      "\"package 'tibble' was built under R version 3.6.3\"\n",
      "Warning message:\n",
      "\"package 'tidyr' was built under R version 3.6.3\"\n",
      "Warning message:\n",
      "\"package 'readr' was built under R version 3.6.3\"\n",
      "Warning message:\n",
      "\"package 'purrr' was built under R version 3.6.3\"\n",
      "Warning message:\n",
      "\"package 'dplyr' was built under R version 3.6.3\"\n",
      "Warning message:\n",
      "\"package 'forcats' was built under R version 3.6.3\"\n",
      "-- \u001b[1mConflicts\u001b[22m ------------------------------------------ tidyverse_conflicts() --\n",
      "\u001b[31mx\u001b[39m \u001b[34mggplot2\u001b[39m::\u001b[32m%+%()\u001b[39m   masks \u001b[34mpsych\u001b[39m::%+%()\n",
      "\u001b[31mx\u001b[39m \u001b[34mggplot2\u001b[39m::\u001b[32malpha()\u001b[39m masks \u001b[34mpsych\u001b[39m::alpha()\n",
      "\u001b[31mx\u001b[39m \u001b[34mdplyr\u001b[39m::\u001b[32mfilter()\u001b[39m  masks \u001b[34mstats\u001b[39m::filter()\n",
      "\u001b[31mx\u001b[39m \u001b[34mdplyr\u001b[39m::\u001b[32mlag()\u001b[39m     masks \u001b[34mstats\u001b[39m::lag()\n",
      "\u001b[31mx\u001b[39m \u001b[34mdplyr\u001b[39m::\u001b[32mselect()\u001b[39m  masks \u001b[34mMASS\u001b[39m::select()\n",
      "\n"
     ]
    }
   ],
   "source": [
    "# install.packages(\"tidyverse\")\n",
    "library(tidyverse)\n",
    "data(\"Orange\")"
   ]
  },
  {
   "cell_type": "code",
   "execution_count": 22,
   "metadata": {},
   "outputs": [
    {
     "data": {
      "image/png": "[encoded data removed]",
      "text/plain": [
       "plot without title"
      ]
     },
     "metadata": {
      "image/png": {
       "height": 300,
       "width": 300
      }
     },
     "output_type": "display_data"
    }
   ],
   "source": [
    "# problema/pregunta\n",
    "# Cuanto medir? la circunferencias, en promedio, de un arbol de naranjas en a los 800 dias de plantarlo\n",
    "Orange %>% \n",
    "  ggplot(aes(x = age,\n",
    "             y = circumference)) +\n",
    "  geom_point() "
   ]
  },
  {
   "cell_type": "code",
   "execution_count": null,
   "metadata": {},
   "outputs": [],
   "source": []
  },
  {
   "cell_type": "code",
   "execution_count": null,
   "metadata": {},
   "outputs": [],
   "source": []
  }
 ],
 "metadata": {
  "kernelspec": {
   "display_name": "R",
   "language": "R",
   "name": "ir"
  },
  "language_info": {
   "codemirror_mode": "r",
   "file_extension": ".r",
   "mimetype": "text/x-r-source",
   "name": "R",
   "pygments_lexer": "r",
   "version": "3.6.1"
  }
 },
 "nbformat": 4,
 "nbformat_minor": 4
}
