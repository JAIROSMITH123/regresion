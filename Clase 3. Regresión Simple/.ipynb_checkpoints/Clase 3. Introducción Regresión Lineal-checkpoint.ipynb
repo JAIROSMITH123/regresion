{
 "cells": [
  {
   "cell_type": "markdown",
   "metadata": {},
   "source": [
    "<img style=\"float: right;\" src=\"img/logo.png\" width=\"500\">\n",
    "\n",
    "\n",
    "# Análisis de Regresión (2021-4)\n",
    "## Especialización en Estadística Aplicada\n",
    "#### Prof. [Sébastien Lozano Forero](https://www.linkedin.com/in/sebastienlozanoforero/) (slozanof@libertadores.edu.co)\n",
    "\n",
    "## <font color='red'>Introducción a la Regresión Lineal Simple</font>\n",
    "\n",
    "### Tabla de contenidos\n",
    "\n",
    "* [Modelo de Regresión Lineal Simple](#modelo)\n",
    "* [Resultados Generales](#resultados)\n",
    "* [Supuestos](#supuestos)\n",
    "* [Validación de Supuestos](#supuestos) \n",
    "* [Ejemplo](#ejemplo) \n",
    "* [Algunas Consideraciones](#consideraciones) "
   ]
  },
  {
   "cell_type": "markdown",
   "metadata": {},
   "source": [
    "### Modelo de Regresión Lineal Simple <a class=\"anchor\" id=\"modelo\"></a>\n",
    "\n",
    "El modelo de regresión lineal simple da cuenta de la relación **lineal** y **causal** entre las variables $x, y$ ($x$ causa a $y$). Una primera aproximación a esta situación se tendría con la noción de correlación muestral (entendiendo que la misma no establece relación de causalidad) en el sentido de la linealidad. \n",
    "\n",
    "<img style=\"float: center;\" src=\"img/cor.jpeg\" width=\"800\">\n",
    "\n",
    "Una vez reconocida esta limitación del modelo, se puede plantear y cuantificar la relación *$x$ causa a $y$* de la siguiente forma\n",
    "\n",
    "\\begin{equation}\\label{modelo}\n",
    "y_t = \\beta_0 + \\beta_1x_t + \\epsilon_t\n",
    "\\end{equation}\n",
    "\n",
    "Donde: \n",
    "- $\\beta_0$ (intercepto) y $\\beta_1$ (pendiente) son parámetros poblacionales a ser estimados.\n",
    "- $\\epsilon_t$ representa un error aleatorio (Nuestra incapacidad para dar cuenta de la realidad tal cuál es)\n",
    "- $y_t$ representa la *variable respuesta*\n",
    "- $x_t$ representa la *variable predictora*\n",
    "- $t= 1,2, \\cdots, n$\n",
    "\n",
    "<img style=\"float: right;\" src=\"img/ref.gif\" width=\"400\">\n",
    "\n",
    "En esta expresión estamos admitiendo que todos los factores o causas que influyen en la variable respuesta $y$ pueden dividirse en dos grupos: el primero contiene a una variable explicativa $x$ y el segundo incluye un conjunto amplio de factores no controlados que englobaremos bajo el nombre de perturbación o error aleatorio, $\\epsilon$, que provoca que la dependencia entre las variables dependiente e independiente no sea perfecta, sino que esté sujeta a incertidumbre. Por ejemplo, en el consumo de gasolina de un vehículo ($y$) influyen la velocidad ($x$) y una serie de factores como el efecto conductor, el tipo de carretera, las condiciones ambientales, etc, que quedarían englobados en el error\n",
    "\n",
    "Algunos elementos a destacar; \n",
    "\n",
    "- La respuesta $Y_i$ en el $i$-ésimo ensayo es la suma de dos componentes: (1) el término $\\beta_0+\\beta_1X_i$ y (2) el término aleatorio $\\epsilon_i$. Por lo tanto, $Y_i$ es una variable aleatoria.\t\n",
    "- Ya que $E\\{\\epsilon_i\\}=0$, se sigue que $E\\{Y_i\\}=\\beta_0+\\beta_1X_i$.\n",
    "Por lo tanto, la respuesta $Y_i$, cuando el nivel de $X$ en el $i$-ésimo ensayo es $X_i$, proviene de una distribución de probabilidad cuya media es\n",
    "$E\\{Y_i\\}=\\beta_0+\\beta_1X_i$\n",
    "Así, sabemos que la \\textbf{función de regresión} para el modelo (1) es:\n",
    "$$\n",
    "E\\{Y\\}=\\beta_0+\\beta_1X\n",
    "$$\n",
    "ya que la función de regresión relaciona las medias de las distribuciones de probabilidad de $Y$ para $X$ dado el nivel de $X$.\n",
    "\n",
    "- La respuesta $Y_i$ en el $i$-ésimo ensayo supera o no alcanza el valor de la función de regresión por la cantidad del término de error $\\epsilon_i$.\n",
    "- Los términos de error se asumen que tienen varianza constante $\\sigma^2$. Esto implica que las respuestas $Y_i$ tienen la misma varianza constante: \t\t\n",
    "$$\n",
    "\\sigma^2\\{Y_i\\}=\\sigma^2\n",
    "$$\n",
    "Así, el modelo de regresión (1) asume que las distribuciones de probabilidad de $Y$ tienen la misma varianza $\\sigma^2$, independientemente del nivel de la variable predictora $X$.\n",
    "\t\t\n",
    "- Los términos de error se supone que no están correlacionados. Dado que los términos de error $\\epsilon_i$ y $\\epsilon_i$ no están correlacionados, también lo están las respuestas $Y_i$ y $Y_j$.\n",
    "\n",
    "\n"
   ]
  },
  {
   "cell_type": "markdown",
   "metadata": {},
   "source": [
    "### Supuestos <a class=\"anchor\" id=\"supuestos\"></a>\n",
    "\n",
    "El modelo de regresión lineal simple, como tantísimos otros (casi absolutamente todos) modelos estadísticos, deberá cumplir una serie de supuestos que permitan concluir que el mismo es una buena versión simplificada de la información y, por tanto, tiene sentido usarlo para establecer dichas relaciones ded causación. De esta manera, los principales supuestos para el modelo de regresión lineal simple $y_t = \\beta_0 + \\beta_1x_t + \\epsilon_t$ son \n",
    "- [S0] El modelo es una buena representación de la realidad (tiene sentido)\n",
    "- [S1] $E(\\epsilon_t)=0$\n",
    "- [S2] $Cov(\\epsilon_t ,\\epsilon_s) = 0$ siempre que $i\\neq j$\n",
    "- [S3] $Var(\\epsilon_t) =\\sigma_t^2 =\\sigma^2$ (Homoscedasticidad)\n",
    "- [S4] $x$ asume por lo menos dos valores\n",
    "- [S5] [opcional pero recomendado] $y_t \\sim N(\\mu_t, \\sigma^2)$\n",
    "\n",
    "Típicamente, en todos los modelos estadísticos, la forma e validar los supuestos es a través de los residuos (Hay que tener presente que los errores son variables aleatorios, mientras que los residuos son realizaciones de tales variables). De esta manera se definen los residuos como $r_t= y_t-\\hat{y}_t$, donde $\\hat{y}_t$ es el valor predicho para $y_t$ por el modelo\n",
    "\n",
    "<img style=\"float: center;\" src=\"img/homo.png\" width=\"400\">"
   ]
  },
  {
   "cell_type": "markdown",
   "metadata": {},
   "source": [
    "### Resultados Generales <a class=\"anchor\" id=\"resultados\"></a>\n",
    "\n",
    "Frente al modelo dgeneral de Regresión Lineal Simple, se tienen los siguientes resultados generales"
   ]
  },
  {
   "cell_type": "markdown",
   "metadata": {},
   "source": [
    "#### Estimación de parámetros\n",
    "\n",
    "En el modelo $y_t = \\beta_0 + \\beta_1x_t + \\epsilon_t$ se debe realizar un proceso de estimación de parámetros para dotar de sentido al mismo. Es decir, se requiere algún procedimiento para, partiendo de la información de entrada (variables $x$ y $y$), poder obtener $\\hat{\\beta}_0$ y $\\hat{\\beta}_1$. \n",
    "\n",
    "Para encontrar *buenos* estimadores de los parámetros de regresión $\\beta_0$ y $\\beta_1$, empleamos el **método de los mínimos cuadrados**. Para las observaciones $(x_{i},y_{i})$ para cada caso, el método de los mínimos cuadrados considera la desviación de $Y_i$ de su valor esperado:\n",
    "$$\n",
    "y_i-(\\hat{\\beta}_0+\\hat{\\beta}_1x_i)\n",
    "$$\n",
    "El método de los mínimos cuadrados requiere que se considera la suma de las $n$ desviaciones al cuadrado. Este criterio se denota por $Q$:\n",
    "$$\n",
    "Q=\\sum_{i=1}^n (y_i-\\hat{\\beta}_0+\\hat{\\beta}_1x_i)^2\n",
    "$$\n",
    "\n",
    "De acuerdo con el método de los mínimos cuadrados, los estimadores de $\\beta_0$ y $\\beta_1$ son los valores $\\hat{\\beta}_0$ y $\\hat{\\beta}_1$, respectivamente, que minimizan el criterio $Q$ para las observaciones muestrales dadas $(x_1,y_1),(x_2, y_2),\\cdots (x_n, y_n)$.\n",
    "\t\n",
    " puede demostrar para el modelo de regresión (1) que los valores de $b_0$ y $b_1$ que minimizan $Q$ para cualquier conjunto particular de datos muestrales están dados por las siguientes ecuaciones simultaneas:\n",
    "\t\n",
    "\\begin{align*}\n",
    "\\sum y_i &= n\\beta_0+\\beta_1\\sum x_i \\tag{2}\\\\\n",
    "\\sum x_iy_i &=\\beta_0\\sum x_i +\\beta_1\\sum x_i^2 \\tag{3}\n",
    "\\end{align*}\n",
    "\t\n",
    "Las ecuaciones $(2)$ y $(3)$ son denominadas **ecuaciones normales**.\n",
    "\n",
    "Las ecuaciones normales se pueden resolver de forma simultánea para $\\beta_0$ y $\\beta_1$:\n",
    " \n",
    "\\begin{align*}\n",
    "\\hat{\\beta_1} &= \\frac{\\sum (x_i-\\bar{x})(y_i-\\bar{y})}{\\sum(x_i-\\bar{x})^2} \\tag{4}\\\\\n",
    "\\hat{\\beta_0} &= \\bar{y}-\\hat{\\beta}_1\\bar{x} \\tag{5}\n",
    "\\end{align*}\n",
    "\n",
    "donde $\\bar{x}$ y $\\bar{y}$ son las medias de las observaciones $x_i$ y $y_i$, respectivamente. Estos estimadores, se puede probar, son insesgados, consistentes y eficientes. Adicionalmente, el **Teorema de Gauss-Markov** establece que estos estimados son los mejores estimadores dentro de la categoría de estimadores lineales. "
   ]
  },
  {
   "cell_type": "markdown",
   "metadata": {},
   "source": [
    "#### pruebas de hipótesis\n",
    "\n",
    "En general, va a ser de nuestro interés obtener evidencia empírica de la validez estadística de los parámetros que indexan el modelo. Para esto, se hace necesario introducir pruebas de hipótesis para los parámetros. \n",
    "\n",
    "Considere, la prueba de las hipótesis para $\\beta_i$:\n",
    "\\begin{align*}\n",
    "H_0: \\, \\beta_i &=\\beta_{i0} (\\beta_{i0} \\text{conocido})\\\\\n",
    "H_1: \\, \\beta_i &\\neq \\beta_{i0}\n",
    "\\end{align*}\n",
    "\n",
    "que tiene como estadístico de prueba:\n",
    "\t\n",
    "$$\n",
    "T_{Est}=\\frac{\\hat{\\beta}_1-\\beta_{10}}{s\\{\\hat{\\beta}_1\\}} \\sim t_{(n-2)}\n",
    "$$\n",
    "\t\n",
    "y la regla de decisión para el nivel de significancia $\\alpha$ es $p$-valor $<\\alpha$ donde $p$-valor $= 2P(T>|T_{Est}|)$ con $T\\sim t_{(n-1)}$.\n",
    "\n"
   ]
  },
  {
   "cell_type": "markdown",
   "metadata": {},
   "source": [
    "#### Medidas de bondad de ajuste\n",
    "\n",
    "En la regresión lineal simple se mostró que la suma de cuadrados se podía dividir o particionar en dos componentes: la suma de cuadrados debida a la regresión y la suma de cuadrados debida al error. Esto también aplica a la suma de cuadrados de la regresión múltiple.\n",
    "\t\t\n",
    "Relación entre SCT, SCR y SCE: $SCT=SCR+SCE$, donde\n",
    "\\begin{align*}\n",
    "SCT &= \\text{suma de cuadrados total}=\\sum(y_i-\\bar{y})^2 \\\\\n",
    "SCR &= \\text{suma de cuadrados debida a la regresión}=\\sum(\\widehat{y}_i-\\bar{y})^2 \\\\\n",
    "SCE &= \\text{suma de cuadrados debida al error}=\\sum(y_i-\\widehat{y}_i)^2\n",
    "\\end{align*}\n",
    "\n",
    "<img style=\"float: center;\" src=\"img/res.png\" width=\"600\">\n",
    "\n",
    "Debido a lo complejo de los cálculos de estas tres sumas de cuadrados, es necesario emplear un paquete de software para realizarlos. En los resultados de R, en la parte de análisis de varianza, se presentan los valores: $SCT, SCR$ y $SCE$.\n",
    "\t\n",
    "El valor de la $SCT$ es el mismo en ambos casos debido a que este valor no depende de $\\widehat{y}$, pero al agregar otra variable (el número de entregas), $SCR$ aumenta y $SCE$ disminuye. Esto tiene como consecuencia que la ecuación de regresión estimada tenga un mejor ajuste a los datos observados.\n",
    "\n",
    "El término **coeficiente de determinación múltiple** indica que mide la bondad de ajuste de la ecuación de regresión múltiple estimada. El coeficiente de determinación múltiple, que se denota $R^2$, se calcula como $R^2=\\frac{SCR}{SCT}$ o como $R^2=1-\\frac{SCE}{SCT}$ y puede interpretarse como la proporción de la variabilidad en el valor de la variable independiente que es explicada por la ecuación de regresión estimada. Por lo tanto, el producto de este coeficiente por 100, se interpreta como el porcentaje de la variabilidad en $y$ que es explicada por la ecuación de regresión estimada.\n",
    "\n"
   ]
  },
  {
   "cell_type": "markdown",
   "metadata": {},
   "source": [
    "### Validación de Supuestos <a class=\"anchor\" id=\"resultados\"></a>\n",
    "\n",
    "Una vez planteados los supuestos, es necesario ver cómo se validarán en ejemplos prácticos. En esta situación, simularemos los datos para poder validar cada uno de los supuestos.\n",
    "\n",
    "<img style=\"float: center;\" src=\"img/residuos.png\" width=\"600\">"
   ]
  },
  {
   "cell_type": "code",
   "execution_count": 2,
   "metadata": {},
   "outputs": [
    {
     "data": {
      "image/png": "[encoded data removed]",
      "text/plain": [
       "Plot with title \"Gráfico de Dispersión\""
      ]
     },
     "metadata": {},
     "output_type": "display_data"
    }
   ],
   "source": [
    "set.seed(123)\n",
    "x <- rnorm(250, mean=100, sd=5)\n",
    "y <- 58 + 4*x+ rnorm(250, sd=3) \n",
    "options(repr.plot.width=4, repr.plot.height=4)\n",
    "plot(x,y, main= \"Gráfico de Dispersión\")"
   ]
  },
  {
   "cell_type": "markdown",
   "metadata": {},
   "source": [
    "Al haber simulado el modelo $y_t = 58 + 1.8x_t+\\epsilon_t$ ($\\beta_0=58$ y $\\beta_1=1.8$), debe ser natural que el modelo ajustado sea similar, veamos. "
   ]
  },
  {
   "cell_type": "code",
   "execution_count": 3,
   "metadata": {},
   "outputs": [
    {
     "data": {
      "text/plain": [
       "\n",
       "Call:\n",
       "lm(formula = y ~ x)\n",
       "\n",
       "Residuals:\n",
       "    Min      1Q  Median      3Q     Max \n",
       "-8.2335 -1.7522  0.0766  2.0807  7.2670 \n",
       "\n",
       "Coefficients:\n",
       "            Estimate Std. Error t value Pr(>|t|)    \n",
       "(Intercept) 53.61689    4.04651   13.25   <2e-16 ***\n",
       "x            4.04618    0.04044  100.06   <2e-16 ***\n",
       "---\n",
       "Signif. codes:  0 '***' 0.001 '**' 0.01 '*' 0.05 '.' 0.1 ' ' 1\n",
       "\n",
       "Residual standard error: 3.006 on 248 degrees of freedom\n",
       "Multiple R-squared:  0.9758,\tAdjusted R-squared:  0.9757 \n",
       "F-statistic: 1.001e+04 on 1 and 248 DF,  p-value: < 2.2e-16\n"
      ]
     },
     "metadata": {},
     "output_type": "display_data"
    },
    {
     "data": {
      "image/png": "[encoded data removed]",
      "text/plain": [
       "Plot with title \"Gráfico de Dispersión\""
      ]
     },
     "metadata": {},
     "output_type": "display_data"
    }
   ],
   "source": [
    "ajuste <- lm(y~x)\n",
    "options(repr.plot.width=4, repr.plot.height=4)\n",
    "plot(x,y, main= \"Gráfico de Dispersión\")\n",
    "summary(ajuste)\n",
    "abline(ajuste, col=\"red\")"
   ]
  },
  {
   "cell_type": "code",
   "execution_count": 4,
   "metadata": {},
   "outputs": [
    {
     "data": {
      "text/html": [
       "1263.72609219344"
      ],
      "text/latex": [
       "1263.72609219344"
      ],
      "text/markdown": [
       "1263.72609219344"
      ],
      "text/plain": [
       "[1] 1263.726"
      ]
     },
     "metadata": {},
     "output_type": "display_data"
    },
    {
     "data": {
      "text/html": [
       "1274.29047494702"
      ],
      "text/latex": [
       "1274.29047494702"
      ],
      "text/markdown": [
       "1274.29047494702"
      ],
      "text/plain": [
       "[1] 1274.29"
      ]
     },
     "metadata": {},
     "output_type": "display_data"
    }
   ],
   "source": [
    "AIC(ajuste)\n",
    "BIC(ajuste)"
   ]
  },
  {
   "cell_type": "code",
   "execution_count": 7,
   "metadata": {},
   "outputs": [
    {
     "data": {
      "image/png": "[encoded data removed]",
      "text/plain": [
       "Plot with title \"\""
      ]
     },
     "metadata": {},
     "output_type": "display_data"
    }
   ],
   "source": [
    "options(repr.plot.width=6, repr.plot.height=6)\n",
    "par(mfrow=c(2,2))\n",
    "plot(ajuste)"
   ]
  },
  {
   "cell_type": "markdown",
   "metadata": {},
   "source": [
    "- [S0] El modelo es una buena representación de la realidad (tiene sentido)\n",
    "\n",
    "El día que exista una prueba de hipótesis que verifique este supuesto, todos todos los que hagamos estadística, nos quedaremos sin trabajo."
   ]
  },
  {
   "cell_type": "markdown",
   "metadata": {},
   "source": [
    "- [S1] $E(\\epsilon_t)=0$"
   ]
  },
  {
   "cell_type": "code",
   "execution_count": 5,
   "metadata": {},
   "outputs": [
    {
     "data": {
      "text/html": [
       "-2.75040407116123e-18"
      ],
      "text/latex": [
       "-2.75040407116123e-18"
      ],
      "text/markdown": [
       "-2.75040407116123e-18"
      ],
      "text/plain": [
       "[1] -2.750404e-18"
      ]
     },
     "metadata": {},
     "output_type": "display_data"
    }
   ],
   "source": [
    "residuos <- residuals(ajuste)\n",
    "mean(residuos)\n",
    "# residuos"
   ]
  },
  {
   "cell_type": "markdown",
   "metadata": {},
   "source": [
    "- [S2] $Cov(\\epsilon_t ,\\epsilon_s) = 0$ siempre que $i\\neq j$"
   ]
  },
  {
   "cell_type": "code",
   "execution_count": 6,
   "metadata": {},
   "outputs": [
    {
     "name": "stderr",
     "output_type": "stream",
     "text": [
      "Warning message:\n",
      "\"package 'lmtest' was built under R version 3.6.3\"Loading required package: zoo\n",
      "\n",
      "Attaching package: 'zoo'\n",
      "\n",
      "The following objects are masked from 'package:base':\n",
      "\n",
      "    as.Date, as.Date.numeric\n",
      "\n"
     ]
    },
    {
     "data": {
      "text/plain": [
       "\n",
       "\tDurbin-Watson test\n",
       "\n",
       "data:  ajuste\n",
       "DW = 2.0917, p-value = 0.7676\n",
       "alternative hypothesis: true autocorrelation is greater than 0\n"
      ]
     },
     "metadata": {},
     "output_type": "display_data"
    }
   ],
   "source": [
    "# install.packages(\"lmtest\")\n",
    "library(lmtest) # ver https://en.wikipedia.org/wiki/Durbin%E2%80%93Watson_statistic\n",
    "dwtest(ajuste) # H0: No hay autocorrelación en los errores"
   ]
  },
  {
   "cell_type": "markdown",
   "metadata": {},
   "source": [
    "- [S3] $Var(\\epsilon_t) =\\sigma_t^2 =\\sigma^2$ (Homoscedasticidad)"
   ]
  },
  {
   "cell_type": "code",
   "execution_count": 7,
   "metadata": {},
   "outputs": [
    {
     "data": {
      "text/plain": [
       "\n",
       "\tstudentized Breusch-Pagan test\n",
       "\n",
       "data:  ajuste\n",
       "BP = 0.016429, df = 1, p-value = 0.898\n"
      ]
     },
     "metadata": {},
     "output_type": "display_data"
    }
   ],
   "source": [
    "library(lmtest) #https://en.wikipedia.org/wiki/Breusch%E2%80%93Pagan_test\n",
    "bptest(ajuste) #H0: Homoscedasticidad"
   ]
  },
  {
   "cell_type": "markdown",
   "metadata": {},
   "source": [
    "- [S4] $x$ asume por lo menos dos valores"
   ]
  },
  {
   "cell_type": "markdown",
   "metadata": {},
   "source": [
    "Estadística Descriptiva"
   ]
  },
  {
   "cell_type": "code",
   "execution_count": 8,
   "metadata": {},
   "outputs": [
    {
     "data": {
      "image/png": "[encoded data removed]",
      "text/plain": [
       "Plot with title \"Histogram of x\""
      ]
     },
     "metadata": {},
     "output_type": "display_data"
    }
   ],
   "source": [
    "hist(x)"
   ]
  },
  {
   "cell_type": "markdown",
   "metadata": {},
   "source": [
    "- [S5] [opcional pero recomendado] $y_t \\sim N(\\mu_t, \\sigma^2)$"
   ]
  },
  {
   "cell_type": "code",
   "execution_count": 14,
   "metadata": {},
   "outputs": [
    {
     "name": "stderr",
     "output_type": "stream",
     "text": [
      "Warning message:\n",
      "\"package 'tseries' was built under R version 3.6.3\"Registered S3 method overwritten by 'xts':\n",
      "  method     from\n",
      "  as.zoo.xts zoo \n",
      "Registered S3 method overwritten by 'quantmod':\n",
      "  method            from\n",
      "  as.zoo.data.frame zoo \n"
     ]
    },
    {
     "data": {
      "text/plain": [
       "\n",
       "\tJarque Bera Test\n",
       "\n",
       "data:  residuos\n",
       "X-squared = 1.8088, df = 2, p-value = 0.4048\n"
      ]
     },
     "metadata": {},
     "output_type": "display_data"
    }
   ],
   "source": [
    "# install.packages(\"tseries\")\n",
    "library(tseries)#https://en.wikipedia.org/wiki/Jarque%E2%80%93Bera_test\n",
    "jarque.bera.test(residuos) #H0: Normalidad"
   ]
  },
  {
   "cell_type": "markdown",
   "metadata": {},
   "source": [
    "\n",
    "\n",
    "### Algunas Consideraciones <a class=\"anchor\" id=\"consideraciones\"></a>\n",
    "\n",
    "#### Paradoja de Simpson\n",
    "\n",
    "Lectura recomendada [aquí](https://magnet.xataka.com/en-diez-minutos/que-paradoja-simpson-que-va-a-ser-muy-util-para-entender-proximos-meses-pandemia)\n",
    "\n",
    "<img style=\"float: center;\" src=\"img/simpson.gif\" width=\"400\">\n",
    "\n",
    "#### Conjunto de datos de Anscombe\n",
    "\n",
    "Lectura recomendada [aquí](https://towardsdatascience.com/importance-of-data-visualization-anscombes-quartet-way-a325148b9fd2)\n",
    "\n",
    "<img style=\"float: center;\" src=\"img/anscombe.png\" width=\"800\">\n",
    "\n",
    "#### Estadísticas de Resumen\n",
    "\n",
    "<img style=\"float: center;\" src=\"img/ge.png\" width=\"600\">\n",
    "\n",
    "<img style=\"float: center;\" src=\"img/descriptivos.gif\" width=\"400\">\n",
    "\n",
    "<img style=\"float: center;\" src=\"img/descriptivos2.gif\" width=\"600\">"
   ]
  },
  {
   "cell_type": "markdown",
   "metadata": {},
   "source": [
    "### Ejemplo de Aplicación <a class=\"anchor\" id=\"resultados\"></a>\n",
    "\n",
    "En este caso, estableceremos una comprensión básica de las estadísticas necesarias para la regresión lineal y luego introduciremos la regresión lineal comenzando con 2 parámetros. Asuntos como la interpretación de los coeficientes y la comprensión de varias métricas para evaluar correctamente el rendimiento del modelo, serán presentados.\n",
    "\n",
    "Para este ejemplo de aplicación se escogió una base de datos que da cuenta de la distribución de pagos en una empresa ¿Hay discriminación por género? "
   ]
  },
  {
   "cell_type": "code",
   "execution_count": 9,
   "metadata": {},
   "outputs": [
    {
     "data": {
      "text/html": [
       "<table>\n",
       "<thead><tr><th scope=col>jobtitle</th><th scope=col>gender</th><th scope=col>age</th><th scope=col>performance</th><th scope=col>education</th><th scope=col>department</th><th scope=col>seniority</th><th scope=col>income</th><th scope=col>bonus</th></tr></thead>\n",
       "<tbody>\n",
       "\t<tr><td>Graphic Designer   </td><td>Female             </td><td>18                 </td><td>5                  </td><td>College            </td><td>Operations         </td><td>2                  </td><td> 42363             </td><td> 9938              </td></tr>\n",
       "\t<tr><td>Software Engineer  </td><td>Male               </td><td>21                 </td><td>5                  </td><td>College            </td><td>Management         </td><td>5                  </td><td>108476             </td><td>11128              </td></tr>\n",
       "\t<tr><td>Warehouse Associate</td><td>Female             </td><td>19                 </td><td>4                  </td><td>PhD                </td><td>Administration     </td><td>5                  </td><td> 90208             </td><td> 9268              </td></tr>\n",
       "\t<tr><td>Software Engineer  </td><td>Male               </td><td>20                 </td><td>5                  </td><td>Masters            </td><td>Sales              </td><td>4                  </td><td>108080             </td><td>10154              </td></tr>\n",
       "\t<tr><td>Graphic Designer   </td><td>Male               </td><td>26                 </td><td>5                  </td><td>Masters            </td><td>Engineering        </td><td>5                  </td><td> 99464             </td><td> 9319              </td></tr>\n",
       "\t<tr><td>IT                 </td><td>Female             </td><td>20                 </td><td>5                  </td><td>PhD                </td><td>Operations         </td><td>4                  </td><td> 70890             </td><td>10126              </td></tr>\n",
       "</tbody>\n",
       "</table>\n"
      ],
      "text/latex": [
       "\\begin{tabular}{r|lllllllll}\n",
       " jobtitle & gender & age & performance & education & department & seniority & income & bonus\\\\\n",
       "\\hline\n",
       "\t Graphic Designer    & Female              & 18                  & 5                   & College             & Operations          & 2                   &  42363              &  9938              \\\\\n",
       "\t Software Engineer   & Male                & 21                  & 5                   & College             & Management          & 5                   & 108476              & 11128              \\\\\n",
       "\t Warehouse Associate & Female              & 19                  & 4                   & PhD                 & Administration      & 5                   &  90208              &  9268              \\\\\n",
       "\t Software Engineer   & Male                & 20                  & 5                   & Masters             & Sales               & 4                   & 108080              & 10154              \\\\\n",
       "\t Graphic Designer    & Male                & 26                  & 5                   & Masters             & Engineering         & 5                   &  99464              &  9319              \\\\\n",
       "\t IT                  & Female              & 20                  & 5                   & PhD                 & Operations          & 4                   &  70890              & 10126              \\\\\n",
       "\\end{tabular}\n"
      ],
      "text/markdown": [
       "\n",
       "| jobtitle | gender | age | performance | education | department | seniority | income | bonus |\n",
       "|---|---|---|---|---|---|---|---|---|\n",
       "| Graphic Designer    | Female              | 18                  | 5                   | College             | Operations          | 2                   |  42363              |  9938               |\n",
       "| Software Engineer   | Male                | 21                  | 5                   | College             | Management          | 5                   | 108476              | 11128               |\n",
       "| Warehouse Associate | Female              | 19                  | 4                   | PhD                 | Administration      | 5                   |  90208              |  9268               |\n",
       "| Software Engineer   | Male                | 20                  | 5                   | Masters             | Sales               | 4                   | 108080              | 10154               |\n",
       "| Graphic Designer    | Male                | 26                  | 5                   | Masters             | Engineering         | 5                   |  99464              |  9319               |\n",
       "| IT                  | Female              | 20                  | 5                   | PhD                 | Operations          | 4                   |  70890              | 10126               |\n",
       "\n"
      ],
      "text/plain": [
       "  jobtitle            gender age performance education department     seniority\n",
       "1 Graphic Designer    Female 18  5           College   Operations     2        \n",
       "2 Software Engineer   Male   21  5           College   Management     5        \n",
       "3 Warehouse Associate Female 19  4           PhD       Administration 5        \n",
       "4 Software Engineer   Male   20  5           Masters   Sales          4        \n",
       "5 Graphic Designer    Male   26  5           Masters   Engineering    5        \n",
       "6 IT                  Female 20  5           PhD       Operations     4        \n",
       "  income bonus\n",
       "1  42363  9938\n",
       "2 108476 11128\n",
       "3  90208  9268\n",
       "4 108080 10154\n",
       "5  99464  9319\n",
       "6  70890 10126"
      ]
     },
     "metadata": {},
     "output_type": "display_data"
    }
   ],
   "source": [
    "base <- read.csv('glassdoordata.csv')\n",
    "head(base)"
   ]
  },
  {
   "cell_type": "markdown",
   "metadata": {},
   "source": [
    "Las variables son \n",
    "\n",
    "- **job title**: Título del trabajo (e.g. “Graphic Designer”, “Software Engineer”, etc);\n",
    "- **gender**: Hombre o mujer;\n",
    "- **age**: edad;\n",
    "- **performance**: en escala del 1 al 5, 1 siendo el más bajo y 5 siendo la más alta;\n",
    "- **education**: niveles de educación (e.g. \"College\", \"PhD\", \"Masters\", \"Highschool\");\n",
    "- **department**: diferentes departamentos  (e.g. \"Operations\", \"Management\", etc);\n",
    "- **seniority**: en escala del 1 al 5, 1 siendo el más bajo y 5 siendo la más alta;\n",
    "- **income, bonus**: Expresados en dólares\n",
    "\n",
    "Pequeña transformación (feature engineering)\n"
   ]
  },
  {
   "cell_type": "code",
   "execution_count": 10,
   "metadata": {
    "scrolled": true
   },
   "outputs": [
    {
     "data": {
      "text/html": [
       "<table>\n",
       "<thead><tr><th scope=col>jobtitle</th><th scope=col>gender</th><th scope=col>age</th><th scope=col>performance</th><th scope=col>education</th><th scope=col>department</th><th scope=col>seniority</th><th scope=col>income</th><th scope=col>bonus</th><th scope=col>pay</th></tr></thead>\n",
       "<tbody>\n",
       "\t<tr><td>Graphic Designer   </td><td>Female             </td><td>18                 </td><td>5                  </td><td>College            </td><td>Operations         </td><td>2                  </td><td> 42363             </td><td> 9938              </td><td> 52301             </td></tr>\n",
       "\t<tr><td>Software Engineer  </td><td>Male               </td><td>21                 </td><td>5                  </td><td>College            </td><td>Management         </td><td>5                  </td><td>108476             </td><td>11128              </td><td>119604             </td></tr>\n",
       "\t<tr><td>Warehouse Associate</td><td>Female             </td><td>19                 </td><td>4                  </td><td>PhD                </td><td>Administration     </td><td>5                  </td><td> 90208             </td><td> 9268              </td><td> 99476             </td></tr>\n",
       "\t<tr><td>Software Engineer  </td><td>Male               </td><td>20                 </td><td>5                  </td><td>Masters            </td><td>Sales              </td><td>4                  </td><td>108080             </td><td>10154              </td><td>118234             </td></tr>\n",
       "\t<tr><td>Graphic Designer   </td><td>Male               </td><td>26                 </td><td>5                  </td><td>Masters            </td><td>Engineering        </td><td>5                  </td><td> 99464             </td><td> 9319              </td><td>108783             </td></tr>\n",
       "\t<tr><td>IT                 </td><td>Female             </td><td>20                 </td><td>5                  </td><td>PhD                </td><td>Operations         </td><td>4                  </td><td> 70890             </td><td>10126              </td><td> 81016             </td></tr>\n",
       "\t<tr><td>Graphic Designer   </td><td>Female             </td><td>20                 </td><td>5                  </td><td>College            </td><td>Sales              </td><td>4                  </td><td> 67585             </td><td>10541              </td><td> 78126             </td></tr>\n",
       "\t<tr><td>Software Engineer  </td><td>Male               </td><td>18                 </td><td>4                  </td><td>PhD                </td><td>Engineering        </td><td>5                  </td><td> 97523             </td><td>10240              </td><td>107763             </td></tr>\n",
       "\t<tr><td>Graphic Designer   </td><td>Female             </td><td>33                 </td><td>5                  </td><td>High School        </td><td>Engineering        </td><td>5                  </td><td>112976             </td><td> 9836              </td><td>122812             </td></tr>\n",
       "\t<tr><td>Sales Associate    </td><td>Female             </td><td>35                 </td><td>5                  </td><td>College            </td><td>Engineering        </td><td>5                  </td><td>106524             </td><td> 9941              </td><td>116465             </td></tr>\n",
       "</tbody>\n",
       "</table>\n"
      ],
      "text/latex": [
       "\\begin{tabular}{r|llllllllll}\n",
       " jobtitle & gender & age & performance & education & department & seniority & income & bonus & pay\\\\\n",
       "\\hline\n",
       "\t Graphic Designer    & Female              & 18                  & 5                   & College             & Operations          & 2                   &  42363              &  9938               &  52301             \\\\\n",
       "\t Software Engineer   & Male                & 21                  & 5                   & College             & Management          & 5                   & 108476              & 11128               & 119604             \\\\\n",
       "\t Warehouse Associate & Female              & 19                  & 4                   & PhD                 & Administration      & 5                   &  90208              &  9268               &  99476             \\\\\n",
       "\t Software Engineer   & Male                & 20                  & 5                   & Masters             & Sales               & 4                   & 108080              & 10154               & 118234             \\\\\n",
       "\t Graphic Designer    & Male                & 26                  & 5                   & Masters             & Engineering         & 5                   &  99464              &  9319               & 108783             \\\\\n",
       "\t IT                  & Female              & 20                  & 5                   & PhD                 & Operations          & 4                   &  70890              & 10126               &  81016             \\\\\n",
       "\t Graphic Designer    & Female              & 20                  & 5                   & College             & Sales               & 4                   &  67585              & 10541               &  78126             \\\\\n",
       "\t Software Engineer   & Male                & 18                  & 4                   & PhD                 & Engineering         & 5                   &  97523              & 10240               & 107763             \\\\\n",
       "\t Graphic Designer    & Female              & 33                  & 5                   & High School         & Engineering         & 5                   & 112976              &  9836               & 122812             \\\\\n",
       "\t Sales Associate     & Female              & 35                  & 5                   & College             & Engineering         & 5                   & 106524              &  9941               & 116465             \\\\\n",
       "\\end{tabular}\n"
      ],
      "text/markdown": [
       "\n",
       "| jobtitle | gender | age | performance | education | department | seniority | income | bonus | pay |\n",
       "|---|---|---|---|---|---|---|---|---|---|\n",
       "| Graphic Designer    | Female              | 18                  | 5                   | College             | Operations          | 2                   |  42363              |  9938               |  52301              |\n",
       "| Software Engineer   | Male                | 21                  | 5                   | College             | Management          | 5                   | 108476              | 11128               | 119604              |\n",
       "| Warehouse Associate | Female              | 19                  | 4                   | PhD                 | Administration      | 5                   |  90208              |  9268               |  99476              |\n",
       "| Software Engineer   | Male                | 20                  | 5                   | Masters             | Sales               | 4                   | 108080              | 10154               | 118234              |\n",
       "| Graphic Designer    | Male                | 26                  | 5                   | Masters             | Engineering         | 5                   |  99464              |  9319               | 108783              |\n",
       "| IT                  | Female              | 20                  | 5                   | PhD                 | Operations          | 4                   |  70890              | 10126               |  81016              |\n",
       "| Graphic Designer    | Female              | 20                  | 5                   | College             | Sales               | 4                   |  67585              | 10541               |  78126              |\n",
       "| Software Engineer   | Male                | 18                  | 4                   | PhD                 | Engineering         | 5                   |  97523              | 10240               | 107763              |\n",
       "| Graphic Designer    | Female              | 33                  | 5                   | High School         | Engineering         | 5                   | 112976              |  9836               | 122812              |\n",
       "| Sales Associate     | Female              | 35                  | 5                   | College             | Engineering         | 5                   | 106524              |  9941               | 116465              |\n",
       "\n"
      ],
      "text/plain": [
       "   jobtitle            gender age performance education   department    \n",
       "1  Graphic Designer    Female 18  5           College     Operations    \n",
       "2  Software Engineer   Male   21  5           College     Management    \n",
       "3  Warehouse Associate Female 19  4           PhD         Administration\n",
       "4  Software Engineer   Male   20  5           Masters     Sales         \n",
       "5  Graphic Designer    Male   26  5           Masters     Engineering   \n",
       "6  IT                  Female 20  5           PhD         Operations    \n",
       "7  Graphic Designer    Female 20  5           College     Sales         \n",
       "8  Software Engineer   Male   18  4           PhD         Engineering   \n",
       "9  Graphic Designer    Female 33  5           High School Engineering   \n",
       "10 Sales Associate     Female 35  5           College     Engineering   \n",
       "   seniority income bonus pay   \n",
       "1  2          42363  9938  52301\n",
       "2  5         108476 11128 119604\n",
       "3  5          90208  9268  99476\n",
       "4  4         108080 10154 118234\n",
       "5  5          99464  9319 108783\n",
       "6  4          70890 10126  81016\n",
       "7  4          67585 10541  78126\n",
       "8  5          97523 10240 107763\n",
       "9  5         112976  9836 122812\n",
       "10 5         106524  9941 116465"
      ]
     },
     "metadata": {},
     "output_type": "display_data"
    }
   ],
   "source": [
    "base$pay <-  base$income + base$bonus\n",
    "head(base,10)"
   ]
  },
  {
   "cell_type": "code",
   "execution_count": 11,
   "metadata": {},
   "outputs": [
    {
     "data": {
      "text/plain": [
       "                jobtitle      gender         age         performance   \n",
       " Marketing Associate:118   Female:468   Min.   :18.00   Min.   :1.000  \n",
       " Software Engineer  :109   Male  :532   1st Qu.:29.00   1st Qu.:2.000  \n",
       " Data Scientist     :107                Median :41.00   Median :3.000  \n",
       " Financial Analyst  :107                Mean   :41.39   Mean   :3.037  \n",
       " Graphic Designer   : 98                3rd Qu.:54.25   3rd Qu.:4.000  \n",
       " IT                 : 96                Max.   :65.00   Max.   :5.000  \n",
       " (Other)            :365                                               \n",
       "       education            department    seniority         income      \n",
       " College    :241   Administration:193   Min.   :1.000   Min.   : 34208  \n",
       " High School:265   Engineering   :192   1st Qu.:2.000   1st Qu.: 76850  \n",
       " Masters    :256   Management    :198   Median :3.000   Median : 93328  \n",
       " PhD        :238   Operations    :210   Mean   :2.971   Mean   : 94473  \n",
       "                   Sales         :207   3rd Qu.:4.000   3rd Qu.:111558  \n",
       "                                        Max.   :5.000   Max.   :179726  \n",
       "                                                                        \n",
       "     bonus            pay        \n",
       " Min.   : 1703   Min.   : 40828  \n",
       " 1st Qu.: 4850   1st Qu.: 83443  \n",
       " Median : 6507   Median :100047  \n",
       " Mean   : 6467   Mean   :100940  \n",
       " 3rd Qu.: 8026   3rd Qu.:117656  \n",
       " Max.   :11293   Max.   :184010  \n",
       "                                 "
      ]
     },
     "metadata": {},
     "output_type": "display_data"
    }
   ],
   "source": [
    "summary(base)"
   ]
  },
  {
   "cell_type": "markdown",
   "metadata": {},
   "source": [
    "### Ejercicio 1\n",
    "Construya un boxplot comparando los salarios entre hombres y mujeres"
   ]
  },
  {
   "cell_type": "markdown",
   "metadata": {},
   "source": [
    "**Respuesta**."
   ]
  },
  {
   "cell_type": "code",
   "execution_count": 13,
   "metadata": {},
   "outputs": [
    {
     "data": {
      "image/png": "[encoded data removed]",
      "text/plain": [
       "plot without title"
      ]
     },
     "metadata": {},
     "output_type": "display_data"
    }
   ],
   "source": [
    "# install.packages(\"ggplot2\")\n",
    "library(ggplot2)\n",
    "options(repr.plot.width=4, repr.plot.height=4)\n",
    "ggplot(base, aes(x=gender, y=pay, col=gender))+geom_boxplot()"
   ]
  },
  {
   "cell_type": "markdown",
   "metadata": {},
   "source": [
    "### Ejercicio 2\n",
    "Establezca por medio de una prueba t-studente si hay diferencia significativa entre los grupos"
   ]
  },
  {
   "cell_type": "markdown",
   "metadata": {},
   "source": [
    "**Respuesta**."
   ]
  },
  {
   "cell_type": "code",
   "execution_count": 14,
   "metadata": {},
   "outputs": [
    {
     "name": "stderr",
     "output_type": "stream",
     "text": [
      "Registered S3 method overwritten by 'rvest':\n",
      "  method            from\n",
      "  read_xml.response xml2\n",
      "-- Attaching packages --------------------------------------- tidyverse 1.2.1 --\n",
      "v tibble  3.0.6     v purrr   0.3.2\n",
      "v tidyr   1.1.2     v dplyr   1.0.4\n",
      "v readr   1.3.1     v stringr 1.4.0\n",
      "v tibble  3.0.6     v forcats 0.4.0\n",
      "Warning message:\n",
      "\"package 'tibble' was built under R version 3.6.3\"Warning message:\n",
      "\"package 'tidyr' was built under R version 3.6.3\"Warning message:\n",
      "\"package 'dplyr' was built under R version 3.6.3\"-- Conflicts ------------------------------------------ tidyverse_conflicts() --\n",
      "x dplyr::filter() masks stats::filter()\n",
      "x dplyr::lag()    masks stats::lag()\n"
     ]
    },
    {
     "data": {
      "text/plain": [
       "\n",
       "\tWelch Two Sample t-test\n",
       "\n",
       "data:  x and y\n",
       "t = 5.4232, df = 991.2, p-value = 7.354e-08\n",
       "alternative hypothesis: true difference in means is not equal to 0\n",
       "95 percent confidence interval:\n",
       "  5425.519 11578.176\n",
       "sample estimates:\n",
       "mean of x mean of y \n",
       "104918.68  96416.83 \n"
      ]
     },
     "metadata": {},
     "output_type": "display_data"
    }
   ],
   "source": [
    "library(tidyverse)\n",
    "x <- base %>% filter(gender == 'Male') %>% select(pay)\n",
    "y <- base %>% filter(gender == 'Female') %>% select(pay)\n",
    "t.test(x,y,alternative =\"two.sided\")"
   ]
  },
  {
   "cell_type": "markdown",
   "metadata": {},
   "source": [
    "### Ejercicio 3\n",
    "Construya un boxplot de pay, con respecto a las siguientes variables: seniority, education, jobtitle and performance. También realice un scatterplot de pay vs. age. Algo que llame su atención?"
   ]
  },
  {
   "cell_type": "markdown",
   "metadata": {},
   "source": [
    "**Respuesta**."
   ]
  },
  {
   "cell_type": "code",
   "execution_count": 15,
   "metadata": {},
   "outputs": [
    {
     "name": "stderr",
     "output_type": "stream",
     "text": [
      "Warning message:\n",
      "\"package 'gridExtra' was built under R version 3.6.3\"\n",
      "Attaching package: 'gridExtra'\n",
      "\n",
      "The following object is masked from 'package:dplyr':\n",
      "\n",
      "    combine\n",
      "\n"
     ]
    },
    {
     "data": {
      "image/png": "[encoded data removed]",
      "text/plain": [
       "plot without title"
      ]
     },
     "metadata": {},
     "output_type": "display_data"
    }
   ],
   "source": [
    "library(gridExtra)\n",
    "options(repr.plot.width=8, repr.plot.height=8)\n",
    "fig1 <- ggplot(base, aes(x=factor(seniority), y=pay))+geom_boxplot()\n",
    "fig2 <- ggplot(base, aes(x=factor(education), y=pay))+geom_boxplot()\n",
    "fig3 <- ggplot(base, aes(x=factor(jobtitle), y=pay))+geom_boxplot()+theme(axis.text.x = element_text(angle = 30, vjust = 0.5, hjust=1))\n",
    "fig4 <- ggplot(base, aes(x=factor(performance), y=pay))+geom_boxplot()\n",
    "grid.arrange(fig1,fig2,fig3,fig4, ncol=2, nrow=2)"
   ]
  },
  {
   "cell_type": "code",
   "execution_count": 17,
   "metadata": {},
   "outputs": [
    {
     "data": {
      "image/png": "[encoded data removed]",
      "text/plain": [
       "plot without title"
      ]
     },
     "metadata": {},
     "output_type": "display_data"
    }
   ],
   "source": [
    "options(repr.plot.width=4, repr.plot.height=4)\n",
    "ggplot(base, aes(x=age, y=pay))+geom_point()"
   ]
  },
  {
   "cell_type": "markdown",
   "metadata": {},
   "source": [
    "### Ejercicio 4\n",
    "Construya las mismas figuras del punto anterior pero esta vez mediado por género"
   ]
  },
  {
   "cell_type": "markdown",
   "metadata": {},
   "source": [
    "**Respuesta**."
   ]
  },
  {
   "cell_type": "code",
   "execution_count": 18,
   "metadata": {},
   "outputs": [
    {
     "data": {
      "image/png": "[encoded data removed]",
      "text/plain": [
       "plot without title"
      ]
     },
     "metadata": {},
     "output_type": "display_data"
    }
   ],
   "source": [
    "library(gridExtra)\n",
    "options(repr.plot.width=8, repr.plot.height=8)\n",
    "fig1 <- ggplot(base, aes(x=factor(seniority), y=pay, col=gender))+geom_boxplot()\n",
    "fig2 <- ggplot(base, aes(x=factor(education), y=pay, col=gender))+geom_boxplot()\n",
    "fig3 <- ggplot(base, aes(x=factor(jobtitle), y=pay, col=gender))+geom_boxplot()+theme(axis.text.x = element_text(angle = 30, vjust = 0.5, hjust=1))\n",
    "fig4 <- ggplot(base, aes(x=factor(performance), y=pay, col=gender))+geom_boxplot()\n",
    "grid.arrange(fig1,fig2,fig3,fig4, ncol=2, nrow=2)"
   ]
  },
  {
   "cell_type": "markdown",
   "metadata": {},
   "source": [
    "### Ejercicio 5\n",
    "Construya un modelo de regresión lineal entre las variables pay y age"
   ]
  },
  {
   "cell_type": "markdown",
   "metadata": {},
   "source": [
    "**Respuesta**."
   ]
  },
  {
   "cell_type": "code",
   "execution_count": 19,
   "metadata": {},
   "outputs": [
    {
     "data": {
      "text/plain": [
       "\n",
       "Call:\n",
       "lm(formula = pay ~ age, data = base)\n",
       "\n",
       "Residuals:\n",
       "   Min     1Q Median     3Q    Max \n",
       "-56541 -14584   -160  14440  67488 \n",
       "\n",
       "Coefficients:\n",
       "            Estimate Std. Error t value Pr(>|t|)    \n",
       "(Intercept) 62061.43    2062.88   30.09   <2e-16 ***\n",
       "age           939.25      47.11   19.94   <2e-16 ***\n",
       "---\n",
       "Signif. codes:  0 '***' 0.001 '**' 0.01 '*' 0.05 '.' 0.1 ' ' 1\n",
       "\n",
       "Residual standard error: 21280 on 998 degrees of freedom\n",
       "Multiple R-squared:  0.2849,\tAdjusted R-squared:  0.2841 \n",
       "F-statistic: 397.5 on 1 and 998 DF,  p-value: < 2.2e-16\n"
      ]
     },
     "metadata": {},
     "output_type": "display_data"
    },
    {
     "data": {
      "image/png": "[encoded data removed]",
      "text/plain": [
       "plot without title"
      ]
     },
     "metadata": {},
     "output_type": "display_data"
    }
   ],
   "source": [
    "ajuste <- lm(pay~age, data=base)\n",
    "options(repr.plot.width=4, repr.plot.height=4)\n",
    "ggplot(base, aes(x=age, y=pay))+stat_smooth(method=\"lm\", se=FALSE)+geom_point()\n",
    "summary(ajuste)"
   ]
  },
  {
   "cell_type": "markdown",
   "metadata": {},
   "source": [
    "### Ejercicio 5\n",
    "Valide los supuestos del modelo anterior. "
   ]
  },
  {
   "cell_type": "markdown",
   "metadata": {},
   "source": [
    "**Respuesta**"
   ]
  },
  {
   "cell_type": "code",
   "execution_count": 20,
   "metadata": {},
   "outputs": [
    {
     "data": {
      "image/png": "[encoded data removed]",
      "text/plain": [
       "Plot with title \"\""
      ]
     },
     "metadata": {},
     "output_type": "display_data"
    }
   ],
   "source": [
    "options(repr.plot.width=5, repr.plot.height=5)\n",
    "par(mfrow=c(2,2))\n",
    "plot(ajuste)"
   ]
  },
  {
   "cell_type": "code",
   "execution_count": 21,
   "metadata": {},
   "outputs": [
    {
     "data": {
      "text/html": [
       "-9.6520125225652e-14"
      ],
      "text/latex": [
       "-9.6520125225652e-14"
      ],
      "text/markdown": [
       "-9.6520125225652e-14"
      ],
      "text/plain": [
       "[1] -9.652013e-14"
      ]
     },
     "metadata": {},
     "output_type": "display_data"
    }
   ],
   "source": [
    "residuales <- residuals(ajuste)\n",
    "mean(residuales)"
   ]
  },
  {
   "cell_type": "code",
   "execution_count": 22,
   "metadata": {},
   "outputs": [
    {
     "data": {
      "text/plain": [
       "\n",
       "\tDurbin-Watson test\n",
       "\n",
       "data:  ajuste\n",
       "DW = 1.9049, p-value = 0.06525\n",
       "alternative hypothesis: true autocorrelation is greater than 0\n"
      ]
     },
     "metadata": {},
     "output_type": "display_data"
    }
   ],
   "source": [
    "dwtest(ajuste) #H0: No hay autocorrelación en los errores"
   ]
  },
  {
   "cell_type": "code",
   "execution_count": 23,
   "metadata": {},
   "outputs": [
    {
     "data": {
      "text/plain": [
       "\n",
       "\tstudentized Breusch-Pagan test\n",
       "\n",
       "data:  ajuste\n",
       "BP = 0.43933, df = 1, p-value = 0.5074\n"
      ]
     },
     "metadata": {},
     "output_type": "display_data"
    }
   ],
   "source": [
    "bptest(ajuste) #H0: Homoscedasticidad"
   ]
  },
  {
   "cell_type": "code",
   "execution_count": 25,
   "metadata": {},
   "outputs": [
    {
     "name": "stderr",
     "output_type": "stream",
     "text": [
      "Warning message:\n",
      "\"package 'tseries' was built under R version 3.6.3\"Registered S3 method overwritten by 'xts':\n",
      "  method     from\n",
      "  as.zoo.xts zoo \n",
      "Registered S3 method overwritten by 'quantmod':\n",
      "  method            from\n",
      "  as.zoo.data.frame zoo \n"
     ]
    },
    {
     "data": {
      "text/plain": [
       "\n",
       "\tJarque Bera Test\n",
       "\n",
       "data:  residuos\n",
       "X-squared = 1.8088, df = 2, p-value = 0.4048\n"
      ]
     },
     "metadata": {},
     "output_type": "display_data"
    }
   ],
   "source": [
    "library(tseries)\n",
    "jarque.bera.test(residuos) #H0: Normalidad"
   ]
  },
  {
   "cell_type": "markdown",
   "metadata": {},
   "source": [
    "### Ejercicio 6\n",
    "Conclusiones del caso. ¿En efecto, hay evidencia que sugiera discriminación por género? "
   ]
  },
  {
   "cell_type": "markdown",
   "metadata": {},
   "source": [
    "**Respuesta**."
   ]
  },
  {
   "cell_type": "markdown",
   "metadata": {},
   "source": [
    "Utilizando las herramientas que tenemos a mano, parece sensato pensar en un modelo de regresión para resolver esta pregunta. Por tanto, ajustemos uno. "
   ]
  },
  {
   "cell_type": "code",
   "execution_count": 26,
   "metadata": {},
   "outputs": [
    {
     "data": {
      "text/plain": [
       "\n",
       "Call:\n",
       "lm(formula = pay ~ gender, data = base)\n",
       "\n",
       "Residuals:\n",
       "   Min     1Q Median     3Q    Max \n",
       "-63889 -16432    182  16471  79091 \n",
       "\n",
       "Coefficients:\n",
       "            Estimate Std. Error t value Pr(>|t|)    \n",
       "(Intercept)    96417       1147  84.077   <2e-16 ***\n",
       "genderMale      8502       1572   5.407    8e-08 ***\n",
       "---\n",
       "Signif. codes:  0 '***' 0.001 '**' 0.01 '*' 0.05 '.' 0.1 ' ' 1\n",
       "\n",
       "Residual standard error: 24810 on 998 degrees of freedom\n",
       "Multiple R-squared:  0.02847,\tAdjusted R-squared:  0.02749 \n",
       "F-statistic: 29.24 on 1 and 998 DF,  p-value: 8e-08\n"
      ]
     },
     "metadata": {},
     "output_type": "display_data"
    }
   ],
   "source": [
    "ajuste_final <- lm(pay~gender, data=base)\n",
    "summary(ajuste_final)"
   ]
  },
  {
   "cell_type": "markdown",
   "metadata": {},
   "source": [
    "La validación del modelo es una **TAREA** que recomiendo enormemente. Este modelo da la sensación que la respuesta a la pregunta \"Hay algún tipo de discriminación por género\" es sí. Sin embargo, en la clase 5, retomaremos este caso y lo estudiaremos con más detalle. "
   ]
  },
  {
   "cell_type": "code",
   "execution_count": 27,
   "metadata": {},
   "outputs": [
    {
     "data": {
      "text/html": [
       "22788.0861677579"
      ],
      "text/latex": [
       "22788.0861677579"
      ],
      "text/markdown": [
       "22788.0861677579"
      ],
      "text/plain": [
       "[1] 22788.09"
      ]
     },
     "metadata": {},
     "output_type": "display_data"
    }
   ],
   "source": [
    "BIC(ajuste)"
   ]
  },
  {
   "cell_type": "code",
   "execution_count": 28,
   "metadata": {},
   "outputs": [
    {
     "data": {
      "text/html": [
       "23094.4727146582"
      ],
      "text/latex": [
       "23094.4727146582"
      ],
      "text/markdown": [
       "23094.4727146582"
      ],
      "text/plain": [
       "[1] 23094.47"
      ]
     },
     "metadata": {},
     "output_type": "display_data"
    }
   ],
   "source": [
    "BIC(ajuste_final)"
   ]
  }
 ],
 "metadata": {
  "kernelspec": {
   "display_name": "R",
   "language": "R",
   "name": "ir"
  },
  "language_info": {
   "codemirror_mode": "r",
   "file_extension": ".r",
   "mimetype": "text/x-r-source",
   "name": "R",
   "pygments_lexer": "r",
   "version": "3.6.1"
  }
 },
 "nbformat": 4,
 "nbformat_minor": 4
}
