{
 "cells": [
  {
   "cell_type": "markdown",
   "metadata": {},
   "source": [
    "<img style=\"float: right;\" src=\"img/logo.png\" width=\"500\">\n",
    "\n",
    "\n",
    "# Análisis de Regresión (2021-3)\n",
    "## Especialización en Estadística Aplicada\n",
    "#### Prof. [Sébastien Lozano Forero](https://www.linkedin.com/in/sebastienlozanoforero/) (slozanof@libertadores.edu.co)\n",
    "\n",
    "## <font color='red'> Ejemplos de Modelos Lineales Múltiple </font>\n",
    "\n",
    "### Tabla de contenidos\n",
    "\n",
    "* [Ejemplo 1](#ej1)\n",
    "* [Ejemplo 2](#ej2)\n",
    "* [Ejemplo 3](#ej3)"
   ]
  },
  {
   "cell_type": "markdown",
   "metadata": {},
   "source": [
    "### Ejemplo 1 <a class=\"anchor\" id=\"ej1\"></a>"
   ]
  },
  {
   "cell_type": "markdown",
   "metadata": {},
   "source": [
    "La base de datos `marketing` se encuentra alojada en el paquete `datarium`. Dicho paquete no se encuentra en la distribución estándar de R (es decir, no está disponible en el CRAI), pero sí está disponible en GitHub. La misma es una base que contiene información sobre ventas basados en gastos en publicidad\n",
    "\n",
    "- **youtube**: Inversión en publicidad en Youtube\n",
    "- **facebook**: Inversión en publicidad en Facebook\n",
    "- **newspaper**: Inversión en publicidad en periódicos\n",
    "- **sales**: Total de ventas"
   ]
  },
  {
   "cell_type": "code",
   "execution_count": null,
   "metadata": {},
   "outputs": [],
   "source": [
    "# install.packages(\"devtools\")\n",
    "library(usethis)\n",
    "library(devtools)\n",
    "# devtools::install_github(\"kassambara/datarium\")\n",
    "data(\"marketing\", package = \"datarium\")\n",
    "head(marketing, 4)"
   ]
  },
  {
   "cell_type": "code",
   "execution_count": null,
   "metadata": {},
   "outputs": [],
   "source": [
    "modelo <- lm(sales ~ youtube + facebook + newspaper, data = marketing)\n",
    "summary(modelo)"
   ]
  },
  {
   "cell_type": "code",
   "execution_count": null,
   "metadata": {},
   "outputs": [],
   "source": [
    "summary(modelo)$coefficient"
   ]
  },
  {
   "cell_type": "code",
   "execution_count": null,
   "metadata": {},
   "outputs": [],
   "source": [
    "modelo2  <- lm(sales ~ youtube + facebook, data = marketing)\n",
    "summary(modelo2)"
   ]
  },
  {
   "cell_type": "markdown",
   "metadata": {},
   "source": [
    "### Ejemplo 2 <a class=\"anchor\" id=\"ej2\"></a>"
   ]
  },
  {
   "cell_type": "markdown",
   "metadata": {},
   "source": [
    "El salario académico de nueve meses de 2008-09 para profesores asistentes, profesores asociados y profesores en una universidad en EE.UU. Los datos se recopilaron como parte del esfuerzo continuo de la administración de la universidad para monitorear las diferencias salariales entre los miembros de la facultad, independiente de género.\n",
    "\n",
    "- **rank (I1)**:  factor con niveles AssocProf, AsstProf, Prof\n",
    "- **discipline (I2)**: factor con niveles A (Departamento “Teórico”) o B (Departamento \"Aplicado\").\n",
    "- **yrs.since.phd (I3)**: Años desde el fin del PhD.\n",
    "- **yrs.service (I4)**: Años de servicio.\n",
    "- **sex (I5)**: Género\n",
    "- **salary (D)**: Salario del noveno mes (dólares)"
   ]
  },
  {
   "cell_type": "code",
   "execution_count": null,
   "metadata": {},
   "outputs": [],
   "source": [
    "library(tidyverse)  # data loading, manipulation and plotting\n",
    "library(carData)    # Salary dataset\n",
    "library(broom)      # tidy model output"
   ]
  },
  {
   "cell_type": "markdown",
   "metadata": {},
   "source": [
    "Visión detallada y general del estado de la base de datos"
   ]
  },
  {
   "cell_type": "code",
   "execution_count": null,
   "metadata": {},
   "outputs": [],
   "source": [
    "glimpse(Salaries)"
   ]
  },
  {
   "cell_type": "code",
   "execution_count": null,
   "metadata": {},
   "outputs": [],
   "source": [
    "ggplot(Salaries, aes(x = sex, y = salary, color = sex)) +\n",
    "    geom_boxplot()+\n",
    "    geom_point(size = 2, position = position_jitter(width = 0.2)) +\n",
    "    stat_summary(fun.y = mean, geom = \"point\", shape = 20, size = 6, color = \"blue\")+\n",
    "    theme_classic() +\n",
    "    facet_grid(.~rank)"
   ]
  },
  {
   "cell_type": "markdown",
   "metadata": {},
   "source": [
    "Antes de procesar el análisis detallado, ajustemos primero un modelo de regresión lineal simple en el que predecimos el salario en función de la categoría de género. Para verificar los niveles actuales de sexo, podemos usar la función `levels()` y proporcionar el nombre de la columna. Por defecto, R trata el primer nivel como nivel de referencia (aquí femenino)."
   ]
  },
  {
   "cell_type": "code",
   "execution_count": null,
   "metadata": {},
   "outputs": [],
   "source": [
    "levels(Salaries$sex)"
   ]
  },
  {
   "cell_type": "markdown",
   "metadata": {},
   "source": [
    "Vamos a crear el modelo saturado (con todas las variables). Usualmente no es el mejor enfoque, pero da una idea general de la relación entre las variables "
   ]
  },
  {
   "cell_type": "code",
   "execution_count": null,
   "metadata": {},
   "outputs": [],
   "source": [
    "lm_total <- lm(salary~., data = Salaries)\n",
    "summary(lm_total)"
   ]
  },
  {
   "cell_type": "markdown",
   "metadata": {},
   "source": [
    "Para escapar del problema de la multicolinealidad (correlación entre variables independientes) y para filtrar las variables / características esenciales de un gran conjunto de variables, generalmente se realiza una regresión escalonada. El lenguaje R ofrece forward, backwards y ambos tipos de regresión paso a paso (stepwise). Se puede ajustar una regresión por pasos hacia atrás utilizando la función `step()` proporcionando el objeto del modelo inicial y el argumento de dirección. El proceso comienza con el ajuste inicial de todas las variables y luego, con cada iteración, comienza a eliminar las variables una a una si la variable no mejora el ajuste del modelo. La métrica AIC se utiliza para comprobar la mejora del ajuste del modelo."
   ]
  },
  {
   "cell_type": "code",
   "execution_count": null,
   "metadata": {
    "scrolled": true
   },
   "outputs": [],
   "source": [
    "step(lm_total, direction = \"forward\")"
   ]
  },
  {
   "cell_type": "markdown",
   "metadata": {},
   "source": [
    "Aquí, puede ver que eliminando la variable sexo del modelo, apenas provoca alguna mejora en el valor de AIC. Ahora, ajustando el modelo recomendado"
   ]
  },
  {
   "cell_type": "code",
   "execution_count": null,
   "metadata": {},
   "outputs": [],
   "source": [
    "lm_step_backward <- lm(formula = salary ~ rank + discipline + yrs.since.phd + yrs.service, \n",
    "                       data = Salaries)\n",
    "summary(lm_step_backward)"
   ]
  },
  {
   "cell_type": "markdown",
   "metadata": {},
   "source": [
    "Por lo tanto, podemos probar una hipótesis de cuánto aumenta o disminuye el salario promedio para quienes tienen años de servicio de 20 a 40 años y de 40 a 60 años en comparación con los de 0 a 20 años (referencia). Para ese propósito, necesitamos crear tres categorías 0-20, 20-40, 40-60 años donde agrupamos la variable continua, es decir, los valores de años de servicio.. Discretización de la variable `Salaries`"
   ]
  },
  {
   "cell_type": "code",
   "execution_count": null,
   "metadata": {},
   "outputs": [],
   "source": [
    "Salaries_mod <- Salaries %>% \n",
    "    mutate(service_time_cat = case_when(\n",
    "        between(yrs.service, 0, 20)~\"upto20\",\n",
    "        between(yrs.service, 20, 40)~\"20_40\",\n",
    "        between(yrs.service, 40, 60)~\"40_60\"))"
   ]
  },
  {
   "cell_type": "markdown",
   "metadata": {},
   "source": [
    "El siguiente paso es convertir la nueva variable en categórica. Ahora bien, si revisamos los niveles podemos observar que los niveles no están en el orden correcto."
   ]
  },
  {
   "cell_type": "code",
   "execution_count": null,
   "metadata": {
    "scrolled": true
   },
   "outputs": [],
   "source": [
    "Salaries_mod$service_time_cat <- as.factor(Salaries_mod$service_time_cat)\n",
    "levels(Salaries_mod$service_time_cat)"
   ]
  },
  {
   "cell_type": "markdown",
   "metadata": {},
   "source": [
    "Por tanto, se deberán organizar. "
   ]
  },
  {
   "cell_type": "code",
   "execution_count": null,
   "metadata": {},
   "outputs": [],
   "source": [
    "Salaries_mod$service_time_cat <- relevel(Salaries_mod$service_time_cat, ref = \"upto20\")\n",
    "levels(Salaries_mod$service_time_cat)"
   ]
  },
  {
   "cell_type": "markdown",
   "metadata": {},
   "source": [
    "Conteos generales del cruce de variables "
   ]
  },
  {
   "cell_type": "code",
   "execution_count": null,
   "metadata": {},
   "outputs": [],
   "source": [
    "table(Salaries_mod$service_time_cat)"
   ]
  },
  {
   "cell_type": "code",
   "execution_count": null,
   "metadata": {},
   "outputs": [],
   "source": [
    "lm4 <- lm(formula = salary ~ rank + discipline + yrs.since.phd + sex + service_time_cat, data = Salaries_mod)\n",
    "summary(lm4)"
   ]
  },
  {
   "cell_type": "markdown",
   "metadata": {},
   "source": [
    "La tabla de coeficientes del modelo mostró que a medida que aumenta el tiempo de servicio, el salario disminuye (coeficientes negativos) en comparación con los 0-20 años de servicio. En comparación con la categoría de años de servicio de 0 a 20 años, una persona que tiene entre 20 y 40 años de servicio recibe en promedio 8905,1 $\\$$ menos de salario, de manera similar, una persona que tiene entre 40 y 60 años de servicio gana 16710,4 $\\$$ menos de salario."
   ]
  },
  {
   "cell_type": "markdown",
   "metadata": {},
   "source": [
    "Para el ajuste del modelo final "
   ]
  },
  {
   "cell_type": "code",
   "execution_count": null,
   "metadata": {},
   "outputs": [],
   "source": [
    "step(lm4, direction = \"backward\")"
   ]
  },
  {
   "cell_type": "code",
   "execution_count": null,
   "metadata": {},
   "outputs": [],
   "source": [
    "lm5 <- lm(formula = salary ~ rank + discipline + yrs.since.phd + service_time_cat, \n",
    "           data = Salaries_mod)\n",
    "summary(lm5)"
   ]
  },
  {
   "cell_type": "markdown",
   "metadata": {},
   "source": [
    "### Ejemplo 3 (OMS: Tendencias y Análisis del sucidio a nivel mundial) <a class=\"anchor\" id=\"ej3\"></a>"
   ]
  },
  {
   "cell_type": "markdown",
   "metadata": {},
   "source": [
    "La mayoría de los datos utilizados en este análisis se obtuvieron de la Organización Mundial de la Salud.\n",
    "\n",
    "Notas de limpieza de datos\n",
    "\n",
    "- 7 países eliminados (<= 3 años de datos en total)\n",
    "- Se eliminaron los datos de 2016 (pocos países tenían alguno, a los que sí les faltaban datos a menudo)\n",
    "- Se eliminó el HDI debido a que faltaban 2/3 datos\n",
    "- El continente se agregó al conjunto de datos mediante el paquete de código de país\n",
    "- África tiene muy pocos países que proporcionan datos sobre suicidios\n"
   ]
  },
  {
   "cell_type": "markdown",
   "metadata": {},
   "source": [
    "## 1. Datos"
   ]
  },
  {
   "cell_type": "code",
   "execution_count": null,
   "metadata": {},
   "outputs": [],
   "source": [
    "install.packages(\"rworldmap\")\n",
    "\n",
    "library(tidyverse) # general\n",
    "library(ggalt) # dumbbell plots\n",
    "library(countrycode) # continent\n",
    "library(rworldmap) # quick country-level heat maps\n",
    "library(gridExtra) # plots\n",
    "library(broom) # significant trends within countries\n",
    "\n",
    "theme_set(theme_light())\n",
    "\n",
    "\n",
    "# 1) Import & data cleaning\n",
    "\n",
    "data <- read_csv(\"master.csv\") \n",
    "\n",
    "# glimpse(data) # will tidy up these variable names\n",
    "\n",
    "# sum(is.na(data$`HDI for year`)) # remove, > 2/3 missing, not useable\n",
    "\n",
    "# table(data$age, data$generation) # don't like this variable\n",
    "\n",
    "data <- data %>% \n",
    "  select(-c(`HDI for year`, `suicides/100k pop`)) %>%\n",
    "  rename(gdp_for_year = `gdp_for_year ($)`, \n",
    "         gdp_per_capita = `gdp_per_capita ($)`, \n",
    "         country_year = `country-year`) %>%\n",
    "  as.data.frame()\n",
    "\n",
    "\n",
    "\n",
    "# 2) OTHER ISSUES\n",
    "\n",
    "# a) this SHOULD give 12 rows for every county-year combination (6 age bands * 2 genders):\n",
    "\n",
    "# data %>% \n",
    "#   group_by(country_year) %>%\n",
    "#   count() %>%\n",
    "#   filter(n != 12) # note: there appears to be an issue with 2016 data\n",
    "# not only are there few countries with data, but those that do have data are incomplete\n",
    "\n",
    "data <- data %>%\n",
    "  filter(year != 2016) %>% # I therefore exclude 2016 data\n",
    "  select(-country_year)\n",
    "\n",
    "\n",
    "# b) excluding countries with <= 3 years of data:\n",
    "\n",
    "minimum_years <- data %>%\n",
    "  group_by(country) %>%\n",
    "  summarize(rows = n(), \n",
    "            years = rows / 12) %>%\n",
    "  arrange(years)\n",
    "\n",
    "data <- data %>%\n",
    "  filter(!(country %in% head(minimum_years$country, 7)))\n",
    "\n",
    "\n",
    "# no other major data issues found yet\n",
    "\n",
    "\n",
    "\n",
    "# 3) TIDYING DATAFRAME\n",
    "data$age <- gsub(\" years\", \"\", data$age)\n",
    "data$sex <- ifelse(data$sex == \"male\", \"Male\", \"Female\")\n",
    "\n",
    "\n",
    "# getting continent data:\n",
    "data$continent <- countrycode(sourcevar = data[, \"country\"],\n",
    "                              origin = \"country.name\",\n",
    "                              destination = \"continent\")\n",
    "\n",
    "# Nominal factors\n",
    "data_nominal <- c('country', 'sex', 'continent')\n",
    "data[data_nominal] <- lapply(data[data_nominal], function(x){factor(x)})\n",
    "\n",
    "\n",
    "# Making age ordinal\n",
    "data$age <- factor(data$age, \n",
    "                   ordered = T, \n",
    "                   levels = c(\"5-14\",\n",
    "                              \"15-24\", \n",
    "                              \"25-34\", \n",
    "                              \"35-54\", \n",
    "                              \"55-74\", \n",
    "                              \"75+\"))\n",
    "\n",
    "# Making generation ordinal\n",
    "data$generation <- factor(data$generation, \n",
    "                   ordered = T, \n",
    "                   levels = c(\"G.I. Generation\", \n",
    "                              \"Silent\",\n",
    "                              \"Boomers\", \n",
    "                              \"Generation X\", \n",
    "                              \"Millenials\", \n",
    "                              \"Generation Z\"))\n",
    "\n",
    "data <- as_tibble(data)\n",
    "\n",
    "\n",
    "# the global rate over the time period will be useful:\n",
    "\n",
    "global_average <- (sum(as.numeric(data$suicides_no)) / sum(as.numeric(data$population))) * 100000\n",
    "\n",
    "# view the finalized data\n",
    "glimpse(data)"
   ]
  },
  {
   "cell_type": "markdown",
   "metadata": {},
   "source": [
    "## 2. Análisis Global"
   ]
  },
  {
   "cell_type": "markdown",
   "metadata": {},
   "source": [
    "### 2.1 Análisis General "
   ]
  },
  {
   "cell_type": "code",
   "execution_count": null,
   "metadata": {},
   "outputs": [],
   "source": [
    "data %>%\n",
    "  group_by(year) %>%\n",
    "  summarize(population = sum(population), \n",
    "            suicides = sum(suicides_no), \n",
    "            suicides_per_100k = (suicides / population) * 100000) %>%\n",
    "  ggplot(aes(x = year, y = suicides_per_100k)) + \n",
    "  geom_line(col = \"deepskyblue3\", size = 1) + \n",
    "  geom_point(col = \"deepskyblue3\", size = 2) + \n",
    "  geom_hline(yintercept = global_average, linetype = 2, color = \"grey35\", size = 1) +\n",
    "  labs(title = \"Suicidios globales (por 100k)\",\n",
    "       subtitle = \"Tendencia en el tiempo, 1985 - 2015.\",\n",
    "       x = \"Año\", \n",
    "       y = \"Suicidios por 100k\") + \n",
    "  scale_x_continuous(breaks = seq(1985, 2015, 2)) + \n",
    "  scale_y_continuous(breaks = seq(10, 20))"
   ]
  },
  {
   "cell_type": "markdown",
   "metadata": {},
   "source": [
    "Algunos hechos que destacan:\n",
    "\n",
    "- La tasa máxima de suicidios fue de 15,3 muertes por cada 100.000 en 1995\n",
    "- Disminuyó de manera constante, a 11.5 por 100k en 2015 (~ 25% de disminución)\n",
    "- Las tarifas solo ahora están volviendo a las tarifas anteriores a los 90\n",
    "- Datos limitados en la década de 1980, por lo que es difícil decir si la tasa era realmente representativa de la población mundial."
   ]
  },
  {
   "cell_type": "markdown",
   "metadata": {},
   "source": [
    "### 2.2 Por continente "
   ]
  },
  {
   "cell_type": "code",
   "execution_count": null,
   "metadata": {},
   "outputs": [],
   "source": [
    "continent <- data %>%\n",
    "  group_by(continent) %>%\n",
    "  summarize(suicide_per_100k = (sum(as.numeric(suicides_no)) / sum(as.numeric(population))) * 100000) %>%\n",
    "  arrange(suicide_per_100k)\n",
    "\n",
    "continent$continent <- factor(continent$continent, ordered = T, levels = continent$continent)\n",
    "\n",
    "continent_plot <- ggplot(continent, aes(x = continent, y = suicide_per_100k, fill = continent)) + \n",
    "  geom_bar(stat = \"identity\") + \n",
    "  labs(title = \"Suicidios globales (por 100k), por Continente\",\n",
    "  x = \"Continente\", \n",
    "  y = \"Suicidios por 100k\", \n",
    "  fill = \"Continente\") +\n",
    "  theme(legend.position = \"none\", title = element_text(size = 10)) + \n",
    "  scale_y_continuous(breaks = seq(0, 20, 1), minor_breaks = F)\n",
    "\n",
    "\n",
    "continent_time <- data %>%\n",
    "  group_by(year, continent) %>%\n",
    "  summarize(suicide_per_100k = (sum(as.numeric(suicides_no)) / sum(as.numeric(population))) * 100000)\n",
    "\n",
    "continent_time$continent <- factor(continent_time$continent, ordered = T, levels = continent$continent)\n",
    "\n",
    "continent_time_plot <- ggplot(continent_time, aes(x = year, y = suicide_per_100k, col = factor(continent))) + \n",
    "  facet_grid(continent ~ ., scales = \"free_y\") + \n",
    "  geom_line() + \n",
    "  geom_point() + \n",
    "  labs(title = \"Tendencia en el tiempo, por continente\", \n",
    "       x = \"Año\", \n",
    "       y = \"Suicidios por 100k\", \n",
    "       color = \"Continente\") + \n",
    "  theme(legend.position = \"none\", title = element_text(size = 10)) + \n",
    "  scale_x_continuous(breaks = seq(1985, 2015, 5), minor_breaks = F)\n",
    "\n",
    "grid.arrange(continent_plot, continent_time_plot, ncol = 2)"
   ]
  },
  {
   "cell_type": "markdown",
   "metadata": {},
   "source": [
    "Algunos hechos que destacan\n",
    "\n",
    "- Tasa europea más alta en general, pero ha disminuido constantemente ~ 40% desde 1995\n",
    "- La tasa europea para 2015 similar a Asia y Oceanía\n",
    "- La línea de tendencia para África se debe a la mala calidad de los datos: solo 3 países han proporcionado datos\n",
    "- Las tendencias de Oceanía y América son más preocupantes"
   ]
  },
  {
   "cell_type": "markdown",
   "metadata": {},
   "source": [
    "### 2.3 Por sexo "
   ]
  },
  {
   "cell_type": "code",
   "execution_count": null,
   "metadata": {},
   "outputs": [],
   "source": [
    "sex_plot <- data %>%\n",
    "  group_by(sex) %>%\n",
    "  summarize(suicide_per_100k = (sum(as.numeric(suicides_no)) / sum(as.numeric(population))) * 100000) %>%\n",
    "ggplot(aes(x = sex, y = suicide_per_100k, fill = sex)) + \n",
    "  geom_bar(stat = \"identity\") + \n",
    "  labs(title = \"Global suicides (per 100k), by Sex\",\n",
    "       x = \"Sex\", \n",
    "       y = \"Suicides per 100k\") +\n",
    "  theme(legend.position = \"none\") + \n",
    "  scale_y_continuous(breaks = seq(0, 25), minor_breaks = F)\n",
    "\n",
    "### with time\n",
    "sex_time_plot <- data %>%\n",
    "  group_by(year, sex) %>%\n",
    "  summarize(suicide_per_100k = (sum(as.numeric(suicides_no)) / sum(as.numeric(population))) * 100000) %>%\n",
    "  ggplot(aes(x = year, y = suicide_per_100k, col = factor(sex))) + \n",
    "  facet_grid(sex ~ ., scales = \"free_y\") + \n",
    "  geom_line() + \n",
    "  geom_point() + \n",
    "  labs(title = \"Trends Over Time, by Sex\", \n",
    "       x = \"Year\", \n",
    "       y = \"Suicides per 100k\", \n",
    "       color = \"Sex\") + \n",
    "  theme(legend.position = \"none\") + \n",
    "  scale_x_continuous(breaks = seq(1985, 2015, 5), minor_breaks = F)\n",
    "\n",
    "grid.arrange(sex_plot, sex_time_plot, ncol = 2)"
   ]
  },
  {
   "cell_type": "markdown",
   "metadata": {},
   "source": [
    "Algunos hechos que destacan:\n",
    "\n",
    "- A nivel mundial, la tasa de suicidio de los hombres ha sido ~ 3,5 veces mayor para los hombres\n",
    "- Las tasas de suicidio de hombres y mujeres alcanzaron su punto máximo en 1995, disminuyendo desde\n",
    "- Esta proporción de 3,5: 1 (hombre: mujer) se ha mantenido relativamente constante desde mediados de los 90\n",
    "- Sin embargo, durante los años 80, esta proporción era tan baja como 2,7: 1 (hombre: mujer)"
   ]
  },
  {
   "cell_type": "markdown",
   "metadata": {},
   "source": [
    "### 2.4 Por edad"
   ]
  },
  {
   "cell_type": "code",
   "execution_count": null,
   "metadata": {},
   "outputs": [],
   "source": [
    "age_plot <- data %>%\n",
    "  group_by(age) %>%\n",
    "  summarize(suicide_per_100k = (sum(as.numeric(suicides_no)) / sum(as.numeric(population))) * 100000) %>%\n",
    "  ggplot(aes(x = age, y = suicide_per_100k, fill = age)) + \n",
    "  geom_bar(stat = \"identity\") + \n",
    "  labs(title = \"Global suicides per 100k, by Age\",\n",
    "       x = \"Age\", \n",
    "       y = \"Suicides per 100k\") +\n",
    "  theme(legend.position = \"none\") + \n",
    "  scale_y_continuous(breaks = seq(0, 30, 1), minor_breaks = F)\n",
    "\n",
    "### with time\n",
    "age_time_plot <- data %>%\n",
    "  group_by(year, age) %>%\n",
    "  summarize(suicide_per_100k = (sum(as.numeric(suicides_no)) / sum(as.numeric(population))) * 100000) %>%\n",
    "  ggplot(aes(x = year, y = suicide_per_100k, col = age)) + \n",
    "  facet_grid(age ~ ., scales = \"free_y\") + \n",
    "  geom_line() + \n",
    "  geom_point() + \n",
    "  labs(title = \"Trends Over Time, by Age\", \n",
    "       x = \"Year\", \n",
    "       y = \"Suicides per 100k\", \n",
    "       color = \"Age\") + \n",
    "  theme(legend.position = \"none\") + \n",
    "  scale_x_continuous(breaks = seq(1985, 2015, 5), minor_breaks = F)\n",
    "\n",
    "\n",
    "grid.arrange(age_plot, age_time_plot, ncol = 2)"
   ]
  },
  {
   "cell_type": "markdown",
   "metadata": {},
   "source": [
    "Algunos hechos que destacan: \n",
    "\n",
    "- A nivel mundial, la probabilidad de suicidio aumenta con la edad\n",
    "- Desde 1995, la tasa de suicidio para todas las personas mayores de 15 años ha ido disminuyendo linealmente\n",
    "- La tasa de suicidios de las personas mayores de 75 años se ha reducido en más del 50% desde 1990\n",
    "- La tasa de suicidios en la categoría \"5-14\" permanece prácticamente estática y pequeña (<1 por 100.000 por año)"
   ]
  },
  {
   "cell_type": "markdown",
   "metadata": {},
   "source": [
    "### 2.5 Por País \n",
    "#### 2.5.1 General "
   ]
  },
  {
   "cell_type": "code",
   "execution_count": null,
   "metadata": {},
   "outputs": [],
   "source": [
    "country <- data %>%\n",
    "  group_by(country, continent) %>%\n",
    "  summarize(n = n(), \n",
    "            suicide_per_100k = (sum(as.numeric(suicides_no)) / sum(as.numeric(population))) * 100000) %>%\n",
    "  arrange(desc(suicide_per_100k))\n",
    "\n",
    "country$country <- factor(country$country, \n",
    "                          ordered = T, \n",
    "                          levels = rev(country$country))\n",
    "\n",
    "ggplot(country, aes(x = country, y = suicide_per_100k, fill = continent)) + \n",
    "  geom_bar(stat = \"identity\") + \n",
    "  geom_hline(yintercept = global_average, linetype = 2, color = \"grey35\", size = 1) +\n",
    "  labs(title = \"Global suicides per 100k, by Country\",\n",
    "       x = \"Country\", \n",
    "       y = \"Suicides per 100k\", \n",
    "       fill = \"Continent\") +\n",
    "  coord_flip() +\n",
    "  scale_y_continuous(breaks = seq(0, 45, 2)) + \n",
    "  theme(legend.position = \"bottom\")"
   ]
  },
  {
   "cell_type": "markdown",
   "metadata": {},
   "source": [
    "Algunos hechos que destacan:\n",
    "\n",
    "- La tasa de Lituania ha sido la más alta por un amplio margen:> 41 suicidios por cada 100.000 (por año)\n",
    "- Destacan países europeos con tasas altas, pocos con tasas bajas"
   ]
  },
  {
   "cell_type": "markdown",
   "metadata": {},
   "source": [
    "Es importante tener en cuenta que, por estos motivos, es posible que mirar las cifras a nivel mundial / continental no sea realmente representativo del mundo / continente.\n",
    "\n",
    "La comparación de las tasas brutas de suicidio de los países también puede dar lugar a algunos problemas: la definición de suicidio (y la fiabilidad de que una muerte se registra como suicidio) probablemente variará entre países.\n",
    "\n",
    "Sin embargo, es probable que las tendencias a lo largo del tiempo (dentro de los países) sean confiables. "
   ]
  },
  {
   "cell_type": "markdown",
   "metadata": {},
   "source": [
    "#### 2.5.2 Paises con tendencia "
   ]
  },
  {
   "cell_type": "markdown",
   "metadata": {},
   "source": [
    "Interesa saber cómo está cambiando la tasa de suicidios con el tiempo en cada país. En lugar de visualizar las tasas de los 93 países a lo largo del tiempo, ajusto una regresión lineal simple a los datos de cada país, se extraen aquellos con un $p-$valor de \"año\" (corregido para comparaciones múltiples) de <0.05.\n",
    "\n",
    "En otras palabras: a medida que pasa el tiempo, se buscan países donde la tasa de suicidios aumenta o disminuye linealmente con el tiempo. Estos pueden ordenarse por rango por su coeficiente de \"año\", que sería su tasa de cambio a medida que pasa el tiempo."
   ]
  },
  {
   "cell_type": "code",
   "execution_count": null,
   "metadata": {},
   "outputs": [],
   "source": [
    "country_year <- data %>%\n",
    "  group_by(country, year) %>%\n",
    "  summarize(suicides = sum(suicides_no), \n",
    "            population = sum(population), \n",
    "            suicide_per_100k = (suicides / population) * 100000, \n",
    "            gdp_per_capita = mean(gdp_per_capita))\n",
    "\n",
    "\n",
    "country_year_trends <- country_year %>%\n",
    "  ungroup() %>%\n",
    "  nest(-country) %>% # format: country, rest of data (in list column)\n",
    "  mutate(model = map(data, ~ lm(suicide_per_100k ~ year, data = .)), # for each item in 'data', fit a linear model\n",
    "         tidied = map(model, tidy)) %>% # tidy each of these into dataframe format - call this list 'tidied'\n",
    "  unnest(tidied)\n",
    "\n",
    "country_year_sig_trends <- country_year_trends %>%\n",
    "  filter(term == \"year\") %>%\n",
    "  mutate(p.adjusted = p.adjust(p.value, method = \"holm\")) %>%\n",
    "  filter(p.adjusted < .05) %>%\n",
    "  arrange(estimate)\n",
    "\n",
    "country_year_sig_trends$country <- factor(country_year_sig_trends$country, \n",
    "                                          ordered = T, \n",
    "                                          levels = country_year_sig_trends$country)"
   ]
  },
  {
   "cell_type": "code",
   "execution_count": null,
   "metadata": {},
   "outputs": [],
   "source": [
    "# plot 1\n",
    "ggplot(country_year_sig_trends, aes(x=country, y=estimate, col = estimate)) + \n",
    "  geom_point(stat='identity', size = 4) +\n",
    "  geom_hline(yintercept = 0, col = \"grey\", size = 1) +\n",
    "  scale_color_gradient(low = \"green\", high = \"red\") +\n",
    "  geom_segment(aes(y = 0, \n",
    "                   x = country, \n",
    "                   yend = estimate, \n",
    "                   xend = country), size = 1) +\n",
    "  labs(title=\"Change per year (Suicides per 100k)\", \n",
    "       subtitle=\"Of countries with significant trends (p < 0.05)\", \n",
    "       x = \"Country\", y = \"Change Per Year (Suicides per 100k)\") +\n",
    "  scale_y_continuous(breaks = seq(-2, 2, 0.2), limits = c(-1.5, 1.5)) +\n",
    "  theme(legend.position = \"none\") +\n",
    "  coord_flip()"
   ]
  },
  {
   "cell_type": "markdown",
   "metadata": {},
   "source": [
    "Algunos hechos que destacan\n",
    "\n",
    "- ~ 1/2 de todos los países, las tasas de suicidio están cambiando linealmente a medida que pasa el tiempo\n",
    "- 32 (2/3) de estos 48 países están disminuyendo\n",
    "- En general, esto es una imagen positiva."
   ]
  },
  {
   "cell_type": "code",
   "execution_count": null,
   "metadata": {},
   "outputs": [],
   "source": [
    "### Lets look at those countries with the steepest increasing trends\n",
    "\n",
    "top12_increasing <- tail(country_year_sig_trends$country, 12)\n",
    "\n",
    "country_year %>%\n",
    "  filter(country %in% top12_increasing) %>%\n",
    "  ggplot(aes(x = year, y = suicide_per_100k, col = country)) + \n",
    "  geom_point() + \n",
    "  geom_smooth(method = \"lm\") + \n",
    "  facet_wrap(~ country) + \n",
    "  theme(legend.position = \"none\") + \n",
    "  labs(title=\"12 Steepest Increasing Trends\", \n",
    "       subtitle=\"Of countries with significant trends (p < 0.05)\", \n",
    "       x = \"Year\", \n",
    "       y = \"Suicides per 100k\")"
   ]
  },
  {
   "cell_type": "markdown",
   "metadata": {},
   "source": [
    "Algunos hechos que destacan\n",
    "\n",
    "- Corea del Sur muestra la tendencia más preocupante: un aumento en el suicidio de 0,931 personas (por cada 100 mil, por año), el aumento más pronunciado a nivel mundial\n",
    "- Guyana es similar, con + 0.925 personas (por 100k, por año)\n",
    "- Entre 1998 y 1999 (5,3 a 24,8), la tasa de Guyana aumentó en ~ 365%\n",
    "- Los datos históricos de Guyana parecen cuestionables: es conocido por tasas de suicidio muy altas, pero el salto parece poco probable (¿tal vez cambió la forma en que clasificaron el suicidio?)"
   ]
  },
  {
   "cell_type": "code",
   "execution_count": null,
   "metadata": {},
   "outputs": [],
   "source": [
    "### Now those with the steepest decreasing trend\n",
    "\n",
    "top12_decreasing <- head(country_year_sig_trends$country, 12)\n",
    "\n",
    "country_year %>%\n",
    "  filter(country %in% top12_decreasing) %>%\n",
    "  ggplot(aes(x = year, y = suicide_per_100k, col = country)) + \n",
    "  geom_point() + \n",
    "  geom_smooth(method = \"lm\") + \n",
    "  facet_wrap(~ country) + \n",
    "  theme(legend.position = \"none\") + \n",
    "  labs(title=\"12 Steepest Decreasing Trends\", \n",
    "       subtitle=\"Of countries with significant trends (p < 0.05)\", \n",
    "       x = \"Year\", \n",
    "       y = \"Suicides per 100k\")"
   ]
  },
  {
   "cell_type": "markdown",
   "metadata": {},
   "source": [
    "Algunos hechos que destacan:\n",
    "\n",
    "- Estonia muestra la tendencia más positiva: cada año, aproximadamente 1,31 personas menos (por cada 100.000) se suicidan, la disminución más pronunciada a nivel mundial\n",
    "- Entre 1995 y 2015, esto se reduce de 43,8 a 15,7 por 100.000 (por año), una disminución del 64%.\n",
    "- La tendencia de la Federación de Rusia es interesante, que recién comenzó a descender en 2002. Desde entonces ha disminuido en aproximadamente un 50%."
   ]
  },
  {
   "cell_type": "markdown",
   "metadata": {},
   "source": [
    "### 2.6 Diferencias de género por continente"
   ]
  },
  {
   "cell_type": "code",
   "execution_count": null,
   "metadata": {
    "scrolled": true
   },
   "outputs": [],
   "source": [
    "data %>%\n",
    "  group_by(continent, sex) %>%\n",
    "  summarize(n = n(), \n",
    "            suicides = sum(as.numeric(suicides_no)), \n",
    "            population = sum(as.numeric(population)), \n",
    "            suicide_per_100k = (suicides / population) * 100000) %>%\n",
    "  ggplot(aes(x = continent, y = suicide_per_100k, fill = sex)) + \n",
    "  geom_bar(stat = \"identity\", position = \"dodge\") + \n",
    "  geom_hline(yintercept = global_average, linetype = 2, color = \"grey35\", size = 1) +\n",
    "  labs(title = \"Gender Disparity, by Continent\",\n",
    "   x = \"Continent\", \n",
    "   y = \"Suicides per 100k\", \n",
    "   fill = \"Sex\") +\n",
    "  coord_flip()"
   ]
  },
  {
   "cell_type": "markdown",
   "metadata": {},
   "source": [
    "Algunos hechos que destacan \n",
    "\n",
    "- Los hombres europeos tuvieron el mayor riesgo entre 1985 y 2015, con ~ 30 suicidios (por cada 100.000, por año)\n",
    "- Asia tuvo la sobrerrepresentación más pequeña de suicidios masculinos: la tasa fue ~ 2.5 veces más alta para los hombres\n",
    "- Comparativamente, la tasa de Europa fue ~ 3,9 veces más alta para los hombres"
   ]
  },
  {
   "cell_type": "markdown",
   "metadata": {},
   "source": [
    "### 2.7 Diferencias de género por país"
   ]
  },
  {
   "cell_type": "code",
   "execution_count": null,
   "metadata": {},
   "outputs": [],
   "source": [
    "country_long <- data %>%\n",
    "  group_by(country, continent) %>%\n",
    "  summarize(suicide_per_100k = (sum(as.numeric(suicides_no)) / sum(as.numeric(population))) * 100000) %>%\n",
    "  mutate(sex = \"OVERALL\")\n",
    "\n",
    "### by country, continent, sex\n",
    "\n",
    "sex_country_long <- data %>%\n",
    "  group_by(country, continent, sex) %>%\n",
    "  summarize(suicide_per_100k = (sum(as.numeric(suicides_no)) / sum(as.numeric(population))) * 100000)\n",
    "\n",
    "\n",
    "sex_country_wide <- sex_country_long %>%\n",
    "  spread(sex, suicide_per_100k) %>%\n",
    "  arrange(Male - Female)\n",
    "\n",
    "\n",
    "sex_country_wide$country <- factor(sex_country_wide$country, \n",
    "                                         ordered = T, \n",
    "                                         levels = sex_country_wide$country)\n",
    "\n",
    "sex_country_long$country <- factor(sex_country_long$country, \n",
    "                                   ordered = T, \n",
    "                                   levels = sex_country_wide$country) # using the same order\n",
    "\n",
    "\n",
    "\n",
    "### this graph shows us how the disparity between deaths varies across gender for every country\n",
    "# it also has the overall blended death rate - generally countries with a higher death rate have a higher disparity\n",
    "# this is because, if suicide is more likely in a country, the disparity between men and women is amplified\n",
    "\n",
    "ggplot(sex_country_wide, aes(y = country, color = sex)) + \n",
    "  geom_dumbbell(aes(x=Female, xend=Male), color = \"grey\", size = 1) + \n",
    "  geom_point(data = sex_country_long, aes(x = suicide_per_100k), size = 3) +\n",
    "  geom_point(data = country_long, aes(x = suicide_per_100k)) + \n",
    "  geom_vline(xintercept = global_average, linetype = 2, color = \"grey35\", size = 1) +\n",
    "  theme(axis.text.y = element_text(size = 8), \n",
    "        legend.position = c(0.85, 0.2)) + \n",
    "  scale_x_continuous(breaks = seq(0, 80, 10)) +\n",
    "  labs(title = \"Gender Disparity, by Continent & Country\", \n",
    "       subtitle = \"Ordered by difference in deaths per 100k.\", \n",
    "       x = \"Suicides per 100k\", \n",
    "       y = \"Country\", \n",
    "       color = \"Sex\")"
   ]
  },
  {
   "cell_type": "markdown",
   "metadata": {},
   "source": [
    "Algunos hechos que destacan:\n",
    "\n",
    "- La sobrerrepresentación de hombres en las muertes por suicidio parece ser universal y se puede observar en diferentes grados en cada país.\n",
    "- Mientras que las mujeres tienen más probabilidades de sufrir depresión y pensamientos suicidas, los hombres tienen más probabilidades de morir por suicidio.\n",
    "- Esto se conoce como la paradoja de género en la conducta suicida."
   ]
  },
  {
   "cell_type": "markdown",
   "metadata": {},
   "source": [
    "### 2.8 Diferencias de edad por continente"
   ]
  },
  {
   "cell_type": "code",
   "execution_count": null,
   "metadata": {},
   "outputs": [],
   "source": [
    "data %>%\n",
    "  group_by(continent, age) %>%\n",
    "  summarize(n = n(), \n",
    "            suicides = sum(as.numeric(suicides_no)), \n",
    "            population = sum(as.numeric(population)), \n",
    "            suicide_per_100k = (suicides / population) * 100000) %>%\n",
    "  ggplot(aes(x = continent, y = suicide_per_100k, fill = age)) + \n",
    "  geom_bar(stat = \"identity\", position = \"dodge\") + \n",
    "  geom_hline(yintercept = global_average, linetype = 2, color = \"grey35\", size = 1) +\n",
    "  labs(title = \"Age Disparity, by Continent\",\n",
    "       x = \"Continent\", \n",
    "       y = \"Suicides per 100k\", \n",
    "       fill = \"Age\")"
   ]
  },
  {
   "cell_type": "markdown",
   "metadata": {},
   "source": [
    "Algunos hechos que destacan: \n",
    "\n",
    "- Para las Américas, Asia y Europa (que constituyen la mayor parte del conjunto de datos), la tasa de suicidio aumenta con la edad\n",
    "- Las tasas de Oceanía y África son más altas para las personas de 25 a 34 años"
   ]
  },
  {
   "cell_type": "markdown",
   "metadata": {},
   "source": [
    "### 2.9 Cuándo el país se hace más rico, ¿qué pasa con la tasa de suicidio? "
   ]
  },
  {
   "cell_type": "markdown",
   "metadata": {},
   "source": [
    "**Depende del país**: para casi todos los países, existe una alta correlación entre el año y el pib per cápita, es decir, a medida que pasa el tiempo, el pib per cápita aumenta linealmente.\n",
    "\n",
    "Al calcular las correlaciones de Pearson entre \"año\" y \"PIB per cápita\" dentro de cada país, se obtienen los resultados:\n",
    "\n",
    "La correlación media fue 0,878, lo que indica una relación lineal positiva muy fuerte.\n",
    "\n",
    "Básicamente, esto significa que mirar dentro de un país y preguntar \"¿un aumento en el clima (por persona) tiene un efecto en la tasa de suicidio\" es bastante similar a preguntar \"la tasa de suicidio de un país aumenta a medida que pasa el tiempo?\".\n",
    "\n",
    "Esto fue se resolvió antes, **¡depende del país!**. Algunos países aumentan con el tiempo, la mayoría disminuye.\n",
    "\n",
    "Una pregunta ligeramente diferente a continuación."
   ]
  },
  {
   "cell_type": "markdown",
   "metadata": {},
   "source": [
    "### 2.10 ¿Países ricos tienen tasas de suicidio más altas? "
   ]
  },
  {
   "cell_type": "markdown",
   "metadata": {},
   "source": [
    "En lugar de mirar las tendencias dentro de los países, se toma cada país y se calcula su PIB medio (per cápita) a lo largo de todos los años en los que hay datos disponibles. Luego se mide cómo esto se relaciona con la tasa de suicidios del país durante todos esos años.\n",
    "\n",
    "El resultado final es un punto de datos por país, destinado a dar una idea general de la riqueza de un país y su tasa de suicidios."
   ]
  },
  {
   "cell_type": "code",
   "execution_count": null,
   "metadata": {},
   "outputs": [],
   "source": [
    "country_mean_gdp <- data %>%\n",
    "  group_by(country, continent) %>%\n",
    "  summarize(suicide_per_100k = (sum(as.numeric(suicides_no)) / sum(as.numeric(population))) * 100000, \n",
    "            gdp_per_capita = mean(gdp_per_capita))\n",
    "\n",
    "ggplot(country_mean_gdp, aes(x = gdp_per_capita, y = suicide_per_100k, col = continent)) + \n",
    "  geom_point() + \n",
    "  scale_x_continuous(labels=scales::dollar_format(prefix=\"$\"), breaks = seq(0, 70000, 10000)) + \n",
    "  labs(title = \"Correlation between GDP (per capita) and Suicides per 100k\", \n",
    "       subtitle = \"Plot containing every country\",\n",
    "       x = \"GDP (per capita)\", \n",
    "       y = \"Suicides per 100k\", \n",
    "       col = \"Continent\") "
   ]
  },
  {
   "cell_type": "markdown",
   "metadata": {},
   "source": [
    "Hay bastantes países de alto leverage y residuales que podrían tener un impacto significativo en el ajuste de la línea de regresión (por ejemplo, Lituania, arriba a la izquierda). Se identificarán usando Distancia de Cook, excluyendo aquellos países con un valor de CooksD superior a $4/n$.\n",
    "\n",
    "Se evalúan las estadísticas de este modelo (con los valores atípicos eliminados) a continuación."
   ]
  },
  {
   "cell_type": "code",
   "execution_count": null,
   "metadata": {},
   "outputs": [],
   "source": [
    "model1 <- lm(suicide_per_100k ~ gdp_per_capita, data = country_mean_gdp)\n",
    "\n",
    "gdp_suicide_no_outliers <- model1 %>%\n",
    "  augment() %>%\n",
    "  arrange(desc(.cooksd)) %>%\n",
    "  filter(.cooksd < 4/nrow(.)) %>% # removes 5/93 countries\n",
    "  inner_join(country_mean_gdp, by = c(\"suicide_per_100k\", \"gdp_per_capita\")) %>%\n",
    "  select(country, continent, gdp_per_capita, suicide_per_100k)\n",
    "\n",
    "model2 <- lm(suicide_per_100k ~ gdp_per_capita, data = gdp_suicide_no_outliers)\n",
    "\n",
    "summary(model2)"
   ]
  },
  {
   "cell_type": "markdown",
   "metadata": {},
   "source": [
    "El valor p del modelo es 0.0288 <0.05. Esto significa que podemos rechazar la hipótesis de que el PIB de un país (per cápita) no tiene asociación con su tasa de suicidio (por 100 mil).\n",
    "\n",
    "El R-cuadrado es 0.0544, por lo que el PIB (per cápita) explica muy poco de la variación en la tasa de suicidios en general.\n",
    "\n",
    "¿Qué significa todo esto?\n",
    "\n",
    "Existe una relación lineal positiva débil pero significativa: los países más ricos están asociados con tasas más altas de suicidio, pero esta es una relación débil que se puede ver en el gráfico siguiente."
   ]
  },
  {
   "cell_type": "code",
   "execution_count": null,
   "metadata": {},
   "outputs": [],
   "source": [
    "ggplot(gdp_suicide_no_outliers, aes(x = gdp_per_capita, y = suicide_per_100k, col = continent)) + \n",
    "  geom_point() + \n",
    "  geom_smooth(method = \"lm\", aes(group = 1)) + \n",
    "  scale_x_continuous(labels=scales::dollar_format(prefix=\"$\"), breaks = seq(0, 70000, 10000)) + \n",
    "  labs(title = \"Correlation between GDP (per capita) and Suicides per 100k\", \n",
    "       subtitle = \"Plot with high CooksD countries removed (5/93 total)\",\n",
    "       x = \"GDP (per capita)\", \n",
    "       y = \"Suicides per 100k\", \n",
    "       col = \"Continent\") + \n",
    "  theme(legend.position = \"none\")"
   ]
  },
  {
   "cell_type": "markdown",
   "metadata": {},
   "source": [
    "El modelo que se ajusta es el siguiente\n",
    "\n",
    "Suicides = Suicidios por 100k habitantes\n",
    "GDP = PIB per capita (en miles de USD)\n",
    "\n",
    "$$Suicides=8.7718+0.1115∗GDP$$\n",
    "\n",
    "Esto significa que, a nivel de país y durante el período de tiempo de este análisis (1985-2015), un aumento del PIB (per cápita) de $ 8,967 se asoció con 1 suicidio adicional, por cada 100.000 personas, por año."
   ]
  },
  {
   "cell_type": "markdown",
   "metadata": {},
   "source": [
    "### 3. Comparando el Reino Unido, Irlanda, Estados Unidos, Francia y Dinamarca"
   ]
  },
  {
   "cell_type": "markdown",
   "metadata": {},
   "source": [
    "Creo que sería útil comparar algunos países que la gente podría pensar que son similares al Reino Unido (cultural, legal y económicamente)."
   ]
  },
  {
   "cell_type": "markdown",
   "metadata": {},
   "source": [
    "#### 3.1. Tendencia General"
   ]
  },
  {
   "cell_type": "code",
   "execution_count": null,
   "metadata": {
    "scrolled": true
   },
   "outputs": [],
   "source": [
    "data_filtered <- data %>%\n",
    "  filter(country %in% c(\"United Kingdom\", \n",
    "                        \"Ireland\",\n",
    "                        \"United States\", \n",
    "                        \"France\", \n",
    "                        \"Denmark\")) \n",
    "\n",
    "\n",
    "data_filtered %>%\n",
    "  group_by(country, year) %>%\n",
    "  summarize(suicide_per_100k = (sum(as.numeric(suicides_no)) / sum(as.numeric(population))) * 100000) %>%\n",
    "  ggplot(aes(x = year, y = suicide_per_100k, col = country)) + \n",
    "  geom_point(alpha = 0.5) + \n",
    "  geom_smooth(se = F, span = 0.2) + \n",
    "  scale_x_continuous(breaks = seq(1985, 2015, 5), minor_breaks = F) + \n",
    "  labs(title = \"UK, Ireland, US, France & Denmark\", \n",
    "       subtitle = \"Suicides per 100k population, 1985 - 2015\", \n",
    "       x = \"Year\", \n",
    "       y = \"Suicides per 100k\", \n",
    "       col = \"Country\")"
   ]
  },
  {
   "cell_type": "markdown",
   "metadata": {},
   "source": [
    "Algunos hechos que destacan\n",
    "\n",
    "- La tasa de suicidios del Reino Unido ha sido consistentemente más baja desde 1990, y se ha mantenido bastante estática desde ~ 1995\n",
    "- Francia ha tenido históricamente la tasa más alta, pero ahora es aproximadamente igual a Estados Unidos\n",
    "- Estados Unidos tiene la tendencia más preocupante, aumentando linealmente en ~ 1/3 desde 2000"
   ]
  },
  {
   "cell_type": "markdown",
   "metadata": {},
   "source": [
    "#### 3.2. Por sexo"
   ]
  },
  {
   "cell_type": "code",
   "execution_count": null,
   "metadata": {},
   "outputs": [],
   "source": [
    "data_filtered %>%\n",
    "  group_by(country, sex, year) %>%\n",
    "  summarize(suicide_per_100k = (sum(as.numeric(suicides_no)) / sum(as.numeric(population))) * 100000) %>%\n",
    "  ggplot(aes(x = year, y = suicide_per_100k, col = country)) + \n",
    "  geom_point(alpha = 0.5) + \n",
    "  geom_smooth(se = F, span = 0.2) + \n",
    "  scale_x_continuous(breaks = seq(1985, 2015, 5), minor_breaks = F) + \n",
    "  facet_wrap(~ sex, scales = \"free_y\", nrow = 2) +\n",
    "  labs(title = \"UK, Ireland, US, France & Denmark\", \n",
    "       subtitle = \"Suicides per 100k population, 1985 - 2015\", \n",
    "       x = \"Year\", \n",
    "       y = \"Suicides per 100k\", \n",
    "       col = \"Country\")"
   ]
  },
  {
   "cell_type": "markdown",
   "metadata": {},
   "source": [
    "Algunos hechos que destacan: \n",
    "\n",
    "- Para el Reino Unido, no hay un aumento obvio en la tasa de suicidios para los hombres que no se pueda observar en igual medida en las mujeres.\n",
    "- Nuevamente, en el caso de hombres y mujeres, Francia ha disminuido hasta llegar a ser aproximadamente igual a EE. UU. En 2015\n",
    "- Las diferentes líneas de tendencia para hombres y mujeres en Irlanda son inusuales: en 1990, la tasa de hombres aumenta, pero no se puede observar lo mismo para las mujeres."
   ]
  },
  {
   "cell_type": "markdown",
   "metadata": {},
   "source": [
    "#### 3.3. Únicamente entre 2010 y 2015"
   ]
  },
  {
   "cell_type": "markdown",
   "metadata": {},
   "source": [
    "Considerando los anteriores hallazgos, estamos realmente más interesados en los datos de los últimos años (Francia, por ejemplo, ha cambiado mucho), por lo que se restringe el período de tiempo a 2010 en adelante."
   ]
  },
  {
   "cell_type": "markdown",
   "metadata": {},
   "source": [
    "#### 3.3.1. Proporción de suicidios que son de hombres"
   ]
  },
  {
   "cell_type": "code",
   "execution_count": null,
   "metadata": {},
   "outputs": [],
   "source": [
    "t1 <- data_filtered %>%\n",
    "  filter(year >= 2010) %>%\n",
    "  group_by(sex) %>%\n",
    "  summarize(suicide_per_100k = (sum(as.numeric(suicides_no)) / sum(as.numeric(population))) * 100000)\n",
    "\n",
    "global_male_proportion <- t1$suicide_per_100k[2] / sum(t1$suicide_per_100k)\n",
    "\n",
    "\n",
    "t2 <- data_filtered %>%\n",
    "  filter(year >= 2010, continent == \"Europe\") %>%\n",
    "  group_by(sex) %>%\n",
    "  summarize(suicide_per_100k = (sum(as.numeric(suicides_no)) / sum(as.numeric(population))) * 100000)\n",
    "\n",
    "european_male_proportion <- t2$suicide_per_100k[2] / sum(t2$suicide_per_100k)\n",
    "\n",
    "\n",
    "data_filtered %>%\n",
    "  filter(year >= 2010) %>%\n",
    "  group_by(country, sex) %>%\n",
    "  summarize(suicide_per_100k = (sum(as.numeric(suicides_no)) / sum(as.numeric(population))) * 100000) %>%\n",
    "  ggplot(aes(x = country, y = suicide_per_100k, fill = sex)) + \n",
    "  geom_bar(position = \"fill\", stat = \"identity\") + \n",
    "  geom_hline(yintercept = global_male_proportion) + \n",
    "  geom_hline(yintercept = european_male_proportion, col = \"blue\") + \n",
    "  scale_y_continuous(labels = scales::percent) + \n",
    "  labs(title = \"Proportion of suicides that were Male & Female\", \n",
    "       subtitle = \"2010 - 2015 only, with reference lines for Europe (blue) & Globally (black)\", \n",
    "       x = \"Country\", \n",
    "       y = \"\", \n",
    "       fill = \"Sex\")"
   ]
  },
  {
   "cell_type": "markdown",
   "metadata": {},
   "source": [
    "Algunos hechos que destacan;\n",
    "\n",
    "- Patrón similar al observado a lo largo del análisis: los hombres representan ~ 75% de las muertes por suicidio\n",
    "- La mayor proporción se encuentra en Irlanda: 81,7% hombres\n",
    "- La proporción más baja es para Dinamarca: 73,5% hombres"
   ]
  },
  {
   "cell_type": "markdown",
   "metadata": {},
   "source": [
    "#### 3.3.2. Tasas por edad"
   ]
  },
  {
   "cell_type": "code",
   "execution_count": null,
   "metadata": {},
   "outputs": [],
   "source": [
    "data_filtered %>%\n",
    "  filter(year >= 2010) %>%\n",
    "  group_by(country, age) %>%\n",
    "  summarize(suicide_per_100k = (sum(as.numeric(suicides_no)) / sum(as.numeric(population))) * 100000) %>%\n",
    "  ggplot(aes(x = country, y = suicide_per_100k, fill = age)) + \n",
    "  geom_bar(stat = \"identity\", position = \"dodge\") + \n",
    "  labs(title = \"Age \", \n",
    "       subtitle = \"2010 - 2015 only\", \n",
    "       x = \"Country\", \n",
    "       y = \"Suicides per 100k\", \n",
    "       fill = \"Age\")"
   ]
  },
  {
   "cell_type": "markdown",
   "metadata": {},
   "source": [
    "Algunos hechos que destacan\n",
    "\n",
    "- Existe una gran diferencia en la \"tendencia\" de las tasas de suicidio ya que la edad varía dentro de cada país\n",
    "- La tasa de suicidio aumenta con la edad en Francia, Dinamarca y EE. UU. (En menor medida)\n",
    "- Los de 35 a 54 años tienen mayor riesgo en Irlanda y el Reino Unido, que siguen más cerca de una distribución gaussiana"
   ]
  },
  {
   "cell_type": "markdown",
   "metadata": {},
   "source": [
    "#### 3.3.2. Tasas por genero para varias edades"
   ]
  },
  {
   "cell_type": "code",
   "execution_count": null,
   "metadata": {},
   "outputs": [],
   "source": [
    "data_filtered %>% \n",
    "  filter(year >= 2010) %>%\n",
    "  group_by(country, sex, age) %>%\n",
    "  summarize(suicide_per_100k = (sum(as.numeric(suicides_no)) / sum(as.numeric(population))) * 100000) %>%\n",
    "  ggplot(aes(x = age, y = suicide_per_100k, fill = country)) + \n",
    "  geom_bar(stat = \"identity\", position = \"dodge\") + \n",
    "  facet_wrap(~ sex, scales = \"free_x\") +\n",
    "  labs(title = \"Age Disparity, by Country\",\n",
    "       subtitle = \"2010 - 2015 only\",\n",
    "       x = \"Age\", \n",
    "       y = \"Suicides per 100k\", \n",
    "       fill = \"Country\") +\n",
    "  coord_flip() + \n",
    "  theme(legend.position = \"bottom\")"
   ]
  },
  {
   "cell_type": "markdown",
   "metadata": {},
   "source": [
    "Algunos hechos que destacan\n",
    "\n",
    "- En los EE. UU., La tasa de suicidios de los hombres sigue aumentando con la edad, pero la tasa de mujeres disminuye en la vejez\n",
    "- Esta extraña disparidad solo está presente en los EE. UU. Y tengo curiosidad por saber por qué ocurre\n",
    "- El Reino Unido tiene la tasa de suicidio más baja o la segunda más baja de todos los grupos de edad y sexo"
   ]
  },
  {
   "cell_type": "markdown",
   "metadata": {},
   "source": [
    "### 3.4. Tasas por genero para varias edades"
   ]
  },
  {
   "cell_type": "markdown",
   "metadata": {},
   "source": [
    "Existe una gran preocupación en Reino Unido con respecto a los problemas de salud mental y el suicidio de los hombres jóvenes y de mediana edad. Se restringi el análisis a solo hombres con ddades \"15-24\", \"25-34\" y \"35-54\".\n",
    "Básicamente, observamos si existen tendencias preocupantes. Tener otros países aquí para comparar será útil y ayudará a proporcionar una perspectiva en el análisis."
   ]
  },
  {
   "cell_type": "markdown",
   "metadata": {},
   "source": [
    "### 3.4.1. Hombres entre 15 y 64"
   ]
  },
  {
   "cell_type": "code",
   "execution_count": null,
   "metadata": {},
   "outputs": [],
   "source": [
    "data_filtered %>%\n",
    "  filter(age %in% c(\"15-24\", \"25-34\", \"35-54\"), sex == \"Male\") %>%\n",
    "  group_by(country, year) %>%\n",
    "  summarize(suicide_per_100k = (sum(as.numeric(suicides_no)) / sum(as.numeric(population))) * 100000) %>%\n",
    "  ggplot(aes(x = year, y = suicide_per_100k, col = country)) + \n",
    "  geom_point(alpha = 0.5) + \n",
    "  geom_smooth(se = F, span = 0.2) + \n",
    "  scale_x_continuous(breaks = seq(1985, 2015, 5), minor_breaks = F) + \n",
    "  labs(title = \"UK, Ireland, US, France & Denmark\", \n",
    "       subtitle = \"Suicides per 100k population, 1985 - 2015\", \n",
    "       x = \"Year\", \n",
    "       y = \"Suicides per 100k\", \n",
    "       col = \"Country\")"
   ]
  },
  {
   "cell_type": "markdown",
   "metadata": {},
   "source": [
    "Algunos hechos que destacan\n",
    "\n",
    "- La tendencia de Irlanda durante la década de 1990 fue muy preocupante\n",
    "- Pasó de 14 (por 100k, por año) a 33,3 entre 1988 y 1998, un aumento del 138%\n",
    "- Nuevamente, EE. UU. Muestra la tendencia actual más obvia y preocupante\n",
    "- Comparativamente, para los hombres jóvenes y de mediana edad, el Reino Unido parece bastante plano a lo largo del tiempo."
   ]
  },
  {
   "cell_type": "markdown",
   "metadata": {},
   "source": [
    "#### 3.4.2. Hombres entre 15 y 64"
   ]
  },
  {
   "cell_type": "code",
   "execution_count": null,
   "metadata": {},
   "outputs": [],
   "source": [
    "data_filtered %>%\n",
    "  filter(age %in% c(\"15-24\", \"25-34\", \"35-54\"), sex == \"Male\") %>%\n",
    "  group_by(country, age, year) %>%\n",
    "  summarize(suicide_per_100k = (sum(as.numeric(suicides_no)) / sum(as.numeric(population))) * 100000) %>%\n",
    "  ggplot(aes(x = year, y = suicide_per_100k, col = country)) + \n",
    "  geom_point(alpha = 0.5) + \n",
    "  geom_smooth(se = F, span = 0.2) + \n",
    "  facet_wrap(~ age, nrow = 3, scales = \"free_y\") + \n",
    "  scale_x_continuous(breaks = seq(1985, 2015, 5), minor_breaks = F) + \n",
    "  labs(title = \"UK, Ireland, US, France & Denmark\", \n",
    "       subtitle = \"Suicides per 100k population, 1985 - 2015\", \n",
    "       x = \"Year\", \n",
    "       y = \"Suicides per 100k\", \n",
    "       col = \"Country\")"
   ]
  },
  {
   "cell_type": "markdown",
   "metadata": {},
   "source": [
    "Algunos hechos que destacan\n",
    "\n",
    "- En el caso de los hombres del Reino Unido, solo la categoría \"35-54\" parece estar aumentando, con un ligero aumento (~ 10-15%) durante la última década.\n",
    "- Las tasas del Reino Unido para hombres en las categorías \"15-24\" y \"25-34\" parecen planas y ligeramente decrecientes, respectivamente\n",
    "- Ha sido bastante difícil describir estas tendencias del Reino Unido, lo que creo que es algo positivo. La comparación con otros países definitivamente ayuda con la perspectiva."
   ]
  },
  {
   "cell_type": "markdown",
   "metadata": {},
   "source": [
    "## Conclusiones Generales\n",
    "\n",
    "- Las tasas de suicidio están disminuyendo a nivel mundial. \n",
    "- De los países que muestran claras tendencias lineales a lo largo del tiempo, 2/3 están disminuyendo.\n",
    "- En promedio, la tasa de suicidios aumenta con la edad.\n",
    "- Esto sigue siendo cierto cuando se controla por continente en América, Asia y Europa, pero no para África y Oceanía.\n",
    "- Existe una débil relación positiva entre el PIB de un país (per cápita) y la tasa de suicidios.\n",
    "- La tasa de suicidio más alta jamás registrada en un grupo demográfico (durante 1 año) es 225 (por cada 100.000 habitantes).\n",
    "- Existe una representación excesiva de hombres en las muertes por suicidio en todos los niveles de análisis (a nivel mundial, a nivel de continente y de país). A nivel mundial, la tasa masculina es ~ 3,5 veces mayor."
   ]
  },
  {
   "cell_type": "code",
   "execution_count": null,
   "metadata": {},
   "outputs": [],
   "source": []
  }
 ],
 "metadata": {
  "kernelspec": {
   "display_name": "R",
   "language": "R",
   "name": "ir"
  },
  "language_info": {
   "codemirror_mode": "r",
   "file_extension": ".r",
   "mimetype": "text/x-r-source",
   "name": "R",
   "pygments_lexer": "r",
   "version": "3.6.1"
  }
 },
 "nbformat": 4,
 "nbformat_minor": 4
}
