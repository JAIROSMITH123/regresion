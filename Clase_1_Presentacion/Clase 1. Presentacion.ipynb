{
 "cells": [
  {
   "cell_type": "markdown",
   "metadata": {},
   "source": [
    "<img style=\"float: right;\" src=\"img/logo.png\" width=\"500\">\n",
    "\n",
    "\n",
    "# Análisis de Regresión (2021-3)\n",
    "## Especialización en Estadística Aplicada\n",
    "#### Prof. [Sébastien Lozano Forero](https://www.linkedin.com/in/sebastienlozanoforero/) (slozanof@libertadores.edu.co)"
   ]
  },
  {
   "cell_type": "markdown",
   "metadata": {},
   "source": [
    "Estimada(o) estudiante, sea bienvenida(o) al espacio académico **Análisis de regresión**, versión 2021-3, de la Especialización en Estadística Aplicada en su metodología virtual de la Facultad de Ingeniería y Ciencias Básicas de la Fundación Universitaria Los Libertadores. En el presente *Jupyter Notebook* encontrará información relevante para el correcto desarrollo de nuestro espacio académico. A continuación, una pequeña tabla de contenidos."
   ]
  },
  {
   "cell_type": "markdown",
   "metadata": {},
   "source": [
    "### Tabla de contenidos\n",
    "\n",
    "* [Presentación](#chapter1)\n",
    "    * [Contexto](#section_1_1)\n",
    "    * [Contenido](#Section_1_2)\n",
    "        * [Preliminares](#section_1_2_1)\n",
    "        * [Modelo de Regresión Lineal Simple](#section_1_2_2)\n",
    "        * [Modelo de Regresión Lineal Múltiple](#section_1_2_3)\n",
    "        * [Modelo de Regresión Logística](#section_1_2_4)\n",
    "    * [Evaluación](#evaluacion)\n",
    "    * [Bibliografía recomendada](#bibliografia)\n",
    "* [Dinámica](#dinamicas)\n",
    "    * [Encuentros Sincrónicos](#encuentros)\n",
    "    * [Blackboard](#blackboard)\n",
    "    * [Slack](#slack)\n",
    "* [Requerimientos](#requerimientos)\n",
    "* [Código de Ética](#etica)\n",
    "* [Repositorio](#repo)\n",
    "   "
   ]
  },
  {
   "cell_type": "markdown",
   "metadata": {},
   "source": [
    "### Presentación <a class=\"anchor\" id=\"chapter1\"></a>\n",
    "\n",
    "El modelo de regresión lineal fue inicialmente introducido por el matemático y físico alemán Johann Carl Friedrich Gauss a inicios del siglo XIX (~1800) para poder predecir la trayectoria de cuerpos celestes. Ha sido objeto de estudio de grandes pensadores de la matemática y la estadística a través los siglos XIX, XX y XXI; y es, hoy en día uno de los modelos estadísticos más (muchos dirán que el más) importantes en términos de usos e ideas. Es decir, muchos de los algoritmos más populares usados en Machine Learning actualmente no son regresiones, está claro, pero se deben a las ideas de la misma.\n",
    "\n",
    "<img style=\"float: right;\" src=\"img/historia.png\">\n",
    "\n",
    "(tomado de [jnexttech](https://jnexttech.com/artificial-intelligence))\n",
    "\n",
    "\n",
    "En este contexto, puede ser natural la pregunta **¿Es el análisis de regresión relevante a más de 200 años de su creación?**. Para la respuesta (que es un contundende **SÍ**),considere las siguientes fuentes de información: \n",
    "\n",
    "- Revista [Harvard Business Review](https://hbr.org/2015/11/a-refresher-on-regression-analysis)\n",
    "- Revista [Analytics India Magazine](https://analyticsindiamag.com/why-regression-analysis-is-the-backbone-for-enterprises/)\n",
    "- Revista [Smallbusiness](https://smallbusiness.chron.com/advantages-regression-analysis-forecasting-61800.html#:~:text=The%20importance%20of%20regression%20analysis%20lies%20in%20the%20fact%20that,or%20more%20variables%20of%20interest)\n",
    "- Revista [Lancet](https://www.thelancet.com/journals/eclinm/article/PIIS2589-5370(20)30294-7/fulltext)\n"
   ]
  },
  {
   "cell_type": "markdown",
   "metadata": {},
   "source": [
    "\n",
    "#### Evaluación <a class=\"anchor\" id=\"evaluacion\"></a>\n",
    "\n",
    "<img style=\"float: right;\" src=\"img/eval.png\" width=\"180\"> \n",
    "\n",
    "- Por tratarse de un curso de carácter más aplicado, se evitará el esquema de exámenes escritos. \n",
    "- Se realizarán dos (2) talleres (entregas: Domingo **29 de Agosto** y Domingo **5 de Septiembre**). Entregable esperado: Reporte en pdf (o Jupyter Notebook) con la solución a un problema planteado. \n",
    "- Se realizará un proyecto de aplicación en formato de artículo enviado. Podrán ser grupos de máximo tres personas con estricta política anti parásitos. (Entrega: Domingo **12 de Septiembre**). Entregable esperado: archivo pdf (Únicamente un archivo pdf) con la presentación de un problema, desarrollo y solución de alguna base de datos de interés del grupo de estudiantes. \n",
    "- Podremos considerar bonos en clase por participación y demás. \n",
    "\n",
    "Así, la nota final del espacio académico será calculada como: \n",
    "\n",
    "$$\n",
    "\\text{Calificación Final} = 0.3\\times\\text{Calificación Taller 1} + 0.3\\times\\text{Calificación Taller 2} + 0.4\\times\\text{Calificación del Proyecto de Aplicación}.\n",
    "$$\n"
   ]
  },
  {
   "cell_type": "markdown",
   "metadata": {},
   "source": [
    "#### Fuentes de datos\n",
    "\n",
    "<img style=\"float: right;\" src=\"img/kaggle.png\" width=\"150\">\n",
    "\n",
    "En caso de no contar con datos propios requerir alguna base de datos para análisis, es posible considerar las siguientes fuentes de bases de datos. \n",
    "- https://www.kaggle.com/ (repositorio online colaborativo de bases de datos. También cuenta con cursos, retos y comunidad. Altamente recomendado)\n",
    "- https://datos.bancomundial.org/\n",
    "- https://www.datos.gov.co/\n",
    "<img style=\"float: right;\" src=\"img/medium.png\" width=\"150\">\n",
    "- https://datasetsearch.research.google.com/ (ver https://www.datacentric.es/blog/google-open-data-datasets-gratuitos/)\n",
    "\n",
    "Otras opciones están citadas en este [artículo](https://medium.com/towards-artificial-intelligence/best-datasets-for-machine-learning-data-science-computer-vision-nlp-ai-c9541058cf4f). Comentario personal: recomiendo mucho que tengan presente a *medium* (portal que publica el anterior artículo). Allí se publican cosas muy interesantes de asuntos muy variados en varios idiomas. Incluso, si fuera su deseo, es posible escribir y publicar artículos allí con relativamente pocos filtros. "
   ]
  },
  {
   "cell_type": "markdown",
   "metadata": {},
   "source": [
    "\n",
    "#### Bibliografía Recomendada <a class=\"anchor\" id=\"bibliografia\"></a>\n",
    "\n",
    "Como siempre debe pasar en un espacio académico, deberán haber referencias bibliográficas para poder consultar el formalismo de la metodología que se está empleando. En el caso de nuestro espacio académico, serán las siguientes (El trabajo sucio ya está hecho [acá](https://drive.google.com/drive/folders/17uBMxNEcASmuahw4vMazbGDjIOxqz8aI?usp=sharing)).\n",
    "\n",
    "<img style=\"float: right;\" src=\"img/libros.png\">"
   ]
  },
  {
   "cell_type": "markdown",
   "metadata": {},
   "source": [
    " \n",
    "\n",
    "\n",
    "### Dinámica <a class=\"anchor\" id=\"dinamica\"></a>\n",
    "A continuación, algunos elementos para tener presente sobre la dinámica de nuestro espacio académico. Tenga presente que el espacio académico va desde el **Lunes 16 de Agosto de 2021** hasta **Domingo el 12 de noviembre de 2021**.\n",
    "##### Encuentros Sincrónicos <a class=\"anchor\" id=\"encuentros\"></a>\n",
    "\n",
    "Los encuentros sincrónicos serán los días **martes y Jueves en horario de 18h00 a 20h00**. Recuerde que al tratarse de un programa concebido en metodología virtual, éstos encuentros suponen un contacto *complementario* a su estudio independiente. De la misma forma, se propone que la dinámica del espacio parta de suministrar algunos *jupyter notebooks* o archivos pdf para proveer a las y los estudiantes de los materiales del caso para que puedan acompañar tal encuentro. \n",
    "\n",
    "La asistencia a los encuentros sincrónicos no es obligatoria, pero sí altamente recomendada. Tenga presente que si no es posible asistir en estos días a estos horarios, todas las sesiones quedarán grabadas y estarán disponibles en la plataforma, junto con los materiales del caso. Será responsabilidad de cada estudiante que no asista al encuentro sincrónico, consultar el video de la sesión y revisar el material disponible en plataforma. \n",
    "\n",
    "##### Blackboard <a class=\"anchor\" id=\"blackborad\"></a>\n",
    "\n",
    "<img style=\"float: right;\" src=\"img/blackboard.png\" width=\"200\">\n",
    "\n",
    "Al igual que la totalidad de los demás espacios académicos que componen el programa, la principal plataforma mediadora para todo el proceso académico, será la plataforma Blackboard. Por ésta, tendremos los encuentros sincrónicos del caso, estarán disponible para consulta los videos asincrónicos, se disponibilizarán los materiales del curso, se hará el depósito de entregables, se retroalimentará, etc. Sin embargo, y a manera de complementar su formación profesional, considero que puede ser interesante presentar, y eventualmente usar, algunas herramientas tecnológicas que actualmente son populares en los entornos de trabajo de desarrollo de software, análisis de datos (Data Science), entre otros. \n",
    "\n",
    "##### Slack <a class=\"anchor\" id=\"slack\"></a>\n",
    "\n",
    "<img style=\"float: right;\" src=\"slack.png\" width=\"200\">\n",
    "\n",
    "Slack puede entenderse como un híbrido entre correo electrónico, servicio de mensajería instantánea y red social profesional que, considero, aumenta el involucramiento de los estudiantes en cursos virtuales. No en vano, hay comunidades enteras alrededor del mundo de temas muy variados que se consolidan usando Slack. Permite la creación de un entorno de trabajo para un determinado grupo de personas y a través de canales (temas) pre-establecidos. \n",
    "\n",
    "Habrá un espacio de trabajo para las y los estudiantes de este espacio académico por Slack. Por tanto, se recomienda inmensamente la descarga de esta herramienta, idealmente tanto en pc personal como en smartphone, de acuerdo al sistema operativo del caso: \n",
    "\n",
    "1. Mac: https://slack.com/downloads/mac\n",
    "2. Windows: https://slack.com/downloads/windows\n",
    "3. Android: https://slack.com/downloads/android\n",
    "\n",
    "La invitación para usar nuestro espacio de trabajo será enviada al **correo institucional**. Por tanto, Slack se configura como herramienta no institucional pero sí de uso oficial. En dicho espacio de trabajo, encontrará los canales: \n",
    "\n",
    "- **#clase**: Se recomienda el uso de canal para adelantar el diálogo académico respectivo a las sesiones sincrónicas. \n",
    "- **#general**: discusiones sobre el espacio, anuncios, etc, \n",
    "- **#musica**:  recomendaciones musicales \n",
    "- **#networking**: presentación de cada estudiante (Se recomienda compartir perfil de Linkedin). \n",
    "- **#recursos**: ayudas para el aprendizaje de los contenidos de este espacio \n",
    "- **#social**: (cualquier cosa es buen tema para este canal)\n",
    "\n",
    "Para el uso de Slack se recomienda: \n",
    "\n",
    "- Siempre ser absolutamente respetuosa o respetuoso del espacio académico y de sus participantes\n",
    "- Seguir las reglas que encontrarán en Slack al momento de entrar con la invitación\n",
    "- Actualizar el perfil de cada uno con nombre, fotografía y datos de contacto\n",
    "- Tomar los recursos que se consideren importantes durante el espacio. Una vez concluido el espacio académico, se cerrará el espacio de trabajo. \n",
    "\n",
    "\n",
    "\n"
   ]
  },
  {
   "cell_type": "markdown",
   "metadata": {},
   "source": [
    "\n",
    "### Requerimientos tecnológicos <a class=\"anchor\" id=\"requerimientos\"></a>\n",
    "\n",
    "Para un correcto desarrollo del curso, es necesario que los estudiantes tengan disponibles las siguientes herramientas para poder acompañar los encuentros sincrónicos. \n",
    "\n",
    "#### Slack\n",
    "\n",
    "Ver esta [sección](#slack)\n",
    "\n",
    "#### R y Rstudio\n",
    "\n",
    "<img style=\"float: right;\" src=\"img/rstudio.png\" width=\"200\">\n",
    "\n",
    "Descargar e instalar, en estricto orden y de acuerdo al sistema operativo correspondiente, las siguientes distribuciones\n",
    "\n",
    "1. R (consola original): https://www.icesi.edu.co/CRAN/\n",
    "2. Rstudio (Interfaz mucho más agradable): https://rstudio.com/products/rstudio/download/\n",
    "\n",
    "Cómo opción alternativa, se tiene https://rstudio.cloud/, que es una versión en la nube de R (no es la más recomendada pues, al ser gratuita, la velocidad depende de la demanda de uso en el servidor principal).\n",
    "\n",
    "Algunos recursos adicionales recomendados para aprender R (además de los [atajos](https://support.rstudio.com/hc/en-us/articles/200711853-Keyboard-Shortcuts) de Rstudio):\n",
    "- https://learn.datacamp.com/\n",
    "- https://www.edx.org/search?q=R\n",
    "- https://www.coursera.org/search?query=R&\n",
    "- https://www.udemy.com/courses/search/?q=R\n",
    "- https://online-learning.harvard.edu/course/statistics-and-r?delta=1\n",
    "- https://www.codecademy.com/learn/learn-r\n",
    "- https://cognitiveclass.ai/courses/r-101 \n",
    "- https://www.lynda.com/R-training-tutorials/1570-0.html\n",
    "\n",
    "\n",
    "#### Anaconda (Opcional) \n",
    "\n",
    "<img style=\"float: right;\" src=\"img/anaconda.png\" width=\"200\">\n",
    "\n",
    "Anaconda es una de las principales herramientas actuales en los círculos profesionales de **Data Science**. Genera entornos virtuales (entornos que permiten construir de forma independiente a las especificaciones propias de cada máquina) para poder utilizar, entre otros, herramientas como *Jupyter Notebooks*. También es muy usado para programar en código Python (recomendaria ver este [tutorial](https://docs.anaconda.com/anaconda/navigator/tutorials/r-lang/) para aprender a correr los jupyter notebooks en código R). Descargar Anaconda: https://www.anaconda.com/\n",
    "\n",
    "<img style=\"float: right;\" src=\"img/jupyter.png\" width=\"200\">\n",
    "\n",
    "#### Jupyter Notebooks (Opcional)\n",
    "\n",
    "Jupyter Notebook es una aplicación  que permite crear y compartir documentos weben formato JSON que siguen un esquema versionado y una lista ordenada de celdas de entrada y de salida. Estas celdas albergan, entre otras cosas, código, texto (en formato Markdown), fórmulas matemáticas y ecuaciones, o también contenido multimedia. El programa se ejecuta desde la aplicación web cliente que funciona en cualquier navegador estándar.Los documentos creados en Jupyter pueden exportarse, entre otros formatos, a HTML, PDF, Markdown o Python y también pueden compartirse con otros usuarios por correo electrónico, utilizando Dropbox o GitHub. Para saber más sobre qué es un jupyter notebook, entre [aquí](https://en.wikipedia.org/wiki/Project_Jupyter).\n"
   ]
  },
  {
   "cell_type": "markdown",
   "metadata": {},
   "source": [
    "### Código de Ética <a class=\"anchor\" id=\"etica\"></a>\n",
    "\n",
    "La integridad académica es fundamental para la institución, todas sus dependencias y autoridades académicas en todos los niveles. El compromiso de integridad académica parte de mostrar respeto por el trabajo propio y el trabajo ajeno. \n",
    "\n",
    "Respuestas a tareas, cuestionarios y exámenes deberán ser **trabajo propio**. _No_ está permitido compartir soluciones de tareas, códigos o exámenes con entre estudientes. Esto incluye cualquier cosa escrita por cada estudiante, como también cualquier solución. Habrá *Tolerancia cero* con los casos de plagio (Entenderemos plagio como la copia de palabras, ideas o cualquier otro material de otra fuente sin el debido otorgamiento de créditos)."
   ]
  },
  {
   "cell_type": "markdown",
   "metadata": {},
   "source": [
    "\n",
    "### Repositorio Github del material del espacio académico <a class=\"anchor\" id=\"repo\"></a>\n",
    "\n",
    "<img style=\"float: right;\" src=\"img/github.jpg\" width=\"200\">\n",
    "\n",
    "Git es un sistema de control de versiones distribuidas con tiene licencia open source diseñado para manejar todo tipo de proyectos en todas sus etapas de desarrollo. En la práctica, irá registrando las novedades en las versiones del proyecto de interés del autor, permitiendo el trabajo colaborativo remoto. Para saber más de Git, vea [aquí](https://en.wikipedia.org/wiki/Git)\n",
    "\n",
    "GitHub es un repositorio que permite alojar proyectos utilizando el sistema de control de versiones Git. Se utiliza principalmente para la creación de código fuente de programas de ordenador. Para saber más de Github, vea [aquí](https://en.wikipedia.org/wiki/GitHub)\n",
    "\n",
    "Todo el material del espacio académico estará disponible para descarga desde el repositorio de [Github](https://github.com/sebmatecho/Regresion-Aplicada). Por favor, consulte la descripción de los archivos. "
   ]
  },
  {
   "cell_type": "code",
   "execution_count": null,
   "metadata": {},
   "outputs": [],
   "source": []
  }
 ],
 "metadata": {
  "kernelspec": {
   "display_name": "R",
   "language": "R",
   "name": "ir"
  },
  "language_info": {
   "codemirror_mode": "r",
   "file_extension": ".r",
   "mimetype": "text/x-r-source",
   "name": "R",
   "pygments_lexer": "r",
   "version": "3.6.1"
  }
 },
 "nbformat": 4,
 "nbformat_minor": 4
}
