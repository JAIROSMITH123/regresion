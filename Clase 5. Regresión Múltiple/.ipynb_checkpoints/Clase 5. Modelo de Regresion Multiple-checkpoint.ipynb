{
 "cells": [
  {
   "cell_type": "markdown",
   "metadata": {},
   "source": [
    "<img style=\"float: right;\" src=\"img/logo.png\" width=\"500\">\n",
    "\n",
    "\n",
    "# Análisis de Regresión (2021-4)\n",
    "## Especialización en Estadística Aplicada\n",
    "#### Prof. [Sébastien Lozano Forero](https://www.linkedin.com/in/sebastienlozanoforero/) (slozanof@libertadores.edu.co)\n",
    "\n",
    "## <font color='red'> Introducción a la Regresión Lineal Múltiple</font>\n",
    "\n",
    "### Tabla de contenidos\n",
    "\n",
    "* [Modelo de Regresión Lineal Múltiple](#modelo)\n",
    "* [Resultados Generales](#resultados)\n",
    "* [Supuestos](#supuestos)\n",
    "* [Validación de Supuestos](#validacion) \n",
    "* [Influencia y Diagnóstico](#influencia)\n",
    "* [Ejemplo](#ejemplo) "
   ]
  },
  {
   "cell_type": "markdown",
   "metadata": {},
   "source": [
    "### Modelo de Regresión Lineal Múltiple <a class=\"anchor\" id=\"modelo\"></a>"
   ]
  },
  {
   "cell_type": "markdown",
   "metadata": {},
   "source": [
    "<img style=\"float: right;\" src=\"img/multiple.png\" width=\"400\">\n",
    "\n",
    "El modelo de regresión lineal simple da cuenta de la relación **lineal** y **causal** entre las variables $X_1,X_2,\\cdots X_n,  Y$ ($X_1,X_2,\\cdots X_n$ causan a $Y$).\n",
    "\n",
    "Continuamos con el estudio del análisis de regresión considerando, ahora, las situaciones en las que intervienen dos o más variables predictoras o independientes. Este estudio, al que se le conoce como **análisis de regresión múltiple**, permite tomar más factores en consideración y obtener estimaciones mejores que las que son posibles con la regresión lineal simple.\n",
    "\n",
    "El análisis de regresión múltiple estudia la relación de una variable respuesta con dos o más variables predictoras. Para denotar el número de variables predictoras independientes se suele usar $p$. A la ecuación que describe cómo está relacionada la variable respuesta $Y$ con las variables predictoras $X_1$, $X_2$, $\\cdots$, $X_p$ se le conoce como **modelo de regresión múltiple** y se escribe de la siguiente forma\n",
    "$$\n",
    "Y=\\beta_0 +\\beta_1X_1+\\beta_2X_2+\\cdots+\\beta_pX_p+\\epsilon \\tag{1}\n",
    "$$\n",
    "\n",
    "Donde: \n",
    "- $\\beta_0, \\beta_1, \\cdots, \\beta_p$ son parámetros poblacionales a ser estimados.\n",
    "- $\\epsilon$ representa un error aleatorio (Nuestra incapacidad para dar cuenta de la realidad tal cuál es)\n",
    "- $Y$ representa la *variable respuesta*\n",
    "- $X_1,\\cdots X_p$ representan las *variables predictoras*\n",
    "\n",
    "<img style=\"float: right;\" src=\"img/red.png\" width=\"400\">\n",
    "\n",
    "Si se conocieran los valores de $\\beta_0$, $\\beta_1$, $\\beta_2$, $\\cdots$, $\\beta_p$, se podría usar la ecuación $(2)$ para calcular la media de las $Y$ para valores dados de $X_1$, $X_2$, $\\cdots$, $X_p$. Desafortudamente, los valores de estos parámetros no suelen conocerse, es necesario estimarlos a partir de datos muestrales. \n",
    "\n",
    "Para calcular los valores de los estadísticos muestrales $\\hat{\\beta}_0$, $\\hat{\\beta}_1$, $\\hat{\\beta}_2$, $\\cdots$, $\\hat{\\beta}_p$, que se usan como estimadores puntuales de los parámetros $\\beta_0$, $\\beta_1$, $\\beta_2$, $\\cdots$, $\\beta_p$ se emplea una muestra aleatoria simple. Con los estadísticos muestrales se obtiene la siguiente **ecuación de regresión múltiple estimada**\n",
    "\n",
    "$$\n",
    "\\widehat{Y}=\\hat{\\beta}_0+\\hat{\\beta}_1X_1+\\hat{\\beta}_2X_2+\\cdots+\\hat{\\beta}_pX_p\n",
    "$$\n",
    "donde $\\hat{\\beta}_0$, $\\hat{\\beta}_1$, $\\hat{\\beta}_2$, $\\cdots$, $\\hat{\\beta}_p$ son las estimaciones de $\\beta_0$, $\\beta_1$, $\\beta_2$, $\\cdots$, $\\beta_p$ y $\\widehat{Y}$ es el valor estimado de la media de $Y$.\n"
   ]
  },
  {
   "cell_type": "markdown",
   "metadata": {},
   "source": [
    "### Supuestos <a class=\"anchor\" id=\"supuestos\"></a>\n",
    "\n",
    "El modelo de regresión lineal múltiple, como tantísimos otros (casi absolutamente todos) modelos estadísticos, deberá cumplir una serie de supuestos que permitan concluir que el mismo es una buena versión simplificada de la información y, por tanto, tiene sentido usarlo para establecer dichas relaciones ded causación. De esta manera, los principales supuestos para el modelo de regresión lineal simple $y_t = \\beta_0 + \\beta_1x_{1t}+\\beta_2x_{2t}+\\cdots +\\beta_kx_{kt} + \\epsilon_t$ son \n",
    "- [S0] El modelo es una buena representación de la realidad (tiene sentido)\n",
    "- [S1] $E(\\epsilon_t)=0$\n",
    "- [S2] $Cov(\\epsilon_t ,\\epsilon_s) = 0$ siempre que $i\\neq j$\n",
    "- [S3] $Var(\\epsilon_t) =\\sigma_t^2 =\\sigma^2$ (Homoscedasticidad)\n",
    "- [S4] $X$ es de rango completo\n",
    "- [S5] [opcional pero recomendado] $y_t \\sim N(\\mu_t, \\sigma^2)$\n",
    "\n",
    "Típicamente, en todos los modelos estadísticos, la forma e validar los supuestos es a través de los residuos (Hay que tener presente que los errores son variables aleatorios, mientras que los residuos son realizaciones de tales variables). De esta manera se definen los residuos como $r_t= y_t-\\hat{y}_t$, donde $\\hat{y}_t$ es el valor predicho para $y_t$ por el modelo\n"
   ]
  },
  {
   "cell_type": "markdown",
   "metadata": {},
   "source": [
    "### Resultados Generales <a class=\"anchor\" id=\"modelo\"></a>\n",
    "\n",
    "<img style=\"float: right;\" src=\"img/matrix.gif\" width=\"400\">\n",
    "\n",
    "Podemos escribir el modelo de regresión muestral correspondiente al modelo $(1)$ como\n",
    "$$\n",
    "y_i=\\beta_0+\\beta_1x_{i1}+\\beta_2x_{i2}+\\cdots+\\beta_px_{ip}+\\epsilon_i, \\ \\ i=1,2,\\cdots,n\n",
    "$$\n",
    "\t\n",
    "En notación matricial, este modelo de regresión muestral se representa como\n",
    "$$\n",
    "\\mathbf{Y}=\\mathbf{X\\beta}+\\mathbf{\\epsilon}\n",
    "$$\n",
    "donde\n",
    "$$\n",
    "\\begin{array}{cccc}\n",
    "\\mathbf{Y}=\\begin{pmatrix}\n",
    "y_1 \\\\\n",
    "y_2 \\\\\n",
    "\\vdots \\\\\n",
    "y_n\n",
    "\\end{pmatrix}, & \\mathbf{X}=\\begin{pmatrix}\n",
    "1 & x_{11} & x_{12} & \\cdots & x_{1p} \\\\\n",
    "1 & x_{21} & x_{22} & \\cdots & x_{2p} \\\\\n",
    "\\vdots & \\vdots & \\vdots & & \\vdots \\\\\n",
    "1 & x_{n1} & x_{n2} & \\cdots & x_{np} \\\\\n",
    "\\end{pmatrix}, \n",
    "\\mathbf{\\beta}=\\begin{pmatrix}\n",
    "\\beta_0 \\\\\n",
    "\\beta_1 \\\\\n",
    "\\vdots \\\\\n",
    "\\beta_p\n",
    "\\end{pmatrix}, & \\mathbf{\\epsilon}=\\begin{pmatrix}\n",
    "\\epsilon_1 \\\\\n",
    "\\epsilon_2 \\\\\n",
    "\\vdots \\\\\n",
    "\\epsilon_n\n",
    "\\end{pmatrix}\n",
    "\\end{array}\n",
    "$$\n",
    "\n",
    "Deseamos encontrar el vector de estimadores de mínimos cuadrados, $\\mathbf{\\beta}$, que minimiza\n",
    "\n",
    "$$\n",
    "Q(\\mathbf{\\beta})=\\sum r_i^2=(\\mathbf{Y-X\\beta})'(\\mathbf{Y-X\\beta})\n",
    "$$\n",
    "Podemos probar que el estimador de mínimos cuadrados de $\\mathbf{\\beta}$ es\n",
    "\n",
    "$$\n",
    "\\hat{\\mathbf{\\beta}}=(\\mathbf{X'X})^{-1}\\mathbf{X'Y}\n",
    "$$\n",
    "siempre que la matriz inversa $(\\mathbf{X'X})^{-1}$ exista."
   ]
  },
  {
   "cell_type": "markdown",
   "metadata": {},
   "source": [
    "#### Medidas de bondad de ajuste\n",
    "\n",
    "<img style=\"float: right;\" src=\"img/decision.jpg\" width=\"350\">\n",
    "\n",
    "##### R cuadrado ajustado\n",
    "\n",
    "Muchos analistas prefieren ajustar $R^2$ al número de variables independientes para evitar sobreestimar el efecto que tiene agregar una variable independiente sobre la cantidad de la variabilidad explicada por la ecuación de regresión estimada. Siendo $n$ el número de observaciones y $p$ el número de variables independientes, el coeficiente de determinación ajustado se calcula como sigue.\n",
    "$$\n",
    "R_{adj}^2=1-(1-R^2)\\frac{n-1}{n-k-1}\n",
    "$$\n",
    "\n",
    "##### Criterios de selección\n",
    "El AIC se define como:\n",
    "\n",
    "$$\n",
    "AIC = - 2\\text{logLik} + pk,\n",
    "$$\n",
    "\n",
    "donde  logLik corresponde al valor de log-verosimilitud del modelo para el vector de parámetros $\\beta$, $p$ es un valor de penalización por el exceso de parámetros y $k$ corresponde al número de parámetros del modelo.\n",
    "\n",
    "Se debe recordar siempre que:\n",
    "\n",
    "- El mejor modelo es aquel que  logLik alto\n",
    "- El mejor modelo es aquel que  AIC bajo\n",
    " \n",
    "Cuando el valor de penalización  $k=log(n)$, entonces el AIC se llama BIC (Schwarz’s Bayesian criterion)"
   ]
  },
  {
   "cell_type": "markdown",
   "metadata": {},
   "source": [
    "#### pruebas de hipótesis\n",
    "\n",
    "<img style=\"float: right;\" src=\"img/hipotesis.jpg\" width=\"400\">\n",
    "\n",
    "En general, va a ser de nuestro interés obtener evidencia empírica de la validez estadística de los parámetros que indexan el modelo. Para esto, se hace necesario introducir pruebas de hipótesis para los parámetros. \n",
    "\n",
    "Considere, la prueba de las hipótesis para $\\beta_i$:\n",
    "\\begin{align*}\n",
    "H_0: \\, \\beta_i &=\\beta_{i0} (\\beta_{i0} \\text{conocido})\\\\\n",
    "H_1: \\, \\beta_i &\\neq \\beta_{i0}\n",
    "\\end{align*}\n",
    "\n",
    "que tiene como estadístico de prueba:\n",
    "\t\n",
    "$$\n",
    "T_{Est}=\\frac{\\hat{\\beta}_1-\\beta_{10}}{s\\{\\hat{\\beta}_1\\}} \\sim t_{(n-p-1)}\n",
    "$$\n",
    "\t\n",
    "y la regla de decisión para el nivel de significancia $\\alpha$ es $p$-valor $<\\alpha$ donde $p$-valor $= 2P(T>|T_{Est}|)$ con $T\\sim t_{(n-p-1)}$.\n",
    "\n"
   ]
  },
  {
   "cell_type": "markdown",
   "metadata": {},
   "source": [
    "#### Prueba ANOVA "
   ]
  },
  {
   "cell_type": "code",
   "execution_count": null,
   "metadata": {},
   "outputs": [],
   "source": []
  },
  {
   "cell_type": "markdown",
   "metadata": {},
   "source": [
    "### Validación de Supuestos <a class=\"anchor\" id=\"validacion\"></a>\n",
    "\n",
    "Una vez planteados los supuestos, es necesario ver cómo se validarán en ejemplos prácticos. En esta situación, simularemos los datos para poder validar cada uno de los supuestos.\n",
    "\n",
    "<img style=\"float: center;\" src=\"img/residuos.png\" width=\"600\">"
   ]
  },
  {
   "cell_type": "code",
   "execution_count": 45,
   "metadata": {},
   "outputs": [
    {
     "data": {
      "text/html": [
       "<table>\n",
       "<thead><tr><th scope=col>x</th><th scope=col>y</th><th scope=col>z</th><th scope=col>w</th></tr></thead>\n",
       "<tbody>\n",
       "\t<tr><td> 7.197622</td><td>249.2119 </td><td>11.075715</td><td>27       </td></tr>\n",
       "\t<tr><td> 8.849113</td><td>246.4164 </td><td>11.589130</td><td>25       </td></tr>\n",
       "\t<tr><td>17.793542</td><td>272.1761 </td><td> 8.415477</td><td>29       </td></tr>\n",
       "\t<tr><td>10.352542</td><td>316.7376 </td><td>23.590081</td><td>28       </td></tr>\n",
       "\t<tr><td>10.646439</td><td>210.9371 </td><td>11.549643</td><td>16       </td></tr>\n",
       "\t<tr><td>18.575325</td><td>291.3028 </td><td>18.104049</td><td>24       </td></tr>\n",
       "</tbody>\n",
       "</table>\n"
      ],
      "text/latex": [
       "\\begin{tabular}{r|llll}\n",
       " x & y & z & w\\\\\n",
       "\\hline\n",
       "\t  7.197622 & 249.2119  & 11.075715 & 27       \\\\\n",
       "\t  8.849113 & 246.4164  & 11.589130 & 25       \\\\\n",
       "\t 17.793542 & 272.1761  &  8.415477 & 29       \\\\\n",
       "\t 10.352542 & 316.7376  & 23.590081 & 28       \\\\\n",
       "\t 10.646439 & 210.9371  & 11.549643 & 16       \\\\\n",
       "\t 18.575325 & 291.3028  & 18.104049 & 24       \\\\\n",
       "\\end{tabular}\n"
      ],
      "text/markdown": [
       "\n",
       "| x | y | z | w |\n",
       "|---|---|---|---|\n",
       "|  7.197622 | 249.2119  | 11.075715 | 27        |\n",
       "|  8.849113 | 246.4164  | 11.589130 | 25        |\n",
       "| 17.793542 | 272.1761  |  8.415477 | 29        |\n",
       "| 10.352542 | 316.7376  | 23.590081 | 28        |\n",
       "| 10.646439 | 210.9371  | 11.549643 | 16        |\n",
       "| 18.575325 | 291.3028  | 18.104049 | 24        |\n",
       "\n"
      ],
      "text/plain": [
       "  x         y        z         w \n",
       "1  7.197622 249.2119 11.075715 27\n",
       "2  8.849113 246.4164 11.589130 25\n",
       "3 17.793542 272.1761  8.415477 29\n",
       "4 10.352542 316.7376 23.590081 28\n",
       "5 10.646439 210.9371 11.549643 16\n",
       "6 18.575325 291.3028 18.104049 24"
      ]
     },
     "metadata": {},
     "output_type": "display_data"
    }
   ],
   "source": [
    "set.seed(123)\n",
    "x <- rnorm(250, mean=10, sd=5) # Distribución normal\n",
    "z <- rexp(250, rate=0.1) #Distribución exponencial\n",
    "w <- rbinom(250, 100,0.25) #Distribución Binomial\n",
    "y <- 58 + 1.8*x+4.3*z +5*w + rnorm(250, sd=3) \n",
    "prueba = data.frame(x=x,y=y,z=z,w=w)\n",
    "head(prueba)"
   ]
  },
  {
   "cell_type": "markdown",
   "metadata": {},
   "source": [
    "Al haber simulado el modelo $y_t = 58 + 1.8x_t+4.3z_t+5w_t+\\epsilon_t$ ($\\beta_0=58, \\beta_1=1.8, \\beta_2=4.3$ y $\\beta_3=5$), debe ser natural que el modelo ajustado sea similar, veamos. "
   ]
  },
  {
   "cell_type": "code",
   "execution_count": 46,
   "metadata": {},
   "outputs": [
    {
     "data": {
      "text/plain": [
       "\n",
       "Call:\n",
       "lm(formula = y ~ x + z + w)\n",
       "\n",
       "Residuals:\n",
       "    Min      1Q  Median      3Q     Max \n",
       "-8.4827 -2.0658  0.2967  1.9994  8.4402 \n",
       "\n",
       "Coefficients:\n",
       "            Estimate Std. Error t value Pr(>|t|)    \n",
       "(Intercept) 58.33400    1.31380   44.40   <2e-16 ***\n",
       "x            1.87804    0.04143   45.33   <2e-16 ***\n",
       "z            4.29176    0.02010  213.48   <2e-16 ***\n",
       "w            4.95294    0.04880  101.50   <2e-16 ***\n",
       "---\n",
       "Signif. codes:  0 '***' 0.001 '**' 0.01 '*' 0.05 '.' 0.1 ' ' 1\n",
       "\n",
       "Residual standard error: 3.074 on 246 degrees of freedom\n",
       "Multiple R-squared:  0.9959,\tAdjusted R-squared:  0.9958 \n",
       "F-statistic: 1.972e+04 on 3 and 246 DF,  p-value: < 2.2e-16\n"
      ]
     },
     "metadata": {},
     "output_type": "display_data"
    }
   ],
   "source": [
    "ajuste <- lm(y ~ x + z + w) #tarea: glm\n",
    "summary(ajuste)"
   ]
  },
  {
   "cell_type": "code",
   "execution_count": 47,
   "metadata": {},
   "outputs": [
    {
     "data": {
      "text/plain": [
       "\n",
       "Call:\n",
       "lm(formula = y ~ x + z)\n",
       "\n",
       "Residuals:\n",
       "    Min      1Q  Median      3Q     Max \n",
       "-57.616 -13.831  -1.015  12.944  58.924 \n",
       "\n",
       "Coefficients:\n",
       "            Estimate Std. Error t value Pr(>|t|)    \n",
       "(Intercept) 181.3595     3.3130  54.741  < 2e-16 ***\n",
       "x             1.8201     0.2707   6.723 1.23e-10 ***\n",
       "z             4.3951     0.1312  33.497  < 2e-16 ***\n",
       "---\n",
       "Signif. codes:  0 '***' 0.001 '**' 0.01 '*' 0.05 '.' 0.1 ' ' 1\n",
       "\n",
       "Residual standard error: 20.09 on 247 degrees of freedom\n",
       "Multiple R-squared:  0.8224,\tAdjusted R-squared:  0.821 \n",
       "F-statistic:   572 on 2 and 247 DF,  p-value: < 2.2e-16\n"
      ]
     },
     "metadata": {},
     "output_type": "display_data"
    }
   ],
   "source": [
    "ww<- rnorm(250, mean=15, sd=2)\n",
    "ajuste2 <- lm(y~x+z)\n",
    "summary(ajuste2)"
   ]
  },
  {
   "cell_type": "code",
   "execution_count": 48,
   "metadata": {},
   "outputs": [
    {
     "data": {
      "image/png": "[encoded data removed]",
      "text/plain": [
       "Plot with title \"\""
      ]
     },
     "metadata": {},
     "output_type": "display_data"
    }
   ],
   "source": [
    "options(repr.plot.width=8, repr.plot.height=8)\n",
    "par(mfrow=c(2,2))\n",
    "plot(ajuste)"
   ]
  },
  {
   "cell_type": "markdown",
   "metadata": {},
   "source": [
    "- [S0] El modelo es una buena representación de la realidad (tiene sentido)\n",
    "\n",
    "El día que exista una prueba de hipótesis que verifique este supuesto, todos todos los que hagamos estadística, nos quedaremos sin trabajo."
   ]
  },
  {
   "cell_type": "markdown",
   "metadata": {},
   "source": [
    "- [S1] $E(\\epsilon_t)=0$"
   ]
  },
  {
   "cell_type": "code",
   "execution_count": 49,
   "metadata": {},
   "outputs": [
    {
     "data": {
      "text/html": [
       "4.24400098397726e-17"
      ],
      "text/latex": [
       "4.24400098397726e-17"
      ],
      "text/markdown": [
       "4.24400098397726e-17"
      ],
      "text/plain": [
       "[1] 4.244001e-17"
      ]
     },
     "metadata": {},
     "output_type": "display_data"
    }
   ],
   "source": [
    "residuos <- residuals(ajuste)\n",
    "mean(residuos)"
   ]
  },
  {
   "cell_type": "markdown",
   "metadata": {},
   "source": [
    "- [S2] $Cov(\\epsilon_t ,\\epsilon_s) = 0$ siempre que $i\\neq j$"
   ]
  },
  {
   "cell_type": "code",
   "execution_count": 50,
   "metadata": {},
   "outputs": [
    {
     "data": {
      "text/plain": [
       "\n",
       "\tDurbin-Watson test\n",
       "\n",
       "data:  ajuste\n",
       "DW = 1.9409, p-value = 0.319\n",
       "alternative hypothesis: true autocorrelation is greater than 0\n"
      ]
     },
     "metadata": {},
     "output_type": "display_data"
    }
   ],
   "source": [
    "# install.packages(\"lmtest\")\n",
    "library(lmtest) # ver https://en.wikipedia.org/wiki/Durbin%E2%80%93Watson_statistic\n",
    "dwtest(ajuste) # H0: No hay autocorrelación en los errores"
   ]
  },
  {
   "cell_type": "markdown",
   "metadata": {},
   "source": [
    "- [S3] $Var(\\epsilon_t) =\\sigma_t^2 =\\sigma^2$ (Homoscedasticidad)"
   ]
  },
  {
   "cell_type": "code",
   "execution_count": 51,
   "metadata": {},
   "outputs": [
    {
     "data": {
      "text/plain": [
       "\n",
       "\tstudentized Breusch-Pagan test\n",
       "\n",
       "data:  ajuste\n",
       "BP = 1.7548, df = 3, p-value = 0.6248\n"
      ]
     },
     "metadata": {},
     "output_type": "display_data"
    }
   ],
   "source": [
    "library(lmtest) #https://en.wikipedia.org/wiki/Breusch%E2%80%93Pagan_test\n",
    "bptest(ajuste) #H0: Homoscedasticidad"
   ]
  },
  {
   "cell_type": "markdown",
   "metadata": {},
   "source": [
    "- [S4] $X$ es de rango completo"
   ]
  },
  {
   "cell_type": "code",
   "execution_count": 52,
   "metadata": {
    "scrolled": true
   },
   "outputs": [
    {
     "data": {
      "text/html": [
       "<table>\n",
       "<thead><tr><th></th><th scope=col>x</th><th scope=col>z</th><th scope=col>w</th></tr></thead>\n",
       "<tbody>\n",
       "\t<tr><th scope=row>x</th><td> 1.00000000</td><td>-0.06094355</td><td>-0.01688300</td></tr>\n",
       "\t<tr><th scope=row>z</th><td>-0.06094355</td><td> 1.00000000</td><td> 0.05159225</td></tr>\n",
       "\t<tr><th scope=row>w</th><td>-0.01688300</td><td> 0.05159225</td><td> 1.00000000</td></tr>\n",
       "</tbody>\n",
       "</table>\n"
      ],
      "text/latex": [
       "\\begin{tabular}{r|lll}\n",
       "  & x & z & w\\\\\n",
       "\\hline\n",
       "\tx &  1.00000000 & -0.06094355 & -0.01688300\\\\\n",
       "\tz & -0.06094355 &  1.00000000 &  0.05159225\\\\\n",
       "\tw & -0.01688300 &  0.05159225 &  1.00000000\\\\\n",
       "\\end{tabular}\n"
      ],
      "text/markdown": [
       "\n",
       "| <!--/--> | x | z | w |\n",
       "|---|---|---|---|\n",
       "| x |  1.00000000 | -0.06094355 | -0.01688300 |\n",
       "| z | -0.06094355 |  1.00000000 |  0.05159225 |\n",
       "| w | -0.01688300 |  0.05159225 |  1.00000000 |\n",
       "\n"
      ],
      "text/plain": [
       "  x           z           w          \n",
       "x  1.00000000 -0.06094355 -0.01688300\n",
       "z -0.06094355  1.00000000  0.05159225\n",
       "w -0.01688300  0.05159225  1.00000000"
      ]
     },
     "metadata": {},
     "output_type": "display_data"
    }
   ],
   "source": [
    "cor(data.frame(x=x, z=z, w=w)) #Matriz de correlaciones"
   ]
  },
  {
   "cell_type": "code",
   "execution_count": 53,
   "metadata": {},
   "outputs": [
    {
     "name": "stderr",
     "output_type": "stream",
     "text": [
      "Warning message:\n",
      "\"package 'car' was built under R version 3.6.3\"Loading required package: carData\n",
      "Warning message:\n",
      "\"package 'carData' was built under R version 3.6.3\""
     ]
    },
    {
     "data": {
      "text/html": [
       "<dl class=dl-horizontal>\n",
       "\t<dt>x</dt>\n",
       "\t\t<dd>1.00391866990369</dd>\n",
       "\t<dt>z</dt>\n",
       "\t\t<dd>1.00631107623007</dd>\n",
       "\t<dt>w</dt>\n",
       "\t\t<dd>1.00285937100501</dd>\n",
       "</dl>\n"
      ],
      "text/latex": [
       "\\begin{description*}\n",
       "\\item[x] 1.00391866990369\n",
       "\\item[z] 1.00631107623007\n",
       "\\item[w] 1.00285937100501\n",
       "\\end{description*}\n"
      ],
      "text/markdown": [
       "x\n",
       ":   1.00391866990369z\n",
       ":   1.00631107623007w\n",
       ":   1.00285937100501\n",
       "\n"
      ],
      "text/plain": [
       "       x        z        w \n",
       "1.003919 1.006311 1.002859 "
      ]
     },
     "metadata": {},
     "output_type": "display_data"
    }
   ],
   "source": [
    "# install.packages(\"car\")\n",
    "library(car)\n",
    "vif(ajuste) #Autovalores de la matriz de correlaciones"
   ]
  },
  {
   "cell_type": "markdown",
   "metadata": {},
   "source": [
    "- [S5] [opcional pero recomendado] $y_t \\sim N(\\mu_t, \\sigma^2)$"
   ]
  },
  {
   "cell_type": "code",
   "execution_count": 54,
   "metadata": {
    "scrolled": true
   },
   "outputs": [
    {
     "data": {
      "text/plain": [
       "\n",
       "\tJarque Bera Test\n",
       "\n",
       "data:  residuos\n",
       "X-squared = 0.60309, df = 2, p-value = 0.7397\n"
      ]
     },
     "metadata": {},
     "output_type": "display_data"
    }
   ],
   "source": [
    "# install.packages(\"tseries\")\n",
    "library(tseries)#https://en.wikipedia.org/wiki/Jarque%E2%80%93Bera_test\n",
    "jarque.bera.test(residuos) #H0: Normalidad"
   ]
  },
  {
   "cell_type": "code",
   "execution_count": 55,
   "metadata": {},
   "outputs": [
    {
     "data": {
      "text/html": [
       "<pre class=language-r><code>function (object, parm, level = 0.95, ...) \n",
       "UseMethod(\"confint\")</code></pre>"
      ],
      "text/latex": [
       "\\begin{minted}{r}\n",
       "function (object, parm, level = 0.95, ...) \n",
       "UseMethod(\"confint\")\n",
       "\\end{minted}"
      ],
      "text/markdown": [
       "```r\n",
       "function (object, parm, level = 0.95, ...) \n",
       "UseMethod(\"confint\")\n",
       "```"
      ],
      "text/plain": [
       "function (object, parm, level = 0.95, ...) \n",
       "UseMethod(\"confint\")\n",
       "<bytecode: 0x0000000026ec5440>\n",
       "<environment: namespace:stats>"
      ]
     },
     "metadata": {},
     "output_type": "display_data"
    }
   ],
   "source": [
    "confint"
   ]
  },
  {
   "cell_type": "markdown",
   "metadata": {},
   "source": [
    "### Influencia y Diagnósitico <a class=\"anchor\" id=\"influencia\"></a>"
   ]
  },
  {
   "cell_type": "markdown",
   "metadata": {},
   "source": [
    "#### Problemas con los errores\n",
    "\n",
    "<img style=\"float: right;\" src=\"img/influence.png\" width=\"400\">\n",
    "\n",
    "##### Posibles problemas y controles de diagnóstico\n",
    "\n",
    "- Es posible que los errores no se distribuyan normalmente o que no tengan el mismo varianza: qqnorm puede ayudar con esto. Puede que esto no sea demasiado importante en muestras grandes.\n",
    "\n",
    "- La varianza puede no ser constante. También se puede abordar en una gráfica de $X$ frente a $\\epsilon$ u otra tendencia indica\n",
    "    varianza no constante.\n",
    "\n",
    "- Observaciones influyentes. Qué puntos \"afectan\" la línea de regresión lo mas?\n",
    "\n",
    "- Valores atípicos: puntos en los que el modelo realmente no encaja. Posiblemente errores en la transcripción de datos, errores de laboratorio, ¿quién sabe? Debiera ser reconocido y (con suerte) explicado."
   ]
  },
  {
   "cell_type": "markdown",
   "metadata": {},
   "source": [
    "##### Tipos de residuos\n",
    "\n",
    "<img style=\"float: right;\" src=\"img/ponderacion.png\" width=\"400\">\n",
    "\n",
    "- Residuos ordinarios: $ \\epsilon_i = Y_i - \\widehat{Y} _i $. Estos miden el\n",
    "    desviación del valor predicho del valor observado, pero su\n",
    "    la distribución depende de una escala desconocida, $\\sigma$.\n",
    "\n",
    "- Residuos estudiados internamente (`rstandard` en R):\n",
    "    $$ r_i = \\epsilon_i / SE (\\epsilon_i) = \\frac{\\epsilon_i} {\\widehat{\\sigma}\\sqrt{1-H_{ii}}} $$\n",
    "    \n",
    "- Arriba, $ H $ es la matriz de \"sombrero\" $ H = X (X ^ TX)^{-1}X^T $. Estos son casi $ t $ distribuidos, excepto \n",
    "    $ \\widehat{\\sigma} $ que depende de $ \\epsilon_t $.\n",
    "    \n",
    "   \n",
    "- Residuos estudiados externamente (`rstudent` en R):\n",
    "$$ t_i = \\frac{\\epsilon_i}{\\widehat {\\sigma_{(i)}} \\sqrt {1-H_ {ii}}}\\sim t_{n-p-2}. $$ Estos son exactamente $ t $ distribuidos, por lo que conocemos su distribución y puede usarlos para pruebas, si lo desea.\n",
    "    \n",
    "- La cantidad $ \\hat {\\sigma}^2_{(i)} $ es el MSE del modelo ajustado a todos los datos excepto al caso $ i $ (es decir, tiene $ n-1 $ observaciones y $ p $ características).\n",
    "\n",
    "- Numéricamente, estos residuos están altamente correlacionados, como era de esperar."
   ]
  },
  {
   "cell_type": "code",
   "execution_count": 56,
   "metadata": {},
   "outputs": [
    {
     "data": {
      "image/png": "[encoded data removed]",
      "text/plain": [
       "plot without title"
      ]
     },
     "metadata": {},
     "output_type": "display_data"
    }
   ],
   "source": [
    "options(repr.plot.width=4, repr.plot.height=4)\n",
    "plot(resid(ajuste), rstudent(ajuste), bg='blue')"
   ]
  },
  {
   "cell_type": "code",
   "execution_count": 57,
   "metadata": {},
   "outputs": [
    {
     "data": {
      "image/png": "[encoded data removed]",
      "text/plain": [
       "plot without title"
      ]
     },
     "metadata": {},
     "output_type": "display_data"
    }
   ],
   "source": [
    "options(repr.plot.width=4, repr.plot.height=4)\n",
    "plot(rstandard(ajuste), rstudent(ajuste), bg='blue')"
   ]
  },
  {
   "cell_type": "markdown",
   "metadata": {},
   "source": [
    "###### Influencia de una observación\n",
    "\n",
    "Otras gráficas proporcionan una evaluación de la \"influencia\" de cada observación. Por lo general, esto se hace eliminando un caso completo $ (y_i, x_i) $ del conjunto de datos y reacondicionamiento del modelo.\n",
    "\n",
    "- En esta configuración, $ \\cdot_{(i)} $ indica que la observación $ i $ -ésima  no se utiliza para ajustar el modelo.\n",
    "\n",
    "- Por ejemplo: $ \\widehat{Y}_{j (i)} $ es la función de regresión evaluados en los predictores de observación $ j $ -ésimo PERO los coeficientes $ (\\widehat {\\beta}_{0(i)}, \\dots, \\widehat {\\beta}_{p(i)}) $ estaban en forma después de eliminar $ i $ -ésimo caso de los datos."
   ]
  },
  {
   "cell_type": "markdown",
   "metadata": {},
   "source": [
    "- Idea: si $\\widehat{Y}_{j(i)} $ es muy diferente de $\\widehat{Y}_j$ (usando todos los datos) entonces $ i $ es un punto influyente, al menos para estimando la función de regresión en $(X_{1,j},\\dots, X_{p,j}) $.\n",
    "    \n",
    "- También podría ver la diferencia entre $\\widehat{Y}_{i(i)}-\\widehat{Y}_i$, o cualquier otra medida.\n",
    "    \n",
    "- Hay varias medidas estándar de influencia."
   ]
  },
  {
   "cell_type": "markdown",
   "metadata": {},
   "source": [
    "###### DFFITS\n",
    "\n",
    "$$ DFFITS_i = \\frac{\\widehat{Y}_i - \\widehat{Y}_{i(i)}} {\\widehat {\\sigma}_{(i)}\\sqrt {H_{ii}}} $$\n",
    "\n",
    "- Esta cantidad mide cuánto cambia la función de regresión en  el $i$-ésimo caso / observación cuando el $i$ -ésimo caso / observación es eliminada.\n",
    "\n",
    "- Para conjuntos de datos pequeños / medianos: el valor de 1 o más es \"sospechoso\" (RABE). Para un conjunto de datos grande: valor de $ 2\\sqrt{(p + 1)/n} $.\n",
    "    \n",
    "- R tiene sus propias reglas estándar similares a las anteriores para marcar una observación tan influyente."
   ]
  },
  {
   "cell_type": "code",
   "execution_count": 58,
   "metadata": {},
   "outputs": [
    {
     "data": {
      "text/html": [
       "0.25298221281347"
      ],
      "text/latex": [
       "0.25298221281347"
      ],
      "text/markdown": [
       "0.25298221281347"
      ],
      "text/plain": [
       "[1] 0.2529822"
      ]
     },
     "metadata": {},
     "output_type": "display_data"
    }
   ],
   "source": [
    "2*sqrt(4/250)"
   ]
  },
  {
   "cell_type": "code",
   "execution_count": 59,
   "metadata": {},
   "outputs": [
    {
     "data": {
      "image/png": "[encoded data removed]",
      "text/plain": [
       "plot without title"
      ]
     },
     "metadata": {},
     "output_type": "display_data"
    }
   ],
   "source": [
    "plot(dffits(ajuste), pch=23, bg='orange', cex=0.5, ylab=\"DFFITS\")"
   ]
  },
  {
   "cell_type": "code",
   "execution_count": null,
   "metadata": {},
   "outputs": [],
   "source": []
  },
  {
   "cell_type": "markdown",
   "metadata": {},
   "source": [
    "###### Distancia de Cook\n",
    "\n",
    "La distancia de Cook mide cuánto toda la función de regresión cambia cuando se elimina el caso $i$-ésimo.\n",
    "\n",
    "$$D_i = \\frac{\\sum_{j=1}^n(\\widehat{Y}_j - \\widehat{Y}_{j(i)})^2}{(p+1) \\, \\widehat{\\sigma}^2}$$\n",
    "\n",
    "- Debe ser comparable a $ F_ {p + 1, n-p-1} $: si el \"$ p $ -valor\" de $ D_i $\n",
    "    es del 50 por ciento o más, entonces el caso de $ i $ -ésimo es probablemente influyente:\n",
    "    investigar más a fondo. (RABE)\n",
    "    \n",
    "- Nuevamente, `R` tiene sus propias reglas similares a las anteriores para marcar una observación\n",
    "tan influyente.\n",
    "\n",
    "- ¿Qué hacer después de la investigación? No es una respuesta fácil."
   ]
  },
  {
   "cell_type": "code",
   "execution_count": 60,
   "metadata": {},
   "outputs": [
    {
     "data": {
      "image/png": "[encoded data removed]",
      "text/plain": [
       "plot without title"
      ]
     },
     "metadata": {},
     "output_type": "display_data"
    }
   ],
   "source": [
    "plot(cooks.distance(ajuste), pch=23, bg='orange', cex=0.5, ylab=\"Cook's distance\")"
   ]
  },
  {
   "cell_type": "markdown",
   "metadata": {},
   "source": [
    "###### DFBETAS\n",
    "\n",
    "Esta cantidad mide cuánto cambian los coeficientes cuando el $i$-ésimo caso se elimina.\n",
    "\n",
    "\n",
    "$$DFBETAS_{j(i)} = \\frac{\\widehat{\\beta}_j - \\widehat{\\beta}_{j(i)}}{\\sqrt{\\widehat{\\sigma}^2_{(i)} (X^TX)^{-1}_{jj}}}.$$\n",
    "\n",
    "   \n",
    "Para conjuntos de datos pequeños / medianos: el valor absoluto de 1 o mayor es \"suspicaz\". Para un conjunto de datos grande: valor absoluto de $ 2/\\sqrt{n} $."
   ]
  },
  {
   "cell_type": "code",
   "execution_count": 62,
   "metadata": {},
   "outputs": [
    {
     "data": {
      "image/png": "[encoded data removed]",
      "text/plain": [
       "plot without title"
      ]
     },
     "metadata": {},
     "output_type": "display_data"
    }
   ],
   "source": [
    "plot(dfbetas(ajuste)[,'x'], pch=23, bg='orange', cex=0.5, ylab=\"DFBETA (x)\")"
   ]
  },
  {
   "cell_type": "code",
   "execution_count": 63,
   "metadata": {},
   "outputs": [
    {
     "data": {
      "image/png": "[encoded data removed]",
      "text/plain": [
       "plot without title"
      ]
     },
     "metadata": {},
     "output_type": "display_data"
    }
   ],
   "source": [
    "plot(dfbetas(ajuste)[,'z'], pch=23, bg='orange', cex=0.5, ylab=\"DFBETA (z)\")"
   ]
  },
  {
   "cell_type": "markdown",
   "metadata": {},
   "source": [
    "###### Valores atípicos\n",
    "\n",
    "<img style=\"float: right;\" src=\"img/diferente.jpg\" width=\"400\">\n",
    "\n",
    "La definición esencial de un *valor atípico* es un par de observación $(Y, X_1,\\dots, X_p) $ que no sigue el modelo, mientras que la mayoría de las otras observaciones parecen seguir el modelo.\n",
    "\n",
    "- Valor atípico en *predictores*: los valores de $ X $ de la observación pueden estar fuera de la \"nube\" de otros valores $ X $. Esto significa que puede ser extrapolando su modelo de manera inapropiada. Los valores $ H_{ii} $ pueden ser se utiliza para medir qué tan \"atípicos\" son los valores de $ X $.\n",
    "\n",
    "- Valor atípico en *respuesta*: el valor $ Y $ de la observación puede ser muy lejos del modelo ajustado. Si los residuales studentizados son grandes: la observación puede ser un valor atípico."
   ]
  },
  {
   "cell_type": "markdown",
   "metadata": {},
   "source": [
    "##### Valores atípicos en  $ X $\n",
    "\n",
    "Una forma de detectar valores atípicos en los *predictores*, además de observar los valores reales en sí mismos, es a través de sus valores de apalancamiento, definidos por\n",
    "$$\n",
    "\\text{leverage}_i = H_{ii} = (X (X ^ TX) ^ {- 1} X ^ T) _ {ii}.\n",
    "$$\n"
   ]
  },
  {
   "cell_type": "code",
   "execution_count": null,
   "metadata": {},
   "outputs": [],
   "source": [
    "plot(hatvalues(ajuste), pch=23, bg='orange', cex=0.5, ylab='Hat values')"
   ]
  },
  {
   "cell_type": "markdown",
   "metadata": {},
   "source": [
    "Hasta aquí, parece terrible hacer estudios de influencia y diagnóstico. La matemática es compleja y ésta es un área todavía en estudio, por lo tanto, las cosas pueden cambiar en los próximos años. Sin embargo, no debe generar preocupación el uso de toda esta información para determinar cuáles puntos deben ser influyentes o atípicos de forma desmedida. "
   ]
  },
  {
   "cell_type": "code",
   "execution_count": 64,
   "metadata": {},
   "outputs": [
    {
     "name": "stdout",
     "output_type": "stream",
     "text": [
      "Potentially influential observations of\n",
      "\t lm(formula = y ~ x + z + w) :\n",
      "\n",
      "    dfb.1_ dfb.x dfb.z dfb.w dffit   cov.r   cook.d hat    \n",
      "18   0.11  -0.11  0.11 -0.09  0.19    1.05_*  0.01   0.05  \n",
      "20  -0.36   0.10  0.11  0.31 -0.39_*  0.91_*  0.04   0.02  \n",
      "45   0.03  -0.21  0.16 -0.02 -0.33    0.91_*  0.03   0.01  \n",
      "46   0.01   0.01 -0.02 -0.01 -0.02    1.06_*  0.00   0.04  \n",
      "72   0.06  -0.07  0.01 -0.04  0.08    1.05_*  0.00   0.04  \n",
      "138 -0.01   0.02  0.05  0.00  0.06    1.06_*  0.00   0.05  \n",
      "150  0.01   0.05 -0.14 -0.02 -0.16    1.06_*  0.01   0.05  \n",
      "158  0.07   0.01 -0.06 -0.07 -0.10    1.07_*  0.00   0.06_*\n",
      "164  0.01  -0.11  0.01  0.02 -0.12    1.07_*  0.00   0.05_*\n",
      "172  0.07   0.02  0.12 -0.08  0.21    0.93_*  0.01   0.01  \n",
      "176  0.29  -0.21  0.06 -0.23  0.36    0.91_*  0.03   0.02  \n",
      "178 -0.02   0.04 -0.10  0.05  0.19    0.94_*  0.01   0.01  \n",
      "189  0.00  -0.01 -0.04  0.00 -0.04    1.08_*  0.00   0.06_*\n",
      "196  0.07   0.14  0.13 -0.13  0.24    1.06_*  0.01   0.05_*\n",
      "201 -0.01  -0.11 -0.12  0.06 -0.17    1.07_*  0.01   0.06_*\n",
      "205 -0.38  -0.04  0.33  0.39  0.55_*  0.99    0.07   0.06_*\n",
      "218  0.06   0.05 -0.43 -0.03 -0.45_*  1.05    0.05   0.07_*\n",
      "240  0.09   0.11 -0.10 -0.14 -0.25    0.95_*  0.02   0.01  \n"
     ]
    }
   ],
   "source": [
    "summary(influence.measures(ajuste))"
   ]
  },
  {
   "cell_type": "markdown",
   "metadata": {},
   "source": [
    "### Ejemplo <a class=\"anchor\" id=\"modelo\"></a>"
   ]
  },
  {
   "cell_type": "markdown",
   "metadata": {},
   "source": [
    "Para este ejemplo retomaremos el conjunto de datos estudiado en la clase 3. Esta es la base de datos que da cuenta de la distribución de pagos en una empresa ¿Hay discriminación por género? "
   ]
  },
  {
   "cell_type": "code",
   "execution_count": 2,
   "metadata": {},
   "outputs": [
    {
     "data": {
      "text/html": [
       "<table>\n",
       "<thead><tr><th scope=col>jobtitle</th><th scope=col>gender</th><th scope=col>age</th><th scope=col>performance</th><th scope=col>education</th><th scope=col>department</th><th scope=col>seniority</th><th scope=col>income</th><th scope=col>bonus</th></tr></thead>\n",
       "<tbody>\n",
       "\t<tr><td>Graphic Designer   </td><td>Female             </td><td>18                 </td><td>5                  </td><td>College            </td><td>Operations         </td><td>2                  </td><td> 42363             </td><td> 9938              </td></tr>\n",
       "\t<tr><td>Software Engineer  </td><td>Male               </td><td>21                 </td><td>5                  </td><td>College            </td><td>Management         </td><td>5                  </td><td>108476             </td><td>11128              </td></tr>\n",
       "\t<tr><td>Warehouse Associate</td><td>Female             </td><td>19                 </td><td>4                  </td><td>PhD                </td><td>Administration     </td><td>5                  </td><td> 90208             </td><td> 9268              </td></tr>\n",
       "\t<tr><td>Software Engineer  </td><td>Male               </td><td>20                 </td><td>5                  </td><td>Masters            </td><td>Sales              </td><td>4                  </td><td>108080             </td><td>10154              </td></tr>\n",
       "\t<tr><td>Graphic Designer   </td><td>Male               </td><td>26                 </td><td>5                  </td><td>Masters            </td><td>Engineering        </td><td>5                  </td><td> 99464             </td><td> 9319              </td></tr>\n",
       "\t<tr><td>IT                 </td><td>Female             </td><td>20                 </td><td>5                  </td><td>PhD                </td><td>Operations         </td><td>4                  </td><td> 70890             </td><td>10126              </td></tr>\n",
       "</tbody>\n",
       "</table>\n"
      ],
      "text/latex": [
       "\\begin{tabular}{r|lllllllll}\n",
       " jobtitle & gender & age & performance & education & department & seniority & income & bonus\\\\\n",
       "\\hline\n",
       "\t Graphic Designer    & Female              & 18                  & 5                   & College             & Operations          & 2                   &  42363              &  9938              \\\\\n",
       "\t Software Engineer   & Male                & 21                  & 5                   & College             & Management          & 5                   & 108476              & 11128              \\\\\n",
       "\t Warehouse Associate & Female              & 19                  & 4                   & PhD                 & Administration      & 5                   &  90208              &  9268              \\\\\n",
       "\t Software Engineer   & Male                & 20                  & 5                   & Masters             & Sales               & 4                   & 108080              & 10154              \\\\\n",
       "\t Graphic Designer    & Male                & 26                  & 5                   & Masters             & Engineering         & 5                   &  99464              &  9319              \\\\\n",
       "\t IT                  & Female              & 20                  & 5                   & PhD                 & Operations          & 4                   &  70890              & 10126              \\\\\n",
       "\\end{tabular}\n"
      ],
      "text/markdown": [
       "\n",
       "| jobtitle | gender | age | performance | education | department | seniority | income | bonus |\n",
       "|---|---|---|---|---|---|---|---|---|\n",
       "| Graphic Designer    | Female              | 18                  | 5                   | College             | Operations          | 2                   |  42363              |  9938               |\n",
       "| Software Engineer   | Male                | 21                  | 5                   | College             | Management          | 5                   | 108476              | 11128               |\n",
       "| Warehouse Associate | Female              | 19                  | 4                   | PhD                 | Administration      | 5                   |  90208              |  9268               |\n",
       "| Software Engineer   | Male                | 20                  | 5                   | Masters             | Sales               | 4                   | 108080              | 10154               |\n",
       "| Graphic Designer    | Male                | 26                  | 5                   | Masters             | Engineering         | 5                   |  99464              |  9319               |\n",
       "| IT                  | Female              | 20                  | 5                   | PhD                 | Operations          | 4                   |  70890              | 10126               |\n",
       "\n"
      ],
      "text/plain": [
       "  jobtitle            gender age performance education department     seniority\n",
       "1 Graphic Designer    Female 18  5           College   Operations     2        \n",
       "2 Software Engineer   Male   21  5           College   Management     5        \n",
       "3 Warehouse Associate Female 19  4           PhD       Administration 5        \n",
       "4 Software Engineer   Male   20  5           Masters   Sales          4        \n",
       "5 Graphic Designer    Male   26  5           Masters   Engineering    5        \n",
       "6 IT                  Female 20  5           PhD       Operations     4        \n",
       "  income bonus\n",
       "1  42363  9938\n",
       "2 108476 11128\n",
       "3  90208  9268\n",
       "4 108080 10154\n",
       "5  99464  9319\n",
       "6  70890 10126"
      ]
     },
     "metadata": {},
     "output_type": "display_data"
    }
   ],
   "source": [
    "base <- read.csv('glassdoordata.csv')\n",
    "head(base)"
   ]
  },
  {
   "cell_type": "markdown",
   "metadata": {},
   "source": [
    "Las variables son \n",
    "<img style=\"float: right;\" src=\"img/genero.png\" width=\"400\">\n",
    "\n",
    "- **job title**: Título del trabajo (e.g. “Graphic Designer”, “Software Engineer”, etc);\n",
    "- **gender**: Hombre o mujer;\n",
    "- **age**: edad;\n",
    "- **performance**: en escala del 1 al 5, 1 siendo el más bajo y 5 siendo la más alta;\n",
    "- **education**: niveles de educación (e.g. \"College\", \"PhD\", \"Masters\", \"Highschool\");\n",
    "- **department**: diferentes departamentos  (e.g. \"Operations\", \"Management\", etc);\n",
    "- **seniority**: en escala del 1 al 5, 1 siendo el más bajo y 5 siendo la más alta;\n",
    "- **income, bonus**: Expresados en dólares\n",
    "\n",
    "Pequeña transformación (feature engineering)"
   ]
  },
  {
   "cell_type": "code",
   "execution_count": 67,
   "metadata": {},
   "outputs": [],
   "source": [
    "base$pay <-  base$income + base$bonus"
   ]
  },
  {
   "cell_type": "code",
   "execution_count": 69,
   "metadata": {},
   "outputs": [
    {
     "data": {
      "text/html": [
       "<table>\n",
       "<thead><tr><th scope=col>jobtitle</th><th scope=col>gender</th><th scope=col>age</th><th scope=col>performance</th><th scope=col>education</th><th scope=col>department</th><th scope=col>seniority</th><th scope=col>income</th><th scope=col>bonus</th><th scope=col>pay</th></tr></thead>\n",
       "<tbody>\n",
       "\t<tr><td>Graphic Designer   </td><td>Female             </td><td>18                 </td><td>5                  </td><td>College            </td><td>Operations         </td><td>2                  </td><td> 42363             </td><td> 9938              </td><td> 52301             </td></tr>\n",
       "\t<tr><td>Software Engineer  </td><td>Male               </td><td>21                 </td><td>5                  </td><td>College            </td><td>Management         </td><td>5                  </td><td>108476             </td><td>11128              </td><td>119604             </td></tr>\n",
       "\t<tr><td>Warehouse Associate</td><td>Female             </td><td>19                 </td><td>4                  </td><td>PhD                </td><td>Administration     </td><td>5                  </td><td> 90208             </td><td> 9268              </td><td> 99476             </td></tr>\n",
       "\t<tr><td>Software Engineer  </td><td>Male               </td><td>20                 </td><td>5                  </td><td>Masters            </td><td>Sales              </td><td>4                  </td><td>108080             </td><td>10154              </td><td>118234             </td></tr>\n",
       "\t<tr><td>Graphic Designer   </td><td>Male               </td><td>26                 </td><td>5                  </td><td>Masters            </td><td>Engineering        </td><td>5                  </td><td> 99464             </td><td> 9319              </td><td>108783             </td></tr>\n",
       "\t<tr><td>IT                 </td><td>Female             </td><td>20                 </td><td>5                  </td><td>PhD                </td><td>Operations         </td><td>4                  </td><td> 70890             </td><td>10126              </td><td> 81016             </td></tr>\n",
       "\t<tr><td>Graphic Designer   </td><td>Female             </td><td>20                 </td><td>5                  </td><td>College            </td><td>Sales              </td><td>4                  </td><td> 67585             </td><td>10541              </td><td> 78126             </td></tr>\n",
       "\t<tr><td>Software Engineer  </td><td>Male               </td><td>18                 </td><td>4                  </td><td>PhD                </td><td>Engineering        </td><td>5                  </td><td> 97523             </td><td>10240              </td><td>107763             </td></tr>\n",
       "\t<tr><td>Graphic Designer   </td><td>Female             </td><td>33                 </td><td>5                  </td><td>High School        </td><td>Engineering        </td><td>5                  </td><td>112976             </td><td> 9836              </td><td>122812             </td></tr>\n",
       "\t<tr><td>Sales Associate    </td><td>Female             </td><td>35                 </td><td>5                  </td><td>College            </td><td>Engineering        </td><td>5                  </td><td>106524             </td><td> 9941              </td><td>116465             </td></tr>\n",
       "</tbody>\n",
       "</table>\n"
      ],
      "text/latex": [
       "\\begin{tabular}{r|llllllllll}\n",
       " jobtitle & gender & age & performance & education & department & seniority & income & bonus & pay\\\\\n",
       "\\hline\n",
       "\t Graphic Designer    & Female              & 18                  & 5                   & College             & Operations          & 2                   &  42363              &  9938               &  52301             \\\\\n",
       "\t Software Engineer   & Male                & 21                  & 5                   & College             & Management          & 5                   & 108476              & 11128               & 119604             \\\\\n",
       "\t Warehouse Associate & Female              & 19                  & 4                   & PhD                 & Administration      & 5                   &  90208              &  9268               &  99476             \\\\\n",
       "\t Software Engineer   & Male                & 20                  & 5                   & Masters             & Sales               & 4                   & 108080              & 10154               & 118234             \\\\\n",
       "\t Graphic Designer    & Male                & 26                  & 5                   & Masters             & Engineering         & 5                   &  99464              &  9319               & 108783             \\\\\n",
       "\t IT                  & Female              & 20                  & 5                   & PhD                 & Operations          & 4                   &  70890              & 10126               &  81016             \\\\\n",
       "\t Graphic Designer    & Female              & 20                  & 5                   & College             & Sales               & 4                   &  67585              & 10541               &  78126             \\\\\n",
       "\t Software Engineer   & Male                & 18                  & 4                   & PhD                 & Engineering         & 5                   &  97523              & 10240               & 107763             \\\\\n",
       "\t Graphic Designer    & Female              & 33                  & 5                   & High School         & Engineering         & 5                   & 112976              &  9836               & 122812             \\\\\n",
       "\t Sales Associate     & Female              & 35                  & 5                   & College             & Engineering         & 5                   & 106524              &  9941               & 116465             \\\\\n",
       "\\end{tabular}\n"
      ],
      "text/markdown": [
       "\n",
       "| jobtitle | gender | age | performance | education | department | seniority | income | bonus | pay |\n",
       "|---|---|---|---|---|---|---|---|---|---|\n",
       "| Graphic Designer    | Female              | 18                  | 5                   | College             | Operations          | 2                   |  42363              |  9938               |  52301              |\n",
       "| Software Engineer   | Male                | 21                  | 5                   | College             | Management          | 5                   | 108476              | 11128               | 119604              |\n",
       "| Warehouse Associate | Female              | 19                  | 4                   | PhD                 | Administration      | 5                   |  90208              |  9268               |  99476              |\n",
       "| Software Engineer   | Male                | 20                  | 5                   | Masters             | Sales               | 4                   | 108080              | 10154               | 118234              |\n",
       "| Graphic Designer    | Male                | 26                  | 5                   | Masters             | Engineering         | 5                   |  99464              |  9319               | 108783              |\n",
       "| IT                  | Female              | 20                  | 5                   | PhD                 | Operations          | 4                   |  70890              | 10126               |  81016              |\n",
       "| Graphic Designer    | Female              | 20                  | 5                   | College             | Sales               | 4                   |  67585              | 10541               |  78126              |\n",
       "| Software Engineer   | Male                | 18                  | 4                   | PhD                 | Engineering         | 5                   |  97523              | 10240               | 107763              |\n",
       "| Graphic Designer    | Female              | 33                  | 5                   | High School         | Engineering         | 5                   | 112976              |  9836               | 122812              |\n",
       "| Sales Associate     | Female              | 35                  | 5                   | College             | Engineering         | 5                   | 106524              |  9941               | 116465              |\n",
       "\n"
      ],
      "text/plain": [
       "   jobtitle            gender age performance education   department    \n",
       "1  Graphic Designer    Female 18  5           College     Operations    \n",
       "2  Software Engineer   Male   21  5           College     Management    \n",
       "3  Warehouse Associate Female 19  4           PhD         Administration\n",
       "4  Software Engineer   Male   20  5           Masters     Sales         \n",
       "5  Graphic Designer    Male   26  5           Masters     Engineering   \n",
       "6  IT                  Female 20  5           PhD         Operations    \n",
       "7  Graphic Designer    Female 20  5           College     Sales         \n",
       "8  Software Engineer   Male   18  4           PhD         Engineering   \n",
       "9  Graphic Designer    Female 33  5           High School Engineering   \n",
       "10 Sales Associate     Female 35  5           College     Engineering   \n",
       "   seniority income bonus pay   \n",
       "1  2          42363  9938  52301\n",
       "2  5         108476 11128 119604\n",
       "3  5          90208  9268  99476\n",
       "4  4         108080 10154 118234\n",
       "5  5          99464  9319 108783\n",
       "6  4          70890 10126  81016\n",
       "7  4          67585 10541  78126\n",
       "8  5          97523 10240 107763\n",
       "9  5         112976  9836 122812\n",
       "10 5         106524  9941 116465"
      ]
     },
     "metadata": {},
     "output_type": "display_data"
    }
   ],
   "source": [
    "head(base,10)"
   ]
  },
  {
   "cell_type": "markdown",
   "metadata": {},
   "source": [
    "### Ejercicio 1\n",
    "Construya la matriz de correlaciones de entre las variables cuantitavias de la base de datos. Qué variables parecen razonables para usar en un modelo de regresión? "
   ]
  },
  {
   "cell_type": "markdown",
   "metadata": {},
   "source": [
    "**Respuesta**."
   ]
  },
  {
   "cell_type": "code",
   "execution_count": 70,
   "metadata": {},
   "outputs": [
    {
     "data": {
      "text/html": [
       "<table>\n",
       "<thead><tr><th></th><th scope=col>age</th><th scope=col>performance</th><th scope=col>seniority</th><th scope=col>pay</th></tr></thead>\n",
       "<tbody>\n",
       "\t<tr><th scope=row>age</th><td> 1.00000000</td><td>-0.05687460</td><td>-0.02141389</td><td>0.53371461 </td></tr>\n",
       "\t<tr><th scope=row>performance</th><td>-0.05687460</td><td> 1.00000000</td><td>-0.02112748</td><td>0.01415472 </td></tr>\n",
       "\t<tr><th scope=row>seniority</th><td>-0.02141389</td><td>-0.02112748</td><td> 1.00000000</td><td>0.53030682 </td></tr>\n",
       "\t<tr><th scope=row>pay</th><td> 0.53371461</td><td> 0.01415472</td><td> 0.53030682</td><td>1.00000000 </td></tr>\n",
       "</tbody>\n",
       "</table>\n"
      ],
      "text/latex": [
       "\\begin{tabular}{r|llll}\n",
       "  & age & performance & seniority & pay\\\\\n",
       "\\hline\n",
       "\tage &  1.00000000 & -0.05687460 & -0.02141389 & 0.53371461 \\\\\n",
       "\tperformance & -0.05687460 &  1.00000000 & -0.02112748 & 0.01415472 \\\\\n",
       "\tseniority & -0.02141389 & -0.02112748 &  1.00000000 & 0.53030682 \\\\\n",
       "\tpay &  0.53371461 &  0.01415472 &  0.53030682 & 1.00000000 \\\\\n",
       "\\end{tabular}\n"
      ],
      "text/markdown": [
       "\n",
       "| <!--/--> | age | performance | seniority | pay |\n",
       "|---|---|---|---|---|\n",
       "| age |  1.00000000 | -0.05687460 | -0.02141389 | 0.53371461  |\n",
       "| performance | -0.05687460 |  1.00000000 | -0.02112748 | 0.01415472  |\n",
       "| seniority | -0.02141389 | -0.02112748 |  1.00000000 | 0.53030682  |\n",
       "| pay |  0.53371461 |  0.01415472 |  0.53030682 | 1.00000000  |\n",
       "\n"
      ],
      "text/plain": [
       "            age         performance seniority   pay       \n",
       "age          1.00000000 -0.05687460 -0.02141389 0.53371461\n",
       "performance -0.05687460  1.00000000 -0.02112748 0.01415472\n",
       "seniority   -0.02141389 -0.02112748  1.00000000 0.53030682\n",
       "pay          0.53371461  0.01415472  0.53030682 1.00000000"
      ]
     },
     "metadata": {},
     "output_type": "display_data"
    }
   ],
   "source": [
    "cor(base[,c(\"age\", \"performance\", \"seniority\", \"pay\")])"
   ]
  },
  {
   "cell_type": "code",
   "execution_count": 73,
   "metadata": {},
   "outputs": [
    {
     "data": {
      "image/png": "[encoded data removed]",
      "text/plain": [
       "Plot with title \"\""
      ]
     },
     "metadata": {},
     "output_type": "display_data"
    }
   ],
   "source": [
    "# install.packages(\"corrplot\")\n",
    "library(corrplot)\n",
    "options(repr.plot.width=4, repr.plot.height=4)\n",
    "corrplot(cor(base[,c(\"age\", \"performance\", \"seniority\", \"pay\")]), method=\"circle\")"
   ]
  },
  {
   "cell_type": "markdown",
   "metadata": {},
   "source": [
    "### Ejercicio 2\n",
    "Construya Figuras que permitan una comparación en la variable pay, indexada por género con las variables cualitativas de la base de datos. Qué variables parecen razonables para usar en un modelo de regresión? "
   ]
  },
  {
   "cell_type": "markdown",
   "metadata": {},
   "source": [
    "**Respuesta**."
   ]
  },
  {
   "cell_type": "code",
   "execution_count": 74,
   "metadata": {},
   "outputs": [
    {
     "data": {
      "image/png": "[encoded data removed]",
      "text/plain": [
       "plot without title"
      ]
     },
     "metadata": {},
     "output_type": "display_data"
    }
   ],
   "source": [
    "library(gridExtra)\n",
    "library(ggplot2)\n",
    "options(repr.plot.width=16, repr.plot.height=12)\n",
    "fig2 <- ggplot(base, aes(x=factor(education), y=pay, col=gender))+geom_boxplot()\n",
    "fig3 <- ggplot(base, aes(x=factor(jobtitle), y=pay, col=gender))+geom_boxplot()+theme(axis.text.x = element_text(angle = 30, vjust = 0.5, hjust=1))\n",
    "fig4 <- ggplot(base, aes(x=factor(performance), y=pay, col=gender))+geom_boxplot()\n",
    "grid.arrange(fig2,fig3,fig4, ncol=2, nrow=2)"
   ]
  },
  {
   "cell_type": "markdown",
   "metadata": {},
   "source": [
    "### Ejercicio 3 \n",
    "\n",
    "Conluya si tiene sentido suponer que la formación académica influye en el pago. "
   ]
  },
  {
   "cell_type": "code",
   "execution_count": 75,
   "metadata": {
    "scrolled": true
   },
   "outputs": [
    {
     "data": {
      "text/html": [
       "<ol class=list-inline>\n",
       "\t<li>'College'</li>\n",
       "\t<li>'High School'</li>\n",
       "\t<li>'Masters'</li>\n",
       "\t<li>'PhD'</li>\n",
       "</ol>\n"
      ],
      "text/latex": [
       "\\begin{enumerate*}\n",
       "\\item 'College'\n",
       "\\item 'High School'\n",
       "\\item 'Masters'\n",
       "\\item 'PhD'\n",
       "\\end{enumerate*}\n"
      ],
      "text/markdown": [
       "1. 'College'\n",
       "2. 'High School'\n",
       "3. 'Masters'\n",
       "4. 'PhD'\n",
       "\n",
       "\n"
      ],
      "text/plain": [
       "[1] \"College\"     \"High School\" \"Masters\"     \"PhD\"        "
      ]
     },
     "metadata": {},
     "output_type": "display_data"
    }
   ],
   "source": [
    "levels(base$education)"
   ]
  },
  {
   "cell_type": "markdown",
   "metadata": {},
   "source": [
    "**Respuesta**."
   ]
  },
  {
   "cell_type": "code",
   "execution_count": 9,
   "metadata": {
    "scrolled": true
   },
   "outputs": [
    {
     "data": {
      "text/plain": [
       "\n",
       "Call:\n",
       "lm(formula = pay ~ factor(gender) + factor(education), data = base)\n",
       "\n",
       "Residuals:\n",
       "   Min     1Q Median     3Q    Max \n",
       "-61714 -16930   -851  16377  73819 \n",
       "\n",
       "Coefficients:\n",
       "                             Estimate Std. Error t value Pr(>|t|)    \n",
       "(Intercept)                     94767       1750  54.159  < 2e-16 ***\n",
       "factor(gender)Male               7977       1555   5.131 3.46e-07 ***\n",
       "factor(education)High School    -3899       2177  -1.791 0.073615 .  \n",
       "factor(education)Masters         4648       2200   2.113 0.034856 *  \n",
       "factor(education)PhD             7447       2238   3.328 0.000906 ***\n",
       "---\n",
       "Signif. codes:  0 '***' 0.001 '**' 0.01 '*' 0.05 '.' 0.1 ' ' 1\n",
       "\n",
       "Residual standard error: 24460 on 995 degrees of freedom\n",
       "Multiple R-squared:  0.05847,\tAdjusted R-squared:  0.05468 \n",
       "F-statistic: 15.45 on 4 and 995 DF,  p-value: 2.893e-12\n"
      ]
     },
     "metadata": {},
     "output_type": "display_data"
    }
   ],
   "source": [
    "ajuste2 <- lm(pay ~ factor(gender) + factor(education), data=base)\n",
    "summary(ajuste2)"
   ]
  },
  {
   "cell_type": "markdown",
   "metadata": {},
   "source": [
    "### Ejercicio 5\n",
    "\n",
    "Incluya la variable age en el modelo. Tiene sentido el modelo obtenido? "
   ]
  },
  {
   "cell_type": "markdown",
   "metadata": {},
   "source": [
    "**Respuesta**."
   ]
  },
  {
   "cell_type": "code",
   "execution_count": 78,
   "metadata": {},
   "outputs": [
    {
     "data": {
      "text/plain": [
       "\n",
       "Call:\n",
       "lm(formula = pay ~ gender + age + factor(education), data = base)\n",
       "\n",
       "Residuals:\n",
       "   Min     1Q Median     3Q    Max \n",
       "-52301 -14148   -304  13654  60890 \n",
       "\n",
       "Coefficients:\n",
       "                             Estimate Std. Error t value Pr(>|t|)    \n",
       "(Intercept)                  55619.19    2378.88  23.380  < 2e-16 ***\n",
       "genderMale                    8789.09    1298.00   6.771 2.18e-11 ***\n",
       "age                            942.46      45.21  20.846  < 2e-16 ***\n",
       "factor(education)High School -3906.31    1817.03  -2.150 0.031809 *  \n",
       "factor(education)Masters      4171.08    1836.17   2.272 0.023322 *  \n",
       "factor(education)PhD          6727.28    1867.62   3.602 0.000331 ***\n",
       "---\n",
       "Signif. codes:  0 '***' 0.001 '**' 0.01 '*' 0.05 '.' 0.1 ' ' 1\n",
       "\n",
       "Residual standard error: 20410 on 994 degrees of freedom\n",
       "Multiple R-squared:  0.3449,\tAdjusted R-squared:  0.3416 \n",
       "F-statistic: 104.7 on 5 and 994 DF,  p-value: < 2.2e-16\n"
      ]
     },
     "metadata": {},
     "output_type": "display_data"
    }
   ],
   "source": [
    "ajuste3 <- lm(pay~gender + age + factor(education), data=base)\n",
    "summary(ajuste3)"
   ]
  },
  {
   "cell_type": "markdown",
   "metadata": {},
   "source": [
    "### Ejercicio 6 \n",
    "Qué hace la línea de código `base[which(dffits(ajuste) > 0.5),]`? Qué puede interpretar de esto?\n"
   ]
  },
  {
   "cell_type": "markdown",
   "metadata": {},
   "source": [
    "**Respuesta**."
   ]
  },
  {
   "cell_type": "code",
   "execution_count": 76,
   "metadata": {},
   "outputs": [
    {
     "data": {
      "text/html": [
       "<table>\n",
       "<thead><tr><th scope=col>jobtitle</th><th scope=col>gender</th><th scope=col>age</th><th scope=col>performance</th><th scope=col>education</th><th scope=col>department</th><th scope=col>seniority</th><th scope=col>income</th><th scope=col>bonus</th><th scope=col>pay</th></tr></thead>\n",
       "<tbody>\n",
       "</tbody>\n",
       "</table>\n"
      ],
      "text/latex": [
       "\\begin{tabular}{r|llllllllll}\n",
       " jobtitle & gender & age & performance & education & department & seniority & income & bonus & pay\\\\\n",
       "\\hline\n",
       "\\end{tabular}\n"
      ],
      "text/markdown": [
       "\n",
       "| jobtitle | gender | age | performance | education | department | seniority | income | bonus | pay |\n",
       "|---|---|---|---|---|---|---|---|---|---|\n",
       "\n"
      ],
      "text/plain": [
       "     jobtitle gender age performance education department seniority income\n",
       "     bonus pay"
      ]
     },
     "metadata": {},
     "output_type": "display_data"
    }
   ],
   "source": [
    "base[which(dffits(ajuste3) > 0.5),]"
   ]
  },
  {
   "cell_type": "code",
   "execution_count": 79,
   "metadata": {},
   "outputs": [
    {
     "name": "stdout",
     "output_type": "stream",
     "text": [
      "Potentially influential observations of\n",
      "\t lm(formula = pay ~ gender + age + factor(education), data = base) :\n",
      "\n",
      "    dfb.1_ dfb.gndM dfb.age dfb.f()S dfb.f()M dfb.f()P dffit cov.r   cook.d\n",
      "25   0.07   0.07    -0.12    0.00     0.00     0.12     0.21  0.97_*  0.01 \n",
      "71   0.15   0.08    -0.09   -0.13    -0.13    -0.12     0.22  0.97_*  0.01 \n",
      "85   0.04   0.08    -0.08    0.00     0.00     0.13     0.22  0.96_*  0.01 \n",
      "97   0.00  -0.09     0.04    0.12     0.01     0.00     0.21  0.96_*  0.01 \n",
      "354 -0.11   0.08     0.11    0.00    -0.01     0.12     0.23  0.97_*  0.01 \n",
      "358 -0.05  -0.08     0.10    0.00     0.00     0.12     0.21  0.98_*  0.01 \n",
      "439  0.01  -0.09     0.02    0.12     0.01     0.00     0.19  0.97_*  0.01 \n",
      "591 -0.02   0.07     0.00   -0.10     0.00     0.00    -0.16  0.98_*  0.00 \n",
      "686 -0.04   0.07     0.03    0.00     0.00     0.10     0.17  0.98_*  0.00 \n",
      "747 -0.02   0.06     0.01    0.00     0.00     0.10     0.16  0.98_*  0.00 \n",
      "774 -0.04   0.06     0.03    0.00     0.10     0.00     0.16  0.98_*  0.00 \n",
      "794  0.03   0.08    -0.06    0.11     0.00     0.00     0.19  0.97_*  0.01 \n",
      "800 -0.09   0.09     0.09    0.11    -0.01    -0.01     0.21  0.97_*  0.01 \n",
      "836  0.01  -0.10     0.02    0.13     0.01     0.00     0.21  0.96_*  0.01 \n",
      "857  0.06  -0.07    -0.05    0.00     0.01    -0.11    -0.19  0.97_*  0.01 \n",
      "928 -0.11   0.08     0.11    0.00    -0.01     0.13     0.23  0.96_*  0.01 \n",
      "950 -0.12  -0.08     0.06    0.12     0.12     0.12    -0.19  0.97_*  0.01 \n",
      "966 -0.01  -0.06     0.04    0.00    -0.10     0.00    -0.17  0.97_*  0.00 \n",
      "    hat  \n",
      "25   0.01\n",
      "71   0.01\n",
      "85   0.01\n",
      "97   0.00\n",
      "354  0.01\n",
      "358  0.01\n",
      "439  0.00\n",
      "591  0.00\n",
      "686  0.01\n",
      "747  0.01\n",
      "774  0.00\n",
      "794  0.01\n",
      "800  0.01\n",
      "836  0.00\n",
      "857  0.01\n",
      "928  0.01\n",
      "950  0.01\n",
      "966  0.00\n"
     ]
    }
   ],
   "source": [
    "summary(influence.measures(ajuste3))"
   ]
  },
  {
   "cell_type": "markdown",
   "metadata": {},
   "source": [
    "### Ejercicio 7\n",
    "\n",
    "Monte el modelo saturado (con todas las variables). Algún cambio que llame su atención?"
   ]
  },
  {
   "cell_type": "markdown",
   "metadata": {},
   "source": [
    "**Respuesta**."
   ]
  },
  {
   "cell_type": "code",
   "execution_count": 80,
   "metadata": {},
   "outputs": [
    {
     "data": {
      "text/html": [
       "<ol class=list-inline>\n",
       "\t<li>'Data Scientist'</li>\n",
       "\t<li>'Driver'</li>\n",
       "\t<li>'Financial Analyst'</li>\n",
       "\t<li>'Graphic Designer'</li>\n",
       "\t<li>'IT'</li>\n",
       "\t<li>'Manager'</li>\n",
       "\t<li>'Marketing Associate'</li>\n",
       "\t<li>'Sales Associate'</li>\n",
       "\t<li>'Software Engineer'</li>\n",
       "\t<li>'Warehouse Associate'</li>\n",
       "</ol>\n"
      ],
      "text/latex": [
       "\\begin{enumerate*}\n",
       "\\item 'Data Scientist'\n",
       "\\item 'Driver'\n",
       "\\item 'Financial Analyst'\n",
       "\\item 'Graphic Designer'\n",
       "\\item 'IT'\n",
       "\\item 'Manager'\n",
       "\\item 'Marketing Associate'\n",
       "\\item 'Sales Associate'\n",
       "\\item 'Software Engineer'\n",
       "\\item 'Warehouse Associate'\n",
       "\\end{enumerate*}\n"
      ],
      "text/markdown": [
       "1. 'Data Scientist'\n",
       "2. 'Driver'\n",
       "3. 'Financial Analyst'\n",
       "4. 'Graphic Designer'\n",
       "5. 'IT'\n",
       "6. 'Manager'\n",
       "7. 'Marketing Associate'\n",
       "8. 'Sales Associate'\n",
       "9. 'Software Engineer'\n",
       "10. 'Warehouse Associate'\n",
       "\n",
       "\n"
      ],
      "text/plain": [
       " [1] \"Data Scientist\"      \"Driver\"              \"Financial Analyst\"  \n",
       " [4] \"Graphic Designer\"    \"IT\"                  \"Manager\"            \n",
       " [7] \"Marketing Associate\" \"Sales Associate\"     \"Software Engineer\"  \n",
       "[10] \"Warehouse Associate\""
      ]
     },
     "metadata": {},
     "output_type": "display_data"
    }
   ],
   "source": [
    "levels(base$jobtitle)"
   ]
  },
  {
   "cell_type": "code",
   "execution_count": 81,
   "metadata": {},
   "outputs": [
    {
     "data": {
      "text/plain": [
       "\n",
       "Call:\n",
       "lm(formula = pay ~ factor(jobtitle) + age + factor(performance) + \n",
       "    factor(education) + factor(department) + factor(seniority) + \n",
       "    gender, data = base)\n",
       "\n",
       "Residuals:\n",
       "   Min     1Q Median     3Q    Max \n",
       "-32702  -7281    203   7032  27256 \n",
       "\n",
       "Coefficients:\n",
       "                                     Estimate Std. Error t value Pr(>|t|)    \n",
       "(Intercept)                          33984.35    1909.57  17.797  < 2e-16 ***\n",
       "factor(jobtitle)Driver               -4014.42    1456.69  -2.756 0.005963 ** \n",
       "factor(jobtitle)Financial Analyst     3216.73    1397.66   2.302 0.021573 *  \n",
       "factor(jobtitle)Graphic Designer     -2746.59    1433.11  -1.917 0.055592 .  \n",
       "factor(jobtitle)IT                   -2285.68    1432.12  -1.596 0.110810    \n",
       "factor(jobtitle)Manager              31440.94    1479.58  21.250  < 2e-16 ***\n",
       "factor(jobtitle)Marketing Associate -17145.30    1389.95 -12.335  < 2e-16 ***\n",
       "factor(jobtitle)Sales Associate        216.60    1440.11   0.150 0.880478    \n",
       "factor(jobtitle)Software Engineer    13108.30    1424.30   9.203  < 2e-16 ***\n",
       "factor(jobtitle)Warehouse Associate   -681.41    1456.34  -0.468 0.639965    \n",
       "age                                    950.28      22.58  42.083  < 2e-16 ***\n",
       "factor(performance)2                  1057.91    1032.99   1.024 0.306030    \n",
       "factor(performance)3                  1673.50    1036.39   1.615 0.106691    \n",
       "factor(performance)4                  3480.71    1018.59   3.417 0.000659 ***\n",
       "factor(performance)5                  4494.94    1020.28   4.406 1.17e-05 ***\n",
       "factor(education)High School         -1421.27     911.24  -1.560 0.119155    \n",
       "factor(education)Masters              4700.75     916.78   5.127 3.54e-07 ***\n",
       "factor(education)PhD                  6056.38     932.34   6.496 1.32e-10 ***\n",
       "factor(department)Engineering         3360.91    1039.28   3.234 0.001262 ** \n",
       "factor(department)Management          3072.14    1037.08   2.962 0.003128 ** \n",
       "factor(department)Operations          -352.64    1019.74  -0.346 0.729559    \n",
       "factor(department)Sales               6289.24    1023.77   6.143 1.18e-09 ***\n",
       "factor(seniority)2                    8628.88    1017.20   8.483  < 2e-16 ***\n",
       "factor(seniority)3                   18354.92    1004.02  18.281  < 2e-16 ***\n",
       "factor(seniority)4                   29590.05    1050.87  28.158  < 2e-16 ***\n",
       "factor(seniority)5                   39014.70    1037.52  37.604  < 2e-16 ***\n",
       "genderMale                             377.91     718.41   0.526 0.598981    \n",
       "---\n",
       "Signif. codes:  0 '***' 0.001 '**' 0.01 '*' 0.05 '.' 0.1 ' ' 1\n",
       "\n",
       "Residual standard error: 10130 on 973 degrees of freedom\n",
       "Multiple R-squared:  0.842,\tAdjusted R-squared:  0.8378 \n",
       "F-statistic: 199.5 on 26 and 973 DF,  p-value: < 2.2e-16\n"
      ]
     },
     "metadata": {},
     "output_type": "display_data"
    }
   ],
   "source": [
    "ajuste3 <- lm(pay~factor(jobtitle) + age + factor(performance) + factor(education) + factor(department) + factor(seniority) + gender, data=base)\n",
    "summary(ajuste3)"
   ]
  },
  {
   "cell_type": "markdown",
   "metadata": {},
   "source": [
    "### Ejercicio 8\n",
    "\n",
    "Teniendo el modelo anterior, cuáles son las áreas que mejor pagan?\n",
    "\n",
    "(a) Marketing Associate\n",
    "\n",
    "(b) Software Engineer\n",
    "\n",
    "(c) Manager\n",
    "\n",
    "(d) Graphic Designer"
   ]
  },
  {
   "cell_type": "markdown",
   "metadata": {},
   "source": [
    "**Respuesta**."
   ]
  },
  {
   "cell_type": "markdown",
   "metadata": {},
   "source": [
    "(b) Manager"
   ]
  },
  {
   "cell_type": "markdown",
   "metadata": {},
   "source": [
    "Considerando la diferencia en el $R^2$ de más de $80\\%$ entre el modelo más sencillo y el modelo más complejo, siendo género incluido en ambos, quiere decir que hay incidencia importante sobre la variabildiad de la información en las otras variables. "
   ]
  },
  {
   "cell_type": "markdown",
   "metadata": {},
   "source": [
    "### Ejercicio 9:\n",
    "\n",
    "Basado en lo anterior, considere las siguientes afirmaciones. \n",
    "\n",
    "I. Después de tener en cuenta  job title, education, performance y age, la proporción de la diferencia salarial atribuible únicamente al género es pequeña.\n",
    "\n",
    "II. Existe evidencia de que la discriminación salarial entre hombres y mujeres se debe únicamente al género.\n",
    "\n",
    "III. Hay motivos para creer que podría haber una cantidad desproporcionada de mujeres en trabajos peor pagados\n",
    "como marketing, mientras que podría haber más hombres en trabajos mejor pagados, como gerente.\n",
    "\n",
    "Elija la respuesta correcta:\n",
    "\n",
    "(a) I es correcto, II y III son incorrectos.\n",
    "\n",
    "(b) II es correcto, I y III son incorrectos.\n",
    "\n",
    "(c) I es incorrecta, II y III son correctas.\n",
    "\n",
    "(d) I y III son correctos, II es incorrecto."
   ]
  },
  {
   "cell_type": "markdown",
   "metadata": {},
   "source": [
    "**Respuesta**."
   ]
  },
  {
   "cell_type": "markdown",
   "metadata": {},
   "source": [
    "(d) I y III son correctos, II es incorrecto."
   ]
  },
  {
   "cell_type": "markdown",
   "metadata": {},
   "source": [
    "### Ejercicio 10:\n",
    "\n",
    "Establezca la cantidad de hombres y mujeres en los niveles de seniority y en jobtitle. Algo que llame su atención?"
   ]
  },
  {
   "cell_type": "code",
   "execution_count": 82,
   "metadata": {},
   "outputs": [
    {
     "data": {
      "text/plain": [
       "   \n",
       "    Female Male\n",
       "  1     83  112\n",
       "  2    102  107\n",
       "  3    106  113\n",
       "  4     80  104\n",
       "  5     97   96"
      ]
     },
     "metadata": {},
     "output_type": "display_data"
    }
   ],
   "source": [
    "counts <- table(base$seniority, base$gender)\n",
    "counts"
   ]
  },
  {
   "cell_type": "code",
   "execution_count": 83,
   "metadata": {
    "scrolled": true
   },
   "outputs": [
    {
     "data": {
      "text/plain": [
       "                     \n",
       "                      Female Male\n",
       "  Data Scientist          53   54\n",
       "  Driver                  46   45\n",
       "  Financial Analyst       49   58\n",
       "  Graphic Designer        48   50\n",
       "  IT                      50   46\n",
       "  Manager                 18   72\n",
       "  Marketing Associate    107   11\n",
       "  Sales Associate         43   51\n",
       "  Software Engineer        8  101\n",
       "  Warehouse Associate     46   44"
      ]
     },
     "metadata": {},
     "output_type": "display_data"
    }
   ],
   "source": [
    "counts <- table(base$jobtitle, base$gender)\n",
    "counts"
   ]
  },
  {
   "cell_type": "code",
   "execution_count": 84,
   "metadata": {},
   "outputs": [
    {
     "data": {
      "image/png": "[encoded data removed]",
      "text/plain": [
       "plot without title"
      ]
     },
     "metadata": {},
     "output_type": "display_data"
    }
   ],
   "source": [
    "ggplot(base, aes(x=factor(jobtitle), y=pay, col=gender))+\n",
    "    geom_boxplot()+\n",
    "    theme(axis.text.x = element_text(angle = 30, vjust = 0.5, hjust=1))"
   ]
  },
  {
   "cell_type": "markdown",
   "metadata": {},
   "source": [
    "### Ejercicio 11:\n",
    "Conclusiones del caso?"
   ]
  },
  {
   "cell_type": "markdown",
   "metadata": {},
   "source": [
    "**Respuesta**."
   ]
  },
  {
   "cell_type": "markdown",
   "metadata": {},
   "source": [
    "Nuestra conclusión inicial (basada en el modelo de regresión simple) es equivocada, no podemos concluir que exista discriminación por motivos de género. Lo anterior, ya que, como se vio recientemente, el salario también resulta una función de la posición de trabajo. Por tanto, el problema que puede ser entedido de forma exógena como discriminación, realmente se debería entender como la cantidad de mujeres que están presentes en algunas posiciones. En general, hay muchas más mujeres que hombres en posiciones muy mal pagas (Marketing Associate) y muchos más hombres que mujeres en posiciones muy bien pagas (Software Engineer y Manager). Por tanto, la recomendación hacía la forma de contratar mujeres para ciertas posiciones debería ser revisado. "
   ]
  },
  {
   "cell_type": "code",
   "execution_count": null,
   "metadata": {},
   "outputs": [],
   "source": []
  },
  {
   "cell_type": "code",
   "execution_count": null,
   "metadata": {},
   "outputs": [],
   "source": []
  },
  {
   "cell_type": "markdown",
   "metadata": {},
   "source": [
    "-------"
   ]
  },
  {
   "cell_type": "markdown",
   "metadata": {},
   "source": [
    "# Transformación de variables "
   ]
  },
  {
   "cell_type": "markdown",
   "metadata": {},
   "source": [
    "Idea central: Reducir el sesgo de los supuestos del modelo de regresión lineal que puedan presentar nuestros datos"
   ]
  },
  {
   "cell_type": "markdown",
   "metadata": {},
   "source": [
    "https://www.statisticshowto.com/box-cox-transformation/#:~:text=A%20Box%20Cox%20transformation%20is,a%20broader%20number%20of%20tests."
   ]
  },
  {
   "cell_type": "code",
   "execution_count": null,
   "metadata": {},
   "outputs": [],
   "source": [
    "x <- runif(1000, min=10, max=50)\n",
    "y <- log(34 + 10*x + rnorm(1000, sd=30))\n",
    "plot(x,y)"
   ]
  },
  {
   "cell_type": "code",
   "execution_count": null,
   "metadata": {},
   "outputs": [],
   "source": [
    "ajuste <- lm(y~x)\n",
    "summary(ajuste)\n",
    "plot(x,y)\n",
    "abline(ajuste)"
   ]
  },
  {
   "cell_type": "code",
   "execution_count": null,
   "metadata": {},
   "outputs": [],
   "source": [
    "options(repr.plot.width=7, repr.plot.height=7)\n",
    "par(mfrow=c(2,2))\n",
    "plot(ajuste)"
   ]
  },
  {
   "cell_type": "code",
   "execution_count": null,
   "metadata": {},
   "outputs": [],
   "source": [
    "plot(x,y)"
   ]
  },
  {
   "cell_type": "code",
   "execution_count": null,
   "metadata": {},
   "outputs": [],
   "source": [
    "plot(x,exp(y))"
   ]
  },
  {
   "cell_type": "code",
   "execution_count": null,
   "metadata": {},
   "outputs": [],
   "source": [
    "y_exp <- exp(y)\n",
    "ajuste <- lm(y_exp~x)\n",
    "summary(ajuste)\n",
    "plot(x,y)\n",
    "abline(ajuste)"
   ]
  },
  {
   "cell_type": "code",
   "execution_count": null,
   "metadata": {},
   "outputs": [],
   "source": [
    "par(mfrow=c(2,2))\n",
    "plot(ajuste)"
   ]
  },
  {
   "cell_type": "code",
   "execution_count": null,
   "metadata": {},
   "outputs": [],
   "source": [
    "library(MASS)\n",
    "\n",
    "#create data\n",
    "y=c(1, 1, 1, 2, 2, 2, 2, 2, 2, 3, 3, 3, 6, 7, 8)\n",
    "x=c(7, 7, 8, 3, 2, 4, 4, 6, 6, 7, 5, 3, 3, 5, 8)\n",
    "\n",
    "#fit linear regression model\n",
    "model <- lm(y~x)\n",
    "summary(model)\n",
    "plot(x,y)"
   ]
  },
  {
   "cell_type": "code",
   "execution_count": null,
   "metadata": {},
   "outputs": [],
   "source": []
  },
  {
   "cell_type": "code",
   "execution_count": null,
   "metadata": {},
   "outputs": [],
   "source": [
    "#find optimal lambda for Box-Cox transformation \n",
    "bc <- boxcox(y ~ x)\n",
    "lambda <- bc$x[which.max(bc$y)]\n",
    "\n",
    "\n",
    "lambda\n"
   ]
  },
  {
   "cell_type": "code",
   "execution_count": null,
   "metadata": {},
   "outputs": [],
   "source": [
    "#fit new linear regression model using the Box-Cox transformation\n",
    "y_trans <- y^{lambda-1}/lambda\n",
    "y\n",
    "y_trans\n",
    "# new_model <- lm(((y^lambda-1)/lambda) ~ x)"
   ]
  },
  {
   "cell_type": "code",
   "execution_count": null,
   "metadata": {
    "scrolled": true
   },
   "outputs": [],
   "source": [
    "plot(x,y_trans)"
   ]
  },
  {
   "cell_type": "code",
   "execution_count": null,
   "metadata": {
    "scrolled": true
   },
   "outputs": [],
   "source": [
    "ajuste2 <- lm(y_trans~x)\n",
    "summary(ajuste2)"
   ]
  },
  {
   "cell_type": "code",
   "execution_count": 17,
   "metadata": {},
   "outputs": [
    {
     "data": {
      "text/html": [
       "<table>\n",
       "<thead><tr><th scope=col>years</th><th scope=col>salary</th></tr></thead>\n",
       "<tbody>\n",
       "\t<tr><td>1     </td><td> 41504</td></tr>\n",
       "\t<tr><td>1     </td><td> 32619</td></tr>\n",
       "\t<tr><td>1     </td><td> 44322</td></tr>\n",
       "\t<tr><td>2     </td><td> 40038</td></tr>\n",
       "\t<tr><td>2     </td><td> 46147</td></tr>\n",
       "\t<tr><td>2     </td><td> 38447</td></tr>\n",
       "\t<tr><td>2     </td><td> 38163</td></tr>\n",
       "\t<tr><td>3     </td><td> 42104</td></tr>\n",
       "\t<tr><td>3     </td><td> 25597</td></tr>\n",
       "\t<tr><td>3     </td><td> 39599</td></tr>\n",
       "\t<tr><td>3     </td><td> 55698</td></tr>\n",
       "\t<tr><td>4     </td><td> 47220</td></tr>\n",
       "\t<tr><td>4     </td><td> 65929</td></tr>\n",
       "\t<tr><td>4     </td><td> 55794</td></tr>\n",
       "\t<tr><td>4     </td><td> 45959</td></tr>\n",
       "\t<tr><td>5     </td><td> 52460</td></tr>\n",
       "\t<tr><td>5     </td><td> 60308</td></tr>\n",
       "\t<tr><td>5     </td><td> 61458</td></tr>\n",
       "\t<tr><td>5     </td><td> 56951</td></tr>\n",
       "\t<tr><td>6     </td><td> 56174</td></tr>\n",
       "\t<tr><td>6     </td><td> 59363</td></tr>\n",
       "\t<tr><td>6     </td><td> 57642</td></tr>\n",
       "\t<tr><td>6     </td><td> 69792</td></tr>\n",
       "\t<tr><td>7     </td><td> 59321</td></tr>\n",
       "\t<tr><td>7     </td><td> 66379</td></tr>\n",
       "\t<tr><td>7     </td><td> 64282</td></tr>\n",
       "\t<tr><td>7     </td><td> 48901</td></tr>\n",
       "\t<tr><td>8     </td><td>100711</td></tr>\n",
       "\t<tr><td>8     </td><td> 59324</td></tr>\n",
       "\t<tr><td>8     </td><td> 54752</td></tr>\n",
       "\t<tr><td>...</td><td>...</td></tr>\n",
       "\t<tr><td>18    </td><td>210984</td></tr>\n",
       "\t<tr><td>18    </td><td>160044</td></tr>\n",
       "\t<tr><td>18    </td><td>137044</td></tr>\n",
       "\t<tr><td>19    </td><td>182996</td></tr>\n",
       "\t<tr><td>19    </td><td>184183</td></tr>\n",
       "\t<tr><td>19    </td><td>168666</td></tr>\n",
       "\t<tr><td>19    </td><td>121350</td></tr>\n",
       "\t<tr><td>20    </td><td>193627</td></tr>\n",
       "\t<tr><td>20    </td><td>142611</td></tr>\n",
       "\t<tr><td>20    </td><td>170131</td></tr>\n",
       "\t<tr><td>20    </td><td>134140</td></tr>\n",
       "\t<tr><td>21    </td><td>129446</td></tr>\n",
       "\t<tr><td>21    </td><td>201469</td></tr>\n",
       "\t<tr><td>21    </td><td>202104</td></tr>\n",
       "\t<tr><td>21    </td><td>220556</td></tr>\n",
       "\t<tr><td>22    </td><td>166419</td></tr>\n",
       "\t<tr><td>22    </td><td>149044</td></tr>\n",
       "\t<tr><td>22    </td><td>247017</td></tr>\n",
       "\t<tr><td>22    </td><td>247730</td></tr>\n",
       "\t<tr><td>23    </td><td>252917</td></tr>\n",
       "\t<tr><td>23    </td><td>235517</td></tr>\n",
       "\t<tr><td>23    </td><td>241276</td></tr>\n",
       "\t<tr><td>23    </td><td>197229</td></tr>\n",
       "\t<tr><td>24    </td><td>175879</td></tr>\n",
       "\t<tr><td>24    </td><td>253682</td></tr>\n",
       "\t<tr><td>24    </td><td>262578</td></tr>\n",
       "\t<tr><td>24    </td><td>207715</td></tr>\n",
       "\t<tr><td>25    </td><td>221179</td></tr>\n",
       "\t<tr><td>25    </td><td>212028</td></tr>\n",
       "\t<tr><td>25    </td><td>312549</td></tr>\n",
       "</tbody>\n",
       "</table>\n"
      ],
      "text/latex": [
       "\\begin{tabular}{r|ll}\n",
       " years & salary\\\\\n",
       "\\hline\n",
       "\t 1      &  41504\\\\\n",
       "\t 1      &  32619\\\\\n",
       "\t 1      &  44322\\\\\n",
       "\t 2      &  40038\\\\\n",
       "\t 2      &  46147\\\\\n",
       "\t 2      &  38447\\\\\n",
       "\t 2      &  38163\\\\\n",
       "\t 3      &  42104\\\\\n",
       "\t 3      &  25597\\\\\n",
       "\t 3      &  39599\\\\\n",
       "\t 3      &  55698\\\\\n",
       "\t 4      &  47220\\\\\n",
       "\t 4      &  65929\\\\\n",
       "\t 4      &  55794\\\\\n",
       "\t 4      &  45959\\\\\n",
       "\t 5      &  52460\\\\\n",
       "\t 5      &  60308\\\\\n",
       "\t 5      &  61458\\\\\n",
       "\t 5      &  56951\\\\\n",
       "\t 6      &  56174\\\\\n",
       "\t 6      &  59363\\\\\n",
       "\t 6      &  57642\\\\\n",
       "\t 6      &  69792\\\\\n",
       "\t 7      &  59321\\\\\n",
       "\t 7      &  66379\\\\\n",
       "\t 7      &  64282\\\\\n",
       "\t 7      &  48901\\\\\n",
       "\t 8      & 100711\\\\\n",
       "\t 8      &  59324\\\\\n",
       "\t 8      &  54752\\\\\n",
       "\t ... & ...\\\\\n",
       "\t 18     & 210984\\\\\n",
       "\t 18     & 160044\\\\\n",
       "\t 18     & 137044\\\\\n",
       "\t 19     & 182996\\\\\n",
       "\t 19     & 184183\\\\\n",
       "\t 19     & 168666\\\\\n",
       "\t 19     & 121350\\\\\n",
       "\t 20     & 193627\\\\\n",
       "\t 20     & 142611\\\\\n",
       "\t 20     & 170131\\\\\n",
       "\t 20     & 134140\\\\\n",
       "\t 21     & 129446\\\\\n",
       "\t 21     & 201469\\\\\n",
       "\t 21     & 202104\\\\\n",
       "\t 21     & 220556\\\\\n",
       "\t 22     & 166419\\\\\n",
       "\t 22     & 149044\\\\\n",
       "\t 22     & 247017\\\\\n",
       "\t 22     & 247730\\\\\n",
       "\t 23     & 252917\\\\\n",
       "\t 23     & 235517\\\\\n",
       "\t 23     & 241276\\\\\n",
       "\t 23     & 197229\\\\\n",
       "\t 24     & 175879\\\\\n",
       "\t 24     & 253682\\\\\n",
       "\t 24     & 262578\\\\\n",
       "\t 24     & 207715\\\\\n",
       "\t 25     & 221179\\\\\n",
       "\t 25     & 212028\\\\\n",
       "\t 25     & 312549\\\\\n",
       "\\end{tabular}\n"
      ],
      "text/markdown": [
       "\n",
       "| years | salary |\n",
       "|---|---|\n",
       "| 1      |  41504 |\n",
       "| 1      |  32619 |\n",
       "| 1      |  44322 |\n",
       "| 2      |  40038 |\n",
       "| 2      |  46147 |\n",
       "| 2      |  38447 |\n",
       "| 2      |  38163 |\n",
       "| 3      |  42104 |\n",
       "| 3      |  25597 |\n",
       "| 3      |  39599 |\n",
       "| 3      |  55698 |\n",
       "| 4      |  47220 |\n",
       "| 4      |  65929 |\n",
       "| 4      |  55794 |\n",
       "| 4      |  45959 |\n",
       "| 5      |  52460 |\n",
       "| 5      |  60308 |\n",
       "| 5      |  61458 |\n",
       "| 5      |  56951 |\n",
       "| 6      |  56174 |\n",
       "| 6      |  59363 |\n",
       "| 6      |  57642 |\n",
       "| 6      |  69792 |\n",
       "| 7      |  59321 |\n",
       "| 7      |  66379 |\n",
       "| 7      |  64282 |\n",
       "| 7      |  48901 |\n",
       "| 8      | 100711 |\n",
       "| 8      |  59324 |\n",
       "| 8      |  54752 |\n",
       "| ... | ... |\n",
       "| 18     | 210984 |\n",
       "| 18     | 160044 |\n",
       "| 18     | 137044 |\n",
       "| 19     | 182996 |\n",
       "| 19     | 184183 |\n",
       "| 19     | 168666 |\n",
       "| 19     | 121350 |\n",
       "| 20     | 193627 |\n",
       "| 20     | 142611 |\n",
       "| 20     | 170131 |\n",
       "| 20     | 134140 |\n",
       "| 21     | 129446 |\n",
       "| 21     | 201469 |\n",
       "| 21     | 202104 |\n",
       "| 21     | 220556 |\n",
       "| 22     | 166419 |\n",
       "| 22     | 149044 |\n",
       "| 22     | 247017 |\n",
       "| 22     | 247730 |\n",
       "| 23     | 252917 |\n",
       "| 23     | 235517 |\n",
       "| 23     | 241276 |\n",
       "| 23     | 197229 |\n",
       "| 24     | 175879 |\n",
       "| 24     | 253682 |\n",
       "| 24     | 262578 |\n",
       "| 24     | 207715 |\n",
       "| 25     | 221179 |\n",
       "| 25     | 212028 |\n",
       "| 25     | 312549 |\n",
       "\n"
      ],
      "text/plain": [
       "    years salary\n",
       "1   1      41504\n",
       "2   1      32619\n",
       "3   1      44322\n",
       "4   2      40038\n",
       "5   2      46147\n",
       "6   2      38447\n",
       "7   2      38163\n",
       "8   3      42104\n",
       "9   3      25597\n",
       "10  3      39599\n",
       "11  3      55698\n",
       "12  4      47220\n",
       "13  4      65929\n",
       "14  4      55794\n",
       "15  4      45959\n",
       "16  5      52460\n",
       "17  5      60308\n",
       "18  5      61458\n",
       "19  5      56951\n",
       "20  6      56174\n",
       "21  6      59363\n",
       "22  6      57642\n",
       "23  6      69792\n",
       "24  7      59321\n",
       "25  7      66379\n",
       "26  7      64282\n",
       "27  7      48901\n",
       "28  8     100711\n",
       "29  8      59324\n",
       "30  8      54752\n",
       "... ...   ...   \n",
       "71  18    210984\n",
       "72  18    160044\n",
       "73  18    137044\n",
       "74  19    182996\n",
       "75  19    184183\n",
       "76  19    168666\n",
       "77  19    121350\n",
       "78  20    193627\n",
       "79  20    142611\n",
       "80  20    170131\n",
       "81  20    134140\n",
       "82  21    129446\n",
       "83  21    201469\n",
       "84  21    202104\n",
       "85  21    220556\n",
       "86  22    166419\n",
       "87  22    149044\n",
       "88  22    247017\n",
       "89  22    247730\n",
       "90  23    252917\n",
       "91  23    235517\n",
       "92  23    241276\n",
       "93  23    197229\n",
       "94  24    175879\n",
       "95  24    253682\n",
       "96  24    262578\n",
       "97  24    207715\n",
       "98  25    221179\n",
       "99  25    212028\n",
       "100 25    312549"
      ]
     },
     "metadata": {},
     "output_type": "display_data"
    }
   ],
   "source": [
    "initech = read.csv(\"initech.csv\")\n",
    "initech"
   ]
  },
  {
   "cell_type": "code",
   "execution_count": 22,
   "metadata": {},
   "outputs": [
    {
     "data": {
      "image/png": "[encoded data removed]",
      "text/plain": [
       "plot without title"
      ]
     },
     "metadata": {},
     "output_type": "display_data"
    }
   ],
   "source": [
    "options(repr.plot.width=4, repr.plot.height=4)\n",
    "plot(initech$years, initech$salary)"
   ]
  },
  {
   "cell_type": "code",
   "execution_count": 23,
   "metadata": {},
   "outputs": [
    {
     "data": {
      "text/plain": [
       "\n",
       "Call:\n",
       "lm(formula = salary ~ years, data = initech)\n",
       "\n",
       "Residuals:\n",
       "   Min     1Q Median     3Q    Max \n",
       "-57225 -18104    241  15589  91332 \n",
       "\n",
       "Coefficients:\n",
       "            Estimate Std. Error t value Pr(>|t|)    \n",
       "(Intercept)     5302       5750   0.922    0.359    \n",
       "years           8637        389  22.200   <2e-16 ***\n",
       "---\n",
       "Signif. codes:  0 '***' 0.001 '**' 0.01 '*' 0.05 '.' 0.1 ' ' 1\n",
       "\n",
       "Residual standard error: 27360 on 98 degrees of freedom\n",
       "Multiple R-squared:  0.8341,\tAdjusted R-squared:  0.8324 \n",
       "F-statistic: 492.8 on 1 and 98 DF,  p-value: < 2.2e-16\n"
      ]
     },
     "metadata": {},
     "output_type": "display_data"
    },
    {
     "data": {
      "image/png": "[encoded data removed]",
      "text/plain": [
       "plot without title"
      ]
     },
     "metadata": {},
     "output_type": "display_data"
    }
   ],
   "source": [
    "plot(initech$years, initech$salary)\n",
    "ajuste <- lm(salary~years, data=initech)\n",
    "summary(ajuste)\n",
    "abline(ajuste)"
   ]
  },
  {
   "cell_type": "code",
   "execution_count": 25,
   "metadata": {},
   "outputs": [
    {
     "data": {
      "image/png": "[encoded data removed]",
      "text/plain": [
       "Plot with title \"\""
      ]
     },
     "metadata": {},
     "output_type": "display_data"
    }
   ],
   "source": [
    "options(repr.plot.width=6, repr.plot.height=6)\n",
    "par(mfrow=c(2,2))\n",
    "plot(ajuste)"
   ]
  },
  {
   "cell_type": "code",
   "execution_count": 28,
   "metadata": {
    "scrolled": true
   },
   "outputs": [
    {
     "ename": "ERROR",
     "evalue": "Error in boxcox(initech$salary ~ initech$years): no se pudo encontrar la función \"boxcox\"\n",
     "output_type": "error",
     "traceback": [
      "Error in boxcox(initech$salary ~ initech$years): no se pudo encontrar la función \"boxcox\"\nTraceback:\n"
     ]
    }
   ],
   "source": [
    "bc <- boxcox(initech$salary~initech$years)\n",
    "lambda <- bc$x[which.max(bc$y)]\n",
    "lambda"
   ]
  },
  {
   "cell_type": "code",
   "execution_count": 30,
   "metadata": {},
   "outputs": [
    {
     "data": {
      "image/png": "[encoded data removed]",
      "text/plain": [
       "plot without title"
      ]
     },
     "metadata": {},
     "output_type": "display_data"
    }
   ],
   "source": [
    "y_trans <- log(initech$salary)\n",
    "plot(initech$years, y_trans)"
   ]
  },
  {
   "cell_type": "code",
   "execution_count": 31,
   "metadata": {},
   "outputs": [
    {
     "data": {
      "text/plain": [
       "\n",
       "Call:\n",
       "lm(formula = y_trans ~ years, data = initech)\n",
       "\n",
       "Residuals:\n",
       "     Min       1Q   Median       3Q      Max \n",
       "-0.57022 -0.13560  0.03048  0.14157  0.41366 \n",
       "\n",
       "Coefficients:\n",
       "            Estimate Std. Error t value Pr(>|t|)    \n",
       "(Intercept) 10.48381    0.04108  255.18   <2e-16 ***\n",
       "years        0.07888    0.00278   28.38   <2e-16 ***\n",
       "---\n",
       "Signif. codes:  0 '***' 0.001 '**' 0.01 '*' 0.05 '.' 0.1 ' ' 1\n",
       "\n",
       "Residual standard error: 0.1955 on 98 degrees of freedom\n",
       "Multiple R-squared:  0.8915,\tAdjusted R-squared:  0.8904 \n",
       "F-statistic: 805.2 on 1 and 98 DF,  p-value: < 2.2e-16\n"
      ]
     },
     "metadata": {},
     "output_type": "display_data"
    },
    {
     "data": {
      "image/png": "[encoded data removed]",
      "text/plain": [
       "plot without title"
      ]
     },
     "metadata": {},
     "output_type": "display_data"
    }
   ],
   "source": [
    "ajuste_bc <- lm(y_trans~years,data=initech)\n",
    "summary(ajuste_bc)\n",
    "plot(initech$years, y_trans)\n",
    "abline(ajuste_bc)"
   ]
  },
  {
   "cell_type": "code",
   "execution_count": 32,
   "metadata": {},
   "outputs": [
    {
     "data": {
      "image/png": "[encoded data removed]",
      "text/plain": [
       "Plot with title \"\""
      ]
     },
     "metadata": {},
     "output_type": "display_data"
    }
   ],
   "source": [
    "par(mfrow=c(2,2))\n",
    "plot(ajuste_bc)"
   ]
  },
  {
   "cell_type": "code",
   "execution_count": 33,
   "metadata": {},
   "outputs": [
    {
     "data": {
      "text/html": [
       "3.76272363961094e-18"
      ],
      "text/latex": [
       "3.76272363961094e-18"
      ],
      "text/markdown": [
       "3.76272363961094e-18"
      ],
      "text/plain": [
       "[1] 3.762724e-18"
      ]
     },
     "metadata": {},
     "output_type": "display_data"
    }
   ],
   "source": [
    "residuales <- residuals(ajuste_bc)\n",
    "mean(residuales)"
   ]
  },
  {
   "cell_type": "code",
   "execution_count": 34,
   "metadata": {},
   "outputs": [
    {
     "name": "stderr",
     "output_type": "stream",
     "text": [
      "Warning message:\n",
      "\"package 'lmtest' was built under R version 3.6.3\"Loading required package: zoo\n",
      "\n",
      "Attaching package: 'zoo'\n",
      "\n",
      "The following objects are masked from 'package:base':\n",
      "\n",
      "    as.Date, as.Date.numeric\n",
      "\n"
     ]
    },
    {
     "data": {
      "text/plain": [
       "\n",
       "\tDurbin-Watson test\n",
       "\n",
       "data:  ajuste_bc\n",
       "DW = 1.8181, p-value = 0.1534\n",
       "alternative hypothesis: true autocorrelation is greater than 0\n"
      ]
     },
     "metadata": {},
     "output_type": "display_data"
    }
   ],
   "source": [
    "library(lmtest) # ver https://en.wikipedia.org/wiki/Durbin%E2%80%93Watson_statistic\n",
    "dwtest(ajuste_bc) # H0: No hay autocorrelación en los errores"
   ]
  },
  {
   "cell_type": "code",
   "execution_count": 35,
   "metadata": {},
   "outputs": [
    {
     "data": {
      "text/plain": [
       "\n",
       "\tstudentized Breusch-Pagan test\n",
       "\n",
       "data:  ajuste_bc\n",
       "BP = 6.2095e-06, df = 1, p-value = 0.998\n"
      ]
     },
     "metadata": {},
     "output_type": "display_data"
    }
   ],
   "source": [
    "library(lmtest) #https://en.wikipedia.org/wiki/Breusch%E2%80%93Pagan_test\n",
    "bptest(ajuste_bc) #H0: Homoscedasticidad"
   ]
  },
  {
   "cell_type": "code",
   "execution_count": 36,
   "metadata": {},
   "outputs": [
    {
     "name": "stderr",
     "output_type": "stream",
     "text": [
      "Warning message:\n",
      "\"package 'tseries' was built under R version 3.6.3\"Registered S3 method overwritten by 'xts':\n",
      "  method     from\n",
      "  as.zoo.xts zoo \n",
      "Registered S3 method overwritten by 'quantmod':\n",
      "  method            from\n",
      "  as.zoo.data.frame zoo \n"
     ]
    },
    {
     "data": {
      "text/plain": [
       "\n",
       "\tJarque Bera Test\n",
       "\n",
       "data:  residuales\n",
       "X-squared = 2.8546, df = 2, p-value = 0.24\n"
      ]
     },
     "metadata": {},
     "output_type": "display_data"
    }
   ],
   "source": [
    "library(tseries)\n",
    "jarque.bera.test(residuales)"
   ]
  },
  {
   "cell_type": "code",
   "execution_count": null,
   "metadata": {},
   "outputs": [],
   "source": [
    "brain <- read.csv('headbrain.csv')"
   ]
  },
  {
   "cell_type": "code",
   "execution_count": null,
   "metadata": {},
   "outputs": [],
   "source": [
    "head(brain)"
   ]
  },
  {
   "cell_type": "code",
   "execution_count": null,
   "metadata": {},
   "outputs": [],
   "source": [
    "plot(brain$Head.Size.cm.3., brain$Brain.Weight.grams.)"
   ]
  },
  {
   "cell_type": "code",
   "execution_count": null,
   "metadata": {},
   "outputs": [],
   "source": [
    "ajuste_brain <- lm(Brain.Weight.grams.~Head.Size.cm.3., data=brain)\n",
    "summary(ajuste_brain)\n",
    "plot(brain$Head.Size.cm.3., brain$Brain.Weight.grams.)\n",
    "abline(ajuste_brain)"
   ]
  },
  {
   "cell_type": "code",
   "execution_count": null,
   "metadata": {
    "scrolled": true
   },
   "outputs": [],
   "source": [
    "par(mfrow=c(2,2))\n",
    "plot(ajuste_brain)"
   ]
  },
  {
   "cell_type": "code",
   "execution_count": null,
   "metadata": {},
   "outputs": [],
   "source": [
    "residuales <- residuals(ajuste_brain)\n",
    "mean(residuales)\n"
   ]
  },
  {
   "cell_type": "code",
   "execution_count": null,
   "metadata": {},
   "outputs": [],
   "source": [
    "library(lmtest) # ver https://en.wikipedia.org/wiki/Durbin%E2%80%93Watson_statistic\n",
    "dwtest(ajuste_brain) # H0: No hay autocorrelación en los errores\n"
   ]
  },
  {
   "cell_type": "code",
   "execution_count": null,
   "metadata": {},
   "outputs": [],
   "source": [
    "library(lmtest) #https://en.wikipedia.org/wiki/Breusch%E2%80%93Pagan_test\n",
    "bptest(ajuste_brain) #H0: Homoscedasticidad\n"
   ]
  },
  {
   "cell_type": "code",
   "execution_count": null,
   "metadata": {},
   "outputs": [],
   "source": [
    "\n",
    "library(tseries)\n",
    "jarque.bera.test(residuales)"
   ]
  },
  {
   "cell_type": "code",
   "execution_count": null,
   "metadata": {},
   "outputs": [],
   "source": [
    "x_trans <- log(brain$Head.Size.cm.3.)\n",
    "y_trans <- log(brain$Brain.Weight.grams.)"
   ]
  },
  {
   "cell_type": "code",
   "execution_count": null,
   "metadata": {},
   "outputs": [],
   "source": [
    "options(repr.plot.width=14, repr.plot.height=7)\n",
    "par(mfrow=c(1,2))\n",
    "plot(brain$Head.Size.cm.3., brain$Brain.Weight.grams.)\n",
    "plot(x_trans,y_trans)"
   ]
  },
  {
   "cell_type": "code",
   "execution_count": null,
   "metadata": {},
   "outputs": [],
   "source": [
    "ajuste2_brain <- lm(y_trans~x_trans)\n",
    "summary(ajuste2_brain)"
   ]
  },
  {
   "cell_type": "code",
   "execution_count": null,
   "metadata": {},
   "outputs": [],
   "source": [
    "residuales <- residuals(ajuste2_brain)\n",
    "mean(residuales)"
   ]
  },
  {
   "cell_type": "code",
   "execution_count": null,
   "metadata": {},
   "outputs": [],
   "source": [
    "library(lmtest) # ver https://en.wikipedia.org/wiki/Durbin%E2%80%93Watson_statistic\n",
    "dwtest(ajuste2_brain) # H0: No hay autocorrelación en los errores"
   ]
  },
  {
   "cell_type": "code",
   "execution_count": null,
   "metadata": {},
   "outputs": [],
   "source": [
    "library(lmtest) #https://en.wikipedia.org/wiki/Breusch%E2%80%93Pagan_test\n",
    "bptest(ajuste2_brain) #H0: Homoscedasticidad\n"
   ]
  },
  {
   "cell_type": "code",
   "execution_count": null,
   "metadata": {},
   "outputs": [],
   "source": [
    "library(tseries)\n",
    "jarque.bera.test(residuales)"
   ]
  }
 ],
 "metadata": {
  "kernelspec": {
   "display_name": "R",
   "language": "R",
   "name": "ir"
  },
  "language_info": {
   "codemirror_mode": "r",
   "file_extension": ".r",
   "mimetype": "text/x-r-source",
   "name": "R",
   "pygments_lexer": "r",
   "version": "3.6.1"
  }
 },
 "nbformat": 4,
 "nbformat_minor": 4
}
