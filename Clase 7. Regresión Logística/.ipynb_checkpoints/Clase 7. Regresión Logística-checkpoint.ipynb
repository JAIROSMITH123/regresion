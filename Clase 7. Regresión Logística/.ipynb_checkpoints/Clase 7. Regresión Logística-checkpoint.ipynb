{
 "cells": [
  {
   "cell_type": "markdown",
   "metadata": {},
   "source": [
    "<img style=\"float: right;\" src=\"img/logo.png\" width=\"500\">\n",
    "\n",
    "\n",
    "# Análisis de Regresión (2022-1)\n",
    "## Especialización en Estadística Aplicada\n",
    "#### Prof. [Sébastien Lozano Forero](https://www.linkedin.com/in/sebastienlozanoforero/) (slozanof@libertadores.edu.co)\n",
    "\n",
    "## <font color='red'>Introducción a la Regresión Logística</font>\n",
    "\n",
    "### Tabla de contenidos\n",
    "\n",
    "* [Modelo de Regresión Logística](#modelo)\n",
    "* [Resultados Generales](#resultados)\n",
    "* [Supuestos](#supuestos)\n",
    "* [Validación de Supuestos](#validacion) \n",
    "* [Ejemplo](#ejemplo)"
   ]
  },
  {
   "cell_type": "markdown",
   "metadata": {},
   "source": [
    "### Modelo de Regresión Logística <a class=\"anchor\" id=\"modelo\"></a>\n",
    "\n",
    "Suponga alguna de las siguientes situaciones \n",
    "- Un sujeto operado se infecta o no durante cierto lapso post-operatorio.\n",
    "- Un bebé nace con o sin malformación congénita.\n",
    "- Un paciente hospitalizado muere o no antes del alta.\n",
    "- A los tres meses de vida, un niño ha dejado de lactar o aún se mantiene alimentándose con leche materna.\n",
    "- Un año después de una intervención quirúrgica, se ha resuelto o no el problema que la origino´.\n",
    "- Después de un tratamiento de quimioterapia en un paciente con cáncer de pulmón se observa alguno de los siguientes resultados sobre la enfermedad:  aumento, no cambio, remisión parcial, remisión completa.\n",
    "\n",
    "\n",
    "\n",
    "El modelo de regresión lineal tradicional utiliza la linealidad para describir la relación entre el valor esperado de la variable respuesta y un conjunto de variables explicativas asumiendo que la distribución de la variable respuesta es normal.\n",
    "Los modelos lineales generalizados (MLG) extiende el modelo de regresión lineal tradicional con el fin de poder caracterizar variables respuestas con distribuciones no normales y funciones no lineales de la media. Los MLG tienen tres componentes:\n",
    "\n",
    "    1. Componente aleatorio: \n",
    "Este componente especifica la variable de respuesta $y$ y su distribución de probabilidad. \n",
    "\n",
    "Nota 1: La distribución de la variable respuesta debe ser un miembro de la familia exponencial de distribuciones. \n",
    "Se dice que una distribución con densidad de probabilidad o función de masa para una variable aleatoria $y$ pertenece a la familia exponencial de distribuciones sí, y solo sí, puede expresarse de la forma general dada por: \n",
    "$$\n",
    "f(y;\\theta,\\phi)=\\text{exp}\\left[\\frac{y\\theta−b(\\theta)}{a(\\phi)} +c(y,\\phi)\\right]\n",
    "$$\n",
    "donde\n",
    "\n",
    "- $\\theta$ es llamado el parámetro natural o canónico y representa la localización.\n",
    "\n",
    "- $\\phi$ es llamado el parámetro de dispersión y representa la escala. \n",
    "\n",
    "- $b(\\theta)$ se define como la función cumulante y es importante porque relaciona el parámetro canónico con la media y varianza de $y$. \n",
    "\n",
    "Nota 2: Las observaciones sobre esa distribución $y=(y_1,y_2,\\cdots,y_n)^\\top$   se consideran independientes. \n",
    "\n",
    "A continuación, los principales elementos para tres de las distribuciones que pueden modelarse con GLMs\n",
    "\n",
    "|                 | Regresión Lineal | Regresión Poisson | Regresión Logística |\n",
    "|------------------------|------------------------|-------------------------|---------------------------|\n",
    "| $Y \\mid {\\bf X} = {\\bf x}$ | $N(\\mu({\\bf x}), \\sigma^2)$    | $\\text{Pois}(\\lambda({\\bf x}))$          | $\\text{Bern}(p({\\bf x}))$                                              |\n",
    "| **Nombre de la Distribución**                           | Normal                         | Poisson                                  | Bernoulli (Binomial)                                                   |\n",
    "| $\\text{E}[Y \\mid {\\bf X} = {\\bf x}]$            | $\\mu({\\bf x})$                 | $\\lambda({\\bf x})$                       | $p({\\bf x})$                                                           |\n",
    "| **Soporte**                                     | Real: $(-\\infty, \\infty)$      | Entero: $0, 1, 2, \\ldots$               | Entero: $0, 1$                                                        |\n",
    "| **Uso**                                       | Data Numérica                 | Data de Conteo (Entero)                     |Data binaria                                      |\n",
    "| **Nombre la ligación**                                   | Identity                       | Log                                      | Logit                                                                  |\n",
    "| **Link Function** | $\\eta({\\bf x}) = \\mu({\\bf x})$ | $\\eta({\\bf x}) = \\log(\\lambda({\\bf x}))$ | $\\eta({\\bf x}) = \\log \\left(\\frac{p({\\bf x})}{1 - p({\\bf x})} \\right)$          |\n",
    "| **Mean Function**                               | $\\mu({\\bf x}) = \\eta({\\bf x})$ | $\\lambda({\\bf x}) = e^{\\eta({\\bf x})}$   | $p({\\bf x})= \\frac{1}{1 + e^{-\\eta({\\bf x})}}$ |\n",
    "\n",
    "    2. Componente sistemático o predictor lineal:\n",
    "\n",
    "El componente sistemático o predictor lineal es una combinación lineal del conjunto de p covariables identificadas por el analista que asocia el efecto estas variables auxiliares sobre la media de la variable respuesta.\n",
    "\n",
    "Para un vector de parámetros $\\beta=(\\beta_1,\\beta_2,\\cdots, \\beta_p )^\\top$ desconocidos (a ser estimados posteriormente) y una matriz de información $X$ que contiene todos los $n$  (Nota: $p<n$) valores observados de un conjunto de $p$ variables explicativas, el predictor lineal tiene la forma $\\beta X$.\n",
    "\n",
    "<img style=\"float: right;\" src=\"img/logi.png\" width=\"500\">\n",
    "\n",
    "La recta de regresión de un modelo de regresión lineal  se extiende de forma ilimitada entre $(-\\infty, \\infty)$.\n",
    "Si bien los valores de la recta de regresión se interpretan en el rango de valores de $x$ observados en la muestra y tienen un sentido interpretativo, descartando valores de predicción imposibles a partir de los datos estudiados. No obstante, también puede suceder que a pesar de considerar el rango de valores de la muestra los valores pronosticados sean\n",
    "valores imposibles. Es el caso que se puede dar cuando consideramos en la regresión lineal variables dicotómicas de la variable dependiente, codificadas con 0 y 1, donde los valores predichos pueden ser inferiores a 0 y superiores a 1, fuera del rango definido por la variable dependiente. La regresión logística resuelve este tipo de problema usando una función no lineal como es la función logística. Con esta función se pueden efectuar predicciones comprendidas entre un mínimo y un máximo. El modelo de regresión logística es un modelo no lineal que utiliza el método de máxima verosimilitud, un procedimiento iterativo que en fases sucesivas ajusta el modelo.\n",
    "\n",
    "En últimas, este problema del \"idioma\" que hablan los componentes sistemático y aleatorio se resuelve con     \n",
    "\n",
    "    3. Una función de enlace\n",
    "\n",
    "En una función g que aplicada a cada componente de $E(y)$ lo relaciona con el predictor lineal, es decir, $g(E(y))= X\\beta$. Usualmente se denota con el símbolo $\\eta$.\n",
    "\n",
    "En otras palabras, la función de enlace es una transformación de la media de la variable respuesta de modo que los efectos de las covariables sean aditivos y las restricciones sobre los datos se mantengan\n",
    "\n",
    "\n"
   ]
  },
  {
   "cell_type": "markdown",
   "metadata": {},
   "source": [
    "De esta manera, se la función sigmoide (sigmoid function) es útil para poder \"traducir\" la información de un componente a otro. Es decir, es una excelente opción (ojo, no es la única) a ser una función de ligación  $$f(x)= \\frac{1}{1+e^{-x}}$$\n",
    "\n",
    "Así, el **modelo de regresión logística** se gesta del interés de poder predecir el comportamiento de las variables $y_1, \\cdots, y_n\\sim Br(p)$, con \n",
    "\n",
    "\\begin{cases}\n",
    "p = P(y_t=1), t =1, 2\\cdots, n.\\\\\n",
    "1-p = P(y_t=0), t =1, 2\\cdots, n.,\n",
    "\\end{cases}\n",
    "\n",
    "a partir del conocimiento consignado en las variables exógenas. De esta manera, el modelo está dado por \n",
    "$$\n",
    "p= P(y_t|x_1, \\cdots, x_p)=\\frac{1}{1+\\exp(-\\beta_0 -\\beta_1x_1-\\beta_2x_2-\\cdots-\\beta_px_p)}\n",
    "$$\n",
    "o de forma equivalente, como \n",
    "$$\n",
    "\\log\\left(\\frac{p}{1-p}\\right)= \\log\\left(\\frac{P(y_t|x_1, \\cdots, x_p)}{1-P(y_t|x_1, \\cdots, x_p)}\\right)=\\beta_0 +\\beta_1x_1+\\beta_2x_2+\\cdots+\\beta_px_p\n",
    "$$\n",
    "\n",
    "\n",
    "\n",
    "\n",
    "Donde: \n",
    "- $\\beta_0, \\beta_1, \\cdots, \\beta_p$ son parámetros poblacionales a ser estimados.\n",
    "- $y$ representa la *variable respuesta*\n",
    "- $x_1,\\cdots x_p$ representan las *variables predictoras*\n"
   ]
  },
  {
   "cell_type": "code",
   "execution_count": 1,
   "metadata": {
    "scrolled": true
   },
   "outputs": [
    {
     "name": "stdout",
     "output_type": "stream",
     "text": [
      "\n",
      "  There is a binary version available but the source version is later:\n",
      "     binary source needs_compilation\n",
      "ISLR    1.2    1.4             FALSE\n",
      "\n"
     ]
    },
    {
     "name": "stderr",
     "output_type": "stream",
     "text": [
      "installing the source package 'ISLR'\n",
      "\n",
      "Registered S3 methods overwritten by 'ggplot2':\n",
      "  method         from \n",
      "  [.quosures     rlang\n",
      "  c.quosures     rlang\n",
      "  print.quosures rlang\n",
      "Registered S3 method overwritten by 'rvest':\n",
      "  method            from\n",
      "  read_xml.response xml2\n",
      "-- Attaching packages --------------------------------------- tidyverse 1.2.1 --\n",
      "v ggplot2 3.1.1     v purrr   0.3.2\n",
      "v tibble  3.0.6     v dplyr   1.0.4\n",
      "v tidyr   1.1.2     v stringr 1.4.0\n",
      "v readr   1.3.1     v forcats 0.4.0\n",
      "Warning message:\n",
      "\"package 'tibble' was built under R version 3.6.3\"Warning message:\n",
      "\"package 'tidyr' was built under R version 3.6.3\"Warning message:\n",
      "\"package 'dplyr' was built under R version 3.6.3\"-- Conflicts ------------------------------------------ tidyverse_conflicts() --\n",
      "x dplyr::filter() masks stats::filter()\n",
      "x dplyr::lag()    masks stats::lag()\n"
     ]
    },
    {
     "data": {
      "text/html": [
       "<table>\n",
       "<thead><tr><th scope=col>default</th><th scope=col>balance</th></tr></thead>\n",
       "<tbody>\n",
       "\t<tr><td>0        </td><td> 729.5265</td></tr>\n",
       "\t<tr><td>0        </td><td> 817.1804</td></tr>\n",
       "\t<tr><td>0        </td><td>1073.5492</td></tr>\n",
       "\t<tr><td>0        </td><td> 529.2506</td></tr>\n",
       "\t<tr><td>0        </td><td> 785.6559</td></tr>\n",
       "\t<tr><td>0        </td><td> 919.5885</td></tr>\n",
       "</tbody>\n",
       "</table>\n"
      ],
      "text/latex": [
       "\\begin{tabular}{r|ll}\n",
       " default & balance\\\\\n",
       "\\hline\n",
       "\t 0         &  729.5265\\\\\n",
       "\t 0         &  817.1804\\\\\n",
       "\t 0         & 1073.5492\\\\\n",
       "\t 0         &  529.2506\\\\\n",
       "\t 0         &  785.6559\\\\\n",
       "\t 0         &  919.5885\\\\\n",
       "\\end{tabular}\n"
      ],
      "text/markdown": [
       "\n",
       "| default | balance |\n",
       "|---|---|\n",
       "| 0         |  729.5265 |\n",
       "| 0         |  817.1804 |\n",
       "| 0         | 1073.5492 |\n",
       "| 0         |  529.2506 |\n",
       "| 0         |  785.6559 |\n",
       "| 0         |  919.5885 |\n",
       "\n"
      ],
      "text/plain": [
       "  default balance  \n",
       "1 0        729.5265\n",
       "2 0        817.1804\n",
       "3 0       1073.5492\n",
       "4 0        529.2506\n",
       "5 0        785.6559\n",
       "6 0        919.5885"
      ]
     },
     "metadata": {},
     "output_type": "display_data"
    }
   ],
   "source": [
    "install.packages('ISLR')\n",
    "library(tidyverse)\n",
    "library(ISLR)\n",
    "datos <- Default\n",
    "\n",
    "# Se recodifican los niveles No, Yes a 1 y 0\n",
    "datos <- datos %>%\n",
    "         select(default, balance) %>%\n",
    "         mutate(default = recode(default,\n",
    "                                 \"No\"  = 0,\n",
    "                                 \"Yes\" = 1))\n",
    "head(datos)"
   ]
  },
  {
   "cell_type": "code",
   "execution_count": 4,
   "metadata": {},
   "outputs": [
    {
     "data": {
      "image/png": "[encoded data removed]",
      "text/plain": [
       "plot without title"
      ]
     },
     "metadata": {},
     "output_type": "display_data"
    }
   ],
   "source": [
    "options(repr.plot.width=4, repr.plot.height=4)\n",
    "# Ajuste de un modelo lineal por mínimos cuadrados.\n",
    "modelo_lineal <- lm(default ~ balance, data = datos)\n",
    "\n",
    "# Representación gráfica del modelo.\n",
    "ggplot(data = datos, aes(x = balance, y = default)) +\n",
    "  geom_point(aes(color = as.factor(default)), shape = 1) + \n",
    "  geom_smooth(method = \"lm\", color = \"gray20\", se = FALSE) +\n",
    "  theme_bw()  +\n",
    "  labs(title = \"Regresión lineal por mínimos cuadrados\",\n",
    "       y = \"Probabilidad default\") +\n",
    "  theme(legend.position = \"none\")"
   ]
  },
  {
   "cell_type": "markdown",
   "metadata": {},
   "source": [
    "y peor aún, para predecir:  "
   ]
  },
  {
   "cell_type": "code",
   "execution_count": 5,
   "metadata": {
    "scrolled": true
   },
   "outputs": [
    {
     "data": {
      "text/html": [
       "<strong>1:</strong> 1.22352985712827"
      ],
      "text/latex": [
       "\\textbf{1:} 1.22352985712827"
      ],
      "text/markdown": [
       "**1:** 1.22352985712827"
      ],
      "text/plain": [
       "      1 \n",
       "1.22353 "
      ]
     },
     "metadata": {},
     "output_type": "display_data"
    }
   ],
   "source": [
    "predict(object = modelo_lineal, newdata = data.frame(balance = 10000))"
   ]
  },
  {
   "cell_type": "markdown",
   "metadata": {},
   "source": [
    "### Resultados Generales <a class=\"anchor\" id=\"resultados\"></a>"
   ]
  },
  {
   "cell_type": "markdown",
   "metadata": {},
   "source": [
    "### Proceso de estimación de parámetros\n",
    "\n",
    "Podemos escribir el modelo de regresión muestral correspondiente al modelo como\n",
    "$$\n",
    "\\log\\left(\\frac{p}{1-p}\\right)= \\log\\left(\\frac{P(y_t|x_1, \\cdots, x_p)}{1-P(y_t|x_1, \\cdots, x_p)}\\right)=\\beta_0 +\\beta_1x_1+\\beta_2x_2+\\cdots+\\beta_px_p\n",
    "$$\n",
    "\n",
    "\t\n",
    "En notación matricial, este modelo de regresión muestral se representa como\n",
    "$$\n",
    "\\log\\left(\\frac{p}{1-p}\\right)= \\log\\left(\\frac{P(Y|X)}{1-P(Y|X)}\\right)=X\\beta\n",
    "$$\n",
    "donde\n",
    "$$\n",
    "\\begin{array}{ccc}\n",
    "\\mathbf{Y}=\\begin{pmatrix}\n",
    "y_1 \\\\\n",
    "y_2 \\\\\n",
    "\\vdots \\\\\n",
    "y_n\n",
    "\\end{pmatrix}, & \\mathbf{X}=\\begin{pmatrix}\n",
    "1 & x_{11} & x_{12} & \\cdots & x_{1p} \\\\\n",
    "1 & x_{21} & x_{22} & \\cdots & x_{2p} \\\\\n",
    "\\vdots & \\vdots & \\vdots & & \\vdots \\\\\n",
    "1 & x_{n1} & x_{n2} & \\cdots & x_{np} \\\\\n",
    "\\end{pmatrix}, \n",
    "\\mathbf{\\beta}=\\begin{pmatrix}\n",
    "\\beta_0 \\\\\n",
    "\\beta_1 \\\\\n",
    "\\vdots \\\\\n",
    "\\beta_p\n",
    "\\end{pmatrix}\n",
    "\\end{array}\n",
    "$$\n",
    "\n",
    "Deseamos encontrar el vector de estimadores de mínimos cuadrados, $\\mathbf{\\beta}$, que minimiza la función de log-verosimilitud\n",
    "\n",
    "$$L(\\beta) = \\sum_{i=1}^{p} y_i \\text{ln}(p_i)+(1-y_i)\\text{ln}(1-p_i)$$\n",
    "\n",
    "El resultado de tal proceso de estimación no tiene forma cerrada (es decir, se puede despegar \"a manos\"), por tanto, son necesarios algunos métodos númericos para hallar tales estimativas (típicamente son esquemas iterativos al estilo Newton-Rhapson). "
   ]
  },
  {
   "cell_type": "markdown",
   "metadata": {},
   "source": [
    "#### pruebas de hipótesis\n",
    "\n",
    "En general, va a ser de nuestro interés obtener evidencia empírica de la validez estadística de los parámetros que indexan el modelo. Para esto, se hace necesario introducir pruebas de hipótesis para los parámetros. \n",
    "\n",
    "Considere, la prueba de las hipótesis para $\\beta_i$:\n",
    "\\begin{align*}\n",
    "H_0: \\, \\beta_i &=\\beta_{i0} (\\beta_{i0} \\text{conocido})\\\\\n",
    "H_1: \\, \\beta_i &\\neq \\beta_{i0}\n",
    "\\end{align*}\n",
    "\n",
    "que tiene como estadístico de prueba:\n",
    "\t\n",
    "$$\n",
    "Z_{Est}=\\frac{\\hat{\\beta}_1-\\beta_{10}}{s\\{\\hat{\\beta}_1\\}} \\sim N(0,1)\n",
    "$$\n",
    "\t\n",
    "y la regla de decisión para el nivel de significancia $\\alpha$ es $p$-valor $<\\alpha$ donde $p$-valor $= 2P(Z>|Z_{Est}|)$ con $Z\\sim N(0,1)$."
   ]
  },
  {
   "cell_type": "markdown",
   "metadata": {},
   "source": [
    "### Test de razón de verosimilitud\n",
    "\n",
    "Considere el siguiente modelo saturado,\n",
    "\n",
    "$$\n",
    "\\log\\left(\\frac{p({\\bf x_i})}{1 - p({\\bf x_i})}\\right) = \\beta_0 + \\beta_1 x_{i1} + \\beta_2 x_{i2} + \\cdots + \\beta_{(p-1)} x_{i(p-1)} + \\epsilon_i\n",
    "$$\n",
    "\n",
    "El modelo tiene $p - 1$ predictores, para un  total of $p$ parámetros. Notamos como  $\\hat{\\beta}_{\\text{Full}}$ al vector de estimaciones de máxima verosimilitud\n",
    "\n",
    "Ahora, considere el siguiente modelo nulo\n",
    "\n",
    "$$\n",
    "\\log\\left(\\frac{p({\\bf x_i})}{1 - p({\\bf x_i})}\\right) = \\beta_0 + \\beta_1 x_{i1} + \\beta_2 x_{i2} + \\cdots + \\beta_{(q-1)} x_{i(q-1)} + \\epsilon_i\n",
    "$$\n",
    "\n",
    "donde $q < p$. Este modelo $q - 1$ predictors,  en total $q$ parámetros. Nuevamente, sea $\\hat{\\beta}_{\\text{Full}}$ el vector de estimaciones de máxima verosimilitud\n",
    "\n",
    "La diferencia entre estos dos modelos se puede estudiar a través de una prueba de hipótesis\n",
    "\n",
    "$$\n",
    "H_0: \\beta_q = \\beta_{q+1} = \\cdots = \\beta_{p - 1} = 0.\n",
    "$$\n",
    "\n",
    "Lo que implica que el modelo reducido está anidado en el modelo saturado. Así se define la estadística, $D$,\n",
    "\n",
    "$$\n",
    "D = -2 \\log \\left( \\frac{L(\\boldsymbol{\\hat{\\beta}_{\\text{Null}}})} {L(\\boldsymbol{\\hat{\\beta}_{\\text{Full}}})} \\right) = 2 \\log \\left( \\frac{L(\\boldsymbol{\\hat{\\beta}_{\\text{Full}}})} {L(\\boldsymbol{\\hat{\\beta}_{\\text{Null}}})} \\right) = 2 \\left( \\ell(\\hat{\\beta}_{\\text{Full}}) - \\ell(\\hat{\\beta}_{\\text{Null}})\\right)\n",
    "$$\n",
    "\n",
    "donde $L$ denota la función de verosimilitud y $\\ell$ denota la función de log-verosimilitud. Para tamaños de muestra grande (más de 50), este estadístico de test tiene distribución chi cuadrado. \n",
    "\n",
    "$$\n",
    "D \\overset{\\text{approx}}{\\sim} \\chi^2_{k}\n",
    "$$\n",
    "\n",
    "con $k = p - q$, la diferencia en el número de parámetros en los dos modelos.\n",
    "\n",
    "Este test, frecuentemente referido como **test de razón de verosimilitud**, es análogo a ANOVA ($F$) para regresión logística. Curiosamente, para implementar este test se usa la función `anova()` de `R`.\n",
    "\n"
   ]
  },
  {
   "cell_type": "markdown",
   "metadata": {},
   "source": [
    "### Razón de chances (odds ratio)\n",
    "  \n",
    "En la regresión lineal simple, se modela el valor de la variable dependiente $y$ en función del valor de las variables independientes $X$. Sin embargo, en la regresión logística, se modela la probabilidad de que la variable respuesta $y$ pertenezca al nivel de referencia 1 en función del valor que adquieran los predictores, mediante el uso de LOG of ODDs.\n",
    "\n",
    "Supónga que la probabilidad de que un evento sea verdadero es de 0.8, por lo que la probabilidad de evento falso es de 1 - 0.8 = 0.2. Los ODDs o razón de probabilidad  se definen como el ratio entre la probabilidad de evento verdadero y la probabilidad de evento falso pq. En este caso los ODDs de verdadero son 0.8 / 0.2 = 4, lo que equivale a decir que se esperan 4 eventos verdaderos por cada evento falso.\n",
    "\n",
    "La trasformación de probabilidades a ODDs es monótona, si la probabilidad aumenta también lo hacen los ODDs, y viceversa. El rango de valores que pueden tomar los ODDs es de $[0,\\infty]$. Dado que el valor de una probabilidad está acotado entre $[0,1]$ se recurre a una trasformación log (existen otras) que consiste en el logaritmo natural de los ODDs. Esto permite convertir el rango de probabilidad previamente limitado a $[0,1]$ a $[−\\infty,+\\infty]$."
   ]
  },
  {
   "cell_type": "markdown",
   "metadata": {},
   "source": [
    "|p\t|odds\t|Log(odds)|\n",
    "|----|---|---|\n",
    "0.001|0.001001|\t-6.906755|\n",
    "0.01|\t0.010101|\t-4.59512|\n",
    "0.2|\t0.25|\t-1.386294|\n",
    "0.3|\t0.4285714|\t-0.8472978|\n",
    "0.4|\t0.6666667|\t-0.4054651|\n",
    "0.5|\t1|\t0|\n",
    "0.6|\t1.5|\t0.4054651|\n",
    "0.7|\t2.333333|\t0.8472978|\n",
    "0.8|\t4|\t1.386294|\n",
    "0.9|\t9|\t2.197225|\n",
    "0.999|\t999|\t6.906755|\n",
    "0.9999|\t9999|\t9.21024|"
   ]
  },
  {
   "cell_type": "markdown",
   "metadata": {},
   "source": [
    "Los ODDs y el logaritmo de ODDs cumplen que:\n",
    "- Si p(verdadero) = p(falso), entonces odds(verdadero) = 1\n",
    "- Si p(verdadero) < p(falso), entonces odds(verdadero) < 1\n",
    "- Si p(verdadero) > p(falso), entonces odds(verdadero) > 1\n",
    "- A diferencia de la probabilidad que no puede exceder el 1, los ODDs no tienen límite superior.\n",
    "- Si odds(verdadero) = 1, entonces logit(p) = 0\n",
    "- Si odds(verdadero) < 1, entonces logit(p) < 0\n",
    "- Si odds(verdadero) > 1, entonces logit(p) > 0\n",
    "- La transformación logit no existe para p = 0"
   ]
  },
  {
   "cell_type": "markdown",
   "metadata": {},
   "source": [
    "### Partición de la muestra (in/out)\n",
    "\n",
    "<img style=\"float: center;\" src=\"img/test.png\" width=\"500\">\n",
    "\n",
    "Los datos de entrenamiento o “training data” son los datos que se usan para *entrenar* (en una perspectiva más amplia, *aprender*) un modelo. La calidad del modelo de regresión logística va a ser directamente proporcional a la calidad de los datos. Por ello las labores de limpieza, depuración o “data wrangling” deberán ser importantes\n",
    "\n",
    "Los datos de prueba, validación o “testing data“ son los datos que  para comprobar si el modelo que hemos generado a partir de los datos de entrenamiento “funciona”. Es decir, si las respuestas predichas por el modelo para un caso totalmente nuevo son acertadas o no.\n",
    "\n",
    "Es importante que el conjunto de datos de prueba tenga un volumen suficiente como para generar resultados estadísticamente significativos, y a la vez, que sea representativo del conjunto de datos global.\n",
    "\n",
    "Normalmente el conjunto de datos se suele repartir en un 80% de datos de entrenamiento y un 20% de datos de test, pero se puede variar la proporción según el caso. Lo importante es ser siempre conscientes de que hay que evitar el sobreajuste u “overfitting”.\n",
    "\n",
    "### Sobreajuste (overfitting)\n",
    "\n",
    "El sobreajuste ocurre cuando un modelo está “sobre-entrenado”. Son modelos complejos que se ajusta tan milimétricamente al conjunto de datos a partir del cual se han creado, que pierden gran parte de su poder predictivo, y ya no son útiles para otros conjuntos de datos. Esto se debe a que los datos siempre tienen cierto grado de error o imprecisión, e intentar ajustarse demasiado a ellos, complica el modelo inútilmente al mismo tiempo que le resta utilidad. \n",
    "\n",
    "\n",
    "### Subajuste (underfitting)\n",
    "\n",
    "El underfitting o subajuste es justamente el caso contrario. Ocurre cuando el conjunto de datos de entrenamiento es insuficiente, con ruido en alguna de sus dimensiones o, en definitiva, poco representativo. Como consecuencia, nos lleva a un modelo excesivamente simple, con poco valor predictor. Por ello, para generar un buen modelo, es importante encontrar el punto medio entre ambas tendencias.\n"
   ]
  },
  {
   "cell_type": "markdown",
   "metadata": {},
   "source": [
    "### Curva ROC\n",
    "\n",
    "<img style=\"float: center;\" src=\"img/roc.png\" width=\"300\">\n",
    "\n",
    "Una curva ROC (receiver operating characteristic ) es un gráfico que muestra el rendimiento de un modelo de clasificación en todos los umbrales de clasificación. Esta curva representa dos parámetros:\n",
    "\n",
    "- Tasa de verdaderos positivos \n",
    "- Tasa de falsos positivos\n",
    "<img style=\"float: right;\" src=\"img/roc2.png\" width=\"300\">\n",
    "\n",
    "**Tasa de verdaderos positivos (TPR)** es sinónimo de exhaustividad y, por lo tanto, se define de la siguiente manera:\n",
    "\n",
    "$$TRP = \\frac{VP}{VP+FN}$$\n",
    "\n",
    "**Tasa de falsos positivos (FPR)** se define de la siguiente manera:\n",
    "$$TPR = \\frac{FP}{FP+VN}$$\n",
    "\n",
    "\n",
    "Una curva ROC representa TPR frente a FPR en diferentes umbrales de clasificación. Reducir el umbral de clasificación clasifica más elementos como positivos, por lo que aumentarán tanto los falsos positivos como los verdaderos positivos.\n",
    "\n",
    "\n",
    "\n",
    "Para calcular los puntos en una curva ROC, en teoría se debería evaluar el modelo de regresión logística muchas veces con diferentes umbrales de clasificación, pero esto es ineficiente. Afortunadamente, existe un algoritmo eficiente basado en ordenamiento que puede brindarnos esta información, denominado AUC."
   ]
  },
  {
   "cell_type": "markdown",
   "metadata": {},
   "source": [
    "### AUC: Área bajo la curva ROC\n",
    "\n",
    "<img style=\"float: right;\" src=\"img/auc.png\" width=\"300\">\n",
    "\n",
    "El AUC proporciona una medición agregada del rendimiento en todos los umbrales de clasificación posibles. Una forma de interpretar el AUC es como la probabilidad de que el modelo clasifique un ejemplo positivo aleatorio más alto que un ejemplo negativo aleatorio. Observa, a modo de ilustración, los siguientes ejemplos, que están ordenados de izquierda a derecha en orden ascendente con respecto a las predicciones de regresión logística:\n",
    "\n",
    "<img style=\"float:center;\" src=\"img/ejemplo.png\" width=\"500\">\n",
    "\n",
    "El AUC representa la probabilidad de que un ejemplo aleatorio positivo (verde) se posicione a la derecha de un ejemplo aleatorio negativo (rojo).\n",
    "\n",
    "El AUC oscila en valor del 0 al 1. Un modelo cuyas predicciones son un 100% incorrectas tiene un AUC de 0.0; otro cuyas predicciones son un 100% correctas tiene un AUC de 1.0.\n",
    "\n",
    "El AUC es conveniente por las dos razones siguientes:\n",
    "\n",
    "- El AUC es invariable con respecto a la escala. Mide qué tan bien se clasifican las predicciones, en lugar de sus valores absolutos.\n",
    "- El AUC es invariable con respecto al umbral de clasificación. Mide la calidad de las predicciones del modelo, sin tener en cuenta qué umbral de clasificación se elige.\n",
    "\n",
    "Sin embargo, estas dos razones tienen algunas advertencias, que pueden limitar la utilidad del AUC en determinados casos:\n",
    "\n",
    "- La invariabilidad de escala no siempre es conveniente. Por ejemplo, en algunas ocasiones, realmente necesitamos resultados de probabilidad bien calibrados, y el AUC no nos indicará eso.\n",
    "\n",
    "- La invariabilidad del umbral de clasificación no siempre es conveniente. En los casos en que hay amplias discrepancias en las consecuencias de los falsos negativos frente a los falsos positivos, es posible que sea fundamental minimizar un tipo de error de clasificación. Por ejemplo, al realizar la detección de spam de correo electrónico, es probable que quieras priorizar la minimización de los falsos positivos (aunque eso resulte en un aumento significativo de los falsos negativos). El AUC no es una métrica útil para este tipo de optimización."
   ]
  },
  {
   "cell_type": "markdown",
   "metadata": {},
   "source": [
    "### Supuestos <a class=\"anchor\" id=\"supuestos\"></a>"
   ]
  },
  {
   "cell_type": "markdown",
   "metadata": {},
   "source": [
    "El modelo de regresión logístico como tantísimos otros (casi absolutamente todos) modelos estadísticos, deberá cumplir una serie de supuestos que permitan concluir que el mismo es una buena versión simplificada de la información y, por tanto, tiene sentido usarlo para establecer dichas relaciones ded causación.m\n",
    "- Independencia: las observaciones tienen que ser independientes unas de otras.\n",
    "- Relación lineal entre el logaritmo natural de odds y la variable continua: \n",
    "<!--patrones en forma de U son una clara violación de esta condición.-->\n",
    "- La regresión logística no precisa de una distribución normal de la variable continua independiente.\n",
    "- Número de observaciones: no existe una norma establecida al respecto, pero se recomienda entre 50 a 100 observaciones."
   ]
  },
  {
   "cell_type": "markdown",
   "metadata": {},
   "source": [
    "### Validación de supuestos <a class=\"anchor\" id=\"validacion\"></a>"
   ]
  },
  {
   "cell_type": "code",
   "execution_count": 2,
   "metadata": {},
   "outputs": [
    {
     "data": {
      "text/html": [
       "<table>\n",
       "<thead><tr><th scope=col>y</th><th scope=col>x</th></tr></thead>\n",
       "<tbody>\n",
       "\t<tr><td>1          </td><td>-0.56047565</td></tr>\n",
       "\t<tr><td>1          </td><td>-0.23017749</td></tr>\n",
       "\t<tr><td>1          </td><td> 1.55870831</td></tr>\n",
       "\t<tr><td>1          </td><td> 0.07050839</td></tr>\n",
       "\t<tr><td>1          </td><td> 0.12928774</td></tr>\n",
       "\t<tr><td>1          </td><td> 1.71506499</td></tr>\n",
       "</tbody>\n",
       "</table>\n"
      ],
      "text/latex": [
       "\\begin{tabular}{r|ll}\n",
       " y & x\\\\\n",
       "\\hline\n",
       "\t 1           & -0.56047565\\\\\n",
       "\t 1           & -0.23017749\\\\\n",
       "\t 1           &  1.55870831\\\\\n",
       "\t 1           &  0.07050839\\\\\n",
       "\t 1           &  0.12928774\\\\\n",
       "\t 1           &  1.71506499\\\\\n",
       "\\end{tabular}\n"
      ],
      "text/markdown": [
       "\n",
       "| y | x |\n",
       "|---|---|\n",
       "| 1           | -0.56047565 |\n",
       "| 1           | -0.23017749 |\n",
       "| 1           |  1.55870831 |\n",
       "| 1           |  0.07050839 |\n",
       "| 1           |  0.12928774 |\n",
       "| 1           |  1.71506499 |\n",
       "\n"
      ],
      "text/plain": [
       "  y x          \n",
       "1 1 -0.56047565\n",
       "2 1 -0.23017749\n",
       "3 1  1.55870831\n",
       "4 1  0.07050839\n",
       "5 1  0.12928774\n",
       "6 1  1.71506499"
      ]
     },
     "metadata": {},
     "output_type": "display_data"
    }
   ],
   "source": [
    "set.seed(123)\n",
    "x = rnorm(1000)\n",
    "eta = 4 + 2*x\n",
    "p = 1/(1 + exp(-eta))\n",
    "y = rbinom(n = 1000, size = 1, prob = p)\n",
    "base <- data.frame(y, x)\n",
    "head(base)"
   ]
  },
  {
   "cell_type": "code",
   "execution_count": 3,
   "metadata": {},
   "outputs": [
    {
     "data": {
      "text/html": [
       "<ol class=list-inline>\n",
       "\t<li>1000</li>\n",
       "\t<li>2</li>\n",
       "</ol>\n"
      ],
      "text/latex": [
       "\\begin{enumerate*}\n",
       "\\item 1000\n",
       "\\item 2\n",
       "\\end{enumerate*}\n"
      ],
      "text/markdown": [
       "1. 1000\n",
       "2. 2\n",
       "\n",
       "\n"
      ],
      "text/plain": [
       "[1] 1000    2"
      ]
     },
     "metadata": {},
     "output_type": "display_data"
    }
   ],
   "source": [
    "dim(base)"
   ]
  },
  {
   "cell_type": "markdown",
   "metadata": {},
   "source": [
    "Al haber simulado el modelo $\\text{log}\\left(\\frac{p}{1-p}\\right) = 4 + 2x_t$, ($\\beta_0=4, \\beta_1=2$ y $p=P(y=1)$), debe ser natural que el modelo ajustado sea similar, veamos. "
   ]
  },
  {
   "cell_type": "code",
   "execution_count": 4,
   "metadata": {},
   "outputs": [
    {
     "name": "stderr",
     "output_type": "stream",
     "text": [
      "Loading required package: lattice\n",
      "Loading required package: ggplot2\n",
      "Registered S3 methods overwritten by 'ggplot2':\n",
      "  method         from \n",
      "  [.quosures     rlang\n",
      "  c.quosures     rlang\n",
      "  print.quosures rlang\n"
     ]
    }
   ],
   "source": [
    "library(caret)\n",
    "trainIndex <- createDataPartition(base$y,p=0.8,list=FALSE)"
   ]
  },
  {
   "cell_type": "code",
   "execution_count": 5,
   "metadata": {},
   "outputs": [],
   "source": [
    "train <- base[trainIndex, ]\n",
    "test <- base[-trainIndex, ]"
   ]
  },
  {
   "cell_type": "code",
   "execution_count": 6,
   "metadata": {},
   "outputs": [
    {
     "data": {
      "text/html": [
       "<ol class=list-inline>\n",
       "\t<li>800</li>\n",
       "\t<li>2</li>\n",
       "</ol>\n"
      ],
      "text/latex": [
       "\\begin{enumerate*}\n",
       "\\item 800\n",
       "\\item 2\n",
       "\\end{enumerate*}\n"
      ],
      "text/markdown": [
       "1. 800\n",
       "2. 2\n",
       "\n",
       "\n"
      ],
      "text/plain": [
       "[1] 800   2"
      ]
     },
     "metadata": {},
     "output_type": "display_data"
    },
    {
     "data": {
      "text/html": [
       "<ol class=list-inline>\n",
       "\t<li>200</li>\n",
       "\t<li>2</li>\n",
       "</ol>\n"
      ],
      "text/latex": [
       "\\begin{enumerate*}\n",
       "\\item 200\n",
       "\\item 2\n",
       "\\end{enumerate*}\n"
      ],
      "text/markdown": [
       "1. 200\n",
       "2. 2\n",
       "\n",
       "\n"
      ],
      "text/plain": [
       "[1] 200   2"
      ]
     },
     "metadata": {},
     "output_type": "display_data"
    }
   ],
   "source": [
    "dim(train)\n",
    "dim(test)"
   ]
  },
  {
   "cell_type": "code",
   "execution_count": 7,
   "metadata": {},
   "outputs": [],
   "source": [
    "# Regresión lineal \n",
    "fit_lm  = lm(y ~ x, data = train)\n",
    "# Regresión logística\n",
    "fit_glm = glm(y ~ x, data = train, family = binomial(link = \"logit\"))"
   ]
  },
  {
   "cell_type": "code",
   "execution_count": 9,
   "metadata": {},
   "outputs": [
    {
     "data": {
      "image/png": "[encoded data removed]",
      "text/plain": [
       "Plot with title \"Regresión lineal vs logística\""
      ]
     },
     "metadata": {},
     "output_type": "display_data"
    }
   ],
   "source": [
    "plot(y ~ x, data = base, \n",
    "     pch = 20, ylab = \"Probabilida estimada\", \n",
    "     main = \"Regresión lineal vs logística\")\n",
    "grid()\n",
    "abline(fit_lm, col = \"darkorange\")\n",
    "curve(predict(fit_glm, data.frame(x), type = \"response\"), \n",
    "      add = TRUE, col = \"dodgerblue\", lty = 2)\n",
    "legend(\"topleft\", c(\"Lineal\", \"Logística\", \"Data\"), lty = c(1, 2, 0), \n",
    "       pch = c(NA, NA, 20), lwd = 2, col = c(\"darkorange\", \"dodgerblue\", \"black\"))"
   ]
  },
  {
   "cell_type": "code",
   "execution_count": 8,
   "metadata": {},
   "outputs": [
    {
     "data": {
      "text/plain": [
       "\n",
       "Call:\n",
       "glm(formula = y ~ x, family = binomial(link = \"logit\"), data = train)\n",
       "\n",
       "Deviance Residuals: \n",
       "    Min       1Q   Median       3Q      Max  \n",
       "-3.0732   0.0753   0.1543   0.2879   1.7551  \n",
       "\n",
       "Coefficients:\n",
       "            Estimate Std. Error z value Pr(>|z|)    \n",
       "(Intercept)   4.1075     0.3209  12.802   <2e-16 ***\n",
       "x             2.0318     0.2382   8.529   <2e-16 ***\n",
       "---\n",
       "Signif. codes:  0 '***' 0.001 '**' 0.01 '*' 0.05 '.' 0.1 ' ' 1\n",
       "\n",
       "(Dispersion parameter for binomial family taken to be 1)\n",
       "\n",
       "    Null deviance: 368.63  on 799  degrees of freedom\n",
       "Residual deviance: 251.00  on 798  degrees of freedom\n",
       "AIC: 255\n",
       "\n",
       "Number of Fisher Scoring iterations: 7\n"
      ]
     },
     "metadata": {},
     "output_type": "display_data"
    }
   ],
   "source": [
    "summary(fit_glm)"
   ]
  },
  {
   "cell_type": "code",
   "execution_count": 15,
   "metadata": {
    "collapsed": true,
    "jupyter": {
     "outputs_hidden": true
    }
   },
   "outputs": [
    {
     "data": {
      "image/png": "[encoded data removed]",
      "text/plain": [
       "Plot with title \"\""
      ]
     },
     "metadata": {},
     "output_type": "display_data"
    }
   ],
   "source": [
    "par(mfrow=c(2,2))\n",
    "plot(fit_glm)"
   ]
  },
  {
   "cell_type": "code",
   "execution_count": 16,
   "metadata": {
    "scrolled": true
   },
   "outputs": [
    {
     "data": {
      "text/html": [
       "2.08946154902897e-27"
      ],
      "text/latex": [
       "2.08946154902897e-27"
      ],
      "text/markdown": [
       "2.08946154902897e-27"
      ],
      "text/plain": [
       "[1] 2.089462e-27"
      ]
     },
     "metadata": {},
     "output_type": "display_data"
    }
   ],
   "source": [
    "pchisq(368.63 - 251.00, df=799-798, lower.tail=F)"
   ]
  },
  {
   "cell_type": "code",
   "execution_count": 9,
   "metadata": {
    "scrolled": true
   },
   "outputs": [
    {
     "data": {
      "text/html": [
       "<table>\n",
       "<thead><tr><th></th><th scope=col>Df</th><th scope=col>Deviance</th><th scope=col>Resid. Df</th><th scope=col>Resid. Dev</th><th scope=col>Pr(&gt;Chi)</th></tr></thead>\n",
       "<tbody>\n",
       "\t<tr><th scope=row>NULL</th><td>NA          </td><td>      NA    </td><td>799         </td><td>368.6291    </td><td>          NA</td></tr>\n",
       "\t<tr><th scope=row>x</th><td> 1          </td><td>117.6292    </td><td>798         </td><td>250.9998    </td><td>2.090254e-27</td></tr>\n",
       "</tbody>\n",
       "</table>\n"
      ],
      "text/latex": [
       "\\begin{tabular}{r|lllll}\n",
       "  & Df & Deviance & Resid. Df & Resid. Dev & Pr(>Chi)\\\\\n",
       "\\hline\n",
       "\tNULL & NA           &       NA     & 799          & 368.6291     &           NA\\\\\n",
       "\tx &  1           & 117.6292     & 798          & 250.9998     & 2.090254e-27\\\\\n",
       "\\end{tabular}\n"
      ],
      "text/markdown": [
       "\n",
       "| <!--/--> | Df | Deviance | Resid. Df | Resid. Dev | Pr(>Chi) |\n",
       "|---|---|---|---|---|---|\n",
       "| NULL | NA           |       NA     | 799          | 368.6291     |           NA |\n",
       "| x |  1           | 117.6292     | 798          | 250.9998     | 2.090254e-27 |\n",
       "\n"
      ],
      "text/plain": [
       "     Df Deviance Resid. Df Resid. Dev Pr(>Chi)    \n",
       "NULL NA       NA 799       368.6291             NA\n",
       "x     1 117.6292 798       250.9998   2.090254e-27"
      ]
     },
     "metadata": {},
     "output_type": "display_data"
    }
   ],
   "source": [
    "anova(fit_glm,test = \"LRT\")"
   ]
  },
  {
   "cell_type": "code",
   "execution_count": 14,
   "metadata": {},
   "outputs": [],
   "source": [
    "glm_link_scores <- predict(fit_glm, test, type=\"link\")"
   ]
  },
  {
   "cell_type": "code",
   "execution_count": 15,
   "metadata": {
    "scrolled": true
   },
   "outputs": [],
   "source": [
    "glm_response_scores <- predict(fit_glm, test, type=\"response\")\n"
   ]
  },
  {
   "cell_type": "code",
   "execution_count": 17,
   "metadata": {
    "scrolled": true
   },
   "outputs": [],
   "source": [
    "predicted.classes <- ifelse(glm_response_scores > 0.5, 1, 0)"
   ]
  },
  {
   "cell_type": "code",
   "execution_count": 19,
   "metadata": {},
   "outputs": [
    {
     "name": "stderr",
     "output_type": "stream",
     "text": [
      "Setting levels: control = 0, case = 1\n",
      "Setting direction: controls < cases\n"
     ]
    }
   ],
   "source": [
    "library(pROC)\n",
    "roc_info <- roc(test$y, predicted.classes, legacy.axes = TRUE)"
   ]
  },
  {
   "cell_type": "code",
   "execution_count": 20,
   "metadata": {},
   "outputs": [
    {
     "name": "stderr",
     "output_type": "stream",
     "text": [
      "Setting levels: control = 0, case = 1\n",
      "Setting direction: controls < cases\n"
     ]
    },
    {
     "data": {
      "text/plain": [
       "\n",
       "Call:\n",
       "roc.default(response = test$y, predictor = predicted.classes,     percent = TRUE, plot = TRUE, legacy.axes = TRUE, xlab = \"Porcentaje Falsos positivos\",     ylab = \"Porcentaje verdaderos postivios\", col = \"#377eb8\",     lwd = 2, print.auc = TRUE, print.auc.x = 45, partial.auc = c(100,         90), auc.polygon.col = \"#377eb850\")\n",
       "\n",
       "Data: predicted.classes in 13 controls (test$y 0) < 187 cases (test$y 1).\n",
       "Partial area under the curve (specificity 100%-90%): 0.5388%"
      ]
     },
     "metadata": {},
     "output_type": "display_data"
    },
    {
     "data": {
      "image/png": "[encoded data removed]",
      "text/plain": [
       "plot without title"
      ]
     },
     "metadata": {},
     "output_type": "display_data"
    }
   ],
   "source": [
    "par(pty = \"s\") # square\n",
    "roc(test$y, predicted.classes, plot = TRUE, legacy.axes = TRUE,\n",
    "    percent = TRUE, xlab = \"Porcentaje Falsos positivos\",\n",
    "    ylab = \"Porcentaje verdaderos postivios\", col = \"#377eb8\", lwd = 2,\n",
    "    print.auc = TRUE, print.auc.x =45, partial.auc = c(100, 90), # en terminos de especificidad\n",
    "    auc.polygon.col = \"#377eb850\")"
   ]
  },
  {
   "cell_type": "markdown",
   "metadata": {},
   "source": [
    "### Ejemplo de Aplicación <a class=\"anchor\" id=\"ejemplo\"></a>"
   ]
  },
  {
   "cell_type": "markdown",
   "metadata": {},
   "source": [
    "<!-- Se dispone de un registro que contiene cientos de emails con información de cada uno de ellos. El objetivo de estudio es intentar crear un modelo que permita filtrar qué emails son “spam” y cuáles no, en función de determinadas características. Ejemplo extraído del libro OpenIntro Statistics. -->"
   ]
  },
  {
   "cell_type": "code",
   "execution_count": 21,
   "metadata": {},
   "outputs": [
    {
     "name": "stderr",
     "output_type": "stream",
     "text": [
      "Registered S3 method overwritten by 'rvest':\n",
      "  method            from\n",
      "  read_xml.response xml2\n",
      "-- Attaching packages --------------------------------------- tidyverse 1.2.1 --\n",
      "v tibble  3.0.6     v purrr   0.3.2\n",
      "v tidyr   1.1.2     v dplyr   1.0.4\n",
      "v readr   1.3.1     v stringr 1.4.0\n",
      "v tibble  3.0.6     v forcats 0.4.0\n",
      "Warning message:\n",
      "\"package 'tibble' was built under R version 3.6.3\"Warning message:\n",
      "\"package 'tidyr' was built under R version 3.6.3\"Warning message:\n",
      "\"package 'dplyr' was built under R version 3.6.3\"-- Conflicts ------------------------------------------ tidyverse_conflicts() --\n",
      "x dplyr::filter() masks stats::filter()\n",
      "x dplyr::lag()    masks stats::lag()\n",
      "x purrr::lift()   masks caret::lift()\n",
      "\n",
      "Attaching package: 'MASS'\n",
      "\n",
      "The following object is masked from 'package:dplyr':\n",
      "\n",
      "    select\n",
      "\n",
      "Warning message:\n",
      "\"package 'car' was built under R version 3.6.3\"Loading required package: carData\n",
      "Warning message:\n",
      "\"package 'carData' was built under R version 3.6.3\"\n",
      "Attaching package: 'car'\n",
      "\n",
      "The following object is masked from 'package:dplyr':\n",
      "\n",
      "    recode\n",
      "\n",
      "The following object is masked from 'package:purrr':\n",
      "\n",
      "    some\n",
      "\n",
      "Warning message:\n",
      "\"package 'e1071' was built under R version 3.6.3\"Warning message:\n",
      "\"package 'cowplot' was built under R version 3.6.3\"Warning message:\n",
      "\"package 'caTools' was built under R version 3.6.3\"Warning message:\n",
      "\"package 'ggcorrplot' was built under R version 3.6.3\""
     ]
    }
   ],
   "source": [
    "library(tidyverse) \n",
    "library(MASS)\n",
    "library(car)\n",
    "library(e1071)\n",
    "library(caret)\n",
    "library(cowplot)\n",
    "library(caTools)\n",
    "library(pROC)\n",
    "library(ggcorrplot)\n"
   ]
  },
  {
   "cell_type": "code",
   "execution_count": 22,
   "metadata": {
    "scrolled": true
   },
   "outputs": [
    {
     "data": {
      "text/html": [
       "<table>\n",
       "<thead><tr><th scope=col>customerID</th><th scope=col>gender</th><th scope=col>SeniorCitizen</th><th scope=col>Partner</th><th scope=col>Dependents</th><th scope=col>tenure</th><th scope=col>PhoneService</th><th scope=col>MultipleLines</th><th scope=col>InternetService</th><th scope=col>OnlineSecurity</th><th scope=col>...</th><th scope=col>DeviceProtection</th><th scope=col>TechSupport</th><th scope=col>StreamingTV</th><th scope=col>StreamingMovies</th><th scope=col>Contract</th><th scope=col>PaperlessBilling</th><th scope=col>PaymentMethod</th><th scope=col>MonthlyCharges</th><th scope=col>TotalCharges</th><th scope=col>Churn</th></tr></thead>\n",
       "<tbody>\n",
       "\t<tr><td>7590-VHVEG               </td><td>Female                   </td><td>0                        </td><td>Yes                      </td><td>No                       </td><td> 1                       </td><td>No                       </td><td>No phone service         </td><td>DSL                      </td><td>No                       </td><td>...                      </td><td>No                       </td><td>No                       </td><td>No                       </td><td>No                       </td><td>Month-to-month           </td><td>Yes                      </td><td>Electronic check         </td><td> 29.85                   </td><td>  29.85                  </td><td>No                       </td></tr>\n",
       "\t<tr><td>5575-GNVDE               </td><td>Male                     </td><td>0                        </td><td>No                       </td><td>No                       </td><td>34                       </td><td>Yes                      </td><td>No                       </td><td>DSL                      </td><td>Yes                      </td><td>...                      </td><td>Yes                      </td><td>No                       </td><td>No                       </td><td>No                       </td><td>One year                 </td><td>No                       </td><td>Mailed check             </td><td> 56.95                   </td><td>1889.50                  </td><td>No                       </td></tr>\n",
       "\t<tr><td>3668-QPYBK               </td><td>Male                     </td><td>0                        </td><td>No                       </td><td>No                       </td><td> 2                       </td><td>Yes                      </td><td>No                       </td><td>DSL                      </td><td>Yes                      </td><td>...                      </td><td>No                       </td><td>No                       </td><td>No                       </td><td>No                       </td><td>Month-to-month           </td><td>Yes                      </td><td>Mailed check             </td><td> 53.85                   </td><td> 108.15                  </td><td>Yes                      </td></tr>\n",
       "\t<tr><td>7795-CFOCW               </td><td>Male                     </td><td>0                        </td><td>No                       </td><td>No                       </td><td>45                       </td><td>No                       </td><td>No phone service         </td><td>DSL                      </td><td>Yes                      </td><td>...                      </td><td>Yes                      </td><td>Yes                      </td><td>No                       </td><td>No                       </td><td>One year                 </td><td>No                       </td><td>Bank transfer (automatic)</td><td> 42.30                   </td><td>1840.75                  </td><td>No                       </td></tr>\n",
       "\t<tr><td>9237-HQITU               </td><td>Female                   </td><td>0                        </td><td>No                       </td><td>No                       </td><td> 2                       </td><td>Yes                      </td><td>No                       </td><td>Fiber optic              </td><td>No                       </td><td>...                      </td><td>No                       </td><td>No                       </td><td>No                       </td><td>No                       </td><td>Month-to-month           </td><td>Yes                      </td><td>Electronic check         </td><td> 70.70                   </td><td> 151.65                  </td><td>Yes                      </td></tr>\n",
       "\t<tr><td>9305-CDSKC               </td><td>Female                   </td><td>0                        </td><td>No                       </td><td>No                       </td><td> 8                       </td><td>Yes                      </td><td>Yes                      </td><td>Fiber optic              </td><td>No                       </td><td>...                      </td><td>Yes                      </td><td>No                       </td><td>Yes                      </td><td>Yes                      </td><td>Month-to-month           </td><td>Yes                      </td><td>Electronic check         </td><td> 99.65                   </td><td> 820.50                  </td><td>Yes                      </td></tr>\n",
       "\t<tr><td>1452-KIOVK               </td><td>Male                     </td><td>0                        </td><td>No                       </td><td>Yes                      </td><td>22                       </td><td>Yes                      </td><td>Yes                      </td><td>Fiber optic              </td><td>No                       </td><td>...                      </td><td>No                       </td><td>No                       </td><td>Yes                      </td><td>No                       </td><td>Month-to-month           </td><td>Yes                      </td><td>Credit card (automatic)  </td><td> 89.10                   </td><td>1949.40                  </td><td>No                       </td></tr>\n",
       "\t<tr><td>6713-OKOMC               </td><td>Female                   </td><td>0                        </td><td>No                       </td><td>No                       </td><td>10                       </td><td>No                       </td><td>No phone service         </td><td>DSL                      </td><td>Yes                      </td><td>...                      </td><td>No                       </td><td>No                       </td><td>No                       </td><td>No                       </td><td>Month-to-month           </td><td>No                       </td><td>Mailed check             </td><td> 29.75                   </td><td> 301.90                  </td><td>No                       </td></tr>\n",
       "\t<tr><td>7892-POOKP               </td><td>Female                   </td><td>0                        </td><td>Yes                      </td><td>No                       </td><td>28                       </td><td>Yes                      </td><td>Yes                      </td><td>Fiber optic              </td><td>No                       </td><td>...                      </td><td>Yes                      </td><td>Yes                      </td><td>Yes                      </td><td>Yes                      </td><td>Month-to-month           </td><td>Yes                      </td><td>Electronic check         </td><td>104.80                   </td><td>3046.05                  </td><td>Yes                      </td></tr>\n",
       "\t<tr><td>6388-TABGU               </td><td>Male                     </td><td>0                        </td><td>No                       </td><td>Yes                      </td><td>62                       </td><td>Yes                      </td><td>No                       </td><td>DSL                      </td><td>Yes                      </td><td>...                      </td><td>No                       </td><td>No                       </td><td>No                       </td><td>No                       </td><td>One year                 </td><td>No                       </td><td>Bank transfer (automatic)</td><td> 56.15                   </td><td>3487.95                  </td><td>No                       </td></tr>\n",
       "\t<tr><td>9763-GRSKD               </td><td>Male                     </td><td>0                        </td><td>Yes                      </td><td>Yes                      </td><td>13                       </td><td>Yes                      </td><td>No                       </td><td>DSL                      </td><td>Yes                      </td><td>...                      </td><td>No                       </td><td>No                       </td><td>No                       </td><td>No                       </td><td>Month-to-month           </td><td>Yes                      </td><td>Mailed check             </td><td> 49.95                   </td><td> 587.45                  </td><td>No                       </td></tr>\n",
       "\t<tr><td>7469-LKBCI               </td><td>Male                     </td><td>0                        </td><td>No                       </td><td>No                       </td><td>16                       </td><td>Yes                      </td><td>No                       </td><td>No                       </td><td>No internet service      </td><td>...                      </td><td>No internet service      </td><td>No internet service      </td><td>No internet service      </td><td>No internet service      </td><td>Two year                 </td><td>No                       </td><td>Credit card (automatic)  </td><td> 18.95                   </td><td> 326.80                  </td><td>No                       </td></tr>\n",
       "\t<tr><td>8091-TTVAX               </td><td>Male                     </td><td>0                        </td><td>Yes                      </td><td>No                       </td><td>58                       </td><td>Yes                      </td><td>Yes                      </td><td>Fiber optic              </td><td>No                       </td><td>...                      </td><td>Yes                      </td><td>No                       </td><td>Yes                      </td><td>Yes                      </td><td>One year                 </td><td>No                       </td><td>Credit card (automatic)  </td><td>100.35                   </td><td>5681.10                  </td><td>No                       </td></tr>\n",
       "\t<tr><td>0280-XJGEX               </td><td>Male                     </td><td>0                        </td><td>No                       </td><td>No                       </td><td>49                       </td><td>Yes                      </td><td>Yes                      </td><td>Fiber optic              </td><td>No                       </td><td>...                      </td><td>Yes                      </td><td>No                       </td><td>Yes                      </td><td>Yes                      </td><td>Month-to-month           </td><td>Yes                      </td><td>Bank transfer (automatic)</td><td>103.70                   </td><td>5036.30                  </td><td>Yes                      </td></tr>\n",
       "\t<tr><td>5129-JLPIS               </td><td>Male                     </td><td>0                        </td><td>No                       </td><td>No                       </td><td>25                       </td><td>Yes                      </td><td>No                       </td><td>Fiber optic              </td><td>Yes                      </td><td>...                      </td><td>Yes                      </td><td>Yes                      </td><td>Yes                      </td><td>Yes                      </td><td>Month-to-month           </td><td>Yes                      </td><td>Electronic check         </td><td>105.50                   </td><td>2686.05                  </td><td>No                       </td></tr>\n",
       "\t<tr><td>3655-SNQYZ               </td><td>Female                   </td><td>0                        </td><td>Yes                      </td><td>Yes                      </td><td>69                       </td><td>Yes                      </td><td>Yes                      </td><td>Fiber optic              </td><td>Yes                      </td><td>...                      </td><td>Yes                      </td><td>Yes                      </td><td>Yes                      </td><td>Yes                      </td><td>Two year                 </td><td>No                       </td><td>Credit card (automatic)  </td><td>113.25                   </td><td>7895.15                  </td><td>No                       </td></tr>\n",
       "\t<tr><td>8191-XWSZG               </td><td>Female                   </td><td>0                        </td><td>No                       </td><td>No                       </td><td>52                       </td><td>Yes                      </td><td>No                       </td><td>No                       </td><td>No internet service      </td><td>...                      </td><td>No internet service      </td><td>No internet service      </td><td>No internet service      </td><td>No internet service      </td><td>One year                 </td><td>No                       </td><td>Mailed check             </td><td> 20.65                   </td><td>1022.95                  </td><td>No                       </td></tr>\n",
       "\t<tr><td>9959-WOFKT               </td><td>Male                     </td><td>0                        </td><td>No                       </td><td>Yes                      </td><td>71                       </td><td>Yes                      </td><td>Yes                      </td><td>Fiber optic              </td><td>Yes                      </td><td>...                      </td><td>Yes                      </td><td>No                       </td><td>Yes                      </td><td>Yes                      </td><td>Two year                 </td><td>No                       </td><td>Bank transfer (automatic)</td><td>106.70                   </td><td>7382.25                  </td><td>No                       </td></tr>\n",
       "\t<tr><td>4190-MFLUW               </td><td>Female                   </td><td>0                        </td><td>Yes                      </td><td>Yes                      </td><td>10                       </td><td>Yes                      </td><td>No                       </td><td>DSL                      </td><td>No                       </td><td>...                      </td><td>Yes                      </td><td>Yes                      </td><td>No                       </td><td>No                       </td><td>Month-to-month           </td><td>No                       </td><td>Credit card (automatic)  </td><td> 55.20                   </td><td> 528.35                  </td><td>Yes                      </td></tr>\n",
       "\t<tr><td>4183-MYFRB               </td><td>Female                   </td><td>0                        </td><td>No                       </td><td>No                       </td><td>21                       </td><td>Yes                      </td><td>No                       </td><td>Fiber optic              </td><td>No                       </td><td>...                      </td><td>Yes                      </td><td>No                       </td><td>No                       </td><td>Yes                      </td><td>Month-to-month           </td><td>Yes                      </td><td>Electronic check         </td><td> 90.05                   </td><td>1862.90                  </td><td>No                       </td></tr>\n",
       "\t<tr><td>8779-QRDMV               </td><td>Male                     </td><td>1                        </td><td>No                       </td><td>No                       </td><td> 1                       </td><td>No                       </td><td>No phone service         </td><td>DSL                      </td><td>No                       </td><td>...                      </td><td>Yes                      </td><td>No                       </td><td>No                       </td><td>Yes                      </td><td>Month-to-month           </td><td>Yes                      </td><td>Electronic check         </td><td> 39.65                   </td><td>  39.65                  </td><td>Yes                      </td></tr>\n",
       "\t<tr><td>1680-VDCWW               </td><td>Male                     </td><td>0                        </td><td>Yes                      </td><td>No                       </td><td>12                       </td><td>Yes                      </td><td>No                       </td><td>No                       </td><td>No internet service      </td><td>...                      </td><td>No internet service      </td><td>No internet service      </td><td>No internet service      </td><td>No internet service      </td><td>One year                 </td><td>No                       </td><td>Bank transfer (automatic)</td><td> 19.80                   </td><td> 202.25                  </td><td>No                       </td></tr>\n",
       "\t<tr><td>1066-JKSGK               </td><td>Male                     </td><td>0                        </td><td>No                       </td><td>No                       </td><td> 1                       </td><td>Yes                      </td><td>No                       </td><td>No                       </td><td>No internet service      </td><td>...                      </td><td>No internet service      </td><td>No internet service      </td><td>No internet service      </td><td>No internet service      </td><td>Month-to-month           </td><td>No                       </td><td>Mailed check             </td><td> 20.15                   </td><td>  20.15                  </td><td>Yes                      </td></tr>\n",
       "\t<tr><td>3638-WEABW               </td><td>Female                   </td><td>0                        </td><td>Yes                      </td><td>No                       </td><td>58                       </td><td>Yes                      </td><td>Yes                      </td><td>DSL                      </td><td>No                       </td><td>...                      </td><td>No                       </td><td>Yes                      </td><td>No                       </td><td>No                       </td><td>Two year                 </td><td>Yes                      </td><td>Credit card (automatic)  </td><td> 59.90                   </td><td>3505.10                  </td><td>No                       </td></tr>\n",
       "\t<tr><td>6322-HRPFA               </td><td>Male                     </td><td>0                        </td><td>Yes                      </td><td>Yes                      </td><td>49                       </td><td>Yes                      </td><td>No                       </td><td>DSL                      </td><td>Yes                      </td><td>...                      </td><td>No                       </td><td>Yes                      </td><td>No                       </td><td>No                       </td><td>Month-to-month           </td><td>No                       </td><td>Credit card (automatic)  </td><td> 59.60                   </td><td>2970.30                  </td><td>No                       </td></tr>\n",
       "\t<tr><td>6865-JZNKO               </td><td>Female                   </td><td>0                        </td><td>No                       </td><td>No                       </td><td>30                       </td><td>Yes                      </td><td>No                       </td><td>DSL                      </td><td>Yes                      </td><td>...                      </td><td>No                       </td><td>No                       </td><td>No                       </td><td>No                       </td><td>Month-to-month           </td><td>Yes                      </td><td>Bank transfer (automatic)</td><td> 55.30                   </td><td>1530.60                  </td><td>No                       </td></tr>\n",
       "\t<tr><td>6467-CHFZW               </td><td>Male                     </td><td>0                        </td><td>Yes                      </td><td>Yes                      </td><td>47                       </td><td>Yes                      </td><td>Yes                      </td><td>Fiber optic              </td><td>No                       </td><td>...                      </td><td>No                       </td><td>No                       </td><td>Yes                      </td><td>Yes                      </td><td>Month-to-month           </td><td>Yes                      </td><td>Electronic check         </td><td> 99.35                   </td><td>4749.15                  </td><td>Yes                      </td></tr>\n",
       "\t<tr><td>8665-UTDHZ               </td><td>Male                     </td><td>0                        </td><td>Yes                      </td><td>Yes                      </td><td> 1                       </td><td>No                       </td><td>No phone service         </td><td>DSL                      </td><td>No                       </td><td>...                      </td><td>No                       </td><td>No                       </td><td>No                       </td><td>No                       </td><td>Month-to-month           </td><td>No                       </td><td>Electronic check         </td><td> 30.20                   </td><td>  30.20                  </td><td>Yes                      </td></tr>\n",
       "\t<tr><td>5248-YGIJN               </td><td>Male                     </td><td>0                        </td><td>Yes                      </td><td>No                       </td><td>72                       </td><td>Yes                      </td><td>Yes                      </td><td>DSL                      </td><td>Yes                      </td><td>...                      </td><td>Yes                      </td><td>Yes                      </td><td>Yes                      </td><td>Yes                      </td><td>Two year                 </td><td>Yes                      </td><td>Credit card (automatic)  </td><td> 90.25                   </td><td>6369.45                  </td><td>No                       </td></tr>\n",
       "\t<tr><td>8773-HHUOZ               </td><td>Female                   </td><td>0                        </td><td>No                       </td><td>Yes                      </td><td>17                       </td><td>Yes                      </td><td>No                       </td><td>DSL                      </td><td>No                       </td><td>...                      </td><td>No                       </td><td>No                       </td><td>Yes                      </td><td>Yes                      </td><td>Month-to-month           </td><td>Yes                      </td><td>Mailed check             </td><td> 64.70                   </td><td>1093.10                  </td><td>Yes                      </td></tr>\n",
       "\t<tr><td>...</td><td>...</td><td>...</td><td>...</td><td>...</td><td>...</td><td>...</td><td>...</td><td>...</td><td>...</td><td>   </td><td>...</td><td>...</td><td>...</td><td>...</td><td>...</td><td>...</td><td>...</td><td>...</td><td>...</td><td>...</td></tr>\n",
       "\t<tr><td>1685-BQULA               </td><td>Female                   </td><td>0                        </td><td>No                       </td><td>No                       </td><td>40                       </td><td>Yes                      </td><td>Yes                      </td><td>Fiber optic              </td><td>No                       </td><td>...                      </td><td>Yes                      </td><td>No                       </td><td>Yes                      </td><td>No                       </td><td>Month-to-month           </td><td>Yes                      </td><td>Bank transfer (automatic)</td><td> 93.40                   </td><td>3756.40                  </td><td>No                       </td></tr>\n",
       "\t<tr><td>9053-EJUNL               </td><td>Male                     </td><td>0                        </td><td>No                       </td><td>No                       </td><td>41                       </td><td>Yes                      </td><td>Yes                      </td><td>Fiber optic              </td><td>No                       </td><td>...                      </td><td>No                       </td><td>No                       </td><td>Yes                      </td><td>No                       </td><td>Month-to-month           </td><td>Yes                      </td><td>Electronic check         </td><td> 89.20                   </td><td>3645.75                  </td><td>No                       </td></tr>\n",
       "\t<tr><td>0666-UXTJO               </td><td>Male                     </td><td>1                        </td><td>Yes                      </td><td>No                       </td><td>34                       </td><td>Yes                      </td><td>No                       </td><td>Fiber optic              </td><td>No                       </td><td>...                      </td><td>Yes                      </td><td>No                       </td><td>Yes                      </td><td>No                       </td><td>Month-to-month           </td><td>Yes                      </td><td>Credit card (automatic)  </td><td> 85.20                   </td><td>2874.45                  </td><td>No                       </td></tr>\n",
       "\t<tr><td>1471-GIQKQ               </td><td>Female                   </td><td>0                        </td><td>No                       </td><td>No                       </td><td> 1                       </td><td>Yes                      </td><td>No                       </td><td>DSL                      </td><td>No                       </td><td>...                      </td><td>No                       </td><td>No                       </td><td>No                       </td><td>No                       </td><td>Month-to-month           </td><td>No                       </td><td>Electronic check         </td><td> 49.95                   </td><td>  49.95                  </td><td>No                       </td></tr>\n",
       "\t<tr><td>4807-IZYOZ               </td><td>Female                   </td><td>0                        </td><td>No                       </td><td>No                       </td><td>51                       </td><td>Yes                      </td><td>No                       </td><td>No                       </td><td>No internet service      </td><td>...                      </td><td>No internet service      </td><td>No internet service      </td><td>No internet service      </td><td>No internet service      </td><td>Two year                 </td><td>No                       </td><td>Bank transfer (automatic)</td><td> 20.65                   </td><td>1020.75                  </td><td>No                       </td></tr>\n",
       "\t<tr><td>1122-JWTJW               </td><td>Male                     </td><td>0                        </td><td>Yes                      </td><td>Yes                      </td><td> 1                       </td><td>Yes                      </td><td>No                       </td><td>Fiber optic              </td><td>No                       </td><td>...                      </td><td>No                       </td><td>No                       </td><td>No                       </td><td>No                       </td><td>Month-to-month           </td><td>Yes                      </td><td>Mailed check             </td><td> 70.65                   </td><td>  70.65                  </td><td>Yes                      </td></tr>\n",
       "\t<tr><td>9710-NJERN               </td><td>Female                   </td><td>0                        </td><td>No                       </td><td>No                       </td><td>39                       </td><td>Yes                      </td><td>No                       </td><td>No                       </td><td>No internet service      </td><td>...                      </td><td>No internet service      </td><td>No internet service      </td><td>No internet service      </td><td>No internet service      </td><td>Two year                 </td><td>No                       </td><td>Mailed check             </td><td> 20.15                   </td><td> 826.00                  </td><td>No                       </td></tr>\n",
       "\t<tr><td>9837-FWLCH               </td><td>Male                     </td><td>0                        </td><td>Yes                      </td><td>Yes                      </td><td>12                       </td><td>Yes                      </td><td>No                       </td><td>No                       </td><td>No internet service      </td><td>...                      </td><td>No internet service      </td><td>No internet service      </td><td>No internet service      </td><td>No internet service      </td><td>Month-to-month           </td><td>Yes                      </td><td>Electronic check         </td><td> 19.20                   </td><td> 239.00                  </td><td>No                       </td></tr>\n",
       "\t<tr><td>1699-HPSBG               </td><td>Male                     </td><td>0                        </td><td>No                       </td><td>No                       </td><td>12                       </td><td>Yes                      </td><td>No                       </td><td>DSL                      </td><td>No                       </td><td>...                      </td><td>No                       </td><td>Yes                      </td><td>Yes                      </td><td>No                       </td><td>One year                 </td><td>Yes                      </td><td>Electronic check         </td><td> 59.80                   </td><td> 727.80                  </td><td>Yes                      </td></tr>\n",
       "\t<tr><td>7203-OYKCT               </td><td>Male                     </td><td>0                        </td><td>No                       </td><td>No                       </td><td>72                       </td><td>Yes                      </td><td>Yes                      </td><td>Fiber optic              </td><td>No                       </td><td>...                      </td><td>Yes                      </td><td>No                       </td><td>Yes                      </td><td>Yes                      </td><td>One year                 </td><td>Yes                      </td><td>Electronic check         </td><td>104.95                   </td><td>7544.30                  </td><td>No                       </td></tr>\n",
       "\t<tr><td>1035-IPQPU               </td><td>Female                   </td><td>1                        </td><td>Yes                      </td><td>No                       </td><td>63                       </td><td>Yes                      </td><td>Yes                      </td><td>Fiber optic              </td><td>No                       </td><td>...                      </td><td>Yes                      </td><td>No                       </td><td>Yes                      </td><td>Yes                      </td><td>Month-to-month           </td><td>Yes                      </td><td>Electronic check         </td><td>103.50                   </td><td>6479.40                  </td><td>No                       </td></tr>\n",
       "\t<tr><td>7398-LXGYX               </td><td>Male                     </td><td>0                        </td><td>Yes                      </td><td>No                       </td><td>44                       </td><td>Yes                      </td><td>Yes                      </td><td>Fiber optic              </td><td>Yes                      </td><td>...                      </td><td>Yes                      </td><td>No                       </td><td>No                       </td><td>No                       </td><td>Month-to-month           </td><td>Yes                      </td><td>Credit card (automatic)  </td><td> 84.80                   </td><td>3626.35                  </td><td>No                       </td></tr>\n",
       "\t<tr><td>2823-LKABH               </td><td>Female                   </td><td>0                        </td><td>No                       </td><td>No                       </td><td>18                       </td><td>Yes                      </td><td>Yes                      </td><td>Fiber optic              </td><td>No                       </td><td>...                      </td><td>Yes                      </td><td>Yes                      </td><td>No                       </td><td>Yes                      </td><td>Month-to-month           </td><td>Yes                      </td><td>Bank transfer (automatic)</td><td> 95.05                   </td><td>1679.40                  </td><td>No                       </td></tr>\n",
       "\t<tr><td>8775-CEBBJ               </td><td>Female                   </td><td>0                        </td><td>No                       </td><td>No                       </td><td> 9                       </td><td>Yes                      </td><td>No                       </td><td>DSL                      </td><td>No                       </td><td>...                      </td><td>No                       </td><td>No                       </td><td>No                       </td><td>No                       </td><td>Month-to-month           </td><td>Yes                      </td><td>Bank transfer (automatic)</td><td> 44.20                   </td><td> 403.35                  </td><td>Yes                      </td></tr>\n",
       "\t<tr><td>0550-DCXLH               </td><td>Male                     </td><td>0                        </td><td>No                       </td><td>No                       </td><td>13                       </td><td>Yes                      </td><td>No                       </td><td>DSL                      </td><td>No                       </td><td>...                      </td><td>No                       </td><td>Yes                      </td><td>Yes                      </td><td>Yes                      </td><td>Month-to-month           </td><td>No                       </td><td>Mailed check             </td><td> 73.35                   </td><td> 931.55                  </td><td>No                       </td></tr>\n",
       "\t<tr><td>9281-CEDRU               </td><td>Female                   </td><td>0                        </td><td>Yes                      </td><td>No                       </td><td>68                       </td><td>Yes                      </td><td>No                       </td><td>DSL                      </td><td>No                       </td><td>...                      </td><td>No                       </td><td>Yes                      </td><td>Yes                      </td><td>No                       </td><td>Two year                 </td><td>No                       </td><td>Bank transfer (automatic)</td><td> 64.10                   </td><td>4326.25                  </td><td>No                       </td></tr>\n",
       "\t<tr><td>2235-DWLJU               </td><td>Female                   </td><td>1                        </td><td>No                       </td><td>No                       </td><td> 6                       </td><td>No                       </td><td>No phone service         </td><td>DSL                      </td><td>No                       </td><td>...                      </td><td>No                       </td><td>No                       </td><td>Yes                      </td><td>Yes                      </td><td>Month-to-month           </td><td>Yes                      </td><td>Electronic check         </td><td> 44.40                   </td><td> 263.05                  </td><td>No                       </td></tr>\n",
       "\t<tr><td>0871-OPBXW               </td><td>Female                   </td><td>0                        </td><td>No                       </td><td>No                       </td><td> 2                       </td><td>Yes                      </td><td>No                       </td><td>No                       </td><td>No internet service      </td><td>...                      </td><td>No internet service      </td><td>No internet service      </td><td>No internet service      </td><td>No internet service      </td><td>Month-to-month           </td><td>Yes                      </td><td>Mailed check             </td><td> 20.05                   </td><td>  39.25                  </td><td>No                       </td></tr>\n",
       "\t<tr><td>3605-JISKB               </td><td>Male                     </td><td>1                        </td><td>Yes                      </td><td>No                       </td><td>55                       </td><td>Yes                      </td><td>Yes                      </td><td>DSL                      </td><td>Yes                      </td><td>...                      </td><td>No                       </td><td>No                       </td><td>No                       </td><td>No                       </td><td>One year                 </td><td>No                       </td><td>Credit card (automatic)  </td><td> 60.00                   </td><td>3316.10                  </td><td>No                       </td></tr>\n",
       "\t<tr><td>6894-LFHLY               </td><td>Male                     </td><td>1                        </td><td>No                       </td><td>No                       </td><td> 1                       </td><td>Yes                      </td><td>Yes                      </td><td>Fiber optic              </td><td>No                       </td><td>...                      </td><td>No                       </td><td>No                       </td><td>No                       </td><td>No                       </td><td>Month-to-month           </td><td>Yes                      </td><td>Electronic check         </td><td> 75.75                   </td><td>  75.75                  </td><td>Yes                      </td></tr>\n",
       "\t<tr><td>9767-FFLEM               </td><td>Male                     </td><td>0                        </td><td>No                       </td><td>No                       </td><td>38                       </td><td>Yes                      </td><td>No                       </td><td>Fiber optic              </td><td>No                       </td><td>...                      </td><td>No                       </td><td>No                       </td><td>No                       </td><td>No                       </td><td>Month-to-month           </td><td>Yes                      </td><td>Credit card (automatic)  </td><td> 69.50                   </td><td>2625.25                  </td><td>No                       </td></tr>\n",
       "\t<tr><td>0639-TSIQW               </td><td>Female                   </td><td>0                        </td><td>No                       </td><td>No                       </td><td>67                       </td><td>Yes                      </td><td>Yes                      </td><td>Fiber optic              </td><td>Yes                      </td><td>...                      </td><td>Yes                      </td><td>No                       </td><td>Yes                      </td><td>No                       </td><td>Month-to-month           </td><td>Yes                      </td><td>Credit card (automatic)  </td><td>102.95                   </td><td>6886.25                  </td><td>Yes                      </td></tr>\n",
       "\t<tr><td>8456-QDAVC               </td><td>Male                     </td><td>0                        </td><td>No                       </td><td>No                       </td><td>19                       </td><td>Yes                      </td><td>No                       </td><td>Fiber optic              </td><td>No                       </td><td>...                      </td><td>No                       </td><td>No                       </td><td>Yes                      </td><td>No                       </td><td>Month-to-month           </td><td>Yes                      </td><td>Bank transfer (automatic)</td><td> 78.70                   </td><td>1495.10                  </td><td>No                       </td></tr>\n",
       "\t<tr><td>7750-EYXWZ               </td><td>Female                   </td><td>0                        </td><td>No                       </td><td>No                       </td><td>12                       </td><td>No                       </td><td>No phone service         </td><td>DSL                      </td><td>No                       </td><td>...                      </td><td>Yes                      </td><td>Yes                      </td><td>Yes                      </td><td>Yes                      </td><td>One year                 </td><td>No                       </td><td>Electronic check         </td><td> 60.65                   </td><td> 743.30                  </td><td>No                       </td></tr>\n",
       "\t<tr><td>2569-WGERO               </td><td>Female                   </td><td>0                        </td><td>No                       </td><td>No                       </td><td>72                       </td><td>Yes                      </td><td>No                       </td><td>No                       </td><td>No internet service      </td><td>...                      </td><td>No internet service      </td><td>No internet service      </td><td>No internet service      </td><td>No internet service      </td><td>Two year                 </td><td>Yes                      </td><td>Bank transfer (automatic)</td><td> 21.15                   </td><td>1419.40                  </td><td>No                       </td></tr>\n",
       "\t<tr><td>6840-RESVB               </td><td>Male                     </td><td>0                        </td><td>Yes                      </td><td>Yes                      </td><td>24                       </td><td>Yes                      </td><td>Yes                      </td><td>DSL                      </td><td>Yes                      </td><td>...                      </td><td>Yes                      </td><td>Yes                      </td><td>Yes                      </td><td>Yes                      </td><td>One year                 </td><td>Yes                      </td><td>Mailed check             </td><td> 84.80                   </td><td>1990.50                  </td><td>No                       </td></tr>\n",
       "\t<tr><td>2234-XADUH               </td><td>Female                   </td><td>0                        </td><td>Yes                      </td><td>Yes                      </td><td>72                       </td><td>Yes                      </td><td>Yes                      </td><td>Fiber optic              </td><td>No                       </td><td>...                      </td><td>Yes                      </td><td>No                       </td><td>Yes                      </td><td>Yes                      </td><td>One year                 </td><td>Yes                      </td><td>Credit card (automatic)  </td><td>103.20                   </td><td>7362.90                  </td><td>No                       </td></tr>\n",
       "\t<tr><td>4801-JZAZL               </td><td>Female                   </td><td>0                        </td><td>Yes                      </td><td>Yes                      </td><td>11                       </td><td>No                       </td><td>No phone service         </td><td>DSL                      </td><td>Yes                      </td><td>...                      </td><td>No                       </td><td>No                       </td><td>No                       </td><td>No                       </td><td>Month-to-month           </td><td>Yes                      </td><td>Electronic check         </td><td> 29.60                   </td><td> 346.45                  </td><td>No                       </td></tr>\n",
       "\t<tr><td>8361-LTMKD               </td><td>Male                     </td><td>1                        </td><td>Yes                      </td><td>No                       </td><td> 4                       </td><td>Yes                      </td><td>Yes                      </td><td>Fiber optic              </td><td>No                       </td><td>...                      </td><td>No                       </td><td>No                       </td><td>No                       </td><td>No                       </td><td>Month-to-month           </td><td>Yes                      </td><td>Mailed check             </td><td> 74.40                   </td><td> 306.60                  </td><td>Yes                      </td></tr>\n",
       "\t<tr><td>3186-AJIEK               </td><td>Male                     </td><td>0                        </td><td>No                       </td><td>No                       </td><td>66                       </td><td>Yes                      </td><td>No                       </td><td>Fiber optic              </td><td>Yes                      </td><td>...                      </td><td>Yes                      </td><td>Yes                      </td><td>Yes                      </td><td>Yes                      </td><td>Two year                 </td><td>Yes                      </td><td>Bank transfer (automatic)</td><td>105.65                   </td><td>6844.50                  </td><td>No                       </td></tr>\n",
       "</tbody>\n",
       "</table>\n"
      ],
      "text/latex": [
       "\\begin{tabular}{r|lllllllllllllllllllll}\n",
       " customerID & gender & SeniorCitizen & Partner & Dependents & tenure & PhoneService & MultipleLines & InternetService & OnlineSecurity & ... & DeviceProtection & TechSupport & StreamingTV & StreamingMovies & Contract & PaperlessBilling & PaymentMethod & MonthlyCharges & TotalCharges & Churn\\\\\n",
       "\\hline\n",
       "\t 7590-VHVEG                & Female                    & 0                         & Yes                       & No                        &  1                        & No                        & No phone service          & DSL                       & No                        & ...                       & No                        & No                        & No                        & No                        & Month-to-month            & Yes                       & Electronic check          &  29.85                    &   29.85                   & No                       \\\\\n",
       "\t 5575-GNVDE                & Male                      & 0                         & No                        & No                        & 34                        & Yes                       & No                        & DSL                       & Yes                       & ...                       & Yes                       & No                        & No                        & No                        & One year                  & No                        & Mailed check              &  56.95                    & 1889.50                   & No                       \\\\\n",
       "\t 3668-QPYBK                & Male                      & 0                         & No                        & No                        &  2                        & Yes                       & No                        & DSL                       & Yes                       & ...                       & No                        & No                        & No                        & No                        & Month-to-month            & Yes                       & Mailed check              &  53.85                    &  108.15                   & Yes                      \\\\\n",
       "\t 7795-CFOCW                & Male                      & 0                         & No                        & No                        & 45                        & No                        & No phone service          & DSL                       & Yes                       & ...                       & Yes                       & Yes                       & No                        & No                        & One year                  & No                        & Bank transfer (automatic) &  42.30                    & 1840.75                   & No                       \\\\\n",
       "\t 9237-HQITU                & Female                    & 0                         & No                        & No                        &  2                        & Yes                       & No                        & Fiber optic               & No                        & ...                       & No                        & No                        & No                        & No                        & Month-to-month            & Yes                       & Electronic check          &  70.70                    &  151.65                   & Yes                      \\\\\n",
       "\t 9305-CDSKC                & Female                    & 0                         & No                        & No                        &  8                        & Yes                       & Yes                       & Fiber optic               & No                        & ...                       & Yes                       & No                        & Yes                       & Yes                       & Month-to-month            & Yes                       & Electronic check          &  99.65                    &  820.50                   & Yes                      \\\\\n",
       "\t 1452-KIOVK                & Male                      & 0                         & No                        & Yes                       & 22                        & Yes                       & Yes                       & Fiber optic               & No                        & ...                       & No                        & No                        & Yes                       & No                        & Month-to-month            & Yes                       & Credit card (automatic)   &  89.10                    & 1949.40                   & No                       \\\\\n",
       "\t 6713-OKOMC                & Female                    & 0                         & No                        & No                        & 10                        & No                        & No phone service          & DSL                       & Yes                       & ...                       & No                        & No                        & No                        & No                        & Month-to-month            & No                        & Mailed check              &  29.75                    &  301.90                   & No                       \\\\\n",
       "\t 7892-POOKP                & Female                    & 0                         & Yes                       & No                        & 28                        & Yes                       & Yes                       & Fiber optic               & No                        & ...                       & Yes                       & Yes                       & Yes                       & Yes                       & Month-to-month            & Yes                       & Electronic check          & 104.80                    & 3046.05                   & Yes                      \\\\\n",
       "\t 6388-TABGU                & Male                      & 0                         & No                        & Yes                       & 62                        & Yes                       & No                        & DSL                       & Yes                       & ...                       & No                        & No                        & No                        & No                        & One year                  & No                        & Bank transfer (automatic) &  56.15                    & 3487.95                   & No                       \\\\\n",
       "\t 9763-GRSKD                & Male                      & 0                         & Yes                       & Yes                       & 13                        & Yes                       & No                        & DSL                       & Yes                       & ...                       & No                        & No                        & No                        & No                        & Month-to-month            & Yes                       & Mailed check              &  49.95                    &  587.45                   & No                       \\\\\n",
       "\t 7469-LKBCI                & Male                      & 0                         & No                        & No                        & 16                        & Yes                       & No                        & No                        & No internet service       & ...                       & No internet service       & No internet service       & No internet service       & No internet service       & Two year                  & No                        & Credit card (automatic)   &  18.95                    &  326.80                   & No                       \\\\\n",
       "\t 8091-TTVAX                & Male                      & 0                         & Yes                       & No                        & 58                        & Yes                       & Yes                       & Fiber optic               & No                        & ...                       & Yes                       & No                        & Yes                       & Yes                       & One year                  & No                        & Credit card (automatic)   & 100.35                    & 5681.10                   & No                       \\\\\n",
       "\t 0280-XJGEX                & Male                      & 0                         & No                        & No                        & 49                        & Yes                       & Yes                       & Fiber optic               & No                        & ...                       & Yes                       & No                        & Yes                       & Yes                       & Month-to-month            & Yes                       & Bank transfer (automatic) & 103.70                    & 5036.30                   & Yes                      \\\\\n",
       "\t 5129-JLPIS                & Male                      & 0                         & No                        & No                        & 25                        & Yes                       & No                        & Fiber optic               & Yes                       & ...                       & Yes                       & Yes                       & Yes                       & Yes                       & Month-to-month            & Yes                       & Electronic check          & 105.50                    & 2686.05                   & No                       \\\\\n",
       "\t 3655-SNQYZ                & Female                    & 0                         & Yes                       & Yes                       & 69                        & Yes                       & Yes                       & Fiber optic               & Yes                       & ...                       & Yes                       & Yes                       & Yes                       & Yes                       & Two year                  & No                        & Credit card (automatic)   & 113.25                    & 7895.15                   & No                       \\\\\n",
       "\t 8191-XWSZG                & Female                    & 0                         & No                        & No                        & 52                        & Yes                       & No                        & No                        & No internet service       & ...                       & No internet service       & No internet service       & No internet service       & No internet service       & One year                  & No                        & Mailed check              &  20.65                    & 1022.95                   & No                       \\\\\n",
       "\t 9959-WOFKT                & Male                      & 0                         & No                        & Yes                       & 71                        & Yes                       & Yes                       & Fiber optic               & Yes                       & ...                       & Yes                       & No                        & Yes                       & Yes                       & Two year                  & No                        & Bank transfer (automatic) & 106.70                    & 7382.25                   & No                       \\\\\n",
       "\t 4190-MFLUW                & Female                    & 0                         & Yes                       & Yes                       & 10                        & Yes                       & No                        & DSL                       & No                        & ...                       & Yes                       & Yes                       & No                        & No                        & Month-to-month            & No                        & Credit card (automatic)   &  55.20                    &  528.35                   & Yes                      \\\\\n",
       "\t 4183-MYFRB                & Female                    & 0                         & No                        & No                        & 21                        & Yes                       & No                        & Fiber optic               & No                        & ...                       & Yes                       & No                        & No                        & Yes                       & Month-to-month            & Yes                       & Electronic check          &  90.05                    & 1862.90                   & No                       \\\\\n",
       "\t 8779-QRDMV                & Male                      & 1                         & No                        & No                        &  1                        & No                        & No phone service          & DSL                       & No                        & ...                       & Yes                       & No                        & No                        & Yes                       & Month-to-month            & Yes                       & Electronic check          &  39.65                    &   39.65                   & Yes                      \\\\\n",
       "\t 1680-VDCWW                & Male                      & 0                         & Yes                       & No                        & 12                        & Yes                       & No                        & No                        & No internet service       & ...                       & No internet service       & No internet service       & No internet service       & No internet service       & One year                  & No                        & Bank transfer (automatic) &  19.80                    &  202.25                   & No                       \\\\\n",
       "\t 1066-JKSGK                & Male                      & 0                         & No                        & No                        &  1                        & Yes                       & No                        & No                        & No internet service       & ...                       & No internet service       & No internet service       & No internet service       & No internet service       & Month-to-month            & No                        & Mailed check              &  20.15                    &   20.15                   & Yes                      \\\\\n",
       "\t 3638-WEABW                & Female                    & 0                         & Yes                       & No                        & 58                        & Yes                       & Yes                       & DSL                       & No                        & ...                       & No                        & Yes                       & No                        & No                        & Two year                  & Yes                       & Credit card (automatic)   &  59.90                    & 3505.10                   & No                       \\\\\n",
       "\t 6322-HRPFA                & Male                      & 0                         & Yes                       & Yes                       & 49                        & Yes                       & No                        & DSL                       & Yes                       & ...                       & No                        & Yes                       & No                        & No                        & Month-to-month            & No                        & Credit card (automatic)   &  59.60                    & 2970.30                   & No                       \\\\\n",
       "\t 6865-JZNKO                & Female                    & 0                         & No                        & No                        & 30                        & Yes                       & No                        & DSL                       & Yes                       & ...                       & No                        & No                        & No                        & No                        & Month-to-month            & Yes                       & Bank transfer (automatic) &  55.30                    & 1530.60                   & No                       \\\\\n",
       "\t 6467-CHFZW                & Male                      & 0                         & Yes                       & Yes                       & 47                        & Yes                       & Yes                       & Fiber optic               & No                        & ...                       & No                        & No                        & Yes                       & Yes                       & Month-to-month            & Yes                       & Electronic check          &  99.35                    & 4749.15                   & Yes                      \\\\\n",
       "\t 8665-UTDHZ                & Male                      & 0                         & Yes                       & Yes                       &  1                        & No                        & No phone service          & DSL                       & No                        & ...                       & No                        & No                        & No                        & No                        & Month-to-month            & No                        & Electronic check          &  30.20                    &   30.20                   & Yes                      \\\\\n",
       "\t 5248-YGIJN                & Male                      & 0                         & Yes                       & No                        & 72                        & Yes                       & Yes                       & DSL                       & Yes                       & ...                       & Yes                       & Yes                       & Yes                       & Yes                       & Two year                  & Yes                       & Credit card (automatic)   &  90.25                    & 6369.45                   & No                       \\\\\n",
       "\t 8773-HHUOZ                & Female                    & 0                         & No                        & Yes                       & 17                        & Yes                       & No                        & DSL                       & No                        & ...                       & No                        & No                        & Yes                       & Yes                       & Month-to-month            & Yes                       & Mailed check              &  64.70                    & 1093.10                   & Yes                      \\\\\n",
       "\t ... & ... & ... & ... & ... & ... & ... & ... & ... & ... &     & ... & ... & ... & ... & ... & ... & ... & ... & ... & ...\\\\\n",
       "\t 1685-BQULA                & Female                    & 0                         & No                        & No                        & 40                        & Yes                       & Yes                       & Fiber optic               & No                        & ...                       & Yes                       & No                        & Yes                       & No                        & Month-to-month            & Yes                       & Bank transfer (automatic) &  93.40                    & 3756.40                   & No                       \\\\\n",
       "\t 9053-EJUNL                & Male                      & 0                         & No                        & No                        & 41                        & Yes                       & Yes                       & Fiber optic               & No                        & ...                       & No                        & No                        & Yes                       & No                        & Month-to-month            & Yes                       & Electronic check          &  89.20                    & 3645.75                   & No                       \\\\\n",
       "\t 0666-UXTJO                & Male                      & 1                         & Yes                       & No                        & 34                        & Yes                       & No                        & Fiber optic               & No                        & ...                       & Yes                       & No                        & Yes                       & No                        & Month-to-month            & Yes                       & Credit card (automatic)   &  85.20                    & 2874.45                   & No                       \\\\\n",
       "\t 1471-GIQKQ                & Female                    & 0                         & No                        & No                        &  1                        & Yes                       & No                        & DSL                       & No                        & ...                       & No                        & No                        & No                        & No                        & Month-to-month            & No                        & Electronic check          &  49.95                    &   49.95                   & No                       \\\\\n",
       "\t 4807-IZYOZ                & Female                    & 0                         & No                        & No                        & 51                        & Yes                       & No                        & No                        & No internet service       & ...                       & No internet service       & No internet service       & No internet service       & No internet service       & Two year                  & No                        & Bank transfer (automatic) &  20.65                    & 1020.75                   & No                       \\\\\n",
       "\t 1122-JWTJW                & Male                      & 0                         & Yes                       & Yes                       &  1                        & Yes                       & No                        & Fiber optic               & No                        & ...                       & No                        & No                        & No                        & No                        & Month-to-month            & Yes                       & Mailed check              &  70.65                    &   70.65                   & Yes                      \\\\\n",
       "\t 9710-NJERN                & Female                    & 0                         & No                        & No                        & 39                        & Yes                       & No                        & No                        & No internet service       & ...                       & No internet service       & No internet service       & No internet service       & No internet service       & Two year                  & No                        & Mailed check              &  20.15                    &  826.00                   & No                       \\\\\n",
       "\t 9837-FWLCH                & Male                      & 0                         & Yes                       & Yes                       & 12                        & Yes                       & No                        & No                        & No internet service       & ...                       & No internet service       & No internet service       & No internet service       & No internet service       & Month-to-month            & Yes                       & Electronic check          &  19.20                    &  239.00                   & No                       \\\\\n",
       "\t 1699-HPSBG                & Male                      & 0                         & No                        & No                        & 12                        & Yes                       & No                        & DSL                       & No                        & ...                       & No                        & Yes                       & Yes                       & No                        & One year                  & Yes                       & Electronic check          &  59.80                    &  727.80                   & Yes                      \\\\\n",
       "\t 7203-OYKCT                & Male                      & 0                         & No                        & No                        & 72                        & Yes                       & Yes                       & Fiber optic               & No                        & ...                       & Yes                       & No                        & Yes                       & Yes                       & One year                  & Yes                       & Electronic check          & 104.95                    & 7544.30                   & No                       \\\\\n",
       "\t 1035-IPQPU                & Female                    & 1                         & Yes                       & No                        & 63                        & Yes                       & Yes                       & Fiber optic               & No                        & ...                       & Yes                       & No                        & Yes                       & Yes                       & Month-to-month            & Yes                       & Electronic check          & 103.50                    & 6479.40                   & No                       \\\\\n",
       "\t 7398-LXGYX                & Male                      & 0                         & Yes                       & No                        & 44                        & Yes                       & Yes                       & Fiber optic               & Yes                       & ...                       & Yes                       & No                        & No                        & No                        & Month-to-month            & Yes                       & Credit card (automatic)   &  84.80                    & 3626.35                   & No                       \\\\\n",
       "\t 2823-LKABH                & Female                    & 0                         & No                        & No                        & 18                        & Yes                       & Yes                       & Fiber optic               & No                        & ...                       & Yes                       & Yes                       & No                        & Yes                       & Month-to-month            & Yes                       & Bank transfer (automatic) &  95.05                    & 1679.40                   & No                       \\\\\n",
       "\t 8775-CEBBJ                & Female                    & 0                         & No                        & No                        &  9                        & Yes                       & No                        & DSL                       & No                        & ...                       & No                        & No                        & No                        & No                        & Month-to-month            & Yes                       & Bank transfer (automatic) &  44.20                    &  403.35                   & Yes                      \\\\\n",
       "\t 0550-DCXLH                & Male                      & 0                         & No                        & No                        & 13                        & Yes                       & No                        & DSL                       & No                        & ...                       & No                        & Yes                       & Yes                       & Yes                       & Month-to-month            & No                        & Mailed check              &  73.35                    &  931.55                   & No                       \\\\\n",
       "\t 9281-CEDRU                & Female                    & 0                         & Yes                       & No                        & 68                        & Yes                       & No                        & DSL                       & No                        & ...                       & No                        & Yes                       & Yes                       & No                        & Two year                  & No                        & Bank transfer (automatic) &  64.10                    & 4326.25                   & No                       \\\\\n",
       "\t 2235-DWLJU                & Female                    & 1                         & No                        & No                        &  6                        & No                        & No phone service          & DSL                       & No                        & ...                       & No                        & No                        & Yes                       & Yes                       & Month-to-month            & Yes                       & Electronic check          &  44.40                    &  263.05                   & No                       \\\\\n",
       "\t 0871-OPBXW                & Female                    & 0                         & No                        & No                        &  2                        & Yes                       & No                        & No                        & No internet service       & ...                       & No internet service       & No internet service       & No internet service       & No internet service       & Month-to-month            & Yes                       & Mailed check              &  20.05                    &   39.25                   & No                       \\\\\n",
       "\t 3605-JISKB                & Male                      & 1                         & Yes                       & No                        & 55                        & Yes                       & Yes                       & DSL                       & Yes                       & ...                       & No                        & No                        & No                        & No                        & One year                  & No                        & Credit card (automatic)   &  60.00                    & 3316.10                   & No                       \\\\\n",
       "\t 6894-LFHLY                & Male                      & 1                         & No                        & No                        &  1                        & Yes                       & Yes                       & Fiber optic               & No                        & ...                       & No                        & No                        & No                        & No                        & Month-to-month            & Yes                       & Electronic check          &  75.75                    &   75.75                   & Yes                      \\\\\n",
       "\t 9767-FFLEM                & Male                      & 0                         & No                        & No                        & 38                        & Yes                       & No                        & Fiber optic               & No                        & ...                       & No                        & No                        & No                        & No                        & Month-to-month            & Yes                       & Credit card (automatic)   &  69.50                    & 2625.25                   & No                       \\\\\n",
       "\t 0639-TSIQW                & Female                    & 0                         & No                        & No                        & 67                        & Yes                       & Yes                       & Fiber optic               & Yes                       & ...                       & Yes                       & No                        & Yes                       & No                        & Month-to-month            & Yes                       & Credit card (automatic)   & 102.95                    & 6886.25                   & Yes                      \\\\\n",
       "\t 8456-QDAVC                & Male                      & 0                         & No                        & No                        & 19                        & Yes                       & No                        & Fiber optic               & No                        & ...                       & No                        & No                        & Yes                       & No                        & Month-to-month            & Yes                       & Bank transfer (automatic) &  78.70                    & 1495.10                   & No                       \\\\\n",
       "\t 7750-EYXWZ                & Female                    & 0                         & No                        & No                        & 12                        & No                        & No phone service          & DSL                       & No                        & ...                       & Yes                       & Yes                       & Yes                       & Yes                       & One year                  & No                        & Electronic check          &  60.65                    &  743.30                   & No                       \\\\\n",
       "\t 2569-WGERO                & Female                    & 0                         & No                        & No                        & 72                        & Yes                       & No                        & No                        & No internet service       & ...                       & No internet service       & No internet service       & No internet service       & No internet service       & Two year                  & Yes                       & Bank transfer (automatic) &  21.15                    & 1419.40                   & No                       \\\\\n",
       "\t 6840-RESVB                & Male                      & 0                         & Yes                       & Yes                       & 24                        & Yes                       & Yes                       & DSL                       & Yes                       & ...                       & Yes                       & Yes                       & Yes                       & Yes                       & One year                  & Yes                       & Mailed check              &  84.80                    & 1990.50                   & No                       \\\\\n",
       "\t 2234-XADUH                & Female                    & 0                         & Yes                       & Yes                       & 72                        & Yes                       & Yes                       & Fiber optic               & No                        & ...                       & Yes                       & No                        & Yes                       & Yes                       & One year                  & Yes                       & Credit card (automatic)   & 103.20                    & 7362.90                   & No                       \\\\\n",
       "\t 4801-JZAZL                & Female                    & 0                         & Yes                       & Yes                       & 11                        & No                        & No phone service          & DSL                       & Yes                       & ...                       & No                        & No                        & No                        & No                        & Month-to-month            & Yes                       & Electronic check          &  29.60                    &  346.45                   & No                       \\\\\n",
       "\t 8361-LTMKD                & Male                      & 1                         & Yes                       & No                        &  4                        & Yes                       & Yes                       & Fiber optic               & No                        & ...                       & No                        & No                        & No                        & No                        & Month-to-month            & Yes                       & Mailed check              &  74.40                    &  306.60                   & Yes                      \\\\\n",
       "\t 3186-AJIEK                & Male                      & 0                         & No                        & No                        & 66                        & Yes                       & No                        & Fiber optic               & Yes                       & ...                       & Yes                       & Yes                       & Yes                       & Yes                       & Two year                  & Yes                       & Bank transfer (automatic) & 105.65                    & 6844.50                   & No                       \\\\\n",
       "\\end{tabular}\n"
      ],
      "text/markdown": [
       "\n",
       "| customerID | gender | SeniorCitizen | Partner | Dependents | tenure | PhoneService | MultipleLines | InternetService | OnlineSecurity | ... | DeviceProtection | TechSupport | StreamingTV | StreamingMovies | Contract | PaperlessBilling | PaymentMethod | MonthlyCharges | TotalCharges | Churn |\n",
       "|---|---|---|---|---|---|---|---|---|---|---|---|---|---|---|---|---|---|---|---|---|\n",
       "| 7590-VHVEG                | Female                    | 0                         | Yes                       | No                        |  1                        | No                        | No phone service          | DSL                       | No                        | ...                       | No                        | No                        | No                        | No                        | Month-to-month            | Yes                       | Electronic check          |  29.85                    |   29.85                   | No                        |\n",
       "| 5575-GNVDE                | Male                      | 0                         | No                        | No                        | 34                        | Yes                       | No                        | DSL                       | Yes                       | ...                       | Yes                       | No                        | No                        | No                        | One year                  | No                        | Mailed check              |  56.95                    | 1889.50                   | No                        |\n",
       "| 3668-QPYBK                | Male                      | 0                         | No                        | No                        |  2                        | Yes                       | No                        | DSL                       | Yes                       | ...                       | No                        | No                        | No                        | No                        | Month-to-month            | Yes                       | Mailed check              |  53.85                    |  108.15                   | Yes                       |\n",
       "| 7795-CFOCW                | Male                      | 0                         | No                        | No                        | 45                        | No                        | No phone service          | DSL                       | Yes                       | ...                       | Yes                       | Yes                       | No                        | No                        | One year                  | No                        | Bank transfer (automatic) |  42.30                    | 1840.75                   | No                        |\n",
       "| 9237-HQITU                | Female                    | 0                         | No                        | No                        |  2                        | Yes                       | No                        | Fiber optic               | No                        | ...                       | No                        | No                        | No                        | No                        | Month-to-month            | Yes                       | Electronic check          |  70.70                    |  151.65                   | Yes                       |\n",
       "| 9305-CDSKC                | Female                    | 0                         | No                        | No                        |  8                        | Yes                       | Yes                       | Fiber optic               | No                        | ...                       | Yes                       | No                        | Yes                       | Yes                       | Month-to-month            | Yes                       | Electronic check          |  99.65                    |  820.50                   | Yes                       |\n",
       "| 1452-KIOVK                | Male                      | 0                         | No                        | Yes                       | 22                        | Yes                       | Yes                       | Fiber optic               | No                        | ...                       | No                        | No                        | Yes                       | No                        | Month-to-month            | Yes                       | Credit card (automatic)   |  89.10                    | 1949.40                   | No                        |\n",
       "| 6713-OKOMC                | Female                    | 0                         | No                        | No                        | 10                        | No                        | No phone service          | DSL                       | Yes                       | ...                       | No                        | No                        | No                        | No                        | Month-to-month            | No                        | Mailed check              |  29.75                    |  301.90                   | No                        |\n",
       "| 7892-POOKP                | Female                    | 0                         | Yes                       | No                        | 28                        | Yes                       | Yes                       | Fiber optic               | No                        | ...                       | Yes                       | Yes                       | Yes                       | Yes                       | Month-to-month            | Yes                       | Electronic check          | 104.80                    | 3046.05                   | Yes                       |\n",
       "| 6388-TABGU                | Male                      | 0                         | No                        | Yes                       | 62                        | Yes                       | No                        | DSL                       | Yes                       | ...                       | No                        | No                        | No                        | No                        | One year                  | No                        | Bank transfer (automatic) |  56.15                    | 3487.95                   | No                        |\n",
       "| 9763-GRSKD                | Male                      | 0                         | Yes                       | Yes                       | 13                        | Yes                       | No                        | DSL                       | Yes                       | ...                       | No                        | No                        | No                        | No                        | Month-to-month            | Yes                       | Mailed check              |  49.95                    |  587.45                   | No                        |\n",
       "| 7469-LKBCI                | Male                      | 0                         | No                        | No                        | 16                        | Yes                       | No                        | No                        | No internet service       | ...                       | No internet service       | No internet service       | No internet service       | No internet service       | Two year                  | No                        | Credit card (automatic)   |  18.95                    |  326.80                   | No                        |\n",
       "| 8091-TTVAX                | Male                      | 0                         | Yes                       | No                        | 58                        | Yes                       | Yes                       | Fiber optic               | No                        | ...                       | Yes                       | No                        | Yes                       | Yes                       | One year                  | No                        | Credit card (automatic)   | 100.35                    | 5681.10                   | No                        |\n",
       "| 0280-XJGEX                | Male                      | 0                         | No                        | No                        | 49                        | Yes                       | Yes                       | Fiber optic               | No                        | ...                       | Yes                       | No                        | Yes                       | Yes                       | Month-to-month            | Yes                       | Bank transfer (automatic) | 103.70                    | 5036.30                   | Yes                       |\n",
       "| 5129-JLPIS                | Male                      | 0                         | No                        | No                        | 25                        | Yes                       | No                        | Fiber optic               | Yes                       | ...                       | Yes                       | Yes                       | Yes                       | Yes                       | Month-to-month            | Yes                       | Electronic check          | 105.50                    | 2686.05                   | No                        |\n",
       "| 3655-SNQYZ                | Female                    | 0                         | Yes                       | Yes                       | 69                        | Yes                       | Yes                       | Fiber optic               | Yes                       | ...                       | Yes                       | Yes                       | Yes                       | Yes                       | Two year                  | No                        | Credit card (automatic)   | 113.25                    | 7895.15                   | No                        |\n",
       "| 8191-XWSZG                | Female                    | 0                         | No                        | No                        | 52                        | Yes                       | No                        | No                        | No internet service       | ...                       | No internet service       | No internet service       | No internet service       | No internet service       | One year                  | No                        | Mailed check              |  20.65                    | 1022.95                   | No                        |\n",
       "| 9959-WOFKT                | Male                      | 0                         | No                        | Yes                       | 71                        | Yes                       | Yes                       | Fiber optic               | Yes                       | ...                       | Yes                       | No                        | Yes                       | Yes                       | Two year                  | No                        | Bank transfer (automatic) | 106.70                    | 7382.25                   | No                        |\n",
       "| 4190-MFLUW                | Female                    | 0                         | Yes                       | Yes                       | 10                        | Yes                       | No                        | DSL                       | No                        | ...                       | Yes                       | Yes                       | No                        | No                        | Month-to-month            | No                        | Credit card (automatic)   |  55.20                    |  528.35                   | Yes                       |\n",
       "| 4183-MYFRB                | Female                    | 0                         | No                        | No                        | 21                        | Yes                       | No                        | Fiber optic               | No                        | ...                       | Yes                       | No                        | No                        | Yes                       | Month-to-month            | Yes                       | Electronic check          |  90.05                    | 1862.90                   | No                        |\n",
       "| 8779-QRDMV                | Male                      | 1                         | No                        | No                        |  1                        | No                        | No phone service          | DSL                       | No                        | ...                       | Yes                       | No                        | No                        | Yes                       | Month-to-month            | Yes                       | Electronic check          |  39.65                    |   39.65                   | Yes                       |\n",
       "| 1680-VDCWW                | Male                      | 0                         | Yes                       | No                        | 12                        | Yes                       | No                        | No                        | No internet service       | ...                       | No internet service       | No internet service       | No internet service       | No internet service       | One year                  | No                        | Bank transfer (automatic) |  19.80                    |  202.25                   | No                        |\n",
       "| 1066-JKSGK                | Male                      | 0                         | No                        | No                        |  1                        | Yes                       | No                        | No                        | No internet service       | ...                       | No internet service       | No internet service       | No internet service       | No internet service       | Month-to-month            | No                        | Mailed check              |  20.15                    |   20.15                   | Yes                       |\n",
       "| 3638-WEABW                | Female                    | 0                         | Yes                       | No                        | 58                        | Yes                       | Yes                       | DSL                       | No                        | ...                       | No                        | Yes                       | No                        | No                        | Two year                  | Yes                       | Credit card (automatic)   |  59.90                    | 3505.10                   | No                        |\n",
       "| 6322-HRPFA                | Male                      | 0                         | Yes                       | Yes                       | 49                        | Yes                       | No                        | DSL                       | Yes                       | ...                       | No                        | Yes                       | No                        | No                        | Month-to-month            | No                        | Credit card (automatic)   |  59.60                    | 2970.30                   | No                        |\n",
       "| 6865-JZNKO                | Female                    | 0                         | No                        | No                        | 30                        | Yes                       | No                        | DSL                       | Yes                       | ...                       | No                        | No                        | No                        | No                        | Month-to-month            | Yes                       | Bank transfer (automatic) |  55.30                    | 1530.60                   | No                        |\n",
       "| 6467-CHFZW                | Male                      | 0                         | Yes                       | Yes                       | 47                        | Yes                       | Yes                       | Fiber optic               | No                        | ...                       | No                        | No                        | Yes                       | Yes                       | Month-to-month            | Yes                       | Electronic check          |  99.35                    | 4749.15                   | Yes                       |\n",
       "| 8665-UTDHZ                | Male                      | 0                         | Yes                       | Yes                       |  1                        | No                        | No phone service          | DSL                       | No                        | ...                       | No                        | No                        | No                        | No                        | Month-to-month            | No                        | Electronic check          |  30.20                    |   30.20                   | Yes                       |\n",
       "| 5248-YGIJN                | Male                      | 0                         | Yes                       | No                        | 72                        | Yes                       | Yes                       | DSL                       | Yes                       | ...                       | Yes                       | Yes                       | Yes                       | Yes                       | Two year                  | Yes                       | Credit card (automatic)   |  90.25                    | 6369.45                   | No                        |\n",
       "| 8773-HHUOZ                | Female                    | 0                         | No                        | Yes                       | 17                        | Yes                       | No                        | DSL                       | No                        | ...                       | No                        | No                        | Yes                       | Yes                       | Month-to-month            | Yes                       | Mailed check              |  64.70                    | 1093.10                   | Yes                       |\n",
       "| ... | ... | ... | ... | ... | ... | ... | ... | ... | ... |     | ... | ... | ... | ... | ... | ... | ... | ... | ... | ... |\n",
       "| 1685-BQULA                | Female                    | 0                         | No                        | No                        | 40                        | Yes                       | Yes                       | Fiber optic               | No                        | ...                       | Yes                       | No                        | Yes                       | No                        | Month-to-month            | Yes                       | Bank transfer (automatic) |  93.40                    | 3756.40                   | No                        |\n",
       "| 9053-EJUNL                | Male                      | 0                         | No                        | No                        | 41                        | Yes                       | Yes                       | Fiber optic               | No                        | ...                       | No                        | No                        | Yes                       | No                        | Month-to-month            | Yes                       | Electronic check          |  89.20                    | 3645.75                   | No                        |\n",
       "| 0666-UXTJO                | Male                      | 1                         | Yes                       | No                        | 34                        | Yes                       | No                        | Fiber optic               | No                        | ...                       | Yes                       | No                        | Yes                       | No                        | Month-to-month            | Yes                       | Credit card (automatic)   |  85.20                    | 2874.45                   | No                        |\n",
       "| 1471-GIQKQ                | Female                    | 0                         | No                        | No                        |  1                        | Yes                       | No                        | DSL                       | No                        | ...                       | No                        | No                        | No                        | No                        | Month-to-month            | No                        | Electronic check          |  49.95                    |   49.95                   | No                        |\n",
       "| 4807-IZYOZ                | Female                    | 0                         | No                        | No                        | 51                        | Yes                       | No                        | No                        | No internet service       | ...                       | No internet service       | No internet service       | No internet service       | No internet service       | Two year                  | No                        | Bank transfer (automatic) |  20.65                    | 1020.75                   | No                        |\n",
       "| 1122-JWTJW                | Male                      | 0                         | Yes                       | Yes                       |  1                        | Yes                       | No                        | Fiber optic               | No                        | ...                       | No                        | No                        | No                        | No                        | Month-to-month            | Yes                       | Mailed check              |  70.65                    |   70.65                   | Yes                       |\n",
       "| 9710-NJERN                | Female                    | 0                         | No                        | No                        | 39                        | Yes                       | No                        | No                        | No internet service       | ...                       | No internet service       | No internet service       | No internet service       | No internet service       | Two year                  | No                        | Mailed check              |  20.15                    |  826.00                   | No                        |\n",
       "| 9837-FWLCH                | Male                      | 0                         | Yes                       | Yes                       | 12                        | Yes                       | No                        | No                        | No internet service       | ...                       | No internet service       | No internet service       | No internet service       | No internet service       | Month-to-month            | Yes                       | Electronic check          |  19.20                    |  239.00                   | No                        |\n",
       "| 1699-HPSBG                | Male                      | 0                         | No                        | No                        | 12                        | Yes                       | No                        | DSL                       | No                        | ...                       | No                        | Yes                       | Yes                       | No                        | One year                  | Yes                       | Electronic check          |  59.80                    |  727.80                   | Yes                       |\n",
       "| 7203-OYKCT                | Male                      | 0                         | No                        | No                        | 72                        | Yes                       | Yes                       | Fiber optic               | No                        | ...                       | Yes                       | No                        | Yes                       | Yes                       | One year                  | Yes                       | Electronic check          | 104.95                    | 7544.30                   | No                        |\n",
       "| 1035-IPQPU                | Female                    | 1                         | Yes                       | No                        | 63                        | Yes                       | Yes                       | Fiber optic               | No                        | ...                       | Yes                       | No                        | Yes                       | Yes                       | Month-to-month            | Yes                       | Electronic check          | 103.50                    | 6479.40                   | No                        |\n",
       "| 7398-LXGYX                | Male                      | 0                         | Yes                       | No                        | 44                        | Yes                       | Yes                       | Fiber optic               | Yes                       | ...                       | Yes                       | No                        | No                        | No                        | Month-to-month            | Yes                       | Credit card (automatic)   |  84.80                    | 3626.35                   | No                        |\n",
       "| 2823-LKABH                | Female                    | 0                         | No                        | No                        | 18                        | Yes                       | Yes                       | Fiber optic               | No                        | ...                       | Yes                       | Yes                       | No                        | Yes                       | Month-to-month            | Yes                       | Bank transfer (automatic) |  95.05                    | 1679.40                   | No                        |\n",
       "| 8775-CEBBJ                | Female                    | 0                         | No                        | No                        |  9                        | Yes                       | No                        | DSL                       | No                        | ...                       | No                        | No                        | No                        | No                        | Month-to-month            | Yes                       | Bank transfer (automatic) |  44.20                    |  403.35                   | Yes                       |\n",
       "| 0550-DCXLH                | Male                      | 0                         | No                        | No                        | 13                        | Yes                       | No                        | DSL                       | No                        | ...                       | No                        | Yes                       | Yes                       | Yes                       | Month-to-month            | No                        | Mailed check              |  73.35                    |  931.55                   | No                        |\n",
       "| 9281-CEDRU                | Female                    | 0                         | Yes                       | No                        | 68                        | Yes                       | No                        | DSL                       | No                        | ...                       | No                        | Yes                       | Yes                       | No                        | Two year                  | No                        | Bank transfer (automatic) |  64.10                    | 4326.25                   | No                        |\n",
       "| 2235-DWLJU                | Female                    | 1                         | No                        | No                        |  6                        | No                        | No phone service          | DSL                       | No                        | ...                       | No                        | No                        | Yes                       | Yes                       | Month-to-month            | Yes                       | Electronic check          |  44.40                    |  263.05                   | No                        |\n",
       "| 0871-OPBXW                | Female                    | 0                         | No                        | No                        |  2                        | Yes                       | No                        | No                        | No internet service       | ...                       | No internet service       | No internet service       | No internet service       | No internet service       | Month-to-month            | Yes                       | Mailed check              |  20.05                    |   39.25                   | No                        |\n",
       "| 3605-JISKB                | Male                      | 1                         | Yes                       | No                        | 55                        | Yes                       | Yes                       | DSL                       | Yes                       | ...                       | No                        | No                        | No                        | No                        | One year                  | No                        | Credit card (automatic)   |  60.00                    | 3316.10                   | No                        |\n",
       "| 6894-LFHLY                | Male                      | 1                         | No                        | No                        |  1                        | Yes                       | Yes                       | Fiber optic               | No                        | ...                       | No                        | No                        | No                        | No                        | Month-to-month            | Yes                       | Electronic check          |  75.75                    |   75.75                   | Yes                       |\n",
       "| 9767-FFLEM                | Male                      | 0                         | No                        | No                        | 38                        | Yes                       | No                        | Fiber optic               | No                        | ...                       | No                        | No                        | No                        | No                        | Month-to-month            | Yes                       | Credit card (automatic)   |  69.50                    | 2625.25                   | No                        |\n",
       "| 0639-TSIQW                | Female                    | 0                         | No                        | No                        | 67                        | Yes                       | Yes                       | Fiber optic               | Yes                       | ...                       | Yes                       | No                        | Yes                       | No                        | Month-to-month            | Yes                       | Credit card (automatic)   | 102.95                    | 6886.25                   | Yes                       |\n",
       "| 8456-QDAVC                | Male                      | 0                         | No                        | No                        | 19                        | Yes                       | No                        | Fiber optic               | No                        | ...                       | No                        | No                        | Yes                       | No                        | Month-to-month            | Yes                       | Bank transfer (automatic) |  78.70                    | 1495.10                   | No                        |\n",
       "| 7750-EYXWZ                | Female                    | 0                         | No                        | No                        | 12                        | No                        | No phone service          | DSL                       | No                        | ...                       | Yes                       | Yes                       | Yes                       | Yes                       | One year                  | No                        | Electronic check          |  60.65                    |  743.30                   | No                        |\n",
       "| 2569-WGERO                | Female                    | 0                         | No                        | No                        | 72                        | Yes                       | No                        | No                        | No internet service       | ...                       | No internet service       | No internet service       | No internet service       | No internet service       | Two year                  | Yes                       | Bank transfer (automatic) |  21.15                    | 1419.40                   | No                        |\n",
       "| 6840-RESVB                | Male                      | 0                         | Yes                       | Yes                       | 24                        | Yes                       | Yes                       | DSL                       | Yes                       | ...                       | Yes                       | Yes                       | Yes                       | Yes                       | One year                  | Yes                       | Mailed check              |  84.80                    | 1990.50                   | No                        |\n",
       "| 2234-XADUH                | Female                    | 0                         | Yes                       | Yes                       | 72                        | Yes                       | Yes                       | Fiber optic               | No                        | ...                       | Yes                       | No                        | Yes                       | Yes                       | One year                  | Yes                       | Credit card (automatic)   | 103.20                    | 7362.90                   | No                        |\n",
       "| 4801-JZAZL                | Female                    | 0                         | Yes                       | Yes                       | 11                        | No                        | No phone service          | DSL                       | Yes                       | ...                       | No                        | No                        | No                        | No                        | Month-to-month            | Yes                       | Electronic check          |  29.60                    |  346.45                   | No                        |\n",
       "| 8361-LTMKD                | Male                      | 1                         | Yes                       | No                        |  4                        | Yes                       | Yes                       | Fiber optic               | No                        | ...                       | No                        | No                        | No                        | No                        | Month-to-month            | Yes                       | Mailed check              |  74.40                    |  306.60                   | Yes                       |\n",
       "| 3186-AJIEK                | Male                      | 0                         | No                        | No                        | 66                        | Yes                       | No                        | Fiber optic               | Yes                       | ...                       | Yes                       | Yes                       | Yes                       | Yes                       | Two year                  | Yes                       | Bank transfer (automatic) | 105.65                    | 6844.50                   | No                        |\n",
       "\n"
      ],
      "text/plain": [
       "     customerID gender SeniorCitizen Partner Dependents tenure PhoneService\n",
       "1    7590-VHVEG Female 0             Yes     No          1     No          \n",
       "2    5575-GNVDE Male   0             No      No         34     Yes         \n",
       "3    3668-QPYBK Male   0             No      No          2     Yes         \n",
       "4    7795-CFOCW Male   0             No      No         45     No          \n",
       "5    9237-HQITU Female 0             No      No          2     Yes         \n",
       "6    9305-CDSKC Female 0             No      No          8     Yes         \n",
       "7    1452-KIOVK Male   0             No      Yes        22     Yes         \n",
       "8    6713-OKOMC Female 0             No      No         10     No          \n",
       "9    7892-POOKP Female 0             Yes     No         28     Yes         \n",
       "10   6388-TABGU Male   0             No      Yes        62     Yes         \n",
       "11   9763-GRSKD Male   0             Yes     Yes        13     Yes         \n",
       "12   7469-LKBCI Male   0             No      No         16     Yes         \n",
       "13   8091-TTVAX Male   0             Yes     No         58     Yes         \n",
       "14   0280-XJGEX Male   0             No      No         49     Yes         \n",
       "15   5129-JLPIS Male   0             No      No         25     Yes         \n",
       "16   3655-SNQYZ Female 0             Yes     Yes        69     Yes         \n",
       "17   8191-XWSZG Female 0             No      No         52     Yes         \n",
       "18   9959-WOFKT Male   0             No      Yes        71     Yes         \n",
       "19   4190-MFLUW Female 0             Yes     Yes        10     Yes         \n",
       "20   4183-MYFRB Female 0             No      No         21     Yes         \n",
       "21   8779-QRDMV Male   1             No      No          1     No          \n",
       "22   1680-VDCWW Male   0             Yes     No         12     Yes         \n",
       "23   1066-JKSGK Male   0             No      No          1     Yes         \n",
       "24   3638-WEABW Female 0             Yes     No         58     Yes         \n",
       "25   6322-HRPFA Male   0             Yes     Yes        49     Yes         \n",
       "26   6865-JZNKO Female 0             No      No         30     Yes         \n",
       "27   6467-CHFZW Male   0             Yes     Yes        47     Yes         \n",
       "28   8665-UTDHZ Male   0             Yes     Yes         1     No          \n",
       "29   5248-YGIJN Male   0             Yes     No         72     Yes         \n",
       "30   8773-HHUOZ Female 0             No      Yes        17     Yes         \n",
       "...  ...        ...    ...           ...     ...        ...    ...         \n",
       "7014 1685-BQULA Female 0             No      No         40     Yes         \n",
       "7015 9053-EJUNL Male   0             No      No         41     Yes         \n",
       "7016 0666-UXTJO Male   1             Yes     No         34     Yes         \n",
       "7017 1471-GIQKQ Female 0             No      No          1     Yes         \n",
       "7018 4807-IZYOZ Female 0             No      No         51     Yes         \n",
       "7019 1122-JWTJW Male   0             Yes     Yes         1     Yes         \n",
       "7020 9710-NJERN Female 0             No      No         39     Yes         \n",
       "7021 9837-FWLCH Male   0             Yes     Yes        12     Yes         \n",
       "7022 1699-HPSBG Male   0             No      No         12     Yes         \n",
       "7023 7203-OYKCT Male   0             No      No         72     Yes         \n",
       "7024 1035-IPQPU Female 1             Yes     No         63     Yes         \n",
       "7025 7398-LXGYX Male   0             Yes     No         44     Yes         \n",
       "7026 2823-LKABH Female 0             No      No         18     Yes         \n",
       "7027 8775-CEBBJ Female 0             No      No          9     Yes         \n",
       "7028 0550-DCXLH Male   0             No      No         13     Yes         \n",
       "7029 9281-CEDRU Female 0             Yes     No         68     Yes         \n",
       "7030 2235-DWLJU Female 1             No      No          6     No          \n",
       "7031 0871-OPBXW Female 0             No      No          2     Yes         \n",
       "7032 3605-JISKB Male   1             Yes     No         55     Yes         \n",
       "7033 6894-LFHLY Male   1             No      No          1     Yes         \n",
       "7034 9767-FFLEM Male   0             No      No         38     Yes         \n",
       "7035 0639-TSIQW Female 0             No      No         67     Yes         \n",
       "7036 8456-QDAVC Male   0             No      No         19     Yes         \n",
       "7037 7750-EYXWZ Female 0             No      No         12     No          \n",
       "7038 2569-WGERO Female 0             No      No         72     Yes         \n",
       "7039 6840-RESVB Male   0             Yes     Yes        24     Yes         \n",
       "7040 2234-XADUH Female 0             Yes     Yes        72     Yes         \n",
       "7041 4801-JZAZL Female 0             Yes     Yes        11     No          \n",
       "7042 8361-LTMKD Male   1             Yes     No          4     Yes         \n",
       "7043 3186-AJIEK Male   0             No      No         66     Yes         \n",
       "     MultipleLines    InternetService OnlineSecurity      ...\n",
       "1    No phone service DSL             No                  ...\n",
       "2    No               DSL             Yes                 ...\n",
       "3    No               DSL             Yes                 ...\n",
       "4    No phone service DSL             Yes                 ...\n",
       "5    No               Fiber optic     No                  ...\n",
       "6    Yes              Fiber optic     No                  ...\n",
       "7    Yes              Fiber optic     No                  ...\n",
       "8    No phone service DSL             Yes                 ...\n",
       "9    Yes              Fiber optic     No                  ...\n",
       "10   No               DSL             Yes                 ...\n",
       "11   No               DSL             Yes                 ...\n",
       "12   No               No              No internet service ...\n",
       "13   Yes              Fiber optic     No                  ...\n",
       "14   Yes              Fiber optic     No                  ...\n",
       "15   No               Fiber optic     Yes                 ...\n",
       "16   Yes              Fiber optic     Yes                 ...\n",
       "17   No               No              No internet service ...\n",
       "18   Yes              Fiber optic     Yes                 ...\n",
       "19   No               DSL             No                  ...\n",
       "20   No               Fiber optic     No                  ...\n",
       "21   No phone service DSL             No                  ...\n",
       "22   No               No              No internet service ...\n",
       "23   No               No              No internet service ...\n",
       "24   Yes              DSL             No                  ...\n",
       "25   No               DSL             Yes                 ...\n",
       "26   No               DSL             Yes                 ...\n",
       "27   Yes              Fiber optic     No                  ...\n",
       "28   No phone service DSL             No                  ...\n",
       "29   Yes              DSL             Yes                 ...\n",
       "30   No               DSL             No                  ...\n",
       "...  ...              ...             ...                    \n",
       "7014 Yes              Fiber optic     No                  ...\n",
       "7015 Yes              Fiber optic     No                  ...\n",
       "7016 No               Fiber optic     No                  ...\n",
       "7017 No               DSL             No                  ...\n",
       "7018 No               No              No internet service ...\n",
       "7019 No               Fiber optic     No                  ...\n",
       "7020 No               No              No internet service ...\n",
       "7021 No               No              No internet service ...\n",
       "7022 No               DSL             No                  ...\n",
       "7023 Yes              Fiber optic     No                  ...\n",
       "7024 Yes              Fiber optic     No                  ...\n",
       "7025 Yes              Fiber optic     Yes                 ...\n",
       "7026 Yes              Fiber optic     No                  ...\n",
       "7027 No               DSL             No                  ...\n",
       "7028 No               DSL             No                  ...\n",
       "7029 No               DSL             No                  ...\n",
       "7030 No phone service DSL             No                  ...\n",
       "7031 No               No              No internet service ...\n",
       "7032 Yes              DSL             Yes                 ...\n",
       "7033 Yes              Fiber optic     No                  ...\n",
       "7034 No               Fiber optic     No                  ...\n",
       "7035 Yes              Fiber optic     Yes                 ...\n",
       "7036 No               Fiber optic     No                  ...\n",
       "7037 No phone service DSL             No                  ...\n",
       "7038 No               No              No internet service ...\n",
       "7039 Yes              DSL             Yes                 ...\n",
       "7040 Yes              Fiber optic     No                  ...\n",
       "7041 No phone service DSL             Yes                 ...\n",
       "7042 Yes              Fiber optic     No                  ...\n",
       "7043 No               Fiber optic     Yes                 ...\n",
       "     DeviceProtection    TechSupport         StreamingTV        \n",
       "1    No                  No                  No                 \n",
       "2    Yes                 No                  No                 \n",
       "3    No                  No                  No                 \n",
       "4    Yes                 Yes                 No                 \n",
       "5    No                  No                  No                 \n",
       "6    Yes                 No                  Yes                \n",
       "7    No                  No                  Yes                \n",
       "8    No                  No                  No                 \n",
       "9    Yes                 Yes                 Yes                \n",
       "10   No                  No                  No                 \n",
       "11   No                  No                  No                 \n",
       "12   No internet service No internet service No internet service\n",
       "13   Yes                 No                  Yes                \n",
       "14   Yes                 No                  Yes                \n",
       "15   Yes                 Yes                 Yes                \n",
       "16   Yes                 Yes                 Yes                \n",
       "17   No internet service No internet service No internet service\n",
       "18   Yes                 No                  Yes                \n",
       "19   Yes                 Yes                 No                 \n",
       "20   Yes                 No                  No                 \n",
       "21   Yes                 No                  No                 \n",
       "22   No internet service No internet service No internet service\n",
       "23   No internet service No internet service No internet service\n",
       "24   No                  Yes                 No                 \n",
       "25   No                  Yes                 No                 \n",
       "26   No                  No                  No                 \n",
       "27   No                  No                  Yes                \n",
       "28   No                  No                  No                 \n",
       "29   Yes                 Yes                 Yes                \n",
       "30   No                  No                  Yes                \n",
       "...  ...                 ...                 ...                \n",
       "7014 Yes                 No                  Yes                \n",
       "7015 No                  No                  Yes                \n",
       "7016 Yes                 No                  Yes                \n",
       "7017 No                  No                  No                 \n",
       "7018 No internet service No internet service No internet service\n",
       "7019 No                  No                  No                 \n",
       "7020 No internet service No internet service No internet service\n",
       "7021 No internet service No internet service No internet service\n",
       "7022 No                  Yes                 Yes                \n",
       "7023 Yes                 No                  Yes                \n",
       "7024 Yes                 No                  Yes                \n",
       "7025 Yes                 No                  No                 \n",
       "7026 Yes                 Yes                 No                 \n",
       "7027 No                  No                  No                 \n",
       "7028 No                  Yes                 Yes                \n",
       "7029 No                  Yes                 Yes                \n",
       "7030 No                  No                  Yes                \n",
       "7031 No internet service No internet service No internet service\n",
       "7032 No                  No                  No                 \n",
       "7033 No                  No                  No                 \n",
       "7034 No                  No                  No                 \n",
       "7035 Yes                 No                  Yes                \n",
       "7036 No                  No                  Yes                \n",
       "7037 Yes                 Yes                 Yes                \n",
       "7038 No internet service No internet service No internet service\n",
       "7039 Yes                 Yes                 Yes                \n",
       "7040 Yes                 No                  Yes                \n",
       "7041 No                  No                  No                 \n",
       "7042 No                  No                  No                 \n",
       "7043 Yes                 Yes                 Yes                \n",
       "     StreamingMovies     Contract       PaperlessBilling\n",
       "1    No                  Month-to-month Yes             \n",
       "2    No                  One year       No              \n",
       "3    No                  Month-to-month Yes             \n",
       "4    No                  One year       No              \n",
       "5    No                  Month-to-month Yes             \n",
       "6    Yes                 Month-to-month Yes             \n",
       "7    No                  Month-to-month Yes             \n",
       "8    No                  Month-to-month No              \n",
       "9    Yes                 Month-to-month Yes             \n",
       "10   No                  One year       No              \n",
       "11   No                  Month-to-month Yes             \n",
       "12   No internet service Two year       No              \n",
       "13   Yes                 One year       No              \n",
       "14   Yes                 Month-to-month Yes             \n",
       "15   Yes                 Month-to-month Yes             \n",
       "16   Yes                 Two year       No              \n",
       "17   No internet service One year       No              \n",
       "18   Yes                 Two year       No              \n",
       "19   No                  Month-to-month No              \n",
       "20   Yes                 Month-to-month Yes             \n",
       "21   Yes                 Month-to-month Yes             \n",
       "22   No internet service One year       No              \n",
       "23   No internet service Month-to-month No              \n",
       "24   No                  Two year       Yes             \n",
       "25   No                  Month-to-month No              \n",
       "26   No                  Month-to-month Yes             \n",
       "27   Yes                 Month-to-month Yes             \n",
       "28   No                  Month-to-month No              \n",
       "29   Yes                 Two year       Yes             \n",
       "30   Yes                 Month-to-month Yes             \n",
       "...  ...                 ...            ...             \n",
       "7014 No                  Month-to-month Yes             \n",
       "7015 No                  Month-to-month Yes             \n",
       "7016 No                  Month-to-month Yes             \n",
       "7017 No                  Month-to-month No              \n",
       "7018 No internet service Two year       No              \n",
       "7019 No                  Month-to-month Yes             \n",
       "7020 No internet service Two year       No              \n",
       "7021 No internet service Month-to-month Yes             \n",
       "7022 No                  One year       Yes             \n",
       "7023 Yes                 One year       Yes             \n",
       "7024 Yes                 Month-to-month Yes             \n",
       "7025 No                  Month-to-month Yes             \n",
       "7026 Yes                 Month-to-month Yes             \n",
       "7027 No                  Month-to-month Yes             \n",
       "7028 Yes                 Month-to-month No              \n",
       "7029 No                  Two year       No              \n",
       "7030 Yes                 Month-to-month Yes             \n",
       "7031 No internet service Month-to-month Yes             \n",
       "7032 No                  One year       No              \n",
       "7033 No                  Month-to-month Yes             \n",
       "7034 No                  Month-to-month Yes             \n",
       "7035 No                  Month-to-month Yes             \n",
       "7036 No                  Month-to-month Yes             \n",
       "7037 Yes                 One year       No              \n",
       "7038 No internet service Two year       Yes             \n",
       "7039 Yes                 One year       Yes             \n",
       "7040 Yes                 One year       Yes             \n",
       "7041 No                  Month-to-month Yes             \n",
       "7042 No                  Month-to-month Yes             \n",
       "7043 Yes                 Two year       Yes             \n",
       "     PaymentMethod             MonthlyCharges TotalCharges Churn\n",
       "1    Electronic check           29.85           29.85      No   \n",
       "2    Mailed check               56.95         1889.50      No   \n",
       "3    Mailed check               53.85          108.15      Yes  \n",
       "4    Bank transfer (automatic)  42.30         1840.75      No   \n",
       "5    Electronic check           70.70          151.65      Yes  \n",
       "6    Electronic check           99.65          820.50      Yes  \n",
       "7    Credit card (automatic)    89.10         1949.40      No   \n",
       "8    Mailed check               29.75          301.90      No   \n",
       "9    Electronic check          104.80         3046.05      Yes  \n",
       "10   Bank transfer (automatic)  56.15         3487.95      No   \n",
       "11   Mailed check               49.95          587.45      No   \n",
       "12   Credit card (automatic)    18.95          326.80      No   \n",
       "13   Credit card (automatic)   100.35         5681.10      No   \n",
       "14   Bank transfer (automatic) 103.70         5036.30      Yes  \n",
       "15   Electronic check          105.50         2686.05      No   \n",
       "16   Credit card (automatic)   113.25         7895.15      No   \n",
       "17   Mailed check               20.65         1022.95      No   \n",
       "18   Bank transfer (automatic) 106.70         7382.25      No   \n",
       "19   Credit card (automatic)    55.20          528.35      Yes  \n",
       "20   Electronic check           90.05         1862.90      No   \n",
       "21   Electronic check           39.65           39.65      Yes  \n",
       "22   Bank transfer (automatic)  19.80          202.25      No   \n",
       "23   Mailed check               20.15           20.15      Yes  \n",
       "24   Credit card (automatic)    59.90         3505.10      No   \n",
       "25   Credit card (automatic)    59.60         2970.30      No   \n",
       "26   Bank transfer (automatic)  55.30         1530.60      No   \n",
       "27   Electronic check           99.35         4749.15      Yes  \n",
       "28   Electronic check           30.20           30.20      Yes  \n",
       "29   Credit card (automatic)    90.25         6369.45      No   \n",
       "30   Mailed check               64.70         1093.10      Yes  \n",
       "...  ...                       ...            ...          ...  \n",
       "7014 Bank transfer (automatic)  93.40         3756.40      No   \n",
       "7015 Electronic check           89.20         3645.75      No   \n",
       "7016 Credit card (automatic)    85.20         2874.45      No   \n",
       "7017 Electronic check           49.95           49.95      No   \n",
       "7018 Bank transfer (automatic)  20.65         1020.75      No   \n",
       "7019 Mailed check               70.65           70.65      Yes  \n",
       "7020 Mailed check               20.15          826.00      No   \n",
       "7021 Electronic check           19.20          239.00      No   \n",
       "7022 Electronic check           59.80          727.80      Yes  \n",
       "7023 Electronic check          104.95         7544.30      No   \n",
       "7024 Electronic check          103.50         6479.40      No   \n",
       "7025 Credit card (automatic)    84.80         3626.35      No   \n",
       "7026 Bank transfer (automatic)  95.05         1679.40      No   \n",
       "7027 Bank transfer (automatic)  44.20          403.35      Yes  \n",
       "7028 Mailed check               73.35          931.55      No   \n",
       "7029 Bank transfer (automatic)  64.10         4326.25      No   \n",
       "7030 Electronic check           44.40          263.05      No   \n",
       "7031 Mailed check               20.05           39.25      No   \n",
       "7032 Credit card (automatic)    60.00         3316.10      No   \n",
       "7033 Electronic check           75.75           75.75      Yes  \n",
       "7034 Credit card (automatic)    69.50         2625.25      No   \n",
       "7035 Credit card (automatic)   102.95         6886.25      Yes  \n",
       "7036 Bank transfer (automatic)  78.70         1495.10      No   \n",
       "7037 Electronic check           60.65          743.30      No   \n",
       "7038 Bank transfer (automatic)  21.15         1419.40      No   \n",
       "7039 Mailed check               84.80         1990.50      No   \n",
       "7040 Credit card (automatic)   103.20         7362.90      No   \n",
       "7041 Electronic check           29.60          346.45      No   \n",
       "7042 Mailed check               74.40          306.60      Yes  \n",
       "7043 Bank transfer (automatic) 105.65         6844.50      No   "
      ]
     },
     "metadata": {},
     "output_type": "display_data"
    }
   ],
   "source": [
    "telco  = read.csv(\"WA_Fn-UseC_-Telco-Customer-Churn.csv\")\n",
    "telco"
   ]
  },
  {
   "cell_type": "code",
   "execution_count": 15,
   "metadata": {},
   "outputs": [
    {
     "name": "stdout",
     "output_type": "stream",
     "text": [
      "Rows: 7,043\n",
      "Columns: 21\n",
      "$ customerID       <fct> 7590-VHVEG, 5575-GNVDE, 3668-QPYBK, 7795-CFOCW, 92...\n",
      "$ gender           <fct> Female, Male, Male, Male, Female, Female, Male, Fe...\n",
      "$ SeniorCitizen    <int> 0, 0, 0, 0, 0, 0, 0, 0, 0, 0, 0, 0, 0, 0, 0, 0, 0,...\n",
      "$ Partner          <fct> Yes, No, No, No, No, No, No, No, Yes, No, Yes, No,...\n",
      "$ Dependents       <fct> No, No, No, No, No, No, Yes, No, No, Yes, Yes, No,...\n",
      "$ tenure           <int> 1, 34, 2, 45, 2, 8, 22, 10, 28, 62, 13, 16, 58, 49...\n",
      "$ PhoneService     <fct> No, Yes, Yes, No, Yes, Yes, Yes, No, Yes, Yes, Yes...\n",
      "$ MultipleLines    <fct> No phone service, No, No, No phone service, No, Ye...\n",
      "$ InternetService  <fct> DSL, DSL, DSL, DSL, Fiber optic, Fiber optic, Fibe...\n",
      "$ OnlineSecurity   <fct> No, Yes, Yes, Yes, No, No, No, Yes, No, Yes, Yes, ...\n",
      "$ OnlineBackup     <fct> Yes, No, Yes, No, No, No, Yes, No, No, Yes, No, No...\n",
      "$ DeviceProtection <fct> No, Yes, No, Yes, No, Yes, No, No, Yes, No, No, No...\n",
      "$ TechSupport      <fct> No, No, No, Yes, No, No, No, No, Yes, No, No, No i...\n",
      "$ StreamingTV      <fct> No, No, No, No, No, Yes, Yes, No, Yes, No, No, No ...\n",
      "$ StreamingMovies  <fct> No, No, No, No, No, Yes, No, No, Yes, No, No, No i...\n",
      "$ Contract         <fct> Month-to-month, One year, Month-to-month, One year...\n",
      "$ PaperlessBilling <fct> Yes, No, Yes, No, Yes, Yes, Yes, No, Yes, No, Yes,...\n",
      "$ PaymentMethod    <fct> Electronic check, Mailed check, Mailed check, Bank...\n",
      "$ MonthlyCharges   <dbl> 29.85, 56.95, 53.85, 42.30, 70.70, 99.65, 89.10, 2...\n",
      "$ TotalCharges     <dbl> 29.85, 1889.50, 108.15, 1840.75, 151.65, 820.50, 1...\n",
      "$ Churn            <fct> No, No, Yes, No, Yes, Yes, No, No, Yes, No, No, No...\n"
     ]
    }
   ],
   "source": [
    "glimpse(telco)"
   ]
  },
  {
   "cell_type": "code",
   "execution_count": 23,
   "metadata": {},
   "outputs": [
    {
     "name": "stderr",
     "output_type": "stream",
     "text": [
      "Warning message:\n",
      "\"`funs()` is deprecated as of dplyr 0.8.0.\n",
      "Please use a list of either functions or lambdas: \n",
      "\n",
      "  # Simple named list: \n",
      "  list(mean = mean, median = median)\n",
      "\n",
      "  # Auto named with `tibble::lst()`: \n",
      "  tibble::lst(mean, median)\n",
      "\n",
      "  # Using lambdas\n",
      "  list(~ mean(., trim = .2), ~ median(., na.rm = TRUE))\n",
      "This warning is displayed once every 8 hours.\n",
      "Call `lifecycle::last_warnings()` to see where this warning was generated.\""
     ]
    },
    {
     "data": {
      "image/png": "[encoded data removed]",
      "text/plain": [
       "plot without title"
      ]
     },
     "metadata": {},
     "output_type": "display_data"
    }
   ],
   "source": [
    "options(repr.plot.width = 6, repr.plot.height = 4)\n",
    "missing_data <- telco %>% summarise_all(funs(sum(is.na(.))/n()))\n",
    "missing_data <- gather(missing_data, key = \"variables\", value = \"percent_missing\")\n",
    "ggplot(missing_data, aes(x = reorder(variables, percent_missing), y = percent_missing)) +\n",
    "geom_bar(stat = \"identity\", fill = \"red\", aes(color = I('white')), size = 0.3)+\n",
    "xlab(\n",
    "'variables')+\n",
    "coord_flip()+ \n",
    "theme_bw()"
   ]
  },
  {
   "cell_type": "markdown",
   "metadata": {},
   "source": [
    "- Solo faltan 11 datos en el campo TotalCharges, así que elimine esas filas del conjunto de datos.\n",
    "- Hay tres variables continuas y son Tenure, MonthlyCharges y TotalCharges. SeniorCitizen está en forma 'int', que se puede cambiar a categórica"
   ]
  },
  {
   "cell_type": "code",
   "execution_count": 24,
   "metadata": {},
   "outputs": [],
   "source": [
    "telco <- telco[complete.cases(telco),]\n",
    "telco$SeniorCitizen <- as.factor(ifelse(telco$SeniorCitizen==1, 'YES', 'NO'))"
   ]
  },
  {
   "cell_type": "code",
   "execution_count": 25,
   "metadata": {},
   "outputs": [],
   "source": [
    "theme1 <- theme_bw()+\n",
    "theme(axis.text.x = element_text(angle = 0, hjust = 1, vjust = 0.5),legend.position=\"none\")\n",
    "theme2 <- theme_bw()+\n",
    "theme(axis.text.x = element_text(angle = 90, hjust = 1, vjust = 0.5),legend.position=\"none\")"
   ]
  },
  {
   "cell_type": "code",
   "execution_count": 26,
   "metadata": {},
   "outputs": [
    {
     "data": {
      "image/png": "[encoded data removed]",
      "text/plain": [
       "plot without title"
      ]
     },
     "metadata": {},
     "output_type": "display_data"
    }
   ],
   "source": [
    "options(repr.plot.width = 6, repr.plot.height = 4)\n",
    "telco %>% \n",
    "group_by(Churn) %>% \n",
    "summarise(Count = n())%>% \n",
    "mutate(percent = prop.table(Count)*100)%>%\n",
    "ggplot(aes(reorder(Churn, -percent), percent), fill = Churn)+\n",
    "geom_col(fill = c(\"#FC4E07\", \"#E7B800\"))+\n",
    "geom_text(aes(label = sprintf(\"%.2f%%\", percent)), hjust = 0.01,vjust = -0.5, size =3)+ \n",
    "theme_bw()+  \n",
    "xlab(\"Churn\") + \n",
    "ylab(\"Percent\")+\n",
    "ggtitle(\"Churn Percent\")"
   ]
  },
  {
   "cell_type": "markdown",
   "metadata": {},
   "source": [
    "La columna CHURN da cuenta de la cantidad de Clientes que se fueron durante el último mes. Alrededor del 26% de los clientes abandonaron la plataforma en el último mes."
   ]
  },
  {
   "cell_type": "code",
   "execution_count": 28,
   "metadata": {},
   "outputs": [
    {
     "data": {
      "image/png": "[encoded data removed]",
      "text/plain": [
       "plot without title"
      ]
     },
     "metadata": {},
     "output_type": "display_data"
    }
   ],
   "source": [
    "options(repr.plot.width = 6, repr.plot.height = 4)\n",
    "plot_grid(ggplot(telco, aes(x=gender,fill=Churn))+ geom_bar()+ theme1, \n",
    "          ggplot(telco, aes(x=SeniorCitizen,fill=Churn))+ geom_bar(position = 'fill')+theme1,\n",
    "          ggplot(telco, aes(x=Partner,fill=Churn))+ geom_bar(position = 'fill')+theme1,\n",
    "          ggplot(telco, aes(x=Dependents,fill=Churn))+ geom_bar(position = 'fill')+theme1,\n",
    "          ggplot(telco, aes(x=PhoneService,fill=Churn))+ geom_bar(position = 'fill')+theme1,\n",
    "          ggplot(telco, aes(x=MultipleLines,fill=Churn))+ geom_bar(position = 'fill')+theme_bw()+\n",
    "          scale_x_discrete(labels = function(x) str_wrap(x, width = 10)),\n",
    "          align = \"h\")"
   ]
  },
  {
   "cell_type": "markdown",
   "metadata": {},
   "source": [
    "- Género: el porcentaje de abandono es casi igual en el caso de hombres y mujeres\n",
    "- El porcentaje de abandono es mayor en el caso de las personas mayores\n",
    "- Los clientes con parejas y dependientes tienen una tasa de abandono más baja en comparación con aquellos que no tienen parejasy dependientes."
   ]
  },
  {
   "cell_type": "code",
   "execution_count": 29,
   "metadata": {},
   "outputs": [
    {
     "data": {
      "image/png": "[encoded data removed]",
      "text/plain": [
       "plot without title"
      ]
     },
     "metadata": {},
     "output_type": "display_data"
    }
   ],
   "source": [
    "options(repr.plot.width = 6, repr.plot.height = 4)\n",
    "plot_grid(ggplot(telco, aes(x=InternetService,fill=Churn))+ geom_bar(position = 'fill')+ theme1+\n",
    "          scale_x_discrete(labels = function(x) str_wrap(x, width = 10)), \n",
    "          ggplot(telco, aes(x=OnlineSecurity,fill=Churn))+ geom_bar(position = 'fill')+theme1+\n",
    "          scale_x_discrete(labels = function(x) str_wrap(x, width = 10)),\n",
    "          ggplot(telco, aes(x=OnlineBackup,fill=Churn))+ geom_bar(position = 'fill')+theme1+\n",
    "          scale_x_discrete(labels = function(x) str_wrap(x, width = 10)),\n",
    "          ggplot(telco, aes(x=DeviceProtection,fill=Churn))+ geom_bar(position = 'fill')+theme1+\n",
    "          scale_x_discrete(labels = function(x) str_wrap(x, width = 10)),\n",
    "          ggplot(telco, aes(x=TechSupport,fill=Churn))+ geom_bar(position = 'fill')+theme1+\n",
    "          scale_x_discrete(labels = function(x) str_wrap(x, width = 10)),\n",
    "          ggplot(telco, aes(x=StreamingTV,fill=Churn))+ geom_bar(position = 'fill')+theme_bw()+\n",
    "          scale_x_discrete(labels = function(x) str_wrap(x, width = 10)),\n",
    "          align = \"h\")"
   ]
  },
  {
   "cell_type": "markdown",
   "metadata": {},
   "source": [
    "- La tasa de abandono es mucho mayor en el caso de los servicios de Internet de fibra óptica.\n",
    "- Los clientes que no tienen servicios como No OnlineSecurity, OnlineBackup y TechSupport abandonaron la plataforma el mes pasado."
   ]
  },
  {
   "cell_type": "code",
   "execution_count": 30,
   "metadata": {},
   "outputs": [
    {
     "data": {
      "image/png": "[encoded data removed]",
      "text/plain": [
       "plot without title"
      ]
     },
     "metadata": {},
     "output_type": "display_data"
    }
   ],
   "source": [
    "options(repr.plot.width = 6, repr.plot.height = 4)\n",
    "plot_grid(ggplot(telco, aes(x=StreamingMovies,fill=Churn))+ \n",
    "          geom_bar(position = 'fill')+ theme1+\n",
    "          scale_x_discrete(labels = function(x) str_wrap(x, width = 10)), \n",
    "          ggplot(telco, aes(x=Contract,fill=Churn))+ \n",
    "          geom_bar(position = 'fill')+theme1+\n",
    "          scale_x_discrete(labels = function(x) str_wrap(x, width = 10)),\n",
    "          ggplot(telco, aes(x=PaperlessBilling,fill=Churn))+ \n",
    "          geom_bar(position = 'fill')+theme1+\n",
    "          scale_x_discrete(labels = function(x) str_wrap(x, width = 10)),\n",
    "          ggplot(telco, aes(x=PaymentMethod,fill=Churn))+\n",
    "          geom_bar(position = 'fill')+theme_bw()+\n",
    "          scale_x_discrete(labels = function(x) str_wrap(x, width = 10)),\n",
    "          align = \"h\")"
   ]
  },
  {
   "cell_type": "markdown",
   "metadata": {},
   "source": [
    "- Un porcentaje mayor de Clientes con suscripción mensual se ha ido en comparación con Clientes con contrato de uno o dos años.\n",
    "- El porcentaje de abandono es mayor en el caso de los clientes que tienen la opción de facturación electrónica.\n",
    "- Los clientes que tienen el método de pago ElectronicCheck tienden a abandonar la plataforma más en comparación con otras opciones."
   ]
  },
  {
   "cell_type": "code",
   "execution_count": 24,
   "metadata": {},
   "outputs": [
    {
     "data": {
      "image/png": "[encoded data removed]",
      "text/plain": [
       "plot without title"
      ]
     },
     "metadata": {},
     "output_type": "display_data"
    }
   ],
   "source": [
    "options(repr.plot.width =10, repr.plot.height = 5)\n",
    "ggplot(telco, aes(y= tenure, x = \"\", fill = Churn)) + \n",
    "geom_boxplot()+ \n",
    "theme_bw()+\n",
    "xlab(\" \")"
   ]
  },
  {
   "cell_type": "markdown",
   "metadata": {},
   "source": [
    "Tenure: La permanencia media de los clientes que se han ido es de unos 10 meses."
   ]
  },
  {
   "cell_type": "code",
   "execution_count": 25,
   "metadata": {},
   "outputs": [
    {
     "data": {
      "image/png": "[encoded data removed]",
      "text/plain": [
       "plot without title"
      ]
     },
     "metadata": {},
     "output_type": "display_data"
    }
   ],
   "source": [
    "ggplot(telco, aes(y= MonthlyCharges, x = \"\", fill = Churn)) + \n",
    "geom_boxplot()+ \n",
    "theme_bw()+\n",
    "xlab(\" \")"
   ]
  },
  {
   "cell_type": "markdown",
   "metadata": {},
   "source": [
    "MonthlyCharges: Los clientes que se han ido tienen cargos mensuales elevados. La mediana está por encima de 75."
   ]
  },
  {
   "cell_type": "code",
   "execution_count": 26,
   "metadata": {},
   "outputs": [
    {
     "data": {
      "image/png": "[encoded data removed]",
      "text/plain": [
       "plot without title"
      ]
     },
     "metadata": {},
     "output_type": "display_data"
    }
   ],
   "source": [
    "ggplot(telco, aes(y= TotalCharges, x = \"\", fill = Churn)) + \n",
    "geom_boxplot()+ \n",
    "theme_bw()+\n",
    "xlab(\" \")"
   ]
  },
  {
   "cell_type": "markdown",
   "metadata": {},
   "source": [
    "TotalCharges:* La mediana de los cargos totales de los clientes que han abandonado es baja."
   ]
  },
  {
   "cell_type": "code",
   "execution_count": 27,
   "metadata": {},
   "outputs": [
    {
     "data": {
      "image/png": "[encoded data removed]",
      "text/plain": [
       "plot without title"
      ]
     },
     "metadata": {},
     "output_type": "display_data"
    }
   ],
   "source": [
    "options(repr.plot.width =6, repr.plot.height = 4)\n",
    "telco_cor <- round(cor(telco[,c(\"tenure\", \"MonthlyCharges\", \"TotalCharges\")]), 1)\n",
    "\n",
    "ggcorrplot(telco_cor,  title = \"Correlation\")+theme(plot.title = element_text(hjust = 0.5))"
   ]
  },
  {
   "cell_type": "markdown",
   "metadata": {},
   "source": [
    "### Preparación de datos \n",
    "\n",
    "Estandarizando valores diferentes en variables categóricas"
   ]
  },
  {
   "cell_type": "code",
   "execution_count": 31,
   "metadata": {},
   "outputs": [],
   "source": [
    "telco <- data.frame(lapply(telco, function(x) {\n",
    "                  gsub(\"No internet service\", \"No\", x)}))\n",
    "\n",
    "telco <- data.frame(lapply(telco, function(x) {\n",
    "                  gsub(\"No phone service\", \"No\", x)}))"
   ]
  },
  {
   "cell_type": "markdown",
   "metadata": {},
   "source": [
    "Estandarizando variables numéricas"
   ]
  },
  {
   "cell_type": "code",
   "execution_count": 32,
   "metadata": {},
   "outputs": [],
   "source": [
    "num_columns <- c(\"tenure\", \"MonthlyCharges\", \"TotalCharges\")\n",
    "telco[num_columns] <- sapply(telco[num_columns], as.numeric)\n",
    "\n",
    "telco_int <- telco[,c(\"tenure\", \"MonthlyCharges\", \"TotalCharges\")]\n",
    "telco_int <- data.frame(scale(telco_int))"
   ]
  },
  {
   "cell_type": "markdown",
   "metadata": {},
   "source": [
    "Clasificar la antigüedad por cliente "
   ]
  },
  {
   "cell_type": "code",
   "execution_count": 34,
   "metadata": {},
   "outputs": [],
   "source": [
    "#max(telco$tenure)\n",
    "#min(telco$tenure)\n",
    "telco <- mutate(telco, tenure_bin = tenure)\n",
    "\n",
    "telco$tenure_bin[telco$tenure_bin >=0 & telco$tenure_bin <= 12] <- '0-1 y'\n",
    "telco$tenure_bin[telco$tenure_bin > 12 & telco$tenure_bin <= 24] <- '1-2 y'\n",
    "telco$tenure_bin[telco$tenure_bin > 24 & telco$tenure_bin <= 36] <- '2-3 y'\n",
    "telco$tenure_bin[telco$tenure_bin > 36 & telco$tenure_bin <= 48] <- '3-4 y'\n",
    "telco$tenure_bin[telco$tenure_bin > 48 & telco$tenure_bin <= 60] <- '4-5 y'\n",
    "telco$tenure_bin[telco$tenure_bin > 60 & telco$tenure_bin <= 72] <- '5-6 y'\n",
    "\n",
    "telco$tenure_bin <- as.factor(telco$tenure_bin)"
   ]
  },
  {
   "cell_type": "code",
   "execution_count": 35,
   "metadata": {},
   "outputs": [
    {
     "data": {
      "image/png": "[encoded data removed]",
      "text/plain": [
       "plot without title"
      ]
     },
     "metadata": {},
     "output_type": "display_data"
    }
   ],
   "source": [
    "options(repr.plot.width =6, repr.plot.height = 3)\n",
    "ggplot(telco, aes(tenure_bin, fill = tenure_bin)) + geom_bar()+ theme1"
   ]
  },
  {
   "cell_type": "code",
   "execution_count": 36,
   "metadata": {},
   "outputs": [
    {
     "data": {
      "text/html": [
       "<table>\n",
       "<thead><tr><th scope=col>gender</th><th scope=col>SeniorCitizen</th><th scope=col>Partner</th><th scope=col>Dependents</th><th scope=col>PhoneService</th><th scope=col>MultipleLines</th><th scope=col>InternetService.xFiber.optic</th><th scope=col>InternetService.xNo</th><th scope=col>OnlineSecurity</th><th scope=col>OnlineBackup</th><th scope=col>...</th><th scope=col>PaperlessBilling</th><th scope=col>PaymentMethod.xCredit.card..automatic.</th><th scope=col>PaymentMethod.xElectronic.check</th><th scope=col>PaymentMethod.xMailed.check</th><th scope=col>Churn</th><th scope=col>tenure_bin.x1.2.y</th><th scope=col>tenure_bin.x2.3.y</th><th scope=col>tenure_bin.x3.4.y</th><th scope=col>tenure_bin.x4.5.y</th><th scope=col>tenure_bin.x5.6.y</th></tr></thead>\n",
       "<tbody>\n",
       "\t<tr><td>0  </td><td>0  </td><td>1  </td><td>0  </td><td>0  </td><td>0  </td><td>0  </td><td>0  </td><td>0  </td><td>1  </td><td>...</td><td>1  </td><td>0  </td><td>1  </td><td>0  </td><td>0  </td><td>0  </td><td>0  </td><td>0  </td><td>0  </td><td>0  </td></tr>\n",
       "\t<tr><td>1  </td><td>0  </td><td>0  </td><td>0  </td><td>1  </td><td>0  </td><td>0  </td><td>0  </td><td>1  </td><td>0  </td><td>...</td><td>0  </td><td>0  </td><td>0  </td><td>1  </td><td>0  </td><td>0  </td><td>1  </td><td>0  </td><td>0  </td><td>0  </td></tr>\n",
       "\t<tr><td>1  </td><td>0  </td><td>0  </td><td>0  </td><td>1  </td><td>0  </td><td>0  </td><td>0  </td><td>1  </td><td>1  </td><td>...</td><td>1  </td><td>0  </td><td>0  </td><td>1  </td><td>1  </td><td>0  </td><td>0  </td><td>0  </td><td>0  </td><td>0  </td></tr>\n",
       "\t<tr><td>1  </td><td>0  </td><td>0  </td><td>0  </td><td>0  </td><td>0  </td><td>0  </td><td>0  </td><td>1  </td><td>0  </td><td>...</td><td>0  </td><td>0  </td><td>0  </td><td>0  </td><td>0  </td><td>0  </td><td>0  </td><td>1  </td><td>0  </td><td>0  </td></tr>\n",
       "\t<tr><td>0  </td><td>0  </td><td>0  </td><td>0  </td><td>1  </td><td>0  </td><td>1  </td><td>0  </td><td>0  </td><td>0  </td><td>...</td><td>1  </td><td>0  </td><td>1  </td><td>0  </td><td>1  </td><td>0  </td><td>0  </td><td>0  </td><td>0  </td><td>0  </td></tr>\n",
       "\t<tr><td>0  </td><td>0  </td><td>0  </td><td>0  </td><td>1  </td><td>1  </td><td>1  </td><td>0  </td><td>0  </td><td>0  </td><td>...</td><td>1  </td><td>0  </td><td>1  </td><td>0  </td><td>1  </td><td>0  </td><td>0  </td><td>0  </td><td>0  </td><td>1  </td></tr>\n",
       "</tbody>\n",
       "</table>\n"
      ],
      "text/latex": [
       "\\begin{tabular}{r|llllllllllllllllllllllllll}\n",
       " gender & SeniorCitizen & Partner & Dependents & PhoneService & MultipleLines & InternetService.xFiber.optic & InternetService.xNo & OnlineSecurity & OnlineBackup & ... & PaperlessBilling & PaymentMethod.xCredit.card..automatic. & PaymentMethod.xElectronic.check & PaymentMethod.xMailed.check & Churn & tenure\\_bin.x1.2.y & tenure\\_bin.x2.3.y & tenure\\_bin.x3.4.y & tenure\\_bin.x4.5.y & tenure\\_bin.x5.6.y\\\\\n",
       "\\hline\n",
       "\t 0   & 0   & 1   & 0   & 0   & 0   & 0   & 0   & 0   & 1   & ... & 1   & 0   & 1   & 0   & 0   & 0   & 0   & 0   & 0   & 0  \\\\\n",
       "\t 1   & 0   & 0   & 0   & 1   & 0   & 0   & 0   & 1   & 0   & ... & 0   & 0   & 0   & 1   & 0   & 0   & 1   & 0   & 0   & 0  \\\\\n",
       "\t 1   & 0   & 0   & 0   & 1   & 0   & 0   & 0   & 1   & 1   & ... & 1   & 0   & 0   & 1   & 1   & 0   & 0   & 0   & 0   & 0  \\\\\n",
       "\t 1   & 0   & 0   & 0   & 0   & 0   & 0   & 0   & 1   & 0   & ... & 0   & 0   & 0   & 0   & 0   & 0   & 0   & 1   & 0   & 0  \\\\\n",
       "\t 0   & 0   & 0   & 0   & 1   & 0   & 1   & 0   & 0   & 0   & ... & 1   & 0   & 1   & 0   & 1   & 0   & 0   & 0   & 0   & 0  \\\\\n",
       "\t 0   & 0   & 0   & 0   & 1   & 1   & 1   & 0   & 0   & 0   & ... & 1   & 0   & 1   & 0   & 1   & 0   & 0   & 0   & 0   & 1  \\\\\n",
       "\\end{tabular}\n"
      ],
      "text/markdown": [
       "\n",
       "| gender | SeniorCitizen | Partner | Dependents | PhoneService | MultipleLines | InternetService.xFiber.optic | InternetService.xNo | OnlineSecurity | OnlineBackup | ... | PaperlessBilling | PaymentMethod.xCredit.card..automatic. | PaymentMethod.xElectronic.check | PaymentMethod.xMailed.check | Churn | tenure_bin.x1.2.y | tenure_bin.x2.3.y | tenure_bin.x3.4.y | tenure_bin.x4.5.y | tenure_bin.x5.6.y |\n",
       "|---|---|---|---|---|---|---|---|---|---|---|---|---|---|---|---|---|---|---|---|---|\n",
       "| 0   | 0   | 1   | 0   | 0   | 0   | 0   | 0   | 0   | 1   | ... | 1   | 0   | 1   | 0   | 0   | 0   | 0   | 0   | 0   | 0   |\n",
       "| 1   | 0   | 0   | 0   | 1   | 0   | 0   | 0   | 1   | 0   | ... | 0   | 0   | 0   | 1   | 0   | 0   | 1   | 0   | 0   | 0   |\n",
       "| 1   | 0   | 0   | 0   | 1   | 0   | 0   | 0   | 1   | 1   | ... | 1   | 0   | 0   | 1   | 1   | 0   | 0   | 0   | 0   | 0   |\n",
       "| 1   | 0   | 0   | 0   | 0   | 0   | 0   | 0   | 1   | 0   | ... | 0   | 0   | 0   | 0   | 0   | 0   | 0   | 1   | 0   | 0   |\n",
       "| 0   | 0   | 0   | 0   | 1   | 0   | 1   | 0   | 0   | 0   | ... | 1   | 0   | 1   | 0   | 1   | 0   | 0   | 0   | 0   | 0   |\n",
       "| 0   | 0   | 0   | 0   | 1   | 1   | 1   | 0   | 0   | 0   | ... | 1   | 0   | 1   | 0   | 1   | 0   | 0   | 0   | 0   | 1   |\n",
       "\n"
      ],
      "text/plain": [
       "  gender SeniorCitizen Partner Dependents PhoneService MultipleLines\n",
       "1 0      0             1       0          0            0            \n",
       "2 1      0             0       0          1            0            \n",
       "3 1      0             0       0          1            0            \n",
       "4 1      0             0       0          0            0            \n",
       "5 0      0             0       0          1            0            \n",
       "6 0      0             0       0          1            1            \n",
       "  InternetService.xFiber.optic InternetService.xNo OnlineSecurity OnlineBackup\n",
       "1 0                            0                   0              1           \n",
       "2 0                            0                   1              0           \n",
       "3 0                            0                   1              1           \n",
       "4 0                            0                   1              0           \n",
       "5 1                            0                   0              0           \n",
       "6 1                            0                   0              0           \n",
       "  ... PaperlessBilling PaymentMethod.xCredit.card..automatic.\n",
       "1 ... 1                0                                     \n",
       "2 ... 0                0                                     \n",
       "3 ... 1                0                                     \n",
       "4 ... 0                0                                     \n",
       "5 ... 1                0                                     \n",
       "6 ... 1                0                                     \n",
       "  PaymentMethod.xElectronic.check PaymentMethod.xMailed.check Churn\n",
       "1 1                               0                           0    \n",
       "2 0                               1                           0    \n",
       "3 0                               1                           1    \n",
       "4 0                               0                           0    \n",
       "5 1                               0                           1    \n",
       "6 1                               0                           1    \n",
       "  tenure_bin.x1.2.y tenure_bin.x2.3.y tenure_bin.x3.4.y tenure_bin.x4.5.y\n",
       "1 0                 0                 0                 0                \n",
       "2 0                 1                 0                 0                \n",
       "3 0                 0                 0                 0                \n",
       "4 0                 0                 1                 0                \n",
       "5 0                 0                 0                 0                \n",
       "6 0                 0                 0                 0                \n",
       "  tenure_bin.x5.6.y\n",
       "1 0                \n",
       "2 0                \n",
       "3 0                \n",
       "4 0                \n",
       "5 0                \n",
       "6 1                "
      ]
     },
     "metadata": {},
     "output_type": "display_data"
    }
   ],
   "source": [
    "telco_cat <- telco[,-c(1,6,19,20)]\n",
    "dummy<- data.frame(sapply(telco_cat,function(x) data.frame(model.matrix(~x-1,data =telco_cat))[,-1]))\n",
    "head(dummy)"
   ]
  },
  {
   "cell_type": "code",
   "execution_count": 37,
   "metadata": {
    "scrolled": true
   },
   "outputs": [
    {
     "data": {
      "text/html": [
       "<table>\n",
       "<thead><tr><th scope=col>tenure</th><th scope=col>MonthlyCharges</th><th scope=col>TotalCharges</th><th scope=col>gender</th><th scope=col>SeniorCitizen</th><th scope=col>Partner</th><th scope=col>Dependents</th><th scope=col>PhoneService</th><th scope=col>MultipleLines</th><th scope=col>InternetService.xFiber.optic</th><th scope=col>...</th><th scope=col>PaperlessBilling</th><th scope=col>PaymentMethod.xCredit.card..automatic.</th><th scope=col>PaymentMethod.xElectronic.check</th><th scope=col>PaymentMethod.xMailed.check</th><th scope=col>Churn</th><th scope=col>tenure_bin.x1.2.y</th><th scope=col>tenure_bin.x2.3.y</th><th scope=col>tenure_bin.x3.4.y</th><th scope=col>tenure_bin.x4.5.y</th><th scope=col>tenure_bin.x5.6.y</th></tr></thead>\n",
       "<tbody>\n",
       "\t<tr><td>-1.4265167 </td><td>-0.72343522</td><td>-0.4019004 </td><td>0          </td><td>0          </td><td>1          </td><td>0          </td><td>0          </td><td>0          </td><td>0          </td><td>...        </td><td>1          </td><td>0          </td><td>1          </td><td>0          </td><td>0          </td><td>0          </td><td>0          </td><td>0          </td><td>0          </td><td>0          </td></tr>\n",
       "\t<tr><td>-0.2973877 </td><td> 0.03883410</td><td>-0.9528702 </td><td>1          </td><td>0          </td><td>0          </td><td>0          </td><td>1          </td><td>0          </td><td>0          </td><td>...        </td><td>0          </td><td>0          </td><td>0          </td><td>1          </td><td>0          </td><td>0          </td><td>1          </td><td>0          </td><td>0          </td><td>0          </td></tr>\n",
       "\t<tr><td>-0.9665012 </td><td>-0.09429463</td><td>-1.6470178 </td><td>1          </td><td>0          </td><td>0          </td><td>0          </td><td>1          </td><td>0          </td><td>0          </td><td>...        </td><td>1          </td><td>0          </td><td>0          </td><td>1          </td><td>1          </td><td>0          </td><td>0          </td><td>0          </td><td>0          </td><td>0          </td></tr>\n",
       "\t<tr><td> 0.2044474 </td><td>-0.45717777</td><td>-0.9878692 </td><td>1          </td><td>0          </td><td>0          </td><td>0          </td><td>0          </td><td>0          </td><td>0          </td><td>...        </td><td>0          </td><td>0          </td><td>0          </td><td>0          </td><td>0          </td><td>0          </td><td>0          </td><td>1          </td><td>0          </td><td>0          </td></tr>\n",
       "\t<tr><td>-0.9665012 </td><td> 0.53484596</td><td>-1.2397562 </td><td>0          </td><td>0          </td><td>0          </td><td>0          </td><td>1          </td><td>0          </td><td>1          </td><td>...        </td><td>1          </td><td>0          </td><td>1          </td><td>0          </td><td>1          </td><td>0          </td><td>0          </td><td>0          </td><td>0          </td><td>0          </td></tr>\n",
       "\t<tr><td> 1.5008548 </td><td> 1.70509041</td><td> 1.5066078 </td><td>0          </td><td>0          </td><td>0          </td><td>0          </td><td>1          </td><td>1          </td><td>1          </td><td>...        </td><td>1          </td><td>0          </td><td>1          </td><td>0          </td><td>1          </td><td>0          </td><td>0          </td><td>0          </td><td>0          </td><td>1          </td></tr>\n",
       "</tbody>\n",
       "</table>\n"
      ],
      "text/latex": [
       "\\begin{tabular}{r|lllllllllllllllllllllllllllll}\n",
       " tenure & MonthlyCharges & TotalCharges & gender & SeniorCitizen & Partner & Dependents & PhoneService & MultipleLines & InternetService.xFiber.optic & ... & PaperlessBilling & PaymentMethod.xCredit.card..automatic. & PaymentMethod.xElectronic.check & PaymentMethod.xMailed.check & Churn & tenure\\_bin.x1.2.y & tenure\\_bin.x2.3.y & tenure\\_bin.x3.4.y & tenure\\_bin.x4.5.y & tenure\\_bin.x5.6.y\\\\\n",
       "\\hline\n",
       "\t -1.4265167  & -0.72343522 & -0.4019004  & 0           & 0           & 1           & 0           & 0           & 0           & 0           & ...         & 1           & 0           & 1           & 0           & 0           & 0           & 0           & 0           & 0           & 0          \\\\\n",
       "\t -0.2973877  &  0.03883410 & -0.9528702  & 1           & 0           & 0           & 0           & 1           & 0           & 0           & ...         & 0           & 0           & 0           & 1           & 0           & 0           & 1           & 0           & 0           & 0          \\\\\n",
       "\t -0.9665012  & -0.09429463 & -1.6470178  & 1           & 0           & 0           & 0           & 1           & 0           & 0           & ...         & 1           & 0           & 0           & 1           & 1           & 0           & 0           & 0           & 0           & 0          \\\\\n",
       "\t  0.2044474  & -0.45717777 & -0.9878692  & 1           & 0           & 0           & 0           & 0           & 0           & 0           & ...         & 0           & 0           & 0           & 0           & 0           & 0           & 0           & 1           & 0           & 0          \\\\\n",
       "\t -0.9665012  &  0.53484596 & -1.2397562  & 0           & 0           & 0           & 0           & 1           & 0           & 1           & ...         & 1           & 0           & 1           & 0           & 1           & 0           & 0           & 0           & 0           & 0          \\\\\n",
       "\t  1.5008548  &  1.70509041 &  1.5066078  & 0           & 0           & 0           & 0           & 1           & 1           & 1           & ...         & 1           & 0           & 1           & 0           & 1           & 0           & 0           & 0           & 0           & 1          \\\\\n",
       "\\end{tabular}\n"
      ],
      "text/markdown": [
       "\n",
       "| tenure | MonthlyCharges | TotalCharges | gender | SeniorCitizen | Partner | Dependents | PhoneService | MultipleLines | InternetService.xFiber.optic | ... | PaperlessBilling | PaymentMethod.xCredit.card..automatic. | PaymentMethod.xElectronic.check | PaymentMethod.xMailed.check | Churn | tenure_bin.x1.2.y | tenure_bin.x2.3.y | tenure_bin.x3.4.y | tenure_bin.x4.5.y | tenure_bin.x5.6.y |\n",
       "|---|---|---|---|---|---|---|---|---|---|---|---|---|---|---|---|---|---|---|---|---|\n",
       "| -1.4265167  | -0.72343522 | -0.4019004  | 0           | 0           | 1           | 0           | 0           | 0           | 0           | ...         | 1           | 0           | 1           | 0           | 0           | 0           | 0           | 0           | 0           | 0           |\n",
       "| -0.2973877  |  0.03883410 | -0.9528702  | 1           | 0           | 0           | 0           | 1           | 0           | 0           | ...         | 0           | 0           | 0           | 1           | 0           | 0           | 1           | 0           | 0           | 0           |\n",
       "| -0.9665012  | -0.09429463 | -1.6470178  | 1           | 0           | 0           | 0           | 1           | 0           | 0           | ...         | 1           | 0           | 0           | 1           | 1           | 0           | 0           | 0           | 0           | 0           |\n",
       "|  0.2044474  | -0.45717777 | -0.9878692  | 1           | 0           | 0           | 0           | 0           | 0           | 0           | ...         | 0           | 0           | 0           | 0           | 0           | 0           | 0           | 1           | 0           | 0           |\n",
       "| -0.9665012  |  0.53484596 | -1.2397562  | 0           | 0           | 0           | 0           | 1           | 0           | 1           | ...         | 1           | 0           | 1           | 0           | 1           | 0           | 0           | 0           | 0           | 0           |\n",
       "|  1.5008548  |  1.70509041 |  1.5066078  | 0           | 0           | 0           | 0           | 1           | 1           | 1           | ...         | 1           | 0           | 1           | 0           | 1           | 0           | 0           | 0           | 0           | 1           |\n",
       "\n"
      ],
      "text/plain": [
       "  tenure     MonthlyCharges TotalCharges gender SeniorCitizen Partner\n",
       "1 -1.4265167 -0.72343522    -0.4019004   0      0             1      \n",
       "2 -0.2973877  0.03883410    -0.9528702   1      0             0      \n",
       "3 -0.9665012 -0.09429463    -1.6470178   1      0             0      \n",
       "4  0.2044474 -0.45717777    -0.9878692   1      0             0      \n",
       "5 -0.9665012  0.53484596    -1.2397562   0      0             0      \n",
       "6  1.5008548  1.70509041     1.5066078   0      0             0      \n",
       "  Dependents PhoneService MultipleLines InternetService.xFiber.optic ...\n",
       "1 0          0            0             0                            ...\n",
       "2 0          1            0             0                            ...\n",
       "3 0          1            0             0                            ...\n",
       "4 0          0            0             0                            ...\n",
       "5 0          1            0             1                            ...\n",
       "6 0          1            1             1                            ...\n",
       "  PaperlessBilling PaymentMethod.xCredit.card..automatic.\n",
       "1 1                0                                     \n",
       "2 0                0                                     \n",
       "3 1                0                                     \n",
       "4 0                0                                     \n",
       "5 1                0                                     \n",
       "6 1                0                                     \n",
       "  PaymentMethod.xElectronic.check PaymentMethod.xMailed.check Churn\n",
       "1 1                               0                           0    \n",
       "2 0                               1                           0    \n",
       "3 0                               1                           1    \n",
       "4 0                               0                           0    \n",
       "5 1                               0                           1    \n",
       "6 1                               0                           1    \n",
       "  tenure_bin.x1.2.y tenure_bin.x2.3.y tenure_bin.x3.4.y tenure_bin.x4.5.y\n",
       "1 0                 0                 0                 0                \n",
       "2 0                 1                 0                 0                \n",
       "3 0                 0                 0                 0                \n",
       "4 0                 0                 1                 0                \n",
       "5 0                 0                 0                 0                \n",
       "6 0                 0                 0                 0                \n",
       "  tenure_bin.x5.6.y\n",
       "1 0                \n",
       "2 0                \n",
       "3 0                \n",
       "4 0                \n",
       "5 0                \n",
       "6 1                "
      ]
     },
     "metadata": {},
     "output_type": "display_data"
    }
   ],
   "source": [
    "telco_final <- cbind(telco_int,dummy)\n",
    "head(telco_final)"
   ]
  },
  {
   "cell_type": "markdown",
   "metadata": {},
   "source": [
    "### Partición de la base de datos "
   ]
  },
  {
   "cell_type": "code",
   "execution_count": 40,
   "metadata": {},
   "outputs": [],
   "source": [
    "#Splitting the data\n",
    "set.seed(123)\n",
    "indices = sample.split(telco_final$Churn, SplitRatio = 0.7)\n",
    "train = telco_final[indices,]\n",
    "test = telco_final[!(indices),]"
   ]
  },
  {
   "cell_type": "markdown",
   "metadata": {},
   "source": [
    "Modelo saturado "
   ]
  },
  {
   "cell_type": "code",
   "execution_count": 41,
   "metadata": {},
   "outputs": [
    {
     "data": {
      "text/plain": [
       "\n",
       "Call:\n",
       "glm(formula = Churn ~ ., family = \"binomial\", data = train)\n",
       "\n",
       "Deviance Residuals: \n",
       "    Min       1Q   Median       3Q      Max  \n",
       "-1.8374  -0.6872  -0.2824   0.7156   3.1783  \n",
       "\n",
       "Coefficients:\n",
       "                                       Estimate Std. Error z value Pr(>|z|)    \n",
       "(Intercept)                            -0.84717    0.35821  -2.365 0.018029 *  \n",
       "tenure                                 -0.47667    0.24990  -1.907 0.056458 .  \n",
       "MonthlyCharges                         -0.12170    0.04551  -2.674 0.007495 ** \n",
       "TotalCharges                            0.04640    0.04463   1.040 0.298566    \n",
       "gender                                 -0.03506    0.07697  -0.455 0.648764    \n",
       "SeniorCitizen                           0.23644    0.09901   2.388 0.016939 *  \n",
       "Partner                                -0.12961    0.09154  -1.416 0.156814    \n",
       "Dependents                             -0.12985    0.10844  -1.197 0.231123    \n",
       "PhoneService                           -0.18487    0.15464  -1.196 0.231883    \n",
       "MultipleLines                           0.01351    0.09145   0.148 0.882586    \n",
       "InternetService.xFiber.optic            0.85879    0.11296   7.602 2.91e-14 ***\n",
       "InternetService.xNo                    -1.27142    0.17510  -7.261 3.84e-13 ***\n",
       "OnlineSecurity                         -0.57214    0.10006  -5.718 1.08e-08 ***\n",
       "OnlineBackup                           -0.30795    0.08873  -3.471 0.000519 ***\n",
       "DeviceProtection                       -0.14125    0.09276  -1.523 0.127797    \n",
       "TechSupport                            -0.33273    0.10061  -3.307 0.000943 ***\n",
       "StreamingTV                             0.16300    0.09500   1.716 0.086201 .  \n",
       "StreamingMovies                         0.11068    0.09419   1.175 0.239970    \n",
       "Contract.xOne.year                     -1.10053    0.12243  -8.989  < 2e-16 ***\n",
       "Contract.xTwo.year                     -2.27320    0.22002 -10.332  < 2e-16 ***\n",
       "PaperlessBilling                        0.31895    0.08879   3.592 0.000328 ***\n",
       "PaymentMethod.xCredit.card..automatic. -0.03499    0.13527  -0.259 0.795917    \n",
       "PaymentMethod.xElectronic.check         0.41353    0.11097   3.726 0.000194 ***\n",
       "PaymentMethod.xMailed.check             0.15833    0.13458   1.176 0.239424    \n",
       "tenure_bin.x1.2.y                      -0.40086    0.18722  -2.141 0.032261 *  \n",
       "tenure_bin.x2.3.y                      -0.06387    0.29711  -0.215 0.829797    \n",
       "tenure_bin.x3.4.y                       0.02848    0.42135   0.068 0.946112    \n",
       "tenure_bin.x4.5.y                       0.10603    0.54003   0.196 0.844347    \n",
       "tenure_bin.x5.6.y                       0.49315    0.67447   0.731 0.464679    \n",
       "---\n",
       "Signif. codes:  0 '***' 0.001 '**' 0.01 '*' 0.05 '.' 0.1 ' ' 1\n",
       "\n",
       "(Dispersion parameter for binomial family taken to be 1)\n",
       "\n",
       "    Null deviance: 5699.5  on 4921  degrees of freedom\n",
       "Residual deviance: 4133.8  on 4893  degrees of freedom\n",
       "AIC: 4191.8\n",
       "\n",
       "Number of Fisher Scoring iterations: 6\n"
      ]
     },
     "metadata": {},
     "output_type": "display_data"
    }
   ],
   "source": [
    "modelo_1 = glm(Churn ~ ., data = train, family = \"binomial\")\n",
    "summary(modelo_1)"
   ]
  },
  {
   "cell_type": "code",
   "execution_count": 45,
   "metadata": {},
   "outputs": [
    {
     "data": {
      "text/html": [
       "6.97218164783657e-313"
      ],
      "text/latex": [
       "6.97218164783657e-313"
      ],
      "text/markdown": [
       "6.97218164783657e-313"
      ],
      "text/plain": [
       "[1] 6.972182e-313"
      ]
     },
     "metadata": {},
     "output_type": "display_data"
    }
   ],
   "source": [
    "pchisq(5699.5 - 4133.8, df=4921-4893, lower.tail=F)"
   ]
  },
  {
   "cell_type": "code",
   "execution_count": 43,
   "metadata": {},
   "outputs": [
    {
     "data": {
      "text/html": [
       "2.33964685192599"
      ],
      "text/latex": [
       "2.33964685192599"
      ],
      "text/markdown": [
       "2.33964685192599"
      ],
      "text/plain": [
       "[1] 2.339647"
      ]
     },
     "metadata": {},
     "output_type": "display_data"
    }
   ],
   "source": [
    "exp(0.85)"
   ]
  },
  {
   "cell_type": "markdown",
   "metadata": {},
   "source": [
    "Pequeño atajo en la búsqueda de un buen modelo "
   ]
  },
  {
   "cell_type": "code",
   "execution_count": 46,
   "metadata": {},
   "outputs": [
    {
     "name": "stdout",
     "output_type": "stream",
     "text": [
      "Start:  AIC=4191.82\n",
      "Churn ~ tenure + MonthlyCharges + TotalCharges + gender + SeniorCitizen + \n",
      "    Partner + Dependents + PhoneService + MultipleLines + InternetService.xFiber.optic + \n",
      "    InternetService.xNo + OnlineSecurity + OnlineBackup + DeviceProtection + \n",
      "    TechSupport + StreamingTV + StreamingMovies + Contract.xOne.year + \n",
      "    Contract.xTwo.year + PaperlessBilling + PaymentMethod.xCredit.card..automatic. + \n",
      "    PaymentMethod.xElectronic.check + PaymentMethod.xMailed.check + \n",
      "    tenure_bin.x1.2.y + tenure_bin.x2.3.y + tenure_bin.x3.4.y + \n",
      "    tenure_bin.x4.5.y + tenure_bin.x5.6.y\n",
      "\n",
      "                                         Df Deviance    AIC\n",
      "- tenure_bin.x3.4.y                       1   4133.8 4189.8\n",
      "- MultipleLines                           1   4133.8 4189.8\n",
      "- tenure_bin.x4.5.y                       1   4133.9 4189.9\n",
      "- tenure_bin.x2.3.y                       1   4133.9 4189.9\n",
      "- PaymentMethod.xCredit.card..automatic.  1   4133.9 4189.9\n",
      "- gender                                  1   4134.0 4190.0\n",
      "- tenure_bin.x5.6.y                       1   4134.4 4190.4\n",
      "- TotalCharges                            1   4134.9 4190.9\n",
      "- StreamingMovies                         1   4135.2 4191.2\n",
      "- PaymentMethod.xMailed.check             1   4135.2 4191.2\n",
      "- PhoneService                            1   4135.2 4191.2\n",
      "- Dependents                              1   4135.3 4191.3\n",
      "<none>                                        4133.8 4191.8\n",
      "- Partner                                 1   4135.8 4191.8\n",
      "- DeviceProtection                        1   4136.1 4192.1\n",
      "- StreamingTV                             1   4136.8 4192.8\n",
      "- tenure                                  1   4137.5 4193.5\n",
      "- tenure_bin.x1.2.y                       1   4138.4 4194.4\n",
      "- SeniorCitizen                           1   4139.5 4195.5\n",
      "- MonthlyCharges                          1   4141.0 4197.0\n",
      "- TechSupport                             1   4144.9 4200.9\n",
      "- OnlineBackup                            1   4145.9 4201.9\n",
      "- PaperlessBilling                        1   4146.8 4202.8\n",
      "- PaymentMethod.xElectronic.check         1   4147.9 4203.9\n",
      "- OnlineSecurity                          1   4167.3 4223.3\n",
      "- InternetService.xNo                     1   4189.3 4245.3\n",
      "- InternetService.xFiber.optic            1   4194.1 4250.1\n",
      "- Contract.xOne.year                      1   4222.9 4278.9\n",
      "- Contract.xTwo.year                      1   4287.2 4343.2\n",
      "\n",
      "Step:  AIC=4189.83\n",
      "Churn ~ tenure + MonthlyCharges + TotalCharges + gender + SeniorCitizen + \n",
      "    Partner + Dependents + PhoneService + MultipleLines + InternetService.xFiber.optic + \n",
      "    InternetService.xNo + OnlineSecurity + OnlineBackup + DeviceProtection + \n",
      "    TechSupport + StreamingTV + StreamingMovies + Contract.xOne.year + \n",
      "    Contract.xTwo.year + PaperlessBilling + PaymentMethod.xCredit.card..automatic. + \n",
      "    PaymentMethod.xElectronic.check + PaymentMethod.xMailed.check + \n",
      "    tenure_bin.x1.2.y + tenure_bin.x2.3.y + tenure_bin.x4.5.y + \n",
      "    tenure_bin.x5.6.y\n",
      "\n",
      "                                         Df Deviance    AIC\n",
      "- MultipleLines                           1   4133.8 4187.8\n",
      "- PaymentMethod.xCredit.card..automatic.  1   4133.9 4187.9\n",
      "- tenure_bin.x4.5.y                       1   4134.0 4188.0\n",
      "- gender                                  1   4134.0 4188.0\n",
      "- tenure_bin.x2.3.y                       1   4134.2 4188.2\n",
      "- TotalCharges                            1   4134.9 4188.9\n",
      "- PaymentMethod.xMailed.check             1   4135.2 4189.2\n",
      "- StreamingMovies                         1   4135.2 4189.2\n",
      "- PhoneService                            1   4135.2 4189.2\n",
      "- Dependents                              1   4135.3 4189.3\n",
      "<none>                                        4133.8 4189.8\n",
      "- Partner                                 1   4135.8 4189.8\n",
      "- DeviceProtection                        1   4136.1 4190.1\n",
      "- StreamingTV                             1   4136.8 4190.8\n",
      "+ tenure_bin.x3.4.y                       1   4133.8 4191.8\n",
      "- tenure_bin.x5.6.y                       1   4138.1 4192.1\n",
      "- SeniorCitizen                           1   4139.5 4193.5\n",
      "- MonthlyCharges                          1   4141.0 4195.0\n",
      "- TechSupport                             1   4144.9 4198.9\n",
      "- OnlineBackup                            1   4145.9 4199.9\n",
      "- PaperlessBilling                        1   4146.8 4200.8\n",
      "- tenure_bin.x1.2.y                       1   4146.9 4200.9\n",
      "- PaymentMethod.xElectronic.check         1   4147.9 4201.9\n",
      "- tenure                                  1   4165.1 4219.1\n",
      "- OnlineSecurity                          1   4167.3 4221.3\n",
      "- InternetService.xNo                     1   4189.4 4243.4\n",
      "- InternetService.xFiber.optic            1   4194.1 4248.1\n",
      "- Contract.xOne.year                      1   4223.6 4277.6\n",
      "- Contract.xTwo.year                      1   4287.2 4341.2\n",
      "\n",
      "Step:  AIC=4187.85\n",
      "Churn ~ tenure + MonthlyCharges + TotalCharges + gender + SeniorCitizen + \n",
      "    Partner + Dependents + PhoneService + InternetService.xFiber.optic + \n",
      "    InternetService.xNo + OnlineSecurity + OnlineBackup + DeviceProtection + \n",
      "    TechSupport + StreamingTV + StreamingMovies + Contract.xOne.year + \n",
      "    Contract.xTwo.year + PaperlessBilling + PaymentMethod.xCredit.card..automatic. + \n",
      "    PaymentMethod.xElectronic.check + PaymentMethod.xMailed.check + \n",
      "    tenure_bin.x1.2.y + tenure_bin.x2.3.y + tenure_bin.x4.5.y + \n",
      "    tenure_bin.x5.6.y\n",
      "\n",
      "                                         Df Deviance    AIC\n",
      "- PaymentMethod.xCredit.card..automatic.  1   4133.9 4185.9\n",
      "- tenure_bin.x4.5.y                       1   4134.0 4186.0\n",
      "- gender                                  1   4134.1 4186.1\n",
      "- tenure_bin.x2.3.y                       1   4134.3 4186.3\n",
      "- TotalCharges                            1   4134.9 4186.9\n",
      "- PaymentMethod.xMailed.check             1   4135.2 4187.2\n",
      "- PhoneService                            1   4135.3 4187.3\n",
      "- StreamingMovies                         1   4135.3 4187.3\n",
      "- Dependents                              1   4135.3 4187.3\n",
      "- Partner                                 1   4135.8 4187.8\n",
      "<none>                                        4133.8 4187.8\n",
      "- DeviceProtection                        1   4136.2 4188.2\n",
      "- StreamingTV                             1   4136.8 4188.8\n",
      "+ MultipleLines                           1   4133.8 4189.8\n",
      "+ tenure_bin.x3.4.y                       1   4133.8 4189.8\n",
      "- tenure_bin.x5.6.y                       1   4138.1 4190.1\n",
      "- SeniorCitizen                           1   4139.6 4191.6\n",
      "- MonthlyCharges                          1   4141.1 4193.1\n",
      "- TechSupport                             1   4144.9 4196.9\n",
      "- OnlineBackup                            1   4145.9 4197.9\n",
      "- tenure_bin.x1.2.y                       1   4146.9 4198.9\n",
      "- PaperlessBilling                        1   4146.9 4198.9\n",
      "- PaymentMethod.xElectronic.check         1   4147.9 4199.9\n",
      "- tenure                                  1   4165.2 4217.2\n",
      "- OnlineSecurity                          1   4167.4 4219.4\n",
      "- InternetService.xNo                     1   4189.7 4241.7\n",
      "- InternetService.xFiber.optic            1   4197.0 4249.0\n",
      "- Contract.xOne.year                      1   4223.6 4275.6\n",
      "- Contract.xTwo.year                      1   4287.4 4339.4\n",
      "\n",
      "Step:  AIC=4185.92\n",
      "Churn ~ tenure + MonthlyCharges + TotalCharges + gender + SeniorCitizen + \n",
      "    Partner + Dependents + PhoneService + InternetService.xFiber.optic + \n",
      "    InternetService.xNo + OnlineSecurity + OnlineBackup + DeviceProtection + \n",
      "    TechSupport + StreamingTV + StreamingMovies + Contract.xOne.year + \n",
      "    Contract.xTwo.year + PaperlessBilling + PaymentMethod.xElectronic.check + \n",
      "    PaymentMethod.xMailed.check + tenure_bin.x1.2.y + tenure_bin.x2.3.y + \n",
      "    tenure_bin.x4.5.y + tenure_bin.x5.6.y\n",
      "\n",
      "                                         Df Deviance    AIC\n",
      "- tenure_bin.x4.5.y                       1   4134.1 4184.1\n",
      "- gender                                  1   4134.1 4184.1\n",
      "- tenure_bin.x2.3.y                       1   4134.3 4184.3\n",
      "- TotalCharges                            1   4135.0 4185.0\n",
      "- PhoneService                            1   4135.3 4185.3\n",
      "- StreamingMovies                         1   4135.3 4185.3\n",
      "- Dependents                              1   4135.4 4185.4\n",
      "- Partner                                 1   4135.9 4185.9\n",
      "<none>                                        4133.9 4185.9\n",
      "- PaymentMethod.xMailed.check             1   4136.1 4186.1\n",
      "- DeviceProtection                        1   4136.2 4186.2\n",
      "- StreamingTV                             1   4136.9 4186.9\n",
      "+ PaymentMethod.xCredit.card..automatic.  1   4133.8 4187.8\n",
      "+ MultipleLines                           1   4133.9 4187.9\n",
      "+ tenure_bin.x3.4.y                       1   4133.9 4187.9\n",
      "- tenure_bin.x5.6.y                       1   4138.1 4188.1\n",
      "- SeniorCitizen                           1   4139.7 4189.7\n",
      "- MonthlyCharges                          1   4141.2 4191.2\n",
      "- TechSupport                             1   4145.0 4195.0\n",
      "- OnlineBackup                            1   4146.0 4196.0\n",
      "- tenure_bin.x1.2.y                       1   4146.9 4196.9\n",
      "- PaperlessBilling                        1   4147.0 4197.0\n",
      "- PaymentMethod.xElectronic.check         1   4156.2 4206.2\n",
      "- tenure                                  1   4165.2 4215.2\n",
      "- OnlineSecurity                          1   4167.4 4217.4\n",
      "- InternetService.xNo                     1   4189.8 4239.8\n",
      "- InternetService.xFiber.optic            1   4197.1 4247.1\n",
      "- Contract.xOne.year                      1   4223.8 4273.8\n",
      "- Contract.xTwo.year                      1   4287.5 4337.5\n",
      "\n",
      "Step:  AIC=4184.05\n",
      "Churn ~ tenure + MonthlyCharges + TotalCharges + gender + SeniorCitizen + \n",
      "    Partner + Dependents + PhoneService + InternetService.xFiber.optic + \n",
      "    InternetService.xNo + OnlineSecurity + OnlineBackup + DeviceProtection + \n",
      "    TechSupport + StreamingTV + StreamingMovies + Contract.xOne.year + \n",
      "    Contract.xTwo.year + PaperlessBilling + PaymentMethod.xElectronic.check + \n",
      "    PaymentMethod.xMailed.check + tenure_bin.x1.2.y + tenure_bin.x2.3.y + \n",
      "    tenure_bin.x5.6.y\n",
      "\n",
      "                                         Df Deviance    AIC\n",
      "- gender                                  1   4134.3 4182.3\n",
      "- tenure_bin.x2.3.y                       1   4134.8 4182.8\n",
      "- TotalCharges                            1   4135.2 4183.2\n",
      "- PhoneService                            1   4135.5 4183.5\n",
      "- StreamingMovies                         1   4135.5 4183.5\n",
      "- Dependents                              1   4135.5 4183.5\n",
      "- Partner                                 1   4136.0 4184.0\n",
      "<none>                                        4134.1 4184.1\n",
      "- PaymentMethod.xMailed.check             1   4136.3 4184.3\n",
      "- DeviceProtection                        1   4136.4 4184.4\n",
      "- StreamingTV                             1   4137.1 4185.1\n",
      "+ tenure_bin.x4.5.y                       1   4133.9 4185.9\n",
      "+ tenure_bin.x3.4.y                       1   4134.0 4186.0\n",
      "+ PaymentMethod.xCredit.card..automatic.  1   4134.0 4186.0\n",
      "+ MultipleLines                           1   4134.0 4186.0\n",
      "- tenure_bin.x5.6.y                       1   4139.7 4187.7\n",
      "- SeniorCitizen                           1   4139.8 4187.8\n",
      "- MonthlyCharges                          1   4141.3 4189.3\n",
      "- TechSupport                             1   4145.1 4193.1\n",
      "- OnlineBackup                            1   4146.1 4194.1\n",
      "- PaperlessBilling                        1   4147.2 4195.2\n",
      "- tenure_bin.x1.2.y                       1   4148.5 4196.5\n",
      "- PaymentMethod.xElectronic.check         1   4156.5 4204.5\n",
      "- OnlineSecurity                          1   4167.6 4215.6\n",
      "- tenure                                  1   4184.2 4232.2\n",
      "- InternetService.xNo                     1   4189.9 4237.9\n",
      "- InternetService.xFiber.optic            1   4197.2 4245.2\n",
      "- Contract.xOne.year                      1   4223.8 4271.8\n",
      "- Contract.xTwo.year                      1   4287.5 4335.5\n",
      "\n",
      "Step:  AIC=4182.26\n",
      "Churn ~ tenure + MonthlyCharges + TotalCharges + SeniorCitizen + \n",
      "    Partner + Dependents + PhoneService + InternetService.xFiber.optic + \n",
      "    InternetService.xNo + OnlineSecurity + OnlineBackup + DeviceProtection + \n",
      "    TechSupport + StreamingTV + StreamingMovies + Contract.xOne.year + \n",
      "    Contract.xTwo.year + PaperlessBilling + PaymentMethod.xElectronic.check + \n",
      "    PaymentMethod.xMailed.check + tenure_bin.x1.2.y + tenure_bin.x2.3.y + \n",
      "    tenure_bin.x5.6.y\n",
      "\n",
      "                                         Df Deviance    AIC\n",
      "- tenure_bin.x2.3.y                       1   4135.0 4181.0\n",
      "- TotalCharges                            1   4135.4 4181.4\n",
      "- PhoneService                            1   4135.7 4181.7\n",
      "- StreamingMovies                         1   4135.7 4181.7\n",
      "- Dependents                              1   4135.7 4181.7\n",
      "- Partner                                 1   4136.2 4182.2\n",
      "<none>                                        4134.3 4182.3\n",
      "- PaymentMethod.xMailed.check             1   4136.4 4182.4\n",
      "- DeviceProtection                        1   4136.6 4182.6\n",
      "- StreamingTV                             1   4137.3 4183.3\n",
      "+ gender                                  1   4134.1 4184.1\n",
      "+ tenure_bin.x4.5.y                       1   4134.1 4184.1\n",
      "+ tenure_bin.x3.4.y                       1   4134.2 4184.2\n",
      "+ PaymentMethod.xCredit.card..automatic.  1   4134.2 4184.2\n",
      "+ MultipleLines                           1   4134.2 4184.2\n",
      "- tenure_bin.x5.6.y                       1   4139.9 4185.9\n",
      "- SeniorCitizen                           1   4140.1 4186.1\n",
      "- MonthlyCharges                          1   4141.6 4187.6\n",
      "- TechSupport                             1   4145.3 4191.3\n",
      "- OnlineBackup                            1   4146.3 4192.3\n",
      "- PaperlessBilling                        1   4147.4 4193.4\n",
      "- tenure_bin.x1.2.y                       1   4148.7 4194.7\n",
      "- PaymentMethod.xElectronic.check         1   4156.6 4202.6\n",
      "- OnlineSecurity                          1   4167.7 4213.7\n",
      "- tenure                                  1   4184.4 4230.4\n",
      "- InternetService.xNo                     1   4190.1 4236.1\n",
      "- InternetService.xFiber.optic            1   4197.7 4243.7\n",
      "- Contract.xOne.year                      1   4224.1 4270.1\n",
      "- Contract.xTwo.year                      1   4287.7 4333.7\n",
      "\n",
      "Step:  AIC=4181.05\n",
      "Churn ~ tenure + MonthlyCharges + TotalCharges + SeniorCitizen + \n",
      "    Partner + Dependents + PhoneService + InternetService.xFiber.optic + \n",
      "    InternetService.xNo + OnlineSecurity + OnlineBackup + DeviceProtection + \n",
      "    TechSupport + StreamingTV + StreamingMovies + Contract.xOne.year + \n",
      "    Contract.xTwo.year + PaperlessBilling + PaymentMethod.xElectronic.check + \n",
      "    PaymentMethod.xMailed.check + tenure_bin.x1.2.y + tenure_bin.x5.6.y\n",
      "\n",
      "                                         Df Deviance    AIC\n",
      "- PhoneService                            1   4136.5 4180.5\n",
      "- StreamingMovies                         1   4136.5 4180.5\n",
      "- TotalCharges                            1   4136.5 4180.5\n",
      "- Dependents                              1   4136.6 4180.6\n",
      "- Partner                                 1   4137.0 4181.0\n",
      "<none>                                        4135.0 4181.0\n",
      "- PaymentMethod.xMailed.check             1   4137.3 4181.3\n",
      "- DeviceProtection                        1   4137.4 4181.4\n",
      "- StreamingTV                             1   4138.0 4182.0\n",
      "+ tenure_bin.x2.3.y                       1   4134.3 4182.3\n",
      "+ tenure_bin.x4.5.y                       1   4134.5 4182.5\n",
      "+ gender                                  1   4134.8 4182.8\n",
      "+ PaymentMethod.xCredit.card..automatic.  1   4135.0 4183.0\n",
      "+ MultipleLines                           1   4135.0 4183.0\n",
      "+ tenure_bin.x3.4.y                       1   4135.0 4183.0\n",
      "- SeniorCitizen                           1   4140.7 4184.7\n",
      "- tenure_bin.x5.6.y                       1   4142.2 4186.2\n",
      "- MonthlyCharges                          1   4142.4 4186.4\n",
      "- TechSupport                             1   4146.3 4190.3\n",
      "- OnlineBackup                            1   4146.9 4190.9\n",
      "- PaperlessBilling                        1   4148.2 4192.2\n",
      "- tenure_bin.x1.2.y                       1   4148.7 4192.7\n",
      "- PaymentMethod.xElectronic.check         1   4157.3 4201.3\n",
      "- OnlineSecurity                          1   4168.4 4212.4\n",
      "- tenure                                  1   4189.2 4233.2\n",
      "- InternetService.xNo                     1   4190.8 4234.8\n",
      "- InternetService.xFiber.optic            1   4198.2 4242.2\n",
      "- Contract.xOne.year                      1   4225.0 4269.0\n",
      "- Contract.xTwo.year                      1   4288.1 4332.1\n",
      "\n",
      "Step:  AIC=4180.47\n",
      "Churn ~ tenure + MonthlyCharges + TotalCharges + SeniorCitizen + \n",
      "    Partner + Dependents + InternetService.xFiber.optic + InternetService.xNo + \n",
      "    OnlineSecurity + OnlineBackup + DeviceProtection + TechSupport + \n",
      "    StreamingTV + StreamingMovies + Contract.xOne.year + Contract.xTwo.year + \n",
      "    PaperlessBilling + PaymentMethod.xElectronic.check + PaymentMethod.xMailed.check + \n",
      "    tenure_bin.x1.2.y + tenure_bin.x5.6.y\n",
      "\n",
      "                                         Df Deviance    AIC\n",
      "- TotalCharges                            1   4137.8 4179.8\n",
      "- StreamingMovies                         1   4138.0 4180.0\n",
      "- Dependents                              1   4138.1 4180.1\n",
      "- Partner                                 1   4138.4 4180.4\n",
      "<none>                                        4136.5 4180.5\n",
      "- PaymentMethod.xMailed.check             1   4138.6 4180.6\n",
      "- DeviceProtection                        1   4138.9 4180.9\n",
      "+ PhoneService                            1   4135.0 4181.0\n",
      "- StreamingTV                             1   4139.5 4181.5\n",
      "+ tenure_bin.x2.3.y                       1   4135.7 4181.7\n",
      "+ tenure_bin.x4.5.y                       1   4136.0 4182.0\n",
      "+ gender                                  1   4136.2 4182.2\n",
      "+ PaymentMethod.xCredit.card..automatic.  1   4136.4 4182.4\n",
      "+ MultipleLines                           1   4136.5 4182.5\n",
      "+ tenure_bin.x3.4.y                       1   4136.5 4182.5\n",
      "- SeniorCitizen                           1   4142.4 4184.4\n",
      "- tenure_bin.x5.6.y                       1   4143.4 4185.4\n",
      "- MonthlyCharges                          1   4145.2 4187.2\n",
      "- TechSupport                             1   4148.0 4190.0\n",
      "- OnlineBackup                            1   4148.4 4190.4\n",
      "- PaperlessBilling                        1   4149.9 4191.9\n",
      "- tenure_bin.x1.2.y                       1   4150.0 4192.0\n",
      "- PaymentMethod.xElectronic.check         1   4159.2 4201.2\n",
      "- OnlineSecurity                          1   4170.6 4212.6\n",
      "- tenure                                  1   4189.8 4231.8\n",
      "- InternetService.xFiber.optic            1   4204.3 4246.3\n",
      "- InternetService.xNo                     1   4205.7 4247.7\n",
      "- Contract.xOne.year                      1   4227.1 4269.1\n",
      "- Contract.xTwo.year                      1   4289.6 4331.6\n",
      "\n",
      "Step:  AIC=4179.82\n",
      "Churn ~ tenure + MonthlyCharges + SeniorCitizen + Partner + Dependents + \n",
      "    InternetService.xFiber.optic + InternetService.xNo + OnlineSecurity + \n",
      "    OnlineBackup + DeviceProtection + TechSupport + StreamingTV + \n",
      "    StreamingMovies + Contract.xOne.year + Contract.xTwo.year + \n",
      "    PaperlessBilling + PaymentMethod.xElectronic.check + PaymentMethod.xMailed.check + \n",
      "    tenure_bin.x1.2.y + tenure_bin.x5.6.y\n",
      "\n",
      "                                         Df Deviance    AIC\n",
      "- Dependents                              1   4139.4 4179.4\n",
      "- StreamingMovies                         1   4139.5 4179.5\n",
      "- Partner                                 1   4139.7 4179.7\n",
      "<none>                                        4137.8 4179.8\n",
      "- PaymentMethod.xMailed.check             1   4140.0 4180.0\n",
      "- DeviceProtection                        1   4140.3 4180.3\n",
      "+ TotalCharges                            1   4136.5 4180.5\n",
      "+ PhoneService                            1   4136.5 4180.5\n",
      "+ tenure_bin.x2.3.y                       1   4136.7 4180.7\n",
      "- StreamingTV                             1   4140.9 4180.9\n",
      "+ tenure_bin.x4.5.y                       1   4137.1 4181.1\n",
      "+ gender                                  1   4137.6 4181.6\n",
      "+ PaymentMethod.xCredit.card..automatic.  1   4137.8 4181.8\n",
      "+ MultipleLines                           1   4137.8 4181.8\n",
      "+ tenure_bin.x3.4.y                       1   4137.8 4181.8\n",
      "- SeniorCitizen                           1   4143.7 4183.7\n",
      "- tenure_bin.x5.6.y                       1   4146.1 4186.1\n",
      "- MonthlyCharges                          1   4147.4 4187.4\n",
      "- TechSupport                             1   4149.5 4189.5\n",
      "- OnlineBackup                            1   4149.9 4189.9\n",
      "- PaperlessBilling                        1   4151.4 4191.4\n",
      "- tenure_bin.x1.2.y                       1   4154.4 4194.4\n",
      "- PaymentMethod.xElectronic.check         1   4161.0 4201.0\n",
      "- OnlineSecurity                          1   4172.4 4212.4\n",
      "- tenure                                  1   4191.4 4231.4\n",
      "- InternetService.xFiber.optic            1   4207.7 4247.7\n",
      "- InternetService.xNo                     1   4209.9 4249.9\n",
      "- Contract.xOne.year                      1   4227.3 4267.3\n",
      "- Contract.xTwo.year                      1   4289.7 4329.7\n",
      "\n",
      "Step:  AIC=4179.4\n",
      "Churn ~ tenure + MonthlyCharges + SeniorCitizen + Partner + InternetService.xFiber.optic + \n",
      "    InternetService.xNo + OnlineSecurity + OnlineBackup + DeviceProtection + \n",
      "    TechSupport + StreamingTV + StreamingMovies + Contract.xOne.year + \n",
      "    Contract.xTwo.year + PaperlessBilling + PaymentMethod.xElectronic.check + \n",
      "    PaymentMethod.xMailed.check + tenure_bin.x1.2.y + tenure_bin.x5.6.y\n",
      "\n",
      "                                         Df Deviance    AIC\n",
      "- StreamingMovies                         1   4141.1 4179.1\n",
      "<none>                                        4139.4 4179.4\n",
      "- PaymentMethod.xMailed.check             1   4141.5 4179.5\n",
      "+ Dependents                              1   4137.8 4179.8\n",
      "- DeviceProtection                        1   4141.9 4179.9\n",
      "+ TotalCharges                            1   4138.1 4180.1\n",
      "+ PhoneService                            1   4138.1 4180.1\n",
      "+ tenure_bin.x2.3.y                       1   4138.2 4180.2\n",
      "- StreamingTV                             1   4142.4 4180.4\n",
      "+ tenure_bin.x4.5.y                       1   4138.6 4180.6\n",
      "+ gender                                  1   4139.2 4181.2\n",
      "+ PaymentMethod.xCredit.card..automatic.  1   4139.3 4181.3\n",
      "+ MultipleLines                           1   4139.4 4181.4\n",
      "+ tenure_bin.x3.4.y                       1   4139.4 4181.4\n",
      "- Partner                                 1   4143.9 4181.9\n",
      "- SeniorCitizen                           1   4146.7 4184.7\n",
      "- tenure_bin.x5.6.y                       1   4147.6 4185.6\n",
      "- MonthlyCharges                          1   4149.4 4187.4\n",
      "- TechSupport                             1   4151.3 4189.3\n",
      "- OnlineBackup                            1   4151.7 4189.7\n",
      "- PaperlessBilling                        1   4153.3 4191.3\n",
      "- tenure_bin.x1.2.y                       1   4156.0 4194.0\n",
      "- PaymentMethod.xElectronic.check         1   4162.7 4200.7\n",
      "- OnlineSecurity                          1   4174.0 4212.0\n",
      "- tenure                                  1   4192.6 4230.6\n",
      "- InternetService.xFiber.optic            1   4211.0 4249.0\n",
      "- InternetService.xNo                     1   4212.4 4250.4\n",
      "- Contract.xOne.year                      1   4229.7 4267.7\n",
      "- Contract.xTwo.year                      1   4293.0 4331.0\n",
      "\n",
      "Step:  AIC=4179.12\n",
      "Churn ~ tenure + MonthlyCharges + SeniorCitizen + Partner + InternetService.xFiber.optic + \n",
      "    InternetService.xNo + OnlineSecurity + OnlineBackup + DeviceProtection + \n",
      "    TechSupport + StreamingTV + Contract.xOne.year + Contract.xTwo.year + \n",
      "    PaperlessBilling + PaymentMethod.xElectronic.check + PaymentMethod.xMailed.check + \n",
      "    tenure_bin.x1.2.y + tenure_bin.x5.6.y\n",
      "\n",
      "                                         Df Deviance    AIC\n",
      "- PaymentMethod.xMailed.check             1   4143.1 4179.1\n",
      "<none>                                        4141.1 4179.1\n",
      "- DeviceProtection                        1   4143.2 4179.2\n",
      "+ StreamingMovies                         1   4139.4 4179.4\n",
      "+ Dependents                              1   4139.5 4179.5\n",
      "+ TotalCharges                            1   4139.7 4179.7\n",
      "+ PhoneService                            1   4139.7 4179.7\n",
      "+ tenure_bin.x2.3.y                       1   4139.9 4179.9\n",
      "+ tenure_bin.x4.5.y                       1   4140.2 4180.2\n",
      "+ gender                                  1   4140.9 4180.9\n",
      "+ PaymentMethod.xCredit.card..automatic.  1   4141.1 4181.1\n",
      "+ MultipleLines                           1   4141.1 4181.1\n",
      "+ tenure_bin.x3.4.y                       1   4141.1 4181.1\n",
      "- Partner                                 1   4145.6 4181.6\n",
      "- StreamingTV                             1   4146.2 4182.2\n",
      "- SeniorCitizen                           1   4148.7 4184.7\n",
      "- tenure_bin.x5.6.y                       1   4149.2 4185.2\n",
      "- MonthlyCharges                          1   4151.8 4187.8\n",
      "- TechSupport                             1   4152.7 4188.7\n",
      "- OnlineBackup                            1   4153.5 4189.5\n",
      "- PaperlessBilling                        1   4155.4 4191.4\n",
      "- tenure_bin.x1.2.y                       1   4157.5 4193.5\n",
      "- PaymentMethod.xElectronic.check         1   4165.0 4201.0\n",
      "- OnlineSecurity                          1   4176.1 4212.1\n",
      "- tenure                                  1   4193.5 4229.5\n",
      "- InternetService.xFiber.optic            1   4216.9 4252.9\n",
      "- InternetService.xNo                     1   4217.2 4253.2\n",
      "- Contract.xOne.year                      1   4230.0 4266.0\n",
      "- Contract.xTwo.year                      1   4293.1 4329.1\n",
      "\n",
      "Step:  AIC=4179.06\n",
      "Churn ~ tenure + MonthlyCharges + SeniorCitizen + Partner + InternetService.xFiber.optic + \n",
      "    InternetService.xNo + OnlineSecurity + OnlineBackup + DeviceProtection + \n",
      "    TechSupport + StreamingTV + Contract.xOne.year + Contract.xTwo.year + \n",
      "    PaperlessBilling + PaymentMethod.xElectronic.check + tenure_bin.x1.2.y + \n",
      "    tenure_bin.x5.6.y\n",
      "\n",
      "                                         Df Deviance    AIC\n",
      "<none>                                        4143.1 4179.1\n",
      "+ PaymentMethod.xMailed.check             1   4141.1 4179.1\n",
      "- DeviceProtection                        1   4145.3 4179.3\n",
      "+ Dependents                              1   4141.5 4179.5\n",
      "+ StreamingMovies                         1   4141.5 4179.5\n",
      "+ TotalCharges                            1   4141.5 4179.5\n",
      "+ tenure_bin.x2.3.y                       1   4141.7 4179.7\n",
      "+ PhoneService                            1   4141.8 4179.8\n",
      "+ tenure_bin.x4.5.y                       1   4142.0 4180.0\n",
      "+ PaymentMethod.xCredit.card..automatic.  1   4142.3 4180.3\n",
      "+ gender                                  1   4142.9 4180.9\n",
      "+ MultipleLines                           1   4143.0 4181.0\n",
      "+ tenure_bin.x3.4.y                       1   4143.1 4181.1\n",
      "- Partner                                 1   4147.9 4181.9\n",
      "- StreamingTV                             1   4148.0 4182.0\n",
      "- SeniorCitizen                           1   4150.4 4184.4\n",
      "- tenure_bin.x5.6.y                       1   4151.5 4185.5\n",
      "- MonthlyCharges                          1   4154.1 4188.1\n",
      "- TechSupport                             1   4154.5 4188.5\n",
      "- OnlineBackup                            1   4155.9 4189.9\n",
      "- PaperlessBilling                        1   4156.7 4190.7\n",
      "- tenure_bin.x1.2.y                       1   4159.7 4193.7\n",
      "- PaymentMethod.xElectronic.check         1   4165.5 4199.5\n",
      "- OnlineSecurity                          1   4178.2 4212.2\n",
      "- tenure                                  1   4198.3 4232.3\n",
      "- InternetService.xFiber.optic            1   4217.2 4251.2\n",
      "- InternetService.xNo                     1   4217.3 4251.3\n",
      "- Contract.xOne.year                      1   4234.2 4268.2\n",
      "- Contract.xTwo.year                      1   4298.8 4332.8\n"
     ]
    }
   ],
   "source": [
    "modelo_2 <- stepAIC(modelo_1, direction=\"both\")"
   ]
  },
  {
   "cell_type": "code",
   "execution_count": 50,
   "metadata": {
    "scrolled": true
   },
   "outputs": [
    {
     "data": {
      "text/plain": [
       "\n",
       "Call:\n",
       "glm(formula = Churn ~ tenure + MonthlyCharges + SeniorCitizen + \n",
       "    Partner + InternetService.xFiber.optic + InternetService.xNo + \n",
       "    OnlineSecurity + OnlineBackup + DeviceProtection + TechSupport + \n",
       "    StreamingTV + Contract.xOne.year + Contract.xTwo.year + PaperlessBilling + \n",
       "    PaymentMethod.xElectronic.check + tenure_bin.x1.2.y + tenure_bin.x5.6.y, \n",
       "    family = \"binomial\", data = train)\n",
       "\n",
       "Deviance Residuals: \n",
       "    Min       1Q   Median       3Q      Max  \n",
       "-1.8219  -0.6956  -0.2849   0.7291   3.1348  \n",
       "\n",
       "Coefficients:\n",
       "                                Estimate Std. Error z value Pr(>|z|)    \n",
       "(Intercept)                     -0.91679    0.12132  -7.557 4.12e-14 ***\n",
       "tenure                          -0.44998    0.06135  -7.334 2.23e-13 ***\n",
       "MonthlyCharges                  -0.14712    0.04436  -3.317 0.000911 ***\n",
       "SeniorCitizen                    0.26322    0.09668   2.723 0.006479 ** \n",
       "Partner                         -0.18114    0.08198  -2.210 0.027129 *  \n",
       "InternetService.xFiber.optic     0.82229    0.09690   8.486  < 2e-16 ***\n",
       "InternetService.xNo             -1.35302    0.16334  -8.284  < 2e-16 ***\n",
       "OnlineSecurity                  -0.58351    0.09967  -5.854 4.79e-09 ***\n",
       "OnlineBackup                    -0.31562    0.08829  -3.575 0.000351 ***\n",
       "DeviceProtection                -0.13699    0.09191  -1.490 0.136116    \n",
       "TechSupport                     -0.33836    0.10030  -3.374 0.000742 ***\n",
       "StreamingTV                      0.19958    0.08993   2.219 0.026462 *  \n",
       "Contract.xOne.year              -1.09534    0.12069  -9.076  < 2e-16 ***\n",
       "Contract.xTwo.year              -2.26453    0.21843 -10.367  < 2e-16 ***\n",
       "PaperlessBilling                 0.32478    0.08809   3.687 0.000227 ***\n",
       "PaymentMethod.xElectronic.check  0.38789    0.08160   4.754 2.00e-06 ***\n",
       "tenure_bin.x1.2.y               -0.42498    0.10530  -4.036 5.44e-05 ***\n",
       "tenure_bin.x5.6.y                0.46094    0.15838   2.910 0.003611 ** \n",
       "---\n",
       "Signif. codes:  0 '***' 0.001 '**' 0.01 '*' 0.05 '.' 0.1 ' ' 1\n",
       "\n",
       "(Dispersion parameter for binomial family taken to be 1)\n",
       "\n",
       "    Null deviance: 5699.5  on 4921  degrees of freedom\n",
       "Residual deviance: 4143.1  on 4904  degrees of freedom\n",
       "AIC: 4179.1\n",
       "\n",
       "Number of Fisher Scoring iterations: 6\n"
      ]
     },
     "metadata": {},
     "output_type": "display_data"
    }
   ],
   "source": [
    "summary(modelo_2)"
   ]
  },
  {
   "cell_type": "code",
   "execution_count": 47,
   "metadata": {},
   "outputs": [],
   "source": [
    "modelo_3 <- glm(formula = Churn ~ tenure + MonthlyCharges + SeniorCitizen + \n",
    "    Partner + InternetService.xFiber.optic + InternetService.xNo + \n",
    "    OnlineSecurity + OnlineBackup + TechSupport + \n",
    "    StreamingTV + Contract.xOne.year + Contract.xTwo.year + PaperlessBilling + \n",
    "    PaymentMethod.xElectronic.check + tenure_bin.x1.2.y + tenure_bin.x5.6.y, \n",
    "    family = \"binomial\", data = train)"
   ]
  },
  {
   "cell_type": "code",
   "execution_count": 48,
   "metadata": {},
   "outputs": [
    {
     "data": {
      "text/plain": [
       "\n",
       "Call:\n",
       "glm(formula = Churn ~ tenure + MonthlyCharges + SeniorCitizen + \n",
       "    Partner + InternetService.xFiber.optic + InternetService.xNo + \n",
       "    OnlineSecurity + OnlineBackup + TechSupport + StreamingTV + \n",
       "    Contract.xOne.year + Contract.xTwo.year + PaperlessBilling + \n",
       "    PaymentMethod.xElectronic.check + tenure_bin.x1.2.y + tenure_bin.x5.6.y, \n",
       "    family = \"binomial\", data = train)\n",
       "\n",
       "Deviance Residuals: \n",
       "    Min       1Q   Median       3Q      Max  \n",
       "-1.8111  -0.6925  -0.2818   0.7279   3.1608  \n",
       "\n",
       "Coefficients:\n",
       "                                Estimate Std. Error z value Pr(>|z|)    \n",
       "(Intercept)                     -0.94369    0.12007  -7.860 3.85e-15 ***\n",
       "tenure                          -0.45697    0.06119  -7.468 8.15e-14 ***\n",
       "MonthlyCharges                  -0.13809    0.04393  -3.143 0.001670 ** \n",
       "SeniorCitizen                    0.26205    0.09660   2.713 0.006674 ** \n",
       "Partner                         -0.18773    0.08185  -2.294 0.021804 *  \n",
       "InternetService.xFiber.optic     0.80791    0.09627   8.392  < 2e-16 ***\n",
       "InternetService.xNo             -1.31592    0.16149  -8.149 3.67e-16 ***\n",
       "OnlineSecurity                  -0.58230    0.09962  -5.845 5.06e-09 ***\n",
       "OnlineBackup                    -0.31788    0.08825  -3.602 0.000316 ***\n",
       "TechSupport                     -0.34940    0.10002  -3.493 0.000477 ***\n",
       "StreamingTV                      0.17858    0.08870   2.013 0.044085 *  \n",
       "Contract.xOne.year              -1.11807    0.11980  -9.333  < 2e-16 ***\n",
       "Contract.xTwo.year              -2.29697    0.21749 -10.561  < 2e-16 ***\n",
       "PaperlessBilling                 0.32567    0.08804   3.699 0.000216 ***\n",
       "PaymentMethod.xElectronic.check  0.39051    0.08154   4.789 1.67e-06 ***\n",
       "tenure_bin.x1.2.y               -0.42397    0.10524  -4.028 5.61e-05 ***\n",
       "tenure_bin.x5.6.y                0.47315    0.15823   2.990 0.002788 ** \n",
       "---\n",
       "Signif. codes:  0 '***' 0.001 '**' 0.01 '*' 0.05 '.' 0.1 ' ' 1\n",
       "\n",
       "(Dispersion parameter for binomial family taken to be 1)\n",
       "\n",
       "    Null deviance: 5699.5  on 4921  degrees of freedom\n",
       "Residual deviance: 4145.3  on 4905  degrees of freedom\n",
       "AIC: 4179.3\n",
       "\n",
       "Number of Fisher Scoring iterations: 6\n"
      ]
     },
     "metadata": {},
     "output_type": "display_data"
    }
   ],
   "source": [
    "summary(modelo_3)"
   ]
  },
  {
   "cell_type": "code",
   "execution_count": 49,
   "metadata": {},
   "outputs": [
    {
     "data": {
      "text/html": [
       "3.73513628255982e-321"
      ],
      "text/latex": [
       "3.73513628255982e-321"
      ],
      "text/markdown": [
       "3.73513628255982e-321"
      ],
      "text/plain": [
       "[1] 3.735136e-321"
      ]
     },
     "metadata": {},
     "output_type": "display_data"
    }
   ],
   "source": [
    "pchisq(5699.5-4143.1, df=4921-4904, lower.tail=FALSE)"
   ]
  },
  {
   "cell_type": "markdown",
   "metadata": {},
   "source": [
    "Podemos utilizar el factor de inflación de la varianza (vif) para eliminar los predictores redundantes o las variables que tienen una alta multicolinealidad entre ellos. La multicolinealidad existe cuando dos o más variables predictoras están muy relacionadas entre sí y luego se vuelve difícil entender el impacto de una variable independiente sobre la variable dependiente.\n",
    "\n",
    "El factor de inflación de la varianza (VIF) se utiliza para medir la multicolinealidad entre las variables predictoras en un modelo. Un predictor que tiene un VIF de 2 o menos generalmente se considera seguro y se puede suponer que no está correlacionado con otras variables predictoras. Cuanto mayor sea el VIF, mayor es la correlación de la variable predictora con otras variables predictoras. Sin embargo, los predictores con un VIF alto pueden tener un valor p alto (o muy significativo), por lo tanto, necesitamos ver la importancia de la variable predictora antes de eliminarla de nuestro modelo."
   ]
  },
  {
   "cell_type": "code",
   "execution_count": 53,
   "metadata": {
    "scrolled": true
   },
   "outputs": [
    {
     "data": {
      "text/html": [
       "<dl class=dl-horizontal>\n",
       "\t<dt>tenure</dt>\n",
       "\t\t<dd>2.29228970280558</dd>\n",
       "\t<dt>MonthlyCharges</dt>\n",
       "\t\t<dd>1.39465826335468</dd>\n",
       "\t<dt>SeniorCitizen</dt>\n",
       "\t\t<dd>1.07563475043404</dd>\n",
       "\t<dt>Partner</dt>\n",
       "\t\t<dd>1.08797807937073</dd>\n",
       "\t<dt>InternetService.xFiber.optic</dt>\n",
       "\t\t<dd>1.53835127583642</dd>\n",
       "\t<dt>InternetService.xNo</dt>\n",
       "\t\t<dd>1.54710726681525</dd>\n",
       "\t<dt>OnlineSecurity</dt>\n",
       "\t\t<dd>1.08708760637848</dd>\n",
       "\t<dt>OnlineBackup</dt>\n",
       "\t\t<dd>1.15166778117964</dd>\n",
       "\t<dt>DeviceProtection</dt>\n",
       "\t\t<dd>1.24201241983445</dd>\n",
       "\t<dt>TechSupport</dt>\n",
       "\t\t<dd>1.15251088348807</dd>\n",
       "\t<dt>StreamingTV</dt>\n",
       "\t\t<dd>1.32608160773176</dd>\n",
       "\t<dt>Contract.xOne.year</dt>\n",
       "\t\t<dd>1.22288808891711</dd>\n",
       "\t<dt>Contract.xTwo.year</dt>\n",
       "\t\t<dd>1.22343486844349</dd>\n",
       "\t<dt>PaperlessBilling</dt>\n",
       "\t\t<dd>1.11180170473941</dd>\n",
       "\t<dt>PaymentMethod.xElectronic.check</dt>\n",
       "\t\t<dd>1.12912447291749</dd>\n",
       "\t<dt>tenure_bin.x1.2.y</dt>\n",
       "\t\t<dd>1.05206002032286</dd>\n",
       "\t<dt>tenure_bin.x5.6.y</dt>\n",
       "\t\t<dd>2.00794343067723</dd>\n",
       "</dl>\n"
      ],
      "text/latex": [
       "\\begin{description*}\n",
       "\\item[tenure] 2.29228970280558\n",
       "\\item[MonthlyCharges] 1.39465826335468\n",
       "\\item[SeniorCitizen] 1.07563475043404\n",
       "\\item[Partner] 1.08797807937073\n",
       "\\item[InternetService.xFiber.optic] 1.53835127583642\n",
       "\\item[InternetService.xNo] 1.54710726681525\n",
       "\\item[OnlineSecurity] 1.08708760637848\n",
       "\\item[OnlineBackup] 1.15166778117964\n",
       "\\item[DeviceProtection] 1.24201241983445\n",
       "\\item[TechSupport] 1.15251088348807\n",
       "\\item[StreamingTV] 1.32608160773176\n",
       "\\item[Contract.xOne.year] 1.22288808891711\n",
       "\\item[Contract.xTwo.year] 1.22343486844349\n",
       "\\item[PaperlessBilling] 1.11180170473941\n",
       "\\item[PaymentMethod.xElectronic.check] 1.12912447291749\n",
       "\\item[tenure\\textbackslash{}\\_bin.x1.2.y] 1.05206002032286\n",
       "\\item[tenure\\textbackslash{}\\_bin.x5.6.y] 2.00794343067723\n",
       "\\end{description*}\n"
      ],
      "text/markdown": [
       "tenure\n",
       ":   2.29228970280558MonthlyCharges\n",
       ":   1.39465826335468SeniorCitizen\n",
       ":   1.07563475043404Partner\n",
       ":   1.08797807937073InternetService.xFiber.optic\n",
       ":   1.53835127583642InternetService.xNo\n",
       ":   1.54710726681525OnlineSecurity\n",
       ":   1.08708760637848OnlineBackup\n",
       ":   1.15166778117964DeviceProtection\n",
       ":   1.24201241983445TechSupport\n",
       ":   1.15251088348807StreamingTV\n",
       ":   1.32608160773176Contract.xOne.year\n",
       ":   1.22288808891711Contract.xTwo.year\n",
       ":   1.22343486844349PaperlessBilling\n",
       ":   1.11180170473941PaymentMethod.xElectronic.check\n",
       ":   1.12912447291749tenure_bin.x1.2.y\n",
       ":   1.05206002032286tenure_bin.x5.6.y\n",
       ":   2.00794343067723\n",
       "\n"
      ],
      "text/plain": [
       "                         tenure                  MonthlyCharges \n",
       "                       2.292290                        1.394658 \n",
       "                  SeniorCitizen                         Partner \n",
       "                       1.075635                        1.087978 \n",
       "   InternetService.xFiber.optic             InternetService.xNo \n",
       "                       1.538351                        1.547107 \n",
       "                 OnlineSecurity                    OnlineBackup \n",
       "                       1.087088                        1.151668 \n",
       "               DeviceProtection                     TechSupport \n",
       "                       1.242012                        1.152511 \n",
       "                    StreamingTV              Contract.xOne.year \n",
       "                       1.326082                        1.222888 \n",
       "             Contract.xTwo.year                PaperlessBilling \n",
       "                       1.223435                        1.111802 \n",
       "PaymentMethod.xElectronic.check               tenure_bin.x1.2.y \n",
       "                       1.129124                        1.052060 \n",
       "              tenure_bin.x5.6.y \n",
       "                       2.007943 "
      ]
     },
     "metadata": {},
     "output_type": "display_data"
    }
   ],
   "source": [
    "vif(modelo_2)"
   ]
  },
  {
   "cell_type": "code",
   "execution_count": 54,
   "metadata": {},
   "outputs": [
    {
     "data": {
      "text/plain": [
       "\n",
       "Call:\n",
       "glm(formula = Churn ~ tenure + MonthlyCharges + SeniorCitizen + \n",
       "    Partner + InternetService.xFiber.optic + InternetService.xNo + \n",
       "    OnlineSecurity + OnlineBackup + TechSupport + StreamingTV + \n",
       "    Contract.xOne.year + Contract.xTwo.year + PaperlessBilling + \n",
       "    PaymentMethod.xElectronic.check, family = \"binomial\", data = train)\n",
       "\n",
       "Deviance Residuals: \n",
       "    Min       1Q   Median       3Q      Max  \n",
       "-1.7429  -0.6980  -0.2906   0.7784   3.1119  \n",
       "\n",
       "Coefficients:\n",
       "                                Estimate Std. Error z value Pr(>|z|)    \n",
       "(Intercept)                     -0.88125    0.11173  -7.887 3.09e-15 ***\n",
       "tenure                          -0.30512    0.04587  -6.652 2.89e-11 ***\n",
       "MonthlyCharges                  -0.15339    0.04394  -3.490 0.000482 ***\n",
       "SeniorCitizen                    0.26461    0.09636   2.746 0.006030 ** \n",
       "Partner                         -0.21543    0.08124  -2.652 0.008005 ** \n",
       "InternetService.xFiber.optic     0.80130    0.09589   8.357  < 2e-16 ***\n",
       "InternetService.xNo             -1.31855    0.16071  -8.205 2.31e-16 ***\n",
       "OnlineSecurity                  -0.59182    0.09933  -5.958 2.55e-09 ***\n",
       "OnlineBackup                    -0.34393    0.08766  -3.923 8.73e-05 ***\n",
       "TechSupport                     -0.37513    0.09959  -3.767 0.000165 ***\n",
       "StreamingTV                      0.15428    0.08811   1.751 0.079952 .  \n",
       "Contract.xOne.year              -1.12264    0.11886  -9.445  < 2e-16 ***\n",
       "Contract.xTwo.year              -2.18264    0.21393 -10.202  < 2e-16 ***\n",
       "PaperlessBilling                 0.33169    0.08760   3.787 0.000153 ***\n",
       "PaymentMethod.xElectronic.check  0.39795    0.08122   4.900 9.60e-07 ***\n",
       "---\n",
       "Signif. codes:  0 '***' 0.001 '**' 0.01 '*' 0.05 '.' 0.1 ' ' 1\n",
       "\n",
       "(Dispersion parameter for binomial family taken to be 1)\n",
       "\n",
       "    Null deviance: 5699.5  on 4921  degrees of freedom\n",
       "Residual deviance: 4172.2  on 4907  degrees of freedom\n",
       "AIC: 4202.2\n",
       "\n",
       "Number of Fisher Scoring iterations: 6\n"
      ]
     },
     "metadata": {},
     "output_type": "display_data"
    },
    {
     "data": {
      "text/html": [
       "<dl class=dl-horizontal>\n",
       "\t<dt>tenure</dt>\n",
       "\t\t<dd>1.25004788996596</dd>\n",
       "\t<dt>MonthlyCharges</dt>\n",
       "\t\t<dd>1.36762951560691</dd>\n",
       "\t<dt>SeniorCitizen</dt>\n",
       "\t\t<dd>1.07553182978794</dd>\n",
       "\t<dt>Partner</dt>\n",
       "\t\t<dd>1.07490052867337</dd>\n",
       "\t<dt>InternetService.xFiber.optic</dt>\n",
       "\t\t<dd>1.52229945881483</dd>\n",
       "\t<dt>InternetService.xNo</dt>\n",
       "\t\t<dd>1.51214700197199</dd>\n",
       "\t<dt>OnlineSecurity</dt>\n",
       "\t\t<dd>1.08482043399945</dd>\n",
       "\t<dt>OnlineBackup</dt>\n",
       "\t\t<dd>1.13799371355757</dd>\n",
       "\t<dt>TechSupport</dt>\n",
       "\t\t<dd>1.13824553101371</dd>\n",
       "\t<dt>StreamingTV</dt>\n",
       "\t\t<dd>1.28040987481656</dd>\n",
       "\t<dt>Contract.xOne.year</dt>\n",
       "\t\t<dd>1.19117439667884</dd>\n",
       "\t<dt>Contract.xTwo.year</dt>\n",
       "\t\t<dd>1.17367309068718</dd>\n",
       "\t<dt>PaperlessBilling</dt>\n",
       "\t\t<dd>1.11005675837249</dd>\n",
       "\t<dt>PaymentMethod.xElectronic.check</dt>\n",
       "\t\t<dd>1.1283823330848</dd>\n",
       "</dl>\n"
      ],
      "text/latex": [
       "\\begin{description*}\n",
       "\\item[tenure] 1.25004788996596\n",
       "\\item[MonthlyCharges] 1.36762951560691\n",
       "\\item[SeniorCitizen] 1.07553182978794\n",
       "\\item[Partner] 1.07490052867337\n",
       "\\item[InternetService.xFiber.optic] 1.52229945881483\n",
       "\\item[InternetService.xNo] 1.51214700197199\n",
       "\\item[OnlineSecurity] 1.08482043399945\n",
       "\\item[OnlineBackup] 1.13799371355757\n",
       "\\item[TechSupport] 1.13824553101371\n",
       "\\item[StreamingTV] 1.28040987481656\n",
       "\\item[Contract.xOne.year] 1.19117439667884\n",
       "\\item[Contract.xTwo.year] 1.17367309068718\n",
       "\\item[PaperlessBilling] 1.11005675837249\n",
       "\\item[PaymentMethod.xElectronic.check] 1.1283823330848\n",
       "\\end{description*}\n"
      ],
      "text/markdown": [
       "tenure\n",
       ":   1.25004788996596MonthlyCharges\n",
       ":   1.36762951560691SeniorCitizen\n",
       ":   1.07553182978794Partner\n",
       ":   1.07490052867337InternetService.xFiber.optic\n",
       ":   1.52229945881483InternetService.xNo\n",
       ":   1.51214700197199OnlineSecurity\n",
       ":   1.08482043399945OnlineBackup\n",
       ":   1.13799371355757TechSupport\n",
       ":   1.13824553101371StreamingTV\n",
       ":   1.28040987481656Contract.xOne.year\n",
       ":   1.19117439667884Contract.xTwo.year\n",
       ":   1.17367309068718PaperlessBilling\n",
       ":   1.11005675837249PaymentMethod.xElectronic.check\n",
       ":   1.1283823330848\n",
       "\n"
      ],
      "text/plain": [
       "                         tenure                  MonthlyCharges \n",
       "                       1.250048                        1.367630 \n",
       "                  SeniorCitizen                         Partner \n",
       "                       1.075532                        1.074901 \n",
       "   InternetService.xFiber.optic             InternetService.xNo \n",
       "                       1.522299                        1.512147 \n",
       "                 OnlineSecurity                    OnlineBackup \n",
       "                       1.084820                        1.137994 \n",
       "                    TechSupport                     StreamingTV \n",
       "                       1.138246                        1.280410 \n",
       "             Contract.xOne.year              Contract.xTwo.year \n",
       "                       1.191174                        1.173673 \n",
       "               PaperlessBilling PaymentMethod.xElectronic.check \n",
       "                       1.110057                        1.128382 "
      ]
     },
     "metadata": {},
     "output_type": "display_data"
    }
   ],
   "source": [
    "model_3 <-glm(formula = Churn ~ tenure + MonthlyCharges + SeniorCitizen + \n",
    "    Partner + InternetService.xFiber.optic + InternetService.xNo + \n",
    "    OnlineSecurity + OnlineBackup + TechSupport + \n",
    "    StreamingTV + Contract.xOne.year + Contract.xTwo.year + PaperlessBilling + \n",
    "    PaymentMethod.xElectronic.check, family = \"binomial\", data = train)\n",
    "summary(model_3)\n",
    "vif(model_3)"
   ]
  },
  {
   "cell_type": "code",
   "execution_count": 50,
   "metadata": {},
   "outputs": [
    {
     "data": {
      "text/plain": [
       "\n",
       "Call:\n",
       "glm(formula = Churn ~ tenure + MonthlyCharges + SeniorCitizen + \n",
       "    Partner + InternetService.xFiber.optic + InternetService.xNo + \n",
       "    OnlineSecurity + OnlineBackup + TechSupport + Contract.xOne.year + \n",
       "    Contract.xTwo.year + PaperlessBilling + PaymentMethod.xElectronic.check, \n",
       "    family = \"binomial\", data = train)\n",
       "\n",
       "Deviance Residuals: \n",
       "    Min       1Q   Median       3Q      Max  \n",
       "-1.7750  -0.6942  -0.2926   0.7754   3.1397  \n",
       "\n",
       "Coefficients:\n",
       "                                Estimate Std. Error z value Pr(>|z|)    \n",
       "(Intercept)                     -0.86307    0.11114  -7.766 8.11e-15 ***\n",
       "tenure                          -0.29877    0.04568  -6.541 6.13e-11 ***\n",
       "MonthlyCharges                  -0.16409    0.04353  -3.770 0.000164 ***\n",
       "SeniorCitizen                    0.26626    0.09631   2.765 0.005698 ** \n",
       "Partner                         -0.20955    0.08112  -2.583 0.009789 ** \n",
       "InternetService.xFiber.optic     0.83661    0.09403   8.898  < 2e-16 ***\n",
       "InternetService.xNo             -1.36102    0.15874  -8.574  < 2e-16 ***\n",
       "OnlineSecurity                  -0.59463    0.09924  -5.992 2.07e-09 ***\n",
       "OnlineBackup                    -0.33904    0.08755  -3.872 0.000108 ***\n",
       "TechSupport                     -0.36257    0.09923  -3.654 0.000258 ***\n",
       "Contract.xOne.year              -1.09126    0.11736  -9.298  < 2e-16 ***\n",
       "Contract.xTwo.year              -2.15047    0.21306 -10.093  < 2e-16 ***\n",
       "PaperlessBilling                 0.34787    0.08708   3.995 6.48e-05 ***\n",
       "PaymentMethod.xElectronic.check  0.41265    0.08076   5.109 3.23e-07 ***\n",
       "---\n",
       "Signif. codes:  0 '***' 0.001 '**' 0.01 '*' 0.05 '.' 0.1 ' ' 1\n",
       "\n",
       "(Dispersion parameter for binomial family taken to be 1)\n",
       "\n",
       "    Null deviance: 5699.5  on 4921  degrees of freedom\n",
       "Residual deviance: 4175.3  on 4908  degrees of freedom\n",
       "AIC: 4203.3\n",
       "\n",
       "Number of Fisher Scoring iterations: 6\n"
      ]
     },
     "metadata": {},
     "output_type": "display_data"
    },
    {
     "data": {
      "text/html": [
       "<dl class=dl-horizontal>\n",
       "\t<dt>tenure</dt>\n",
       "\t\t<dd>1.24036680511215</dd>\n",
       "\t<dt>MonthlyCharges</dt>\n",
       "\t\t<dd>1.34570199460867</dd>\n",
       "\t<dt>SeniorCitizen</dt>\n",
       "\t\t<dd>1.07551377478282</dd>\n",
       "\t<dt>Partner</dt>\n",
       "\t\t<dd>1.07299362908868</dd>\n",
       "\t<dt>InternetService.xFiber.optic</dt>\n",
       "\t\t<dd>1.46427685126612</dd>\n",
       "\t<dt>InternetService.xNo</dt>\n",
       "\t\t<dd>1.47738879522</dd>\n",
       "\t<dt>OnlineSecurity</dt>\n",
       "\t\t<dd>1.08480352279084</dd>\n",
       "\t<dt>OnlineBackup</dt>\n",
       "\t\t<dd>1.13678366731351</dd>\n",
       "\t<dt>TechSupport</dt>\n",
       "\t\t<dd>1.13198140594011</dd>\n",
       "\t<dt>Contract.xOne.year</dt>\n",
       "\t\t<dd>1.16367559191181</dd>\n",
       "\t<dt>Contract.xTwo.year</dt>\n",
       "\t\t<dd>1.16459531571193</dd>\n",
       "\t<dt>PaperlessBilling</dt>\n",
       "\t\t<dd>1.0973732493432</dd>\n",
       "\t<dt>PaymentMethod.xElectronic.check</dt>\n",
       "\t\t<dd>1.11670601410579</dd>\n",
       "</dl>\n"
      ],
      "text/latex": [
       "\\begin{description*}\n",
       "\\item[tenure] 1.24036680511215\n",
       "\\item[MonthlyCharges] 1.34570199460867\n",
       "\\item[SeniorCitizen] 1.07551377478282\n",
       "\\item[Partner] 1.07299362908868\n",
       "\\item[InternetService.xFiber.optic] 1.46427685126612\n",
       "\\item[InternetService.xNo] 1.47738879522\n",
       "\\item[OnlineSecurity] 1.08480352279084\n",
       "\\item[OnlineBackup] 1.13678366731351\n",
       "\\item[TechSupport] 1.13198140594011\n",
       "\\item[Contract.xOne.year] 1.16367559191181\n",
       "\\item[Contract.xTwo.year] 1.16459531571193\n",
       "\\item[PaperlessBilling] 1.0973732493432\n",
       "\\item[PaymentMethod.xElectronic.check] 1.11670601410579\n",
       "\\end{description*}\n"
      ],
      "text/markdown": [
       "tenure\n",
       ":   1.24036680511215MonthlyCharges\n",
       ":   1.34570199460867SeniorCitizen\n",
       ":   1.07551377478282Partner\n",
       ":   1.07299362908868InternetService.xFiber.optic\n",
       ":   1.46427685126612InternetService.xNo\n",
       ":   1.47738879522OnlineSecurity\n",
       ":   1.08480352279084OnlineBackup\n",
       ":   1.13678366731351TechSupport\n",
       ":   1.13198140594011Contract.xOne.year\n",
       ":   1.16367559191181Contract.xTwo.year\n",
       ":   1.16459531571193PaperlessBilling\n",
       ":   1.0973732493432PaymentMethod.xElectronic.check\n",
       ":   1.11670601410579\n",
       "\n"
      ],
      "text/plain": [
       "                         tenure                  MonthlyCharges \n",
       "                       1.240367                        1.345702 \n",
       "                  SeniorCitizen                         Partner \n",
       "                       1.075514                        1.072994 \n",
       "   InternetService.xFiber.optic             InternetService.xNo \n",
       "                       1.464277                        1.477389 \n",
       "                 OnlineSecurity                    OnlineBackup \n",
       "                       1.084804                        1.136784 \n",
       "                    TechSupport              Contract.xOne.year \n",
       "                       1.131981                        1.163676 \n",
       "             Contract.xTwo.year                PaperlessBilling \n",
       "                       1.164595                        1.097373 \n",
       "PaymentMethod.xElectronic.check \n",
       "                       1.116706 "
      ]
     },
     "metadata": {},
     "output_type": "display_data"
    }
   ],
   "source": [
    "final_model <- glm(formula = Churn ~ tenure + MonthlyCharges + SeniorCitizen + \n",
    "    Partner + InternetService.xFiber.optic + InternetService.xNo + \n",
    "    OnlineSecurity + OnlineBackup + TechSupport +  \n",
    "    Contract.xOne.year + Contract.xTwo.year + PaperlessBilling + \n",
    "    PaymentMethod.xElectronic.check, family = \"binomial\", data = train)\n",
    "\n",
    "summary(final_model)\n",
    "vif(final_model)"
   ]
  },
  {
   "cell_type": "code",
   "execution_count": 51,
   "metadata": {},
   "outputs": [
    {
     "data": {
      "text/html": [
       "<table>\n",
       "<thead><tr><th scope=col>Resid. Df</th><th scope=col>Resid. Dev</th><th scope=col>Df</th><th scope=col>Deviance</th><th scope=col>Pr(&gt;Chi)</th></tr></thead>\n",
       "<tbody>\n",
       "\t<tr><td>4908       </td><td>4175.307   </td><td>NA         </td><td>      NA   </td><td>         NA</td></tr>\n",
       "\t<tr><td>4905       </td><td>4145.282   </td><td> 3         </td><td>30.02516   </td><td>1.36334e-06</td></tr>\n",
       "</tbody>\n",
       "</table>\n"
      ],
      "text/latex": [
       "\\begin{tabular}{r|lllll}\n",
       " Resid. Df & Resid. Dev & Df & Deviance & Pr(>Chi)\\\\\n",
       "\\hline\n",
       "\t 4908        & 4175.307    & NA          &       NA    &          NA\\\\\n",
       "\t 4905        & 4145.282    &  3          & 30.02516    & 1.36334e-06\\\\\n",
       "\\end{tabular}\n"
      ],
      "text/markdown": [
       "\n",
       "| Resid. Df | Resid. Dev | Df | Deviance | Pr(>Chi) |\n",
       "|---|---|---|---|---|\n",
       "| 4908        | 4175.307    | NA          |       NA    |          NA |\n",
       "| 4905        | 4145.282    |  3          | 30.02516    | 1.36334e-06 |\n",
       "\n"
      ],
      "text/plain": [
       "  Resid. Df Resid. Dev Df Deviance Pr(>Chi)   \n",
       "1 4908      4175.307   NA       NA          NA\n",
       "2 4905      4145.282    3 30.02516 1.36334e-06"
      ]
     },
     "metadata": {},
     "output_type": "display_data"
    }
   ],
   "source": [
    "anova(final_model, modelo_3, test = \"LRT\")"
   ]
  },
  {
   "cell_type": "code",
   "execution_count": 58,
   "metadata": {},
   "outputs": [
    {
     "data": {
      "text/html": [
       "1.36334127245613e-06"
      ],
      "text/latex": [
       "1.36334127245613e-06"
      ],
      "text/markdown": [
       "1.36334127245613e-06"
      ],
      "text/plain": [
       "[1] 1.363341e-06"
      ]
     },
     "metadata": {},
     "output_type": "display_data"
    }
   ],
   "source": [
    "pchisq(30.02516, df=3, lower.tail=F)\n"
   ]
  },
  {
   "cell_type": "markdown",
   "metadata": {},
   "source": [
    "### Evaluación del modelo "
   ]
  },
  {
   "cell_type": "code",
   "execution_count": 70,
   "metadata": {},
   "outputs": [
    {
     "data": {
      "text/plain": [
       "    Min.  1st Qu.   Median     Mean  3rd Qu.     Max. \n",
       "0.005599 0.042597 0.194496 0.270029 0.485653 0.791937 "
      ]
     },
     "metadata": {},
     "output_type": "display_data"
    },
    {
     "data": {
      "text/plain": [
       "            pred_churn\n",
       "actual_churn   No  Yes\n",
       "         No  1152  397\n",
       "         Yes  139  422"
      ]
     },
     "metadata": {},
     "output_type": "display_data"
    }
   ],
   "source": [
    "pred <- predict(final_model, type = \"response\", newdata = test[,-24])\n",
    "summary(pred)\n",
    "test$prob <- pred\n",
    "\n",
    "# Usando 50% como punto de corte\n",
    "\n",
    "pred_churn <- factor(ifelse(pred >= 0.32, \"Yes\", \"No\"))\n",
    "actual_churn <- factor(ifelse(test$Churn==1,\"Yes\",\"No\"))\n",
    "table(actual_churn,pred_churn)"
   ]
  },
  {
   "cell_type": "code",
   "execution_count": 72,
   "metadata": {},
   "outputs": [],
   "source": [
    "test$pronostico <- pred_churn"
   ]
  },
  {
   "cell_type": "code",
   "execution_count": 73,
   "metadata": {},
   "outputs": [
    {
     "data": {
      "text/html": [
       "<table>\n",
       "<thead><tr><th></th><th scope=col>tenure</th><th scope=col>MonthlyCharges</th><th scope=col>TotalCharges</th><th scope=col>gender</th><th scope=col>SeniorCitizen</th><th scope=col>Partner</th><th scope=col>Dependents</th><th scope=col>PhoneService</th><th scope=col>MultipleLines</th><th scope=col>InternetService.xFiber.optic</th><th scope=col>...</th><th scope=col>PaymentMethod.xElectronic.check</th><th scope=col>PaymentMethod.xMailed.check</th><th scope=col>Churn</th><th scope=col>tenure_bin.x1.2.y</th><th scope=col>tenure_bin.x2.3.y</th><th scope=col>tenure_bin.x3.4.y</th><th scope=col>tenure_bin.x4.5.y</th><th scope=col>tenure_bin.x5.6.y</th><th scope=col>prob</th><th scope=col>pronostico</th></tr></thead>\n",
       "<tbody>\n",
       "\t<tr><th scope=row>2</th><td>-0.2973877 </td><td> 0.03883410</td><td>-0.95287017</td><td>1          </td><td>0          </td><td>0          </td><td>0          </td><td>1          </td><td>0          </td><td>0          </td><td>...        </td><td>0          </td><td>1          </td><td>0          </td><td>0          </td><td>1          </td><td>0          </td><td>0          </td><td>0          </td><td>0.07824220 </td><td>No         </td></tr>\n",
       "\t<tr><th scope=row>5</th><td>-0.9665012 </td><td> 0.53484596</td><td>-1.23975624</td><td>0          </td><td>0          </td><td>0          </td><td>0          </td><td>1          </td><td>0          </td><td>1          </td><td>...        </td><td>1          </td><td>0          </td><td>1          </td><td>0          </td><td>0          </td><td>0          </td><td>0          </td><td>0          </td><td>0.71810068 </td><td>Yes        </td></tr>\n",
       "\t<tr><th scope=row>7</th><td>-0.8410424 </td><td> 1.27779015</td><td>-0.90832594</td><td>1          </td><td>0          </td><td>0          </td><td>1          </td><td>1          </td><td>1          </td><td>1          </td><td>...        </td><td>0          </td><td>0          </td><td>0          </td><td>1          </td><td>0          </td><td>0          </td><td>0          </td><td>0          </td><td>0.50599314 </td><td>Yes        </td></tr>\n",
       "\t<tr><th scope=row>8</th><td>-1.3846972 </td><td>-0.72772970</td><td>-0.34675044</td><td>0          </td><td>0          </td><td>0          </td><td>0          </td><td>0          </td><td>0          </td><td>0          </td><td>...        </td><td>0          </td><td>1          </td><td>0          </td><td>0          </td><td>0          </td><td>0          </td><td>0          </td><td>0          </td><td>0.28402611 </td><td>No         </td></tr>\n",
       "\t<tr><th scope=row>9</th><td>-0.5901249 </td><td>-1.48785178</td><td>-0.32712977</td><td>0          </td><td>0          </td><td>1          </td><td>0          </td><td>1          </td><td>1          </td><td>1          </td><td>...        </td><td>1          </td><td>0          </td><td>1          </td><td>1          </td><td>0          </td><td>0          </td><td>0          </td><td>0          </td><td>0.64161745 </td><td>Yes        </td></tr>\n",
       "\t<tr><th scope=row>12</th><td>-1.1337796 </td><td>-1.01116505</td><td>-0.22637496</td><td>1          </td><td>0          </td><td>0          </td><td>0          </td><td>1          </td><td>0          </td><td>0          </td><td>...        </td><td>0          </td><td>0          </td><td>0          </td><td>0          </td><td>0          </td><td>0          </td><td>0          </td><td>0          </td><td>0.02043435 </td><td>No         </td></tr>\n",
       "\t<tr><th scope=row>16</th><td> 1.2917568 </td><td>-1.17006063</td><td> 1.42971594</td><td>0          </td><td>0          </td><td>1          </td><td>1          </td><td>1          </td><td>1          </td><td>1          </td><td>...        </td><td>0          </td><td>0          </td><td>0          </td><td>0          </td><td>0          </td><td>0          </td><td>0          </td><td>1          </td><td>0.02029928 </td><td>No         </td></tr>\n",
       "\t<tr><th scope=row>24</th><td> 0.7899217 </td><td> 0.13116531</td><td>-0.11766582</td><td>0          </td><td>0          </td><td>1          </td><td>0          </td><td>1          </td><td>1          </td><td>0          </td><td>...        </td><td>0          </td><td>0          </td><td>0          </td><td>0          </td><td>0          </td><td>0          </td><td>1          </td><td>0          </td><td>0.02115781 </td><td>No         </td></tr>\n",
       "\t<tr><th scope=row>31</th><td> 1.4172156 </td><td> 1.57840340</td><td> 1.10889142</td><td>0          </td><td>1          </td><td>1          </td><td>0          </td><td>1          </td><td>1          </td><td>1          </td><td>...        </td><td>0          </td><td>0          </td><td>0          </td><td>0          </td><td>0          </td><td>0          </td><td>0          </td><td>1          </td><td>0.02295454 </td><td>No         </td></tr>\n",
       "\t<tr><th scope=row>32</th><td>-0.9665012 </td><td> 1.54190036</td><td>-1.00908075</td><td>1          </td><td>1          </td><td>1          </td><td>0          </td><td>1          </td><td>0          </td><td>1          </td><td>...        </td><td>0          </td><td>0          </td><td>0          </td><td>0          </td><td>0          </td><td>0          </td><td>0          </td><td>0          </td><td>0.60201504 </td><td>Yes        </td></tr>\n",
       "\t<tr><th scope=row>35</th><td>-1.4265167 </td><td>-0.36269932</td><td> 0.29277745</td><td>1          </td><td>1          </td><td>0          </td><td>0          </td><td>1          </td><td>0          </td><td>0          </td><td>...        </td><td>0          </td><td>0          </td><td>0          </td><td>0          </td><td>0          </td><td>0          </td><td>0          </td><td>0          </td><td>0.47225435 </td><td>Yes        </td></tr>\n",
       "\t<tr><th scope=row>38</th><td> 0.2462670 </td><td> 0.69374154</td><td>-0.10069659</td><td>0          </td><td>0          </td><td>0          </td><td>0          </td><td>1          </td><td>0          </td><td>1          </td><td>...        </td><td>0          </td><td>0          </td><td>0          </td><td>0          </td><td>0          </td><td>1          </td><td>0          </td><td>0          </td><td>0.53344853 </td><td>Yes        </td></tr>\n",
       "\t<tr><th scope=row>45</th><td>-1.2592384 </td><td> 0.75386419</td><td> 1.71819287</td><td>0          </td><td>0          </td><td>1          </td><td>0          </td><td>1          </td><td>1          </td><td>0          </td><td>...        </td><td>1          </td><td>0          </td><td>0          </td><td>0          </td><td>0          </td><td>0          </td><td>0          </td><td>0          </td><td>0.20492097 </td><td>No         </td></tr>\n",
       "\t<tr><th scope=row>46</th><td> 0.3717258 </td><td> 1.08453877</td><td> 0.04513274</td><td>0          </td><td>0          </td><td>0          </td><td>0          </td><td>1          </td><td>1          </td><td>1          </td><td>...        </td><td>1          </td><td>0          </td><td>0          </td><td>0          </td><td>0          </td><td>1          </td><td>0          </td><td>0          </td><td>0.60945899 </td><td>Yes        </td></tr>\n",
       "\t<tr><th scope=row>49</th><td> 0.5390041 </td><td> 0.89128739</td><td> 0.17823514</td><td>1          </td><td>0          </td><td>0          </td><td>0          </td><td>1          </td><td>1          </td><td>0          </td><td>...        </td><td>0          </td><td>0          </td><td>0          </td><td>0          </td><td>0          </td><td>1          </td><td>0          </td><td>0          </td><td>0.01926214 </td><td>No         </td></tr>\n",
       "\t<tr><th scope=row>52</th><td>-1.1755992 </td><td> 1.68147080</td><td>-1.31187547</td><td>0          </td><td>0          </td><td>0          </td><td>0          </td><td>1          </td><td>0          </td><td>1          </td><td>...        </td><td>0          </td><td>0          </td><td>1          </td><td>0          </td><td>0          </td><td>0          </td><td>0          </td><td>0          </td><td>0.36890000 </td><td>Yes        </td></tr>\n",
       "\t<tr><th scope=row>53</th><td>-0.7155837 </td><td> 0.48331226</td><td>-1.05415527</td><td>0          </td><td>1          </td><td>1          </td><td>0          </td><td>1          </td><td>1          </td><td>0          </td><td>...        </td><td>0          </td><td>0          </td><td>0          </td><td>1          </td><td>0          </td><td>0          </td><td>0          </td><td>0          </td><td>0.21734467 </td><td>No         </td></tr>\n",
       "\t<tr><th scope=row>65</th><td> 1.5426744 </td><td> 1.49466114</td><td> 1.57554527</td><td>0          </td><td>0          </td><td>0          </td><td>0          </td><td>1          </td><td>1          </td><td>1          </td><td>...        </td><td>1          </td><td>0          </td><td>1          </td><td>0          </td><td>0          </td><td>0          </td><td>0          </td><td>1          </td><td>0.42068357 </td><td>Yes        </td></tr>\n",
       "\t<tr><th scope=row>69</th><td> 0.4553649 </td><td>-0.95963135</td><td> 1.66304287</td><td>0          </td><td>0          </td><td>1          </td><td>1          </td><td>1          </td><td>0          </td><td>0          </td><td>...        </td><td>0          </td><td>0          </td><td>0          </td><td>0          </td><td>0          </td><td>1          </td><td>0          </td><td>0          </td><td>0.01032627 </td><td>No         </td></tr>\n",
       "\t<tr><th scope=row>72</th><td> 0.5390041 </td><td>-0.94889516</td><td>-1.63429086</td><td>0          </td><td>0          </td><td>1          </td><td>1          </td><td>1          </td><td>0          </td><td>0          </td><td>...        </td><td>1          </td><td>0          </td><td>0          </td><td>0          </td><td>0          </td><td>1          </td><td>0          </td><td>0          </td><td>0.05898353 </td><td>No         </td></tr>\n",
       "\t<tr><th scope=row>77</th><td> 0.2462670 </td><td>-0.01699408</td><td>-0.48992833</td><td>0          </td><td>0          </td><td>0          </td><td>0          </td><td>1          </td><td>0          </td><td>0          </td><td>...        </td><td>0          </td><td>0          </td><td>0          </td><td>0          </td><td>0          </td><td>1          </td><td>0          </td><td>0          </td><td>0.11659143 </td><td>No         </td></tr>\n",
       "\t<tr><th scope=row>78</th><td> 1.5008548 </td><td>-0.05993883</td><td> 0.42853130</td><td>0          </td><td>0          </td><td>1          </td><td>1          </td><td>1          </td><td>0          </td><td>0          </td><td>...        </td><td>0          </td><td>1          </td><td>0          </td><td>0          </td><td>0          </td><td>0          </td><td>0          </td><td>1          </td><td>0.07981529 </td><td>No         </td></tr>\n",
       "\t<tr><th scope=row>86</th><td> 1.5426744 </td><td> 1.69005975</td><td> 1.64448278</td><td>1          </td><td>0          </td><td>0          </td><td>0          </td><td>1          </td><td>1          </td><td>1          </td><td>...        </td><td>0          </td><td>0          </td><td>0          </td><td>0          </td><td>0          </td><td>0          </td><td>0          </td><td>1          </td><td>0.31954597 </td><td>No         </td></tr>\n",
       "\t<tr><th scope=row>88</th><td> 0.3299062 </td><td>-0.93815897</td><td>-1.67300192</td><td>0          </td><td>0          </td><td>1          </td><td>1          </td><td>1          </td><td>0          </td><td>0          </td><td>...        </td><td>0          </td><td>0          </td><td>0          </td><td>0          </td><td>0          </td><td>1          </td><td>0          </td><td>0          </td><td>0.01067916 </td><td>No         </td></tr>\n",
       "\t<tr><th scope=row>89</th><td> 0.2462670 </td><td>-0.96822030</td><td> 1.65402797</td><td>0          </td><td>0          </td><td>1          </td><td>1          </td><td>1          </td><td>0          </td><td>0          </td><td>...        </td><td>0          </td><td>1          </td><td>0          </td><td>0          </td><td>0          </td><td>1          </td><td>0          </td><td>0          </td><td>0.01550544 </td><td>No         </td></tr>\n",
       "\t<tr><th scope=row>90</th><td>-0.5483053 </td><td>-0.65687086</td><td>-1.72019759</td><td>1          </td><td>0          </td><td>1          </td><td>0          </td><td>0          </td><td>0          </td><td>0          </td><td>...        </td><td>0          </td><td>1          </td><td>0          </td><td>1          </td><td>0          </td><td>0          </td><td>0          </td><td>0          </td><td>0.30980903 </td><td>No         </td></tr>\n",
       "\t<tr><th scope=row>92</th><td>-1.4265167 </td><td> 0.68944707</td><td> 1.30456786</td><td>1          </td><td>1          </td><td>0          </td><td>0          </td><td>1          </td><td>0          </td><td>1          </td><td>...        </td><td>1          </td><td>0          </td><td>0          </td><td>0          </td><td>0          </td><td>0          </td><td>0          </td><td>0          </td><td>0.64633012 </td><td>Yes        </td></tr>\n",
       "\t<tr><th scope=row>94</th><td> 1.1244784 </td><td>-1.23877223</td><td> 1.22608517</td><td>0          </td><td>0          </td><td>0          </td><td>0          </td><td>1          </td><td>1          </td><td>1          </td><td>...        </td><td>0          </td><td>0          </td><td>0          </td><td>0          </td><td>0          </td><td>0          </td><td>0          </td><td>1          </td><td>0.32192187 </td><td>Yes        </td></tr>\n",
       "\t<tr><th scope=row>96</th><td>-1.3010580 </td><td> 0.85693159</td><td> 1.65508854</td><td>0          </td><td>0          </td><td>0          </td><td>0          </td><td>1          </td><td>1          </td><td>1          </td><td>...        </td><td>1          </td><td>0          </td><td>1          </td><td>0          </td><td>0          </td><td>0          </td><td>0          </td><td>0          </td><td>0.59568946 </td><td>Yes        </td></tr>\n",
       "\t<tr><th scope=row>98</th><td> 0.4135453 </td><td>-0.92098107</td><td>-1.59664038</td><td>1          </td><td>0          </td><td>0          </td><td>0          </td><td>1          </td><td>0          </td><td>0          </td><td>...        </td><td>0          </td><td>1          </td><td>1          </td><td>0          </td><td>0          </td><td>1          </td><td>0          </td><td>0          </td><td>0.10006382 </td><td>No         </td></tr>\n",
       "\t<tr><th scope=row>...</th><td>...</td><td>...</td><td>...</td><td>...</td><td>...</td><td>...</td><td>...</td><td>...</td><td>...</td><td>...</td><td>   </td><td>...</td><td>...</td><td>...</td><td>...</td><td>...</td><td>...</td><td>...</td><td>...</td><td>...</td><td>...</td></tr>\n",
       "\t<tr><th scope=row>6948</th><td>-1.259238377</td><td>-0.97680925 </td><td>-0.61083411 </td><td>0           </td><td>0           </td><td>1           </td><td>1           </td><td>1           </td><td>0           </td><td>0           </td><td>...         </td><td>0           </td><td>0           </td><td>0           </td><td>0           </td><td>0           </td><td>0           </td><td>0           </td><td>0           </td><td>0.024133431 </td><td>No          </td></tr>\n",
       "\t<tr><th scope=row>6954</th><td> 0.371725751</td><td> 0.01092001 </td><td>-0.45227785 </td><td>0           </td><td>0           </td><td>1           </td><td>0           </td><td>0           </td><td>0           </td><td>0           </td><td>...         </td><td>0           </td><td>0           </td><td>0           </td><td>0           </td><td>0           </td><td>1           </td><td>0           </td><td>0           </td><td>0.067202857 </td><td>No          </td></tr>\n",
       "\t<tr><th scope=row>6955</th><td> 0.957200054</td><td> 1.48607219 </td><td> 0.83473228 </td><td>0           </td><td>1           </td><td>1           </td><td>0           </td><td>1           </td><td>1           </td><td>1           </td><td>...         </td><td>0           </td><td>0           </td><td>0           </td><td>0           </td><td>0           </td><td>0           </td><td>1           </td><td>0           </td><td>0.190315908 </td><td>No          </td></tr>\n",
       "\t<tr><th scope=row>6960</th><td>-0.046470179</td><td> 0.67441640 </td><td>-0.51326103 </td><td>1           </td><td>0           </td><td>0           </td><td>0           </td><td>1           </td><td>1           </td><td>1           </td><td>...         </td><td>1           </td><td>0           </td><td>1           </td><td>0           </td><td>1           </td><td>0           </td><td>0           </td><td>0           </td><td>0.654138303 </td><td>Yes         </td></tr>\n",
       "\t<tr><th scope=row>6961</th><td>-1.050140412</td><td> 1.70938489 </td><td>-0.99370238 </td><td>0           </td><td>1           </td><td>1           </td><td>0           </td><td>1           </td><td>1           </td><td>1           </td><td>...         </td><td>0           </td><td>0           </td><td>1           </td><td>0           </td><td>0           </td><td>0           </td><td>0           </td><td>0           </td><td>0.425786154 </td><td>Yes         </td></tr>\n",
       "\t<tr><th scope=row>6962</th><td> 0.706282495</td><td>-1.20441643 </td><td> 1.01078805 </td><td>0           </td><td>1           </td><td>0           </td><td>0           </td><td>1           </td><td>1           </td><td>1           </td><td>...         </td><td>1           </td><td>0           </td><td>1           </td><td>0           </td><td>0           </td><td>0           </td><td>1           </td><td>0           </td><td>0.308756593 </td><td>No          </td></tr>\n",
       "\t<tr><th scope=row>6964</th><td> 0.497184530</td><td> 1.67288185 </td><td> 0.49269621 </td><td>0           </td><td>0           </td><td>1           </td><td>0           </td><td>1           </td><td>1           </td><td>1           </td><td>...         </td><td>1           </td><td>0           </td><td>0           </td><td>0           </td><td>0           </td><td>1           </td><td>0           </td><td>0           </td><td>0.270954019 </td><td>No          </td></tr>\n",
       "\t<tr><th scope=row>6968</th><td> 1.375395984</td><td> 0.93208491 </td><td> 0.73662891 </td><td>0           </td><td>0           </td><td>1           </td><td>1           </td><td>1           </td><td>1           </td><td>0           </td><td>...         </td><td>1           </td><td>0           </td><td>0           </td><td>0           </td><td>0           </td><td>0           </td><td>0           </td><td>1           </td><td>0.009280221 </td><td>No          </td></tr>\n",
       "\t<tr><th scope=row>6969</th><td>-1.426516749</td><td>-0.86515290 </td><td>-0.65007545 </td><td>1           </td><td>0           </td><td>0           </td><td>1           </td><td>0           </td><td>0           </td><td>0           </td><td>...         </td><td>0           </td><td>1           </td><td>0           </td><td>0           </td><td>0           </td><td>0           </td><td>0           </td><td>0           </td><td>0.426803480 </td><td>Yes         </td></tr>\n",
       "\t<tr><th scope=row>6974</th><td>-0.422846516</td><td>-0.83079710 </td><td> 1.42865537 </td><td>1           </td><td>0           </td><td>0           </td><td>1           </td><td>0           </td><td>0           </td><td>0           </td><td>...         </td><td>0           </td><td>0           </td><td>0           </td><td>0           </td><td>1           </td><td>0           </td><td>0           </td><td>0           </td><td>0.354250067 </td><td>Yes         </td></tr>\n",
       "\t<tr><th scope=row>6975</th><td>-0.171928958</td><td>-0.50012252 </td><td>-1.22702931 </td><td>1           </td><td>0           </td><td>1           </td><td>1           </td><td>0           </td><td>0           </td><td>0           </td><td>...         </td><td>1           </td><td>0           </td><td>0           </td><td>0           </td><td>1           </td><td>0           </td><td>0           </td><td>0           </td><td>0.097341198 </td><td>No          </td></tr>\n",
       "\t<tr><th scope=row>6980</th><td>-0.213748551</td><td> 1.46030534 </td><td>-0.18077015 </td><td>1           </td><td>0           </td><td>1           </td><td>0           </td><td>1           </td><td>0           </td><td>1           </td><td>...         </td><td>1           </td><td>0           </td><td>0           </td><td>0           </td><td>1           </td><td>0           </td><td>0           </td><td>0           </td><td>0.438839409 </td><td>Yes         </td></tr>\n",
       "\t<tr><th scope=row>6982</th><td> 1.417215577</td><td>-1.65748354 </td><td> 1.23032748 </td><td>1           </td><td>0           </td><td>1           </td><td>1           </td><td>1           </td><td>1           </td><td>1           </td><td>...         </td><td>0           </td><td>0           </td><td>0           </td><td>0           </td><td>0           </td><td>0           </td><td>0           </td><td>1           </td><td>0.139704320 </td><td>No          </td></tr>\n",
       "\t<tr><th scope=row>6983</th><td> 0.455364937</td><td> 1.23269816 </td><td> 0.23603659 </td><td>0           </td><td>1           </td><td>1           </td><td>0           </td><td>1           </td><td>1           </td><td>1           </td><td>...         </td><td>1           </td><td>0           </td><td>1           </td><td>0           </td><td>0           </td><td>1           </td><td>0           </td><td>0           </td><td>0.528321273 </td><td>Yes         </td></tr>\n",
       "\t<tr><th scope=row>6985</th><td> 0.748102088</td><td> 1.29711528 </td><td> 0.52080150 </td><td>1           </td><td>0           </td><td>0           </td><td>1           </td><td>1           </td><td>1           </td><td>0           </td><td>...         </td><td>0           </td><td>1           </td><td>0           </td><td>0           </td><td>0           </td><td>0           </td><td>1           </td><td>0           </td><td>0.008610429 </td><td>No          </td></tr>\n",
       "\t<tr><th scope=row>6986</th><td> 0.037169007</td><td> 0.37809763 </td><td>-0.47242881 </td><td>0           </td><td>0           </td><td>1           </td><td>1           </td><td>1           </td><td>0           </td><td>0           </td><td>...         </td><td>0           </td><td>0           </td><td>1           </td><td>0           </td><td>1           </td><td>0           </td><td>0           </td><td>0           </td><td>0.069735062 </td><td>No          </td></tr>\n",
       "\t<tr><th scope=row>6987</th><td>-0.631944482</td><td> 0.74956972 </td><td>-0.81711632 </td><td>0           </td><td>0           </td><td>1           </td><td>0           </td><td>1           </td><td>0           </td><td>1           </td><td>...         </td><td>1           </td><td>0           </td><td>0           </td><td>1           </td><td>0           </td><td>0           </td><td>0           </td><td>0           </td><td>0.562492270 </td><td>Yes         </td></tr>\n",
       "\t<tr><th scope=row>6989</th><td>-0.506485702</td><td>-0.60318992 </td><td>-1.66769903 </td><td>1           </td><td>0           </td><td>0           </td><td>0           </td><td>0           </td><td>0           </td><td>0           </td><td>...         </td><td>0           </td><td>1           </td><td>1           </td><td>1           </td><td>0           </td><td>0           </td><td>0           </td><td>0           </td><td>0.231729392 </td><td>No          </td></tr>\n",
       "\t<tr><th scope=row>6993</th><td>-0.673764075</td><td>-0.59030650 </td><td>-1.70694038 </td><td>1           </td><td>0           </td><td>0           </td><td>0           </td><td>0           </td><td>0           </td><td>0           </td><td>...         </td><td>1           </td><td>0           </td><td>0           </td><td>1           </td><td>0           </td><td>0           </td><td>0           </td><td>0           </td><td>0.374063073 </td><td>Yes         </td></tr>\n",
       "\t<tr><th scope=row>6994</th><td>-0.130109365</td><td> 1.52472246 </td><td>-0.04130428 </td><td>1           </td><td>0           </td><td>0           </td><td>0           </td><td>1           </td><td>1           </td><td>1           </td><td>...         </td><td>0           </td><td>0           </td><td>0           </td><td>0           </td><td>1           </td><td>0           </td><td>0           </td><td>0           </td><td>0.443010992 </td><td>Yes         </td></tr>\n",
       "\t<tr><th scope=row>6996</th><td>-0.004650586</td><td>-1.50073521 </td><td> 0.09922216 </td><td>1           </td><td>0           </td><td>0           </td><td>0           </td><td>1           </td><td>1           </td><td>1           </td><td>...         </td><td>0           </td><td>0           </td><td>1           </td><td>0           </td><td>1           </td><td>0           </td><td>0           </td><td>0           </td><td>0.557250405 </td><td>Yes         </td></tr>\n",
       "\t<tr><th scope=row>6997</th><td> 1.459035170</td><td> 0.24496890 </td><td> 0.37179044 </td><td>1           </td><td>1           </td><td>1           </td><td>0           </td><td>0           </td><td>0           </td><td>0           </td><td>...         </td><td>0           </td><td>0           </td><td>0           </td><td>0           </td><td>0           </td><td>0           </td><td>0           </td><td>1           </td><td>0.012354302 </td><td>No          </td></tr>\n",
       "\t<tr><th scope=row>7001</th><td>-0.046470179</td><td> 0.15263769 </td><td>-0.47879227 </td><td>0           </td><td>0           </td><td>0           </td><td>0           </td><td>1           </td><td>0           </td><td>0           </td><td>...         </td><td>0           </td><td>1           </td><td>1           </td><td>0           </td><td>1           </td><td>0           </td><td>0           </td><td>0           </td><td>0.139121237 </td><td>No          </td></tr>\n",
       "\t<tr><th scope=row>7002</th><td> 0.999019647</td><td> 1.10386391 </td><td> 0.56587602 </td><td>0           </td><td>0           </td><td>1           </td><td>0           </td><td>1           </td><td>1           </td><td>0           </td><td>...         </td><td>1           </td><td>0           </td><td>0           </td><td>0           </td><td>0           </td><td>0           </td><td>1           </td><td>0           </td><td>0.014225128 </td><td>No          </td></tr>\n",
       "\t<tr><th scope=row>7006</th><td>-1.426516749</td><td>-0.22312888 </td><td> 0.46936352 </td><td>0           </td><td>0           </td><td>0           </td><td>0           </td><td>1           </td><td>0           </td><td>0           </td><td>...         </td><td>1           </td><td>0           </td><td>0           </td><td>0           </td><td>0           </td><td>0           </td><td>0           </td><td>0           </td><td>0.419058120 </td><td>Yes         </td></tr>\n",
       "\t<tr><th scope=row>7017</th><td>-1.259238377</td><td> 0.63361889 </td><td> 1.66410345 </td><td>1           </td><td>0           </td><td>0           </td><td>0           </td><td>1           </td><td>0           </td><td>0           </td><td>...         </td><td>0           </td><td>1           </td><td>0           </td><td>0           </td><td>0           </td><td>0           </td><td>0           </td><td>0           </td><td>0.215441903 </td><td>No          </td></tr>\n",
       "\t<tr><th scope=row>7021</th><td> 0.664462902</td><td> 0.13545979 </td><td>-0.20304227 </td><td>1           </td><td>1           </td><td>1           </td><td>0           </td><td>1           </td><td>1           </td><td>0           </td><td>...         </td><td>0           </td><td>0           </td><td>0           </td><td>0           </td><td>0           </td><td>0           </td><td>1           </td><td>0           </td><td>0.045129784 </td><td>No          </td></tr>\n",
       "\t<tr><th scope=row>7024</th><td> 1.208117612</td><td>-1.56515233 </td><td> 1.14972363 </td><td>0           </td><td>0           </td><td>0           </td><td>0           </td><td>1           </td><td>1           </td><td>1           </td><td>...         </td><td>0           </td><td>0           </td><td>1           </td><td>0           </td><td>0           </td><td>0           </td><td>0           </td><td>1           </td><td>0.328189057 </td><td>Yes         </td></tr>\n",
       "\t<tr><th scope=row>7025</th><td>-1.008320819</td><td> 0.84619541 </td><td>-1.25725575 </td><td>1           </td><td>0           </td><td>0           </td><td>0           </td><td>1           </td><td>0           </td><td>1           </td><td>...         </td><td>0           </td><td>0           </td><td>0           </td><td>0           </td><td>0           </td><td>0           </td><td>0           </td><td>0           </td><td>0.618647583 </td><td>Yes         </td></tr>\n",
       "\t<tr><th scope=row>7029</th><td> 1.459035170</td><td>-1.55441614 </td><td> 1.29131065 </td><td>0           </td><td>0           </td><td>1           </td><td>1           </td><td>1           </td><td>1           </td><td>1           </td><td>...         </td><td>0           </td><td>0           </td><td>0           </td><td>0           </td><td>0           </td><td>0           </td><td>0           </td><td>1           </td><td>0.182531533 </td><td>No          </td></tr>\n",
       "</tbody>\n",
       "</table>\n"
      ],
      "text/latex": [
       "\\begin{tabular}{r|lllllllllllllllllllllllllllllll}\n",
       "  & tenure & MonthlyCharges & TotalCharges & gender & SeniorCitizen & Partner & Dependents & PhoneService & MultipleLines & InternetService.xFiber.optic & ... & PaymentMethod.xElectronic.check & PaymentMethod.xMailed.check & Churn & tenure\\_bin.x1.2.y & tenure\\_bin.x2.3.y & tenure\\_bin.x3.4.y & tenure\\_bin.x4.5.y & tenure\\_bin.x5.6.y & prob & pronostico\\\\\n",
       "\\hline\n",
       "\t2 & -0.2973877  &  0.03883410 & -0.95287017 & 1           & 0           & 0           & 0           & 1           & 0           & 0           & ...         & 0           & 1           & 0           & 0           & 1           & 0           & 0           & 0           & 0.07824220  & No         \\\\\n",
       "\t5 & -0.9665012  &  0.53484596 & -1.23975624 & 0           & 0           & 0           & 0           & 1           & 0           & 1           & ...         & 1           & 0           & 1           & 0           & 0           & 0           & 0           & 0           & 0.71810068  & Yes        \\\\\n",
       "\t7 & -0.8410424  &  1.27779015 & -0.90832594 & 1           & 0           & 0           & 1           & 1           & 1           & 1           & ...         & 0           & 0           & 0           & 1           & 0           & 0           & 0           & 0           & 0.50599314  & Yes        \\\\\n",
       "\t8 & -1.3846972  & -0.72772970 & -0.34675044 & 0           & 0           & 0           & 0           & 0           & 0           & 0           & ...         & 0           & 1           & 0           & 0           & 0           & 0           & 0           & 0           & 0.28402611  & No         \\\\\n",
       "\t9 & -0.5901249  & -1.48785178 & -0.32712977 & 0           & 0           & 1           & 0           & 1           & 1           & 1           & ...         & 1           & 0           & 1           & 1           & 0           & 0           & 0           & 0           & 0.64161745  & Yes        \\\\\n",
       "\t12 & -1.1337796  & -1.01116505 & -0.22637496 & 1           & 0           & 0           & 0           & 1           & 0           & 0           & ...         & 0           & 0           & 0           & 0           & 0           & 0           & 0           & 0           & 0.02043435  & No         \\\\\n",
       "\t16 &  1.2917568  & -1.17006063 &  1.42971594 & 0           & 0           & 1           & 1           & 1           & 1           & 1           & ...         & 0           & 0           & 0           & 0           & 0           & 0           & 0           & 1           & 0.02029928  & No         \\\\\n",
       "\t24 &  0.7899217  &  0.13116531 & -0.11766582 & 0           & 0           & 1           & 0           & 1           & 1           & 0           & ...         & 0           & 0           & 0           & 0           & 0           & 0           & 1           & 0           & 0.02115781  & No         \\\\\n",
       "\t31 &  1.4172156  &  1.57840340 &  1.10889142 & 0           & 1           & 1           & 0           & 1           & 1           & 1           & ...         & 0           & 0           & 0           & 0           & 0           & 0           & 0           & 1           & 0.02295454  & No         \\\\\n",
       "\t32 & -0.9665012  &  1.54190036 & -1.00908075 & 1           & 1           & 1           & 0           & 1           & 0           & 1           & ...         & 0           & 0           & 0           & 0           & 0           & 0           & 0           & 0           & 0.60201504  & Yes        \\\\\n",
       "\t35 & -1.4265167  & -0.36269932 &  0.29277745 & 1           & 1           & 0           & 0           & 1           & 0           & 0           & ...         & 0           & 0           & 0           & 0           & 0           & 0           & 0           & 0           & 0.47225435  & Yes        \\\\\n",
       "\t38 &  0.2462670  &  0.69374154 & -0.10069659 & 0           & 0           & 0           & 0           & 1           & 0           & 1           & ...         & 0           & 0           & 0           & 0           & 0           & 1           & 0           & 0           & 0.53344853  & Yes        \\\\\n",
       "\t45 & -1.2592384  &  0.75386419 &  1.71819287 & 0           & 0           & 1           & 0           & 1           & 1           & 0           & ...         & 1           & 0           & 0           & 0           & 0           & 0           & 0           & 0           & 0.20492097  & No         \\\\\n",
       "\t46 &  0.3717258  &  1.08453877 &  0.04513274 & 0           & 0           & 0           & 0           & 1           & 1           & 1           & ...         & 1           & 0           & 0           & 0           & 0           & 1           & 0           & 0           & 0.60945899  & Yes        \\\\\n",
       "\t49 &  0.5390041  &  0.89128739 &  0.17823514 & 1           & 0           & 0           & 0           & 1           & 1           & 0           & ...         & 0           & 0           & 0           & 0           & 0           & 1           & 0           & 0           & 0.01926214  & No         \\\\\n",
       "\t52 & -1.1755992  &  1.68147080 & -1.31187547 & 0           & 0           & 0           & 0           & 1           & 0           & 1           & ...         & 0           & 0           & 1           & 0           & 0           & 0           & 0           & 0           & 0.36890000  & Yes        \\\\\n",
       "\t53 & -0.7155837  &  0.48331226 & -1.05415527 & 0           & 1           & 1           & 0           & 1           & 1           & 0           & ...         & 0           & 0           & 0           & 1           & 0           & 0           & 0           & 0           & 0.21734467  & No         \\\\\n",
       "\t65 &  1.5426744  &  1.49466114 &  1.57554527 & 0           & 0           & 0           & 0           & 1           & 1           & 1           & ...         & 1           & 0           & 1           & 0           & 0           & 0           & 0           & 1           & 0.42068357  & Yes        \\\\\n",
       "\t69 &  0.4553649  & -0.95963135 &  1.66304287 & 0           & 0           & 1           & 1           & 1           & 0           & 0           & ...         & 0           & 0           & 0           & 0           & 0           & 1           & 0           & 0           & 0.01032627  & No         \\\\\n",
       "\t72 &  0.5390041  & -0.94889516 & -1.63429086 & 0           & 0           & 1           & 1           & 1           & 0           & 0           & ...         & 1           & 0           & 0           & 0           & 0           & 1           & 0           & 0           & 0.05898353  & No         \\\\\n",
       "\t77 &  0.2462670  & -0.01699408 & -0.48992833 & 0           & 0           & 0           & 0           & 1           & 0           & 0           & ...         & 0           & 0           & 0           & 0           & 0           & 1           & 0           & 0           & 0.11659143  & No         \\\\\n",
       "\t78 &  1.5008548  & -0.05993883 &  0.42853130 & 0           & 0           & 1           & 1           & 1           & 0           & 0           & ...         & 0           & 1           & 0           & 0           & 0           & 0           & 0           & 1           & 0.07981529  & No         \\\\\n",
       "\t86 &  1.5426744  &  1.69005975 &  1.64448278 & 1           & 0           & 0           & 0           & 1           & 1           & 1           & ...         & 0           & 0           & 0           & 0           & 0           & 0           & 0           & 1           & 0.31954597  & No         \\\\\n",
       "\t88 &  0.3299062  & -0.93815897 & -1.67300192 & 0           & 0           & 1           & 1           & 1           & 0           & 0           & ...         & 0           & 0           & 0           & 0           & 0           & 1           & 0           & 0           & 0.01067916  & No         \\\\\n",
       "\t89 &  0.2462670  & -0.96822030 &  1.65402797 & 0           & 0           & 1           & 1           & 1           & 0           & 0           & ...         & 0           & 1           & 0           & 0           & 0           & 1           & 0           & 0           & 0.01550544  & No         \\\\\n",
       "\t90 & -0.5483053  & -0.65687086 & -1.72019759 & 1           & 0           & 1           & 0           & 0           & 0           & 0           & ...         & 0           & 1           & 0           & 1           & 0           & 0           & 0           & 0           & 0.30980903  & No         \\\\\n",
       "\t92 & -1.4265167  &  0.68944707 &  1.30456786 & 1           & 1           & 0           & 0           & 1           & 0           & 1           & ...         & 1           & 0           & 0           & 0           & 0           & 0           & 0           & 0           & 0.64633012  & Yes        \\\\\n",
       "\t94 &  1.1244784  & -1.23877223 &  1.22608517 & 0           & 0           & 0           & 0           & 1           & 1           & 1           & ...         & 0           & 0           & 0           & 0           & 0           & 0           & 0           & 1           & 0.32192187  & Yes        \\\\\n",
       "\t96 & -1.3010580  &  0.85693159 &  1.65508854 & 0           & 0           & 0           & 0           & 1           & 1           & 1           & ...         & 1           & 0           & 1           & 0           & 0           & 0           & 0           & 0           & 0.59568946  & Yes        \\\\\n",
       "\t98 &  0.4135453  & -0.92098107 & -1.59664038 & 1           & 0           & 0           & 0           & 1           & 0           & 0           & ...         & 0           & 1           & 1           & 0           & 0           & 1           & 0           & 0           & 0.10006382  & No         \\\\\n",
       "\t... & ... & ... & ... & ... & ... & ... & ... & ... & ... & ... &     & ... & ... & ... & ... & ... & ... & ... & ... & ... & ...\\\\\n",
       "\t6948 & -1.259238377 & -0.97680925  & -0.61083411  & 0            & 0            & 1            & 1            & 1            & 0            & 0            & ...          & 0            & 0            & 0            & 0            & 0            & 0            & 0            & 0            & 0.024133431  & No          \\\\\n",
       "\t6954 &  0.371725751 &  0.01092001  & -0.45227785  & 0            & 0            & 1            & 0            & 0            & 0            & 0            & ...          & 0            & 0            & 0            & 0            & 0            & 1            & 0            & 0            & 0.067202857  & No          \\\\\n",
       "\t6955 &  0.957200054 &  1.48607219  &  0.83473228  & 0            & 1            & 1            & 0            & 1            & 1            & 1            & ...          & 0            & 0            & 0            & 0            & 0            & 0            & 1            & 0            & 0.190315908  & No          \\\\\n",
       "\t6960 & -0.046470179 &  0.67441640  & -0.51326103  & 1            & 0            & 0            & 0            & 1            & 1            & 1            & ...          & 1            & 0            & 1            & 0            & 1            & 0            & 0            & 0            & 0.654138303  & Yes         \\\\\n",
       "\t6961 & -1.050140412 &  1.70938489  & -0.99370238  & 0            & 1            & 1            & 0            & 1            & 1            & 1            & ...          & 0            & 0            & 1            & 0            & 0            & 0            & 0            & 0            & 0.425786154  & Yes         \\\\\n",
       "\t6962 &  0.706282495 & -1.20441643  &  1.01078805  & 0            & 1            & 0            & 0            & 1            & 1            & 1            & ...          & 1            & 0            & 1            & 0            & 0            & 0            & 1            & 0            & 0.308756593  & No          \\\\\n",
       "\t6964 &  0.497184530 &  1.67288185  &  0.49269621  & 0            & 0            & 1            & 0            & 1            & 1            & 1            & ...          & 1            & 0            & 0            & 0            & 0            & 1            & 0            & 0            & 0.270954019  & No          \\\\\n",
       "\t6968 &  1.375395984 &  0.93208491  &  0.73662891  & 0            & 0            & 1            & 1            & 1            & 1            & 0            & ...          & 1            & 0            & 0            & 0            & 0            & 0            & 0            & 1            & 0.009280221  & No          \\\\\n",
       "\t6969 & -1.426516749 & -0.86515290  & -0.65007545  & 1            & 0            & 0            & 1            & 0            & 0            & 0            & ...          & 0            & 1            & 0            & 0            & 0            & 0            & 0            & 0            & 0.426803480  & Yes         \\\\\n",
       "\t6974 & -0.422846516 & -0.83079710  &  1.42865537  & 1            & 0            & 0            & 1            & 0            & 0            & 0            & ...          & 0            & 0            & 0            & 0            & 1            & 0            & 0            & 0            & 0.354250067  & Yes         \\\\\n",
       "\t6975 & -0.171928958 & -0.50012252  & -1.22702931  & 1            & 0            & 1            & 1            & 0            & 0            & 0            & ...          & 1            & 0            & 0            & 0            & 1            & 0            & 0            & 0            & 0.097341198  & No          \\\\\n",
       "\t6980 & -0.213748551 &  1.46030534  & -0.18077015  & 1            & 0            & 1            & 0            & 1            & 0            & 1            & ...          & 1            & 0            & 0            & 0            & 1            & 0            & 0            & 0            & 0.438839409  & Yes         \\\\\n",
       "\t6982 &  1.417215577 & -1.65748354  &  1.23032748  & 1            & 0            & 1            & 1            & 1            & 1            & 1            & ...          & 0            & 0            & 0            & 0            & 0            & 0            & 0            & 1            & 0.139704320  & No          \\\\\n",
       "\t6983 &  0.455364937 &  1.23269816  &  0.23603659  & 0            & 1            & 1            & 0            & 1            & 1            & 1            & ...          & 1            & 0            & 1            & 0            & 0            & 1            & 0            & 0            & 0.528321273  & Yes         \\\\\n",
       "\t6985 &  0.748102088 &  1.29711528  &  0.52080150  & 1            & 0            & 0            & 1            & 1            & 1            & 0            & ...          & 0            & 1            & 0            & 0            & 0            & 0            & 1            & 0            & 0.008610429  & No          \\\\\n",
       "\t6986 &  0.037169007 &  0.37809763  & -0.47242881  & 0            & 0            & 1            & 1            & 1            & 0            & 0            & ...          & 0            & 0            & 1            & 0            & 1            & 0            & 0            & 0            & 0.069735062  & No          \\\\\n",
       "\t6987 & -0.631944482 &  0.74956972  & -0.81711632  & 0            & 0            & 1            & 0            & 1            & 0            & 1            & ...          & 1            & 0            & 0            & 1            & 0            & 0            & 0            & 0            & 0.562492270  & Yes         \\\\\n",
       "\t6989 & -0.506485702 & -0.60318992  & -1.66769903  & 1            & 0            & 0            & 0            & 0            & 0            & 0            & ...          & 0            & 1            & 1            & 1            & 0            & 0            & 0            & 0            & 0.231729392  & No          \\\\\n",
       "\t6993 & -0.673764075 & -0.59030650  & -1.70694038  & 1            & 0            & 0            & 0            & 0            & 0            & 0            & ...          & 1            & 0            & 0            & 1            & 0            & 0            & 0            & 0            & 0.374063073  & Yes         \\\\\n",
       "\t6994 & -0.130109365 &  1.52472246  & -0.04130428  & 1            & 0            & 0            & 0            & 1            & 1            & 1            & ...          & 0            & 0            & 0            & 0            & 1            & 0            & 0            & 0            & 0.443010992  & Yes         \\\\\n",
       "\t6996 & -0.004650586 & -1.50073521  &  0.09922216  & 1            & 0            & 0            & 0            & 1            & 1            & 1            & ...          & 0            & 0            & 1            & 0            & 1            & 0            & 0            & 0            & 0.557250405  & Yes         \\\\\n",
       "\t6997 &  1.459035170 &  0.24496890  &  0.37179044  & 1            & 1            & 1            & 0            & 0            & 0            & 0            & ...          & 0            & 0            & 0            & 0            & 0            & 0            & 0            & 1            & 0.012354302  & No          \\\\\n",
       "\t7001 & -0.046470179 &  0.15263769  & -0.47879227  & 0            & 0            & 0            & 0            & 1            & 0            & 0            & ...          & 0            & 1            & 1            & 0            & 1            & 0            & 0            & 0            & 0.139121237  & No          \\\\\n",
       "\t7002 &  0.999019647 &  1.10386391  &  0.56587602  & 0            & 0            & 1            & 0            & 1            & 1            & 0            & ...          & 1            & 0            & 0            & 0            & 0            & 0            & 1            & 0            & 0.014225128  & No          \\\\\n",
       "\t7006 & -1.426516749 & -0.22312888  &  0.46936352  & 0            & 0            & 0            & 0            & 1            & 0            & 0            & ...          & 1            & 0            & 0            & 0            & 0            & 0            & 0            & 0            & 0.419058120  & Yes         \\\\\n",
       "\t7017 & -1.259238377 &  0.63361889  &  1.66410345  & 1            & 0            & 0            & 0            & 1            & 0            & 0            & ...          & 0            & 1            & 0            & 0            & 0            & 0            & 0            & 0            & 0.215441903  & No          \\\\\n",
       "\t7021 &  0.664462902 &  0.13545979  & -0.20304227  & 1            & 1            & 1            & 0            & 1            & 1            & 0            & ...          & 0            & 0            & 0            & 0            & 0            & 0            & 1            & 0            & 0.045129784  & No          \\\\\n",
       "\t7024 &  1.208117612 & -1.56515233  &  1.14972363  & 0            & 0            & 0            & 0            & 1            & 1            & 1            & ...          & 0            & 0            & 1            & 0            & 0            & 0            & 0            & 1            & 0.328189057  & Yes         \\\\\n",
       "\t7025 & -1.008320819 &  0.84619541  & -1.25725575  & 1            & 0            & 0            & 0            & 1            & 0            & 1            & ...          & 0            & 0            & 0            & 0            & 0            & 0            & 0            & 0            & 0.618647583  & Yes         \\\\\n",
       "\t7029 &  1.459035170 & -1.55441614  &  1.29131065  & 0            & 0            & 1            & 1            & 1            & 1            & 1            & ...          & 0            & 0            & 0            & 0            & 0            & 0            & 0            & 1            & 0.182531533  & No          \\\\\n",
       "\\end{tabular}\n"
      ],
      "text/markdown": [
       "\n",
       "| <!--/--> | tenure | MonthlyCharges | TotalCharges | gender | SeniorCitizen | Partner | Dependents | PhoneService | MultipleLines | InternetService.xFiber.optic | ... | PaymentMethod.xElectronic.check | PaymentMethod.xMailed.check | Churn | tenure_bin.x1.2.y | tenure_bin.x2.3.y | tenure_bin.x3.4.y | tenure_bin.x4.5.y | tenure_bin.x5.6.y | prob | pronostico |\n",
       "|---|---|---|---|---|---|---|---|---|---|---|---|---|---|---|---|---|---|---|---|---|---|\n",
       "| 2 | -0.2973877  |  0.03883410 | -0.95287017 | 1           | 0           | 0           | 0           | 1           | 0           | 0           | ...         | 0           | 1           | 0           | 0           | 1           | 0           | 0           | 0           | 0.07824220  | No          |\n",
       "| 5 | -0.9665012  |  0.53484596 | -1.23975624 | 0           | 0           | 0           | 0           | 1           | 0           | 1           | ...         | 1           | 0           | 1           | 0           | 0           | 0           | 0           | 0           | 0.71810068  | Yes         |\n",
       "| 7 | -0.8410424  |  1.27779015 | -0.90832594 | 1           | 0           | 0           | 1           | 1           | 1           | 1           | ...         | 0           | 0           | 0           | 1           | 0           | 0           | 0           | 0           | 0.50599314  | Yes         |\n",
       "| 8 | -1.3846972  | -0.72772970 | -0.34675044 | 0           | 0           | 0           | 0           | 0           | 0           | 0           | ...         | 0           | 1           | 0           | 0           | 0           | 0           | 0           | 0           | 0.28402611  | No          |\n",
       "| 9 | -0.5901249  | -1.48785178 | -0.32712977 | 0           | 0           | 1           | 0           | 1           | 1           | 1           | ...         | 1           | 0           | 1           | 1           | 0           | 0           | 0           | 0           | 0.64161745  | Yes         |\n",
       "| 12 | -1.1337796  | -1.01116505 | -0.22637496 | 1           | 0           | 0           | 0           | 1           | 0           | 0           | ...         | 0           | 0           | 0           | 0           | 0           | 0           | 0           | 0           | 0.02043435  | No          |\n",
       "| 16 |  1.2917568  | -1.17006063 |  1.42971594 | 0           | 0           | 1           | 1           | 1           | 1           | 1           | ...         | 0           | 0           | 0           | 0           | 0           | 0           | 0           | 1           | 0.02029928  | No          |\n",
       "| 24 |  0.7899217  |  0.13116531 | -0.11766582 | 0           | 0           | 1           | 0           | 1           | 1           | 0           | ...         | 0           | 0           | 0           | 0           | 0           | 0           | 1           | 0           | 0.02115781  | No          |\n",
       "| 31 |  1.4172156  |  1.57840340 |  1.10889142 | 0           | 1           | 1           | 0           | 1           | 1           | 1           | ...         | 0           | 0           | 0           | 0           | 0           | 0           | 0           | 1           | 0.02295454  | No          |\n",
       "| 32 | -0.9665012  |  1.54190036 | -1.00908075 | 1           | 1           | 1           | 0           | 1           | 0           | 1           | ...         | 0           | 0           | 0           | 0           | 0           | 0           | 0           | 0           | 0.60201504  | Yes         |\n",
       "| 35 | -1.4265167  | -0.36269932 |  0.29277745 | 1           | 1           | 0           | 0           | 1           | 0           | 0           | ...         | 0           | 0           | 0           | 0           | 0           | 0           | 0           | 0           | 0.47225435  | Yes         |\n",
       "| 38 |  0.2462670  |  0.69374154 | -0.10069659 | 0           | 0           | 0           | 0           | 1           | 0           | 1           | ...         | 0           | 0           | 0           | 0           | 0           | 1           | 0           | 0           | 0.53344853  | Yes         |\n",
       "| 45 | -1.2592384  |  0.75386419 |  1.71819287 | 0           | 0           | 1           | 0           | 1           | 1           | 0           | ...         | 1           | 0           | 0           | 0           | 0           | 0           | 0           | 0           | 0.20492097  | No          |\n",
       "| 46 |  0.3717258  |  1.08453877 |  0.04513274 | 0           | 0           | 0           | 0           | 1           | 1           | 1           | ...         | 1           | 0           | 0           | 0           | 0           | 1           | 0           | 0           | 0.60945899  | Yes         |\n",
       "| 49 |  0.5390041  |  0.89128739 |  0.17823514 | 1           | 0           | 0           | 0           | 1           | 1           | 0           | ...         | 0           | 0           | 0           | 0           | 0           | 1           | 0           | 0           | 0.01926214  | No          |\n",
       "| 52 | -1.1755992  |  1.68147080 | -1.31187547 | 0           | 0           | 0           | 0           | 1           | 0           | 1           | ...         | 0           | 0           | 1           | 0           | 0           | 0           | 0           | 0           | 0.36890000  | Yes         |\n",
       "| 53 | -0.7155837  |  0.48331226 | -1.05415527 | 0           | 1           | 1           | 0           | 1           | 1           | 0           | ...         | 0           | 0           | 0           | 1           | 0           | 0           | 0           | 0           | 0.21734467  | No          |\n",
       "| 65 |  1.5426744  |  1.49466114 |  1.57554527 | 0           | 0           | 0           | 0           | 1           | 1           | 1           | ...         | 1           | 0           | 1           | 0           | 0           | 0           | 0           | 1           | 0.42068357  | Yes         |\n",
       "| 69 |  0.4553649  | -0.95963135 |  1.66304287 | 0           | 0           | 1           | 1           | 1           | 0           | 0           | ...         | 0           | 0           | 0           | 0           | 0           | 1           | 0           | 0           | 0.01032627  | No          |\n",
       "| 72 |  0.5390041  | -0.94889516 | -1.63429086 | 0           | 0           | 1           | 1           | 1           | 0           | 0           | ...         | 1           | 0           | 0           | 0           | 0           | 1           | 0           | 0           | 0.05898353  | No          |\n",
       "| 77 |  0.2462670  | -0.01699408 | -0.48992833 | 0           | 0           | 0           | 0           | 1           | 0           | 0           | ...         | 0           | 0           | 0           | 0           | 0           | 1           | 0           | 0           | 0.11659143  | No          |\n",
       "| 78 |  1.5008548  | -0.05993883 |  0.42853130 | 0           | 0           | 1           | 1           | 1           | 0           | 0           | ...         | 0           | 1           | 0           | 0           | 0           | 0           | 0           | 1           | 0.07981529  | No          |\n",
       "| 86 |  1.5426744  |  1.69005975 |  1.64448278 | 1           | 0           | 0           | 0           | 1           | 1           | 1           | ...         | 0           | 0           | 0           | 0           | 0           | 0           | 0           | 1           | 0.31954597  | No          |\n",
       "| 88 |  0.3299062  | -0.93815897 | -1.67300192 | 0           | 0           | 1           | 1           | 1           | 0           | 0           | ...         | 0           | 0           | 0           | 0           | 0           | 1           | 0           | 0           | 0.01067916  | No          |\n",
       "| 89 |  0.2462670  | -0.96822030 |  1.65402797 | 0           | 0           | 1           | 1           | 1           | 0           | 0           | ...         | 0           | 1           | 0           | 0           | 0           | 1           | 0           | 0           | 0.01550544  | No          |\n",
       "| 90 | -0.5483053  | -0.65687086 | -1.72019759 | 1           | 0           | 1           | 0           | 0           | 0           | 0           | ...         | 0           | 1           | 0           | 1           | 0           | 0           | 0           | 0           | 0.30980903  | No          |\n",
       "| 92 | -1.4265167  |  0.68944707 |  1.30456786 | 1           | 1           | 0           | 0           | 1           | 0           | 1           | ...         | 1           | 0           | 0           | 0           | 0           | 0           | 0           | 0           | 0.64633012  | Yes         |\n",
       "| 94 |  1.1244784  | -1.23877223 |  1.22608517 | 0           | 0           | 0           | 0           | 1           | 1           | 1           | ...         | 0           | 0           | 0           | 0           | 0           | 0           | 0           | 1           | 0.32192187  | Yes         |\n",
       "| 96 | -1.3010580  |  0.85693159 |  1.65508854 | 0           | 0           | 0           | 0           | 1           | 1           | 1           | ...         | 1           | 0           | 1           | 0           | 0           | 0           | 0           | 0           | 0.59568946  | Yes         |\n",
       "| 98 |  0.4135453  | -0.92098107 | -1.59664038 | 1           | 0           | 0           | 0           | 1           | 0           | 0           | ...         | 0           | 1           | 1           | 0           | 0           | 1           | 0           | 0           | 0.10006382  | No          |\n",
       "| ... | ... | ... | ... | ... | ... | ... | ... | ... | ... | ... |     | ... | ... | ... | ... | ... | ... | ... | ... | ... | ... |\n",
       "| 6948 | -1.259238377 | -0.97680925  | -0.61083411  | 0            | 0            | 1            | 1            | 1            | 0            | 0            | ...          | 0            | 0            | 0            | 0            | 0            | 0            | 0            | 0            | 0.024133431  | No           |\n",
       "| 6954 |  0.371725751 |  0.01092001  | -0.45227785  | 0            | 0            | 1            | 0            | 0            | 0            | 0            | ...          | 0            | 0            | 0            | 0            | 0            | 1            | 0            | 0            | 0.067202857  | No           |\n",
       "| 6955 |  0.957200054 |  1.48607219  |  0.83473228  | 0            | 1            | 1            | 0            | 1            | 1            | 1            | ...          | 0            | 0            | 0            | 0            | 0            | 0            | 1            | 0            | 0.190315908  | No           |\n",
       "| 6960 | -0.046470179 |  0.67441640  | -0.51326103  | 1            | 0            | 0            | 0            | 1            | 1            | 1            | ...          | 1            | 0            | 1            | 0            | 1            | 0            | 0            | 0            | 0.654138303  | Yes          |\n",
       "| 6961 | -1.050140412 |  1.70938489  | -0.99370238  | 0            | 1            | 1            | 0            | 1            | 1            | 1            | ...          | 0            | 0            | 1            | 0            | 0            | 0            | 0            | 0            | 0.425786154  | Yes          |\n",
       "| 6962 |  0.706282495 | -1.20441643  |  1.01078805  | 0            | 1            | 0            | 0            | 1            | 1            | 1            | ...          | 1            | 0            | 1            | 0            | 0            | 0            | 1            | 0            | 0.308756593  | No           |\n",
       "| 6964 |  0.497184530 |  1.67288185  |  0.49269621  | 0            | 0            | 1            | 0            | 1            | 1            | 1            | ...          | 1            | 0            | 0            | 0            | 0            | 1            | 0            | 0            | 0.270954019  | No           |\n",
       "| 6968 |  1.375395984 |  0.93208491  |  0.73662891  | 0            | 0            | 1            | 1            | 1            | 1            | 0            | ...          | 1            | 0            | 0            | 0            | 0            | 0            | 0            | 1            | 0.009280221  | No           |\n",
       "| 6969 | -1.426516749 | -0.86515290  | -0.65007545  | 1            | 0            | 0            | 1            | 0            | 0            | 0            | ...          | 0            | 1            | 0            | 0            | 0            | 0            | 0            | 0            | 0.426803480  | Yes          |\n",
       "| 6974 | -0.422846516 | -0.83079710  |  1.42865537  | 1            | 0            | 0            | 1            | 0            | 0            | 0            | ...          | 0            | 0            | 0            | 0            | 1            | 0            | 0            | 0            | 0.354250067  | Yes          |\n",
       "| 6975 | -0.171928958 | -0.50012252  | -1.22702931  | 1            | 0            | 1            | 1            | 0            | 0            | 0            | ...          | 1            | 0            | 0            | 0            | 1            | 0            | 0            | 0            | 0.097341198  | No           |\n",
       "| 6980 | -0.213748551 |  1.46030534  | -0.18077015  | 1            | 0            | 1            | 0            | 1            | 0            | 1            | ...          | 1            | 0            | 0            | 0            | 1            | 0            | 0            | 0            | 0.438839409  | Yes          |\n",
       "| 6982 |  1.417215577 | -1.65748354  |  1.23032748  | 1            | 0            | 1            | 1            | 1            | 1            | 1            | ...          | 0            | 0            | 0            | 0            | 0            | 0            | 0            | 1            | 0.139704320  | No           |\n",
       "| 6983 |  0.455364937 |  1.23269816  |  0.23603659  | 0            | 1            | 1            | 0            | 1            | 1            | 1            | ...          | 1            | 0            | 1            | 0            | 0            | 1            | 0            | 0            | 0.528321273  | Yes          |\n",
       "| 6985 |  0.748102088 |  1.29711528  |  0.52080150  | 1            | 0            | 0            | 1            | 1            | 1            | 0            | ...          | 0            | 1            | 0            | 0            | 0            | 0            | 1            | 0            | 0.008610429  | No           |\n",
       "| 6986 |  0.037169007 |  0.37809763  | -0.47242881  | 0            | 0            | 1            | 1            | 1            | 0            | 0            | ...          | 0            | 0            | 1            | 0            | 1            | 0            | 0            | 0            | 0.069735062  | No           |\n",
       "| 6987 | -0.631944482 |  0.74956972  | -0.81711632  | 0            | 0            | 1            | 0            | 1            | 0            | 1            | ...          | 1            | 0            | 0            | 1            | 0            | 0            | 0            | 0            | 0.562492270  | Yes          |\n",
       "| 6989 | -0.506485702 | -0.60318992  | -1.66769903  | 1            | 0            | 0            | 0            | 0            | 0            | 0            | ...          | 0            | 1            | 1            | 1            | 0            | 0            | 0            | 0            | 0.231729392  | No           |\n",
       "| 6993 | -0.673764075 | -0.59030650  | -1.70694038  | 1            | 0            | 0            | 0            | 0            | 0            | 0            | ...          | 1            | 0            | 0            | 1            | 0            | 0            | 0            | 0            | 0.374063073  | Yes          |\n",
       "| 6994 | -0.130109365 |  1.52472246  | -0.04130428  | 1            | 0            | 0            | 0            | 1            | 1            | 1            | ...          | 0            | 0            | 0            | 0            | 1            | 0            | 0            | 0            | 0.443010992  | Yes          |\n",
       "| 6996 | -0.004650586 | -1.50073521  |  0.09922216  | 1            | 0            | 0            | 0            | 1            | 1            | 1            | ...          | 0            | 0            | 1            | 0            | 1            | 0            | 0            | 0            | 0.557250405  | Yes          |\n",
       "| 6997 |  1.459035170 |  0.24496890  |  0.37179044  | 1            | 1            | 1            | 0            | 0            | 0            | 0            | ...          | 0            | 0            | 0            | 0            | 0            | 0            | 0            | 1            | 0.012354302  | No           |\n",
       "| 7001 | -0.046470179 |  0.15263769  | -0.47879227  | 0            | 0            | 0            | 0            | 1            | 0            | 0            | ...          | 0            | 1            | 1            | 0            | 1            | 0            | 0            | 0            | 0.139121237  | No           |\n",
       "| 7002 |  0.999019647 |  1.10386391  |  0.56587602  | 0            | 0            | 1            | 0            | 1            | 1            | 0            | ...          | 1            | 0            | 0            | 0            | 0            | 0            | 1            | 0            | 0.014225128  | No           |\n",
       "| 7006 | -1.426516749 | -0.22312888  |  0.46936352  | 0            | 0            | 0            | 0            | 1            | 0            | 0            | ...          | 1            | 0            | 0            | 0            | 0            | 0            | 0            | 0            | 0.419058120  | Yes          |\n",
       "| 7017 | -1.259238377 |  0.63361889  |  1.66410345  | 1            | 0            | 0            | 0            | 1            | 0            | 0            | ...          | 0            | 1            | 0            | 0            | 0            | 0            | 0            | 0            | 0.215441903  | No           |\n",
       "| 7021 |  0.664462902 |  0.13545979  | -0.20304227  | 1            | 1            | 1            | 0            | 1            | 1            | 0            | ...          | 0            | 0            | 0            | 0            | 0            | 0            | 1            | 0            | 0.045129784  | No           |\n",
       "| 7024 |  1.208117612 | -1.56515233  |  1.14972363  | 0            | 0            | 0            | 0            | 1            | 1            | 1            | ...          | 0            | 0            | 1            | 0            | 0            | 0            | 0            | 1            | 0.328189057  | Yes          |\n",
       "| 7025 | -1.008320819 |  0.84619541  | -1.25725575  | 1            | 0            | 0            | 0            | 1            | 0            | 1            | ...          | 0            | 0            | 0            | 0            | 0            | 0            | 0            | 0            | 0.618647583  | Yes          |\n",
       "| 7029 |  1.459035170 | -1.55441614  |  1.29131065  | 0            | 0            | 1            | 1            | 1            | 1            | 1            | ...          | 0            | 0            | 0            | 0            | 0            | 0            | 0            | 1            | 0.182531533  | No           |\n",
       "\n"
      ],
      "text/plain": [
       "     tenure       MonthlyCharges TotalCharges gender SeniorCitizen Partner\n",
       "2    -0.2973877    0.03883410    -0.95287017  1      0             0      \n",
       "5    -0.9665012    0.53484596    -1.23975624  0      0             0      \n",
       "7    -0.8410424    1.27779015    -0.90832594  1      0             0      \n",
       "8    -1.3846972   -0.72772970    -0.34675044  0      0             0      \n",
       "9    -0.5901249   -1.48785178    -0.32712977  0      0             1      \n",
       "12   -1.1337796   -1.01116505    -0.22637496  1      0             0      \n",
       "16    1.2917568   -1.17006063     1.42971594  0      0             1      \n",
       "24    0.7899217    0.13116531    -0.11766582  0      0             1      \n",
       "31    1.4172156    1.57840340     1.10889142  0      1             1      \n",
       "32   -0.9665012    1.54190036    -1.00908075  1      1             1      \n",
       "35   -1.4265167   -0.36269932     0.29277745  1      1             0      \n",
       "38    0.2462670    0.69374154    -0.10069659  0      0             0      \n",
       "45   -1.2592384    0.75386419     1.71819287  0      0             1      \n",
       "46    0.3717258    1.08453877     0.04513274  0      0             0      \n",
       "49    0.5390041    0.89128739     0.17823514  1      0             0      \n",
       "52   -1.1755992    1.68147080    -1.31187547  0      0             0      \n",
       "53   -0.7155837    0.48331226    -1.05415527  0      1             1      \n",
       "65    1.5426744    1.49466114     1.57554527  0      0             0      \n",
       "69    0.4553649   -0.95963135     1.66304287  0      0             1      \n",
       "72    0.5390041   -0.94889516    -1.63429086  0      0             1      \n",
       "77    0.2462670   -0.01699408    -0.48992833  0      0             0      \n",
       "78    1.5008548   -0.05993883     0.42853130  0      0             1      \n",
       "86    1.5426744    1.69005975     1.64448278  1      0             0      \n",
       "88    0.3299062   -0.93815897    -1.67300192  0      0             1      \n",
       "89    0.2462670   -0.96822030     1.65402797  0      0             1      \n",
       "90   -0.5483053   -0.65687086    -1.72019759  1      0             1      \n",
       "92   -1.4265167    0.68944707     1.30456786  1      1             0      \n",
       "94    1.1244784   -1.23877223     1.22608517  0      0             0      \n",
       "96   -1.3010580    0.85693159     1.65508854  0      0             0      \n",
       "98    0.4135453   -0.92098107    -1.59664038  1      0             0      \n",
       "...  ...          ...            ...          ...    ...           ...    \n",
       "6948 -1.259238377 -0.97680925    -0.61083411  0      0             1      \n",
       "6954  0.371725751  0.01092001    -0.45227785  0      0             1      \n",
       "6955  0.957200054  1.48607219     0.83473228  0      1             1      \n",
       "6960 -0.046470179  0.67441640    -0.51326103  1      0             0      \n",
       "6961 -1.050140412  1.70938489    -0.99370238  0      1             1      \n",
       "6962  0.706282495 -1.20441643     1.01078805  0      1             0      \n",
       "6964  0.497184530  1.67288185     0.49269621  0      0             1      \n",
       "6968  1.375395984  0.93208491     0.73662891  0      0             1      \n",
       "6969 -1.426516749 -0.86515290    -0.65007545  1      0             0      \n",
       "6974 -0.422846516 -0.83079710     1.42865537  1      0             0      \n",
       "6975 -0.171928958 -0.50012252    -1.22702931  1      0             1      \n",
       "6980 -0.213748551  1.46030534    -0.18077015  1      0             1      \n",
       "6982  1.417215577 -1.65748354     1.23032748  1      0             1      \n",
       "6983  0.455364937  1.23269816     0.23603659  0      1             1      \n",
       "6985  0.748102088  1.29711528     0.52080150  1      0             0      \n",
       "6986  0.037169007  0.37809763    -0.47242881  0      0             1      \n",
       "6987 -0.631944482  0.74956972    -0.81711632  0      0             1      \n",
       "6989 -0.506485702 -0.60318992    -1.66769903  1      0             0      \n",
       "6993 -0.673764075 -0.59030650    -1.70694038  1      0             0      \n",
       "6994 -0.130109365  1.52472246    -0.04130428  1      0             0      \n",
       "6996 -0.004650586 -1.50073521     0.09922216  1      0             0      \n",
       "6997  1.459035170  0.24496890     0.37179044  1      1             1      \n",
       "7001 -0.046470179  0.15263769    -0.47879227  0      0             0      \n",
       "7002  0.999019647  1.10386391     0.56587602  0      0             1      \n",
       "7006 -1.426516749 -0.22312888     0.46936352  0      0             0      \n",
       "7017 -1.259238377  0.63361889     1.66410345  1      0             0      \n",
       "7021  0.664462902  0.13545979    -0.20304227  1      1             1      \n",
       "7024  1.208117612 -1.56515233     1.14972363  0      0             0      \n",
       "7025 -1.008320819  0.84619541    -1.25725575  1      0             0      \n",
       "7029  1.459035170 -1.55441614     1.29131065  0      0             1      \n",
       "     Dependents PhoneService MultipleLines InternetService.xFiber.optic ...\n",
       "2    0          1            0             0                            ...\n",
       "5    0          1            0             1                            ...\n",
       "7    1          1            1             1                            ...\n",
       "8    0          0            0             0                            ...\n",
       "9    0          1            1             1                            ...\n",
       "12   0          1            0             0                            ...\n",
       "16   1          1            1             1                            ...\n",
       "24   0          1            1             0                            ...\n",
       "31   0          1            1             1                            ...\n",
       "32   0          1            0             1                            ...\n",
       "35   0          1            0             0                            ...\n",
       "38   0          1            0             1                            ...\n",
       "45   0          1            1             0                            ...\n",
       "46   0          1            1             1                            ...\n",
       "49   0          1            1             0                            ...\n",
       "52   0          1            0             1                            ...\n",
       "53   0          1            1             0                            ...\n",
       "65   0          1            1             1                            ...\n",
       "69   1          1            0             0                            ...\n",
       "72   1          1            0             0                            ...\n",
       "77   0          1            0             0                            ...\n",
       "78   1          1            0             0                            ...\n",
       "86   0          1            1             1                            ...\n",
       "88   1          1            0             0                            ...\n",
       "89   1          1            0             0                            ...\n",
       "90   0          0            0             0                            ...\n",
       "92   0          1            0             1                            ...\n",
       "94   0          1            1             1                            ...\n",
       "96   0          1            1             1                            ...\n",
       "98   0          1            0             0                            ...\n",
       "...  ...        ...          ...           ...                             \n",
       "6948 1          1            0             0                            ...\n",
       "6954 0          0            0             0                            ...\n",
       "6955 0          1            1             1                            ...\n",
       "6960 0          1            1             1                            ...\n",
       "6961 0          1            1             1                            ...\n",
       "6962 0          1            1             1                            ...\n",
       "6964 0          1            1             1                            ...\n",
       "6968 1          1            1             0                            ...\n",
       "6969 1          0            0             0                            ...\n",
       "6974 1          0            0             0                            ...\n",
       "6975 1          0            0             0                            ...\n",
       "6980 0          1            0             1                            ...\n",
       "6982 1          1            1             1                            ...\n",
       "6983 0          1            1             1                            ...\n",
       "6985 1          1            1             0                            ...\n",
       "6986 1          1            0             0                            ...\n",
       "6987 0          1            0             1                            ...\n",
       "6989 0          0            0             0                            ...\n",
       "6993 0          0            0             0                            ...\n",
       "6994 0          1            1             1                            ...\n",
       "6996 0          1            1             1                            ...\n",
       "6997 0          0            0             0                            ...\n",
       "7001 0          1            0             0                            ...\n",
       "7002 0          1            1             0                            ...\n",
       "7006 0          1            0             0                            ...\n",
       "7017 0          1            0             0                            ...\n",
       "7021 0          1            1             0                            ...\n",
       "7024 0          1            1             1                            ...\n",
       "7025 0          1            0             1                            ...\n",
       "7029 1          1            1             1                            ...\n",
       "     PaymentMethod.xElectronic.check PaymentMethod.xMailed.check Churn\n",
       "2    0                               1                           0    \n",
       "5    1                               0                           1    \n",
       "7    0                               0                           0    \n",
       "8    0                               1                           0    \n",
       "9    1                               0                           1    \n",
       "12   0                               0                           0    \n",
       "16   0                               0                           0    \n",
       "24   0                               0                           0    \n",
       "31   0                               0                           0    \n",
       "32   0                               0                           0    \n",
       "35   0                               0                           0    \n",
       "38   0                               0                           0    \n",
       "45   1                               0                           0    \n",
       "46   1                               0                           0    \n",
       "49   0                               0                           0    \n",
       "52   0                               0                           1    \n",
       "53   0                               0                           0    \n",
       "65   1                               0                           1    \n",
       "69   0                               0                           0    \n",
       "72   1                               0                           0    \n",
       "77   0                               0                           0    \n",
       "78   0                               1                           0    \n",
       "86   0                               0                           0    \n",
       "88   0                               0                           0    \n",
       "89   0                               1                           0    \n",
       "90   0                               1                           0    \n",
       "92   1                               0                           0    \n",
       "94   0                               0                           0    \n",
       "96   1                               0                           1    \n",
       "98   0                               1                           1    \n",
       "...  ...                             ...                         ...  \n",
       "6948 0                               0                           0    \n",
       "6954 0                               0                           0    \n",
       "6955 0                               0                           0    \n",
       "6960 1                               0                           1    \n",
       "6961 0                               0                           1    \n",
       "6962 1                               0                           1    \n",
       "6964 1                               0                           0    \n",
       "6968 1                               0                           0    \n",
       "6969 0                               1                           0    \n",
       "6974 0                               0                           0    \n",
       "6975 1                               0                           0    \n",
       "6980 1                               0                           0    \n",
       "6982 0                               0                           0    \n",
       "6983 1                               0                           1    \n",
       "6985 0                               1                           0    \n",
       "6986 0                               0                           1    \n",
       "6987 1                               0                           0    \n",
       "6989 0                               1                           1    \n",
       "6993 1                               0                           0    \n",
       "6994 0                               0                           0    \n",
       "6996 0                               0                           1    \n",
       "6997 0                               0                           0    \n",
       "7001 0                               1                           1    \n",
       "7002 1                               0                           0    \n",
       "7006 1                               0                           0    \n",
       "7017 0                               1                           0    \n",
       "7021 0                               0                           0    \n",
       "7024 0                               0                           1    \n",
       "7025 0                               0                           0    \n",
       "7029 0                               0                           0    \n",
       "     tenure_bin.x1.2.y tenure_bin.x2.3.y tenure_bin.x3.4.y tenure_bin.x4.5.y\n",
       "2    0                 1                 0                 0                \n",
       "5    0                 0                 0                 0                \n",
       "7    1                 0                 0                 0                \n",
       "8    0                 0                 0                 0                \n",
       "9    1                 0                 0                 0                \n",
       "12   0                 0                 0                 0                \n",
       "16   0                 0                 0                 0                \n",
       "24   0                 0                 0                 1                \n",
       "31   0                 0                 0                 0                \n",
       "32   0                 0                 0                 0                \n",
       "35   0                 0                 0                 0                \n",
       "38   0                 0                 1                 0                \n",
       "45   0                 0                 0                 0                \n",
       "46   0                 0                 1                 0                \n",
       "49   0                 0                 1                 0                \n",
       "52   0                 0                 0                 0                \n",
       "53   1                 0                 0                 0                \n",
       "65   0                 0                 0                 0                \n",
       "69   0                 0                 1                 0                \n",
       "72   0                 0                 1                 0                \n",
       "77   0                 0                 1                 0                \n",
       "78   0                 0                 0                 0                \n",
       "86   0                 0                 0                 0                \n",
       "88   0                 0                 1                 0                \n",
       "89   0                 0                 1                 0                \n",
       "90   1                 0                 0                 0                \n",
       "92   0                 0                 0                 0                \n",
       "94   0                 0                 0                 0                \n",
       "96   0                 0                 0                 0                \n",
       "98   0                 0                 1                 0                \n",
       "...  ...               ...               ...               ...              \n",
       "6948 0                 0                 0                 0                \n",
       "6954 0                 0                 1                 0                \n",
       "6955 0                 0                 0                 1                \n",
       "6960 0                 1                 0                 0                \n",
       "6961 0                 0                 0                 0                \n",
       "6962 0                 0                 0                 1                \n",
       "6964 0                 0                 1                 0                \n",
       "6968 0                 0                 0                 0                \n",
       "6969 0                 0                 0                 0                \n",
       "6974 0                 1                 0                 0                \n",
       "6975 0                 1                 0                 0                \n",
       "6980 0                 1                 0                 0                \n",
       "6982 0                 0                 0                 0                \n",
       "6983 0                 0                 1                 0                \n",
       "6985 0                 0                 0                 1                \n",
       "6986 0                 1                 0                 0                \n",
       "6987 1                 0                 0                 0                \n",
       "6989 1                 0                 0                 0                \n",
       "6993 1                 0                 0                 0                \n",
       "6994 0                 1                 0                 0                \n",
       "6996 0                 1                 0                 0                \n",
       "6997 0                 0                 0                 0                \n",
       "7001 0                 1                 0                 0                \n",
       "7002 0                 0                 0                 1                \n",
       "7006 0                 0                 0                 0                \n",
       "7017 0                 0                 0                 0                \n",
       "7021 0                 0                 0                 1                \n",
       "7024 0                 0                 0                 0                \n",
       "7025 0                 0                 0                 0                \n",
       "7029 0                 0                 0                 0                \n",
       "     tenure_bin.x5.6.y prob        pronostico\n",
       "2    0                 0.07824220  No        \n",
       "5    0                 0.71810068  Yes       \n",
       "7    0                 0.50599314  Yes       \n",
       "8    0                 0.28402611  No        \n",
       "9    0                 0.64161745  Yes       \n",
       "12   0                 0.02043435  No        \n",
       "16   1                 0.02029928  No        \n",
       "24   0                 0.02115781  No        \n",
       "31   1                 0.02295454  No        \n",
       "32   0                 0.60201504  Yes       \n",
       "35   0                 0.47225435  Yes       \n",
       "38   0                 0.53344853  Yes       \n",
       "45   0                 0.20492097  No        \n",
       "46   0                 0.60945899  Yes       \n",
       "49   0                 0.01926214  No        \n",
       "52   0                 0.36890000  Yes       \n",
       "53   0                 0.21734467  No        \n",
       "65   1                 0.42068357  Yes       \n",
       "69   0                 0.01032627  No        \n",
       "72   0                 0.05898353  No        \n",
       "77   0                 0.11659143  No        \n",
       "78   1                 0.07981529  No        \n",
       "86   1                 0.31954597  No        \n",
       "88   0                 0.01067916  No        \n",
       "89   0                 0.01550544  No        \n",
       "90   0                 0.30980903  No        \n",
       "92   0                 0.64633012  Yes       \n",
       "94   1                 0.32192187  Yes       \n",
       "96   0                 0.59568946  Yes       \n",
       "98   0                 0.10006382  No        \n",
       "...  ...               ...         ...       \n",
       "6948 0                 0.024133431 No        \n",
       "6954 0                 0.067202857 No        \n",
       "6955 0                 0.190315908 No        \n",
       "6960 0                 0.654138303 Yes       \n",
       "6961 0                 0.425786154 Yes       \n",
       "6962 0                 0.308756593 No        \n",
       "6964 0                 0.270954019 No        \n",
       "6968 1                 0.009280221 No        \n",
       "6969 0                 0.426803480 Yes       \n",
       "6974 0                 0.354250067 Yes       \n",
       "6975 0                 0.097341198 No        \n",
       "6980 0                 0.438839409 Yes       \n",
       "6982 1                 0.139704320 No        \n",
       "6983 0                 0.528321273 Yes       \n",
       "6985 0                 0.008610429 No        \n",
       "6986 0                 0.069735062 No        \n",
       "6987 0                 0.562492270 Yes       \n",
       "6989 0                 0.231729392 No        \n",
       "6993 0                 0.374063073 Yes       \n",
       "6994 0                 0.443010992 Yes       \n",
       "6996 0                 0.557250405 Yes       \n",
       "6997 1                 0.012354302 No        \n",
       "7001 0                 0.139121237 No        \n",
       "7002 0                 0.014225128 No        \n",
       "7006 0                 0.419058120 Yes       \n",
       "7017 0                 0.215441903 No        \n",
       "7021 0                 0.045129784 No        \n",
       "7024 1                 0.328189057 Yes       \n",
       "7025 0                 0.618647583 Yes       \n",
       "7029 1                 0.182531533 No        "
      ]
     },
     "metadata": {},
     "output_type": "display_data"
    }
   ],
   "source": [
    "test"
   ]
  },
  {
   "cell_type": "code",
   "execution_count": 67,
   "metadata": {},
   "outputs": [
    {
     "data": {
      "text/html": [
       "<strong>Accuracy:</strong> 0.745971563981043"
      ],
      "text/latex": [
       "\\textbf{Accuracy:} 0.745971563981043"
      ],
      "text/markdown": [
       "**Accuracy:** 0.745971563981043"
      ],
      "text/plain": [
       " Accuracy \n",
       "0.7459716 "
      ]
     },
     "metadata": {},
     "output_type": "display_data"
    },
    {
     "data": {
      "text/html": [
       "<strong>Sensitivity:</strong> 0.75222816399287"
      ],
      "text/latex": [
       "\\textbf{Sensitivity:} 0.75222816399287"
      ],
      "text/markdown": [
       "**Sensitivity:** 0.75222816399287"
      ],
      "text/plain": [
       "Sensitivity \n",
       "  0.7522282 "
      ]
     },
     "metadata": {},
     "output_type": "display_data"
    },
    {
     "data": {
      "text/html": [
       "<strong>Specificity:</strong> 0.743705616526791"
      ],
      "text/latex": [
       "\\textbf{Specificity:} 0.743705616526791"
      ],
      "text/markdown": [
       "**Specificity:** 0.743705616526791"
      ],
      "text/plain": [
       "Specificity \n",
       "  0.7437056 "
      ]
     },
     "metadata": {},
     "output_type": "display_data"
    }
   ],
   "source": [
    "cutoff_churn <- factor(ifelse(pred >=0.32, \"Yes\", \"No\"))\n",
    "conf_final <- confusionMatrix(cutoff_churn, actual_churn, positive = \"Yes\")\n",
    "accuracy <- conf_final$overall[1]\n",
    "sensitivity <- conf_final$byClass[1]\n",
    "specificity <- conf_final$byClass[2]\n",
    "accuracy\n",
    "sensitivity\n",
    "specificity"
   ]
  },
  {
   "cell_type": "code",
   "execution_count": 55,
   "metadata": {},
   "outputs": [],
   "source": [
    "perform_fn <- function(cutoff) \n",
    "{\n",
    "  predicted_churn <- factor(ifelse(pred >= cutoff, \"Yes\", \"No\"))\n",
    "  conf <- confusionMatrix(predicted_churn, actual_churn, positive = \"Yes\")\n",
    "  accuray <- conf$overall[1]\n",
    "  sensitivity <- conf$byClass[1]\n",
    "  specificity <- conf$byClass[2]\n",
    "  out <- t(as.matrix(c(sensitivity, specificity, accuray))) \n",
    "  colnames(out) <- c(\"sensitivity\", \"specificity\", \"accuracy\")\n",
    "  return(out)\n",
    "}"
   ]
  },
  {
   "cell_type": "code",
   "execution_count": 56,
   "metadata": {},
   "outputs": [
    {
     "data": {
      "text/plain": [
       "    Min.  1st Qu.   Median     Mean  3rd Qu.     Max. \n",
       "0.005599 0.042597 0.194496 0.270029 0.485653 0.791937 "
      ]
     },
     "metadata": {},
     "output_type": "display_data"
    },
    {
     "name": "stderr",
     "output_type": "stream",
     "text": [
      "Warning message in confusionMatrix.default(predicted_churn, actual_churn, positive = \"Yes\"):\n",
      "\"Levels are not in the same order for reference and data. Refactoring data to match.\"Warning message in confusionMatrix.default(predicted_churn, actual_churn, positive = \"Yes\"):\n",
      "\"Levels are not in the same order for reference and data. Refactoring data to match.\""
     ]
    },
    {
     "data": {
      "image/png": "[encoded data removed]",
      "text/plain": [
       "plot without title"
      ]
     },
     "metadata": {},
     "output_type": "display_data"
    }
   ],
   "source": [
    "options(repr.plot.width =8, repr.plot.height =6)\n",
    "summary(pred)\n",
    "s = seq(0.01,0.80,length=100)\n",
    "OUT = matrix(0,100,3)\n",
    "\n",
    "for(i in 1:100)\n",
    "{\n",
    "  OUT[i,] = perform_fn(s[i])\n",
    "} \n",
    "\n",
    "plot(s, OUT[,1],xlab=\"Cutoff\",ylab=\"Valor\",cex.lab=1.5,cex.axis=1.5,ylim=c(0,1),\n",
    "     type=\"l\",lwd=2,axes=FALSE,col=2)\n",
    "axis(1,seq(0,1,length=5),seq(0,1,length=5),cex.lab=1.5)\n",
    "axis(2,seq(0,1,length=5),seq(0,1,length=5),cex.lab=1.5)\n",
    "lines(s,OUT[,2],col=\"darkgreen\",lwd=2)\n",
    "lines(s,OUT[,3],col=4,lwd=2)\n",
    "box()\n",
    "legend(\"bottom\",col=c(2,\"darkgreen\",4,\"darkred\"),text.font =3,inset = 0.02,\n",
    "       box.lty=0,cex = 0.8, \n",
    "       lwd=c(2,2,2,2),c(\"Sensitivity\",\"Specificity\",\"Accuracy\"))\n",
    "abline(v = 0.32, col=\"red\", lwd=1, lty=2)\n",
    "axis(1, at = seq(0.1, 1, by = 0.1))\n"
   ]
  },
  {
   "cell_type": "markdown",
   "metadata": {},
   "source": [
    "Finalmente, curva ROC "
   ]
  },
  {
   "cell_type": "code",
   "execution_count": 60,
   "metadata": {
    "tags": []
   },
   "outputs": [
    {
     "name": "stderr",
     "output_type": "stream",
     "text": [
      "Setting levels: control = 0, case = 1\n",
      "Setting direction: controls < cases\n"
     ]
    },
    {
     "data": {
      "image/png": "[encoded data removed]",
      "text/plain": [
       "plot without title"
      ]
     },
     "metadata": {},
     "output_type": "display_data"
    }
   ],
   "source": [
    "glm.roc <- roc(response = test$Churn, predictor = as.numeric(pred))\n",
    "plot(glm.roc,      legacy.axes = TRUE, print.auc.y = 1.0, print.auc = TRUE)"
   ]
  },
  {
   "cell_type": "code",
   "execution_count": null,
   "metadata": {
    "tags": []
   },
   "outputs": [],
   "source": []
  }
 ],
 "metadata": {
  "kernelspec": {
   "display_name": "R",
   "language": "R",
   "name": "ir"
  },
  "language_info": {
   "codemirror_mode": "r",
   "file_extension": ".r",
   "mimetype": "text/x-r-source",
   "name": "R",
   "pygments_lexer": "r",
   "version": "3.6.1"
  },
  "toc": {
   "base_numbering": 1,
   "nav_menu": {},
   "number_sections": false,
   "sideBar": true,
   "skip_h1_title": false,
   "title_cell": "Table of Contents",
   "title_sidebar": "Contents",
   "toc_cell": false,
   "toc_position": {},
   "toc_section_display": true,
   "toc_window_display": false
  },
  "varInspector": {
   "cols": {
    "lenName": 16,
    "lenType": 16,
    "lenVar": 40
   },
   "kernels_config": {
    "python": {
     "delete_cmd_postfix": "",
     "delete_cmd_prefix": "del ",
     "library": "var_list.py",
     "varRefreshCmd": "print(var_dic_list())"
    },
    "r": {
     "delete_cmd_postfix": ") ",
     "delete_cmd_prefix": "rm(",
     "library": "var_list.r",
     "varRefreshCmd": "cat(var_dic_list()) "
    }
   },
   "types_to_exclude": [
    "module",
    "function",
    "builtin_function_or_method",
    "instance",
    "_Feature"
   ],
   "window_display": false
  }
 },
 "nbformat": 4,
 "nbformat_minor": 4
}
