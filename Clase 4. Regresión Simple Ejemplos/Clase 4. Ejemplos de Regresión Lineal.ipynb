{
 "cells": [
  {
   "cell_type": "markdown",
   "metadata": {},
   "source": [
    "<img style=\"float: right;\" src=\"img/logo.png\" width=\"500\">\n",
    "\n",
    "# Análisis de Regresión (2022-1)\n",
    "## Especialización en Estadística Aplicada\n",
    "#### Prof. [Sébastien Lozano Forero](https://www.linkedin.com/in/sebastienlozanoforero/) (slozanof@libertadores.edu.co)\n",
    "\n",
    "## <font color='red'> Ejemplos de Modelos Lineales Simples</font>\n",
    "\n",
    "### Tabla de contenidos\n",
    "\n",
    "* [Ejemplo 1](#ej1)\n",
    "* [Ejemplo 2](#ej2)\n",
    "* [Ejemplo 3](#ej3)\n",
    "* [Ejemplo 4](#ej4) "
   ]
  },
  {
   "cell_type": "markdown",
   "metadata": {},
   "source": [
    "### Ejemplo 1 <a class=\"anchor\" id=\"ej1\"></a>\n",
    "\n",
    "Los datos del fichero $\\texttt{EdadPesoGrasas.txt}$ corresponden a tres variables medidas en 25 individuos: edad, peso y cantidad de grasas en sangre. Para leer el fichero de datos y saber los nombres de las variables:"
   ]
  },
  {
   "cell_type": "code",
   "execution_count": null,
   "metadata": {},
   "outputs": [],
   "source": [
    "grasas <- read.table('http://verso.mat.uam.es/~joser.berrendero/datos/EdadPesoGrasas.txt', header = TRUE)\n",
    "names(grasas)"
   ]
  },
  {
   "cell_type": "code",
   "execution_count": null,
   "metadata": {},
   "outputs": [],
   "source": [
    "options(repr.plot.width=5, repr.plot.height=5)\n",
    "pairs(grasas)"
   ]
  },
  {
   "cell_type": "code",
   "execution_count": null,
   "metadata": {},
   "outputs": [],
   "source": [
    "cor(grasas)"
   ]
  },
  {
   "cell_type": "code",
   "execution_count": null,
   "metadata": {},
   "outputs": [],
   "source": [
    "regresion <- lm(grasas ~ edad, data = grasas)\n",
    "summary(regresion)"
   ]
  },
  {
   "cell_type": "markdown",
   "metadata": {},
   "source": [
    "Los parámetros de la ecuación de la recta de mínimos cuadrados que relaciona la cantidad de grasas en la sangre en función del peso vienen dados por la columna ´Estimate´ de la tabla ´Coefficients´ de la salida anterior. Por lo tanto, en este ejemplo la ecuación de la recta de mínimos cuadrados es: $y = 102.575 + 5.321 x$"
   ]
  },
  {
   "cell_type": "code",
   "execution_count": null,
   "metadata": {},
   "outputs": [],
   "source": [
    "options(repr.plot.width=4, repr.plot.height=4)\n",
    "plot(grasas$edad, grasas$grasas, xlab='Edad', ylab='Grasas')\n",
    "abline(regresion)\n"
   ]
  },
  {
   "cell_type": "markdown",
   "metadata": {},
   "source": [
    "El coeficiente de determinación (es decir, el coeficiente de correlación al cuadrado) mide la bondad del ajuste de la recta a los datos. A partir de la salida anterior, vemos que su valor en este caso es Multiple R-squared: 0.701"
   ]
  },
  {
   "cell_type": "code",
   "execution_count": null,
   "metadata": {},
   "outputs": [],
   "source": [
    "nuevas.edades <- data.frame(edad = seq(30, 50))\n",
    "predict(regresion, nuevas.edades)"
   ]
  },
  {
   "cell_type": "markdown",
   "metadata": {},
   "source": [
    "Suponemos ahora que los datos proceden de un modelo de regresión simple de la forma:\n",
    "$$\n",
    "y_i=\\beta_0+\\beta_1 x_i+\\epsilon_i,\\hspace{1cm} i=1,\\cdots,n,\n",
    "$$\n",
    "donde los errores aleatorios ϵi son independientes con distribución normal de media 0 y varianza $σ^2$. Bajo este modelo,\n",
    "\n",
    "- Los errores típicos de los estimadores de los parámetros $\\beta_0$ y $\\beta_1$ se encuentran en la columna Std Error de la salida anterior. En el ejemplo, sus valores son 29.638 y 0.724 respectivamente.\n",
    "\n",
    "- La columna t value contiene el estadístico t, es decir, cociente entre cada estimador y su error típico. Estos cocientes son la base para llevar a cabo los contrastes $H_0:\\beta_0=0$ y $H_0:\\beta_1=0$ . Los correspondientes p-valores aparecen en la columna $Pr(>|t|)$. En este caso son muy pequeños por lo que se rechazan ambas hipótesis para los niveles de significación habituales.\n",
    "\n",
    "- El estimador de la desviación típica de los errores σ aparece como Residual standard error y su valor en el ejemplo es 43.5\n",
    "\n",
    "- Los intervalos de confianza para los parámetros se obtienen con el comando confint. El parámetro level permite elegir el nivel de confianza (por defecto es 0.95):"
   ]
  },
  {
   "cell_type": "markdown",
   "metadata": {},
   "source": [
    "### Ejemplo 2 <a class=\"anchor\" id=\"ej2\"></a>"
   ]
  },
  {
   "cell_type": "markdown",
   "metadata": {},
   "source": [
    "Los siguientes ejemplos de regresión simple y múltiple se han obtenido del libro **Introduction to Statistical Learning** (Recomendado). El objetivo es mostrar los principales comandos en R para generar modelos lineales. Para obtener un modelo final robusto se tiene que analizar con más detalle cada una de las condiciones que se requieren para estos métodos.\n",
    "\n",
    "El dataset Boston del paquete MASS recoge la mediana del valor de la vivienda en 506 áreas residenciales de Boston. Junto con el precio, se han registrado 13 variables adicionales.\n",
    "\n"
   ]
  },
  {
   "cell_type": "code",
   "execution_count": null,
   "metadata": {},
   "outputs": [],
   "source": [
    "# install.packages(\"MASS\")\n",
    "library(MASS)\n",
    "library(ISLR)\n",
    "data(\"Boston\")"
   ]
  },
  {
   "cell_type": "markdown",
   "metadata": {},
   "source": [
    "- **crim**: ratio de criminalidad per cápita de cada ciudad.\n",
    "- **zn**: Proporción de zonas residenciales con edificaciones de más de 25.000 pies cuadrados.\n",
    "- **indus**: proporción de zona industrializada.\n",
    "- **chas**: Si hay río en la ciudad (= 1 si hay río; 0 no hay).\n",
    "- **nox**: Concentración de óxidos de nitrógeno (partes per 10 millón).\n",
    "- **rm**: promedio de habitaciones por vivienda.\n",
    "- **age**: Proporción de viviendas ocupadas por el propietario construidas antes de 1940.\n",
    "- **dis**: Media ponderada de la distancias a cinco centros de empleo de Boston.\n",
    "- **rad**: Índice de accesibilidad a las autopistas radiales.\n",
    "- **tax**: Tasa de impuesto a la propiedad en unidades de $\\$10,000.$\n",
    "- **ptratio**: ratio de alumnos/profesor por ciudad.\n",
    "- **black**: $1000(Bk - 0.63)^2$ donde Bk es la proporción de gente de color por ciudad.\n",
    "- **lstat**: porcentaje de población en condición de pobreza.\n",
    "- **medv**: Valor mediano de las casas ocupadas por el dueño en unidades de $\\$1000$s."
   ]
  },
  {
   "cell_type": "code",
   "execution_count": null,
   "metadata": {},
   "outputs": [],
   "source": [
    "# install.packages(\"psych\")\n",
    "library(psych)\n",
    "# La variable chas es una variable categórica por lo que se transforma a factor\n",
    "Boston$chas <- as.factor(Boston$chas)\n",
    "summary(Boston)"
   ]
  },
  {
   "cell_type": "code",
   "execution_count": null,
   "metadata": {},
   "outputs": [],
   "source": [
    "Boston"
   ]
  },
  {
   "cell_type": "code",
   "execution_count": null,
   "metadata": {},
   "outputs": [],
   "source": [
    "# Dado que hay muchas variables, se grafican por grupos de 4, excluyendo las\n",
    "# categóricas\n",
    "multi.hist(x = Boston[,1:3], dcol = c(\"blue\",\"red\"), dlty = c(\"dotted\", \"solid\"),\n",
    "           main = \"\")"
   ]
  },
  {
   "cell_type": "code",
   "execution_count": null,
   "metadata": {},
   "outputs": [],
   "source": [
    "multi.hist(x = Boston[,5:9], dcol = c(\"blue\",\"red\"), dlty = c(\"dotted\", \"solid\"),\n",
    "           main = \"\")"
   ]
  },
  {
   "cell_type": "code",
   "execution_count": null,
   "metadata": {},
   "outputs": [],
   "source": [
    "multi.hist(x = Boston[,10:14], dcol = c(\"blue\",\"red\"),\n",
    "           dlty = c(\"dotted\", \"solid\"), main = \"\")"
   ]
  },
  {
   "cell_type": "code",
   "execution_count": null,
   "metadata": {},
   "outputs": [],
   "source": [
    "modelo_simple <- lm(formula = medv ~ lstat, data = Boston)\n",
    "summary(modelo_simple)"
   ]
  },
  {
   "cell_type": "markdown",
   "metadata": {},
   "source": [
    "En la información devuelta por el summary se observa que el $p$-value del estadístico $F$ es muy pequeño, indicando que al menos uno de los predictores del modelo está significativamente relacionado con la variable respuesta. Al tratarse de un modelo simple, el $p-$value de estadístico $F$ es el mismo que el $p$-value del estadístico $t$ del único predictor incluido en el modelo (lstat). La evaluación del modelo en conjunto puede hacerse a partir de los valores RSE o del valor $R^2$ devuelto en el summary.\n",
    "\n",
    "Residual standar error (RSE): En promedio, cualquier predicción del modelo se aleja 6.216 unidades del verdadero valor. Teniendo en cuenta que el valor promedio de la variable respuesta medv es de 22.53, RSE es de $6.21622.53=27\\%$.\n",
    "\n",
    "$R^2$: El predictor lstatus empleado en el modelo es capaz de explicar el $54.44\\%$ de la variabilidad observada en el precio de las viviendas.\n",
    "\n",
    "La ventaja de $R^2$ es que es independiente de la escala en la que se mida la variable respuesta, por lo que su interpretación es más sencilla.\n",
    "\n",
    "Los dos coeficientes de regresión ($\\beta_0$ y $\\beta_1$) estimados por el modelo son significativos y se pueden interpretar como:\n",
    "\n",
    "- Intercept($\\beta_0$): El valor promedio del precio de la vivienda cuando el lstatus es 0 es de 34.5538 unidades.\n",
    "- Predictor lstat($\\beta_1$): por cada unidad que se incrementa el predictor lstat el precio de la vivienda disminuye en promedio 0.9500 unidades.\n",
    "- La estimación de todo coeficiente de regresión tiene asociada un error estándar, por lo tanto todo coeficiente de regresión tiene su correspondiente intervalo de confianza."
   ]
  },
  {
   "cell_type": "code",
   "execution_count": null,
   "metadata": {},
   "outputs": [],
   "source": [
    "predict(object = modelo_simple, newdata = data.frame(lstat = c(10)),\n",
    "        interval = \"prediction\", level = 0.95)"
   ]
  },
  {
   "cell_type": "code",
   "execution_count": null,
   "metadata": {},
   "outputs": [],
   "source": [
    "options(repr.plot.width=5, repr.plot.height=5)\n",
    "attach(Boston)\n",
    "plot(x = lstat, y = medv, main = \"medv vs lstat\", pch = 20, col = \"grey30\")\n",
    "abline(modelo_simple, lwd = 3, col = \"red\")"
   ]
  },
  {
   "cell_type": "markdown",
   "metadata": {},
   "source": [
    "$\\text{precio medio vivienda} = 34.55-0.95\\text{lstat}$"
   ]
  },
  {
   "cell_type": "markdown",
   "metadata": {},
   "source": [
    "### Ejemplo 3 <a class=\"anchor\" id=\"ej3\"></a>\n",
    "\n",
    "Se desea ajustar un modelo de regresión lineal simple para explicar la Resistencia de una soldadura en función de la Edad de la soldadura."
   ]
  },
  {
   "cell_type": "code",
   "execution_count": null,
   "metadata": {},
   "outputs": [],
   "source": [
    "file <- \"https://raw.githubusercontent.com/fhernanb/datos/master/propelente\"\n",
    "datos <- read.table(file=file, header=TRUE)\n",
    "head(datos) # shows the first 6 rows"
   ]
  },
  {
   "cell_type": "code",
   "execution_count": null,
   "metadata": {},
   "outputs": [],
   "source": [
    "library(ggplot2)\n",
    "ggplot(datos, aes(x=Edad, y=Resistencia)) + \n",
    "  geom_point() + theme_light()"
   ]
  },
  {
   "cell_type": "markdown",
   "metadata": {},
   "source": [
    "El modelo que se quiere montar\n",
    "\n",
    "\\begin{align}\n",
    "Resistencia_i &\\sim N(\\mu_i, \\sigma^2), \\\\ \n",
    "\\mu_i &= \\beta_0 + \\beta_1 Edad_i, \\\\\n",
    "\\sigma^2 &= \\text{constante}\n",
    "\\end{align}"
   ]
  },
  {
   "cell_type": "code",
   "execution_count": null,
   "metadata": {},
   "outputs": [],
   "source": [
    "mod1 <- lm(Resistencia ~ Edad, data=datos)\n",
    "summary(mod1) # Para imprimir el objeto mod1"
   ]
  },
  {
   "cell_type": "markdown",
   "metadata": {},
   "source": [
    "Queda finalmente estimado como \n",
    "\\begin{align}\n",
    "\\widehat{Resistencia}_i &\\sim N(\\hat{\\mu}_i, \\hat{\\sigma}^2), \\\\ \n",
    "\\hat{\\mu}_i &= 2627.822 -37.154 \\, Edad_i, \\\\\n",
    "\\hat{\\sigma} &= 96.11\n",
    "\\end{align}"
   ]
  },
  {
   "cell_type": "code",
   "execution_count": null,
   "metadata": {},
   "outputs": [],
   "source": [
    "ggplot(datos, aes(x=Edad, y=Resistencia)) + \n",
    "  geom_point() +\n",
    "  geom_smooth(method='lm', formula=y~x, se=FALSE, col='dodgerblue1') +\n",
    "  theme_light()"
   ]
  },
  {
   "cell_type": "code",
   "execution_count": null,
   "metadata": {},
   "outputs": [],
   "source": [
    "datos$predicciones <- predict(mod1)"
   ]
  },
  {
   "cell_type": "code",
   "execution_count": null,
   "metadata": {},
   "outputs": [],
   "source": [
    "ggplot(datos, aes(x=Edad, y=Resistencia)) +\n",
    "  geom_smooth(method=\"lm\", se=FALSE, color=\"lightgrey\") +\n",
    "  geom_segment(aes(xend=Edad, yend=predicciones), col='red', lty='dashed') +\n",
    "  geom_point() +\n",
    "  geom_point(aes(y=predicciones), col='red') +\n",
    "  theme_light()"
   ]
  },
  {
   "cell_type": "markdown",
   "metadata": {},
   "source": [
    "### Ejemplo 4 <a class=\"anchor\" id=\"ej4\"></a>"
   ]
  },
  {
   "cell_type": "code",
   "execution_count": null,
   "metadata": {},
   "outputs": [],
   "source": [
    "# install.packages(\"tidyverse\")\n",
    "library(tidyverse)\n",
    "data(\"Orange\")"
   ]
  },
  {
   "cell_type": "code",
   "execution_count": null,
   "metadata": {},
   "outputs": [],
   "source": [
    "# problema/pregunta\n",
    "# Cuanto medir? la circunferencias, en promedio, de un arbol de naranjas en a los 800 dias de plantarlo\n",
    "Orange %>% \n",
    "  ggplot(aes(x = age,\n",
    "             y = circumference)) +\n",
    "  geom_point() "
   ]
  },
  {
   "cell_type": "code",
   "execution_count": null,
   "metadata": {},
   "outputs": [],
   "source": []
  },
  {
   "cell_type": "code",
   "execution_count": null,
   "metadata": {},
   "outputs": [],
   "source": []
  }
 ],
 "metadata": {
  "kernelspec": {
   "display_name": "R",
   "language": "R",
   "name": "ir"
  },
  "language_info": {
   "codemirror_mode": "r",
   "file_extension": ".r",
   "mimetype": "text/x-r-source",
   "name": "R",
   "pygments_lexer": "r",
   "version": "3.6.1"
  },
  "toc": {
   "base_numbering": 1,
   "nav_menu": {},
   "number_sections": false,
   "sideBar": true,
   "skip_h1_title": false,
   "title_cell": "Table of Contents",
   "title_sidebar": "Contents",
   "toc_cell": false,
   "toc_position": {},
   "toc_section_display": true,
   "toc_window_display": true
  },
  "varInspector": {
   "cols": {
    "lenName": 16,
    "lenType": 16,
    "lenVar": 40
   },
   "kernels_config": {
    "python": {
     "delete_cmd_postfix": "",
     "delete_cmd_prefix": "del ",
     "library": "var_list.py",
     "varRefreshCmd": "print(var_dic_list())"
    },
    "r": {
     "delete_cmd_postfix": ") ",
     "delete_cmd_prefix": "rm(",
     "library": "var_list.r",
     "varRefreshCmd": "cat(var_dic_list()) "
    }
   },
   "types_to_exclude": [
    "module",
    "function",
    "builtin_function_or_method",
    "instance",
    "_Feature"
   ],
   "window_display": false
  }
 },
 "nbformat": 4,
 "nbformat_minor": 4
}
